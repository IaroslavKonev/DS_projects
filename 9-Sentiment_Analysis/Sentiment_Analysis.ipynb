{
 "cells": [
  {
   "cell_type": "markdown",
   "metadata": {
    "toc": true
   },
   "source": [
    "<h1>Содержание<span class=\"tocSkip\"></span></h1>\n",
    "<div class=\"toc\"><ul class=\"toc-item\"><li><ul class=\"toc-item\"><li><span><a href=\"#Подготовка\" data-toc-modified-id=\"Подготовка-1\"><span class=\"toc-item-num\">1&nbsp;&nbsp;</span>Подготовка</a></span></li><li><span><a href=\"#Обучение\" data-toc-modified-id=\"Обучение-2\"><span class=\"toc-item-num\">2&nbsp;&nbsp;</span>Обучение</a></span><ul class=\"toc-item\"><li><span><a href=\"#LogisticRegression\" data-toc-modified-id=\"LogisticRegression-2.1\"><span class=\"toc-item-num\">2.1&nbsp;&nbsp;</span>LogisticRegression</a></span></li><li><span><a href=\"#DecisionTree\" data-toc-modified-id=\"DecisionTree-2.2\"><span class=\"toc-item-num\">2.2&nbsp;&nbsp;</span>DecisionTree</a></span></li></ul></li><li><span><a href=\"#Выводы\" data-toc-modified-id=\"Выводы-3\"><span class=\"toc-item-num\">3&nbsp;&nbsp;</span>Выводы</a></span></li><li><span><a href=\"#Чек-лист-проверки\" data-toc-modified-id=\"Чек-лист-проверки-4\"><span class=\"toc-item-num\">4&nbsp;&nbsp;</span>Чек-лист проверки</a></span></li></ul></div>"
   ]
  },
  {
   "cell_type": "markdown",
   "metadata": {},
   "source": [
    "# Проект для «Викишоп»"
   ]
  },
  {
   "cell_type": "markdown",
   "metadata": {},
   "source": [
    "Интернет-магазин «Викишоп» запускает новый сервис. Теперь пользователи могут редактировать и дополнять описания товаров, как в вики-сообществах. То есть клиенты предлагают свои правки и комментируют изменения других. Магазину нужен инструмент, который будет искать токсичные комментарии и отправлять их на модерацию. \n",
    "\n",
    "Обучите модель классифицировать комментарии на позитивные и негативные. В вашем распоряжении набор данных с разметкой о токсичности правок.\n",
    "\n",
    "Постройте модель со значением метрики качества *F1* не меньше 0.75. \n",
    "\n",
    "**Инструкция по выполнению проекта**\n",
    "\n",
    "1. Загрузите и подготовьте данные.\n",
    "2. Обучите разные модели. \n",
    "3. Сделайте выводы.\n",
    "\n",
    "**Описание данных**\n",
    "\n",
    "Данные находятся в файле `toxic_comments.csv`. Столбец *text* в нём содержит текст комментария, а *toxic* — целевой признак."
   ]
  },
  {
   "cell_type": "markdown",
   "metadata": {},
   "source": [
    "Сперва импортируем все необходимые библиотеки"
   ]
  },
  {
   "cell_type": "code",
   "execution_count": 1,
   "metadata": {},
   "outputs": [
    {
     "name": "stderr",
     "output_type": "stream",
     "text": [
      "[nltk_data] Downloading package punkt to /home/jovyan/nltk_data...\n",
      "[nltk_data]   Package punkt is already up-to-date!\n"
     ]
    }
   ],
   "source": [
    "import pandas as pd\n",
    "import numpy as np\n",
    "from sklearn.model_selection import train_test_split\n",
    "from sklearn.feature_extraction.text import TfidfVectorizer\n",
    "import nltk\n",
    "import string\n",
    "from nltk.corpus import stopwords\n",
    "from nltk.tokenize import word_tokenize\n",
    "from nltk.stem import SnowballStemmer\n",
    "nltk.download('punkt')\n",
    "from sklearn import metrics\n",
    "from sklearn.model_selection import GridSearchCV\n",
    "from sklearn.model_selection import RandomizedSearchCV\n",
    "from sklearn.model_selection import KFold, StratifiedKFold\n",
    "from sklearn import metrics\n",
    "from sklearn.linear_model import LogisticRegression\n",
    "from sklearn.tree import DecisionTreeClassifier\n"
   ]
  },
  {
   "cell_type": "markdown",
   "metadata": {},
   "source": [
    "## Подготовка"
   ]
  },
  {
   "cell_type": "markdown",
   "metadata": {},
   "source": [
    "Познакомимся с данными"
   ]
  },
  {
   "cell_type": "code",
   "execution_count": 2,
   "metadata": {},
   "outputs": [
    {
     "data": {
      "text/html": [
       "<div>\n",
       "<style scoped>\n",
       "    .dataframe tbody tr th:only-of-type {\n",
       "        vertical-align: middle;\n",
       "    }\n",
       "\n",
       "    .dataframe tbody tr th {\n",
       "        vertical-align: top;\n",
       "    }\n",
       "\n",
       "    .dataframe thead th {\n",
       "        text-align: right;\n",
       "    }\n",
       "</style>\n",
       "<table border=\"1\" class=\"dataframe\">\n",
       "  <thead>\n",
       "    <tr style=\"text-align: right;\">\n",
       "      <th></th>\n",
       "      <th>text</th>\n",
       "      <th>toxic</th>\n",
       "    </tr>\n",
       "  </thead>\n",
       "  <tbody>\n",
       "    <tr>\n",
       "      <td>0</td>\n",
       "      <td>Explanation\\nWhy the edits made under my usern...</td>\n",
       "      <td>0</td>\n",
       "    </tr>\n",
       "    <tr>\n",
       "      <td>1</td>\n",
       "      <td>D'aww! He matches this background colour I'm s...</td>\n",
       "      <td>0</td>\n",
       "    </tr>\n",
       "    <tr>\n",
       "      <td>2</td>\n",
       "      <td>Hey man, I'm really not trying to edit war. It...</td>\n",
       "      <td>0</td>\n",
       "    </tr>\n",
       "    <tr>\n",
       "      <td>3</td>\n",
       "      <td>\"\\nMore\\nI can't make any real suggestions on ...</td>\n",
       "      <td>0</td>\n",
       "    </tr>\n",
       "    <tr>\n",
       "      <td>4</td>\n",
       "      <td>You, sir, are my hero. Any chance you remember...</td>\n",
       "      <td>0</td>\n",
       "    </tr>\n",
       "  </tbody>\n",
       "</table>\n",
       "</div>"
      ],
      "text/plain": [
       "                                                text  toxic\n",
       "0  Explanation\\nWhy the edits made under my usern...      0\n",
       "1  D'aww! He matches this background colour I'm s...      0\n",
       "2  Hey man, I'm really not trying to edit war. It...      0\n",
       "3  \"\\nMore\\nI can't make any real suggestions on ...      0\n",
       "4  You, sir, are my hero. Any chance you remember...      0"
      ]
     },
     "execution_count": 2,
     "metadata": {},
     "output_type": "execute_result"
    }
   ],
   "source": [
    "#Создадим фрейм\n",
    "df = pd.read_csv('/datasets/toxic_comments.csv')\n",
    "df.head()"
   ]
  },
  {
   "cell_type": "code",
   "execution_count": 3,
   "metadata": {},
   "outputs": [
    {
     "data": {
      "text/plain": [
       "(159571, 2)"
      ]
     },
     "execution_count": 3,
     "metadata": {},
     "output_type": "execute_result"
    }
   ],
   "source": [
    "#Проверим размерность\n",
    "df.shape"
   ]
  },
  {
   "cell_type": "code",
   "execution_count": 4,
   "metadata": {},
   "outputs": [
    {
     "name": "stdout",
     "output_type": "stream",
     "text": [
      "<class 'pandas.core.frame.DataFrame'>\n",
      "RangeIndex: 159571 entries, 0 to 159570\n",
      "Data columns (total 2 columns):\n",
      "text     159571 non-null object\n",
      "toxic    159571 non-null int64\n",
      "dtypes: int64(1), object(1)\n",
      "memory usage: 2.4+ MB\n"
     ]
    }
   ],
   "source": [
    "#Проверим данные\n",
    "df.info()"
   ]
  },
  {
   "cell_type": "code",
   "execution_count": 5,
   "metadata": {},
   "outputs": [
    {
     "data": {
      "text/plain": [
       "0    143346\n",
       "1     16225\n",
       "Name: toxic, dtype: int64"
      ]
     },
     "execution_count": 5,
     "metadata": {},
     "output_type": "execute_result"
    }
   ],
   "source": [
    "#Проверим дисбаланс классов\n",
    "df['toxic'].value_counts()"
   ]
  },
  {
   "cell_type": "markdown",
   "metadata": {},
   "source": [
    "У нас текст на английском языке. Начнем работу по подготовке данных:\n",
    "\n",
    "1) Проведем токенизацию\n",
    "\n",
    "2) Проведем стемминг\n",
    "\n",
    "3) Очистим текст от стоп слов\n",
    "\n",
    "4) Разделим выбрки на обучающую и тестовую\n",
    "\n",
    "5) Для векторизации будем использовать TF-IDF\n",
    "\n",
    "6) При обучении моеделей стоит учитывать дисбаланс классов.\n",
    "\n",
    "Начнем нашу работу."
   ]
  },
  {
   "cell_type": "code",
   "execution_count": 6,
   "metadata": {},
   "outputs": [],
   "source": [
    "#Разделим данные на целевой и обучающий признаки\n",
    "y = df['toxic']\n",
    "X = df['text']"
   ]
  },
  {
   "cell_type": "code",
   "execution_count": 7,
   "metadata": {},
   "outputs": [],
   "source": [
    "#Создадим стеммер и стоп-слова\n",
    "snowball = SnowballStemmer(language=\"english\")\n",
    "stop_words = stopwords.words(\"english\")"
   ]
  },
  {
   "cell_type": "code",
   "execution_count": 8,
   "metadata": {},
   "outputs": [],
   "source": [
    "#Напишем функцию для предобработки текста\n",
    "def tokenize_sentence(sentence: str, remove_stop_words: bool = True):\n",
    "    #токенизируем фразы\n",
    "    tokens = word_tokenize(sentence, language=\"english\")\n",
    "    \n",
    "    #уберем знаки препинания\n",
    "    tokens = [i for i in tokens if i not in string.punctuation]\n",
    "    \n",
    "    #укажем действие при необходимости удаления стоп-слов\n",
    "    if remove_stop_words:\n",
    "        tokens = [i for i in tokens if i not in stop_words]\n",
    "        \n",
    "    #проведем стемминг\n",
    "    tokens = [snowball.stem(i) for i in tokens]\n",
    "    \n",
    "    return tokens"
   ]
  },
  {
   "cell_type": "code",
   "execution_count": 9,
   "metadata": {},
   "outputs": [],
   "source": [
    "#разобьем выборки\n",
    "X_train, X_test, y_train, y_test = train_test_split(\n",
    "    X, y, test_size = 0.25, random_state = 1123, stratify=y)"
   ]
  },
  {
   "cell_type": "code",
   "execution_count": 10,
   "metadata": {},
   "outputs": [],
   "source": [
    "#Создадим векторный преобразователь с функцией токенизации\n",
    "vectorizer = TfidfVectorizer(tokenizer=lambda x: tokenize_sentence(x, remove_stop_words=True))"
   ]
  },
  {
   "cell_type": "code",
   "execution_count": 11,
   "metadata": {},
   "outputs": [],
   "source": [
    "#произведем обучение с преобразованием для тренировочной выборки, а тестовую просто преобразуем для избежания утечки\n",
    "X_train = vectorizer.fit_transform(X_train)\n",
    "X_test = vectorizer.transform(X_test)"
   ]
  },
  {
   "cell_type": "markdown",
   "metadata": {},
   "source": [
    "## Обучение"
   ]
  },
  {
   "cell_type": "markdown",
   "metadata": {},
   "source": [
    "Для дальнейшей работы я напишк 2 функции которые позволят автоматизировать вычисления:\n",
    "\n",
    "1) будет высчитывать необходимую метрику\n",
    "\n",
    "2) будет обучать модель и возвращать метрики на тренировочной и тестовой выборках"
   ]
  },
  {
   "cell_type": "code",
   "execution_count": 12,
   "metadata": {},
   "outputs": [],
   "source": [
    "def f1_metric(model, X, y):\n",
    "\n",
    "    metric = 0\n",
    "    \n",
    "    y_pred = model.predict(X)\n",
    "    \n",
    "    metric = metrics.f1_score(y, y_pred)\n",
    "    \n",
    "    return metric\n"
   ]
  },
  {
   "cell_type": "code",
   "execution_count": 13,
   "metadata": {},
   "outputs": [],
   "source": [
    "def ev_model(model, X_train, y_train, X_test, y_test, scale=False):\n",
    "\n",
    "    metric_train = 0\n",
    "    metric_test = 0\n",
    "    \n",
    "    if (scale == True):\n",
    "      \n",
    "      sc = StandardScaler()\n",
    "\n",
    "      X_train = sc.fit_transform(X_train)\n",
    "      \n",
    "      X_test = sc.transform(X_test)\n",
    "    \n",
    "    model.fit(X_train, y_train)\n",
    "  \n",
    "    metric_train = f1_metric(model, X_train, y_train)\n",
    "\n",
    "    metric_test = f1_metric(model, X_test, y_test)\n",
    "    \n",
    "    return metric_train, metric_test\n"
   ]
  },
  {
   "cell_type": "markdown",
   "metadata": {},
   "source": [
    "### LogisticRegression"
   ]
  },
  {
   "cell_type": "code",
   "execution_count": 14,
   "metadata": {},
   "outputs": [],
   "source": [
    "#Do parameters of gridsearch \n",
    "param_grid = [{'penalty' : ['l1', 'l2'], 'C' : [10**i for i in range(-20,7)]}]\n",
    "\n",
    "\n",
    "#Do gridsearch\n",
    "scv = StratifiedKFold(n_splits=5)\n",
    "\n",
    "LR=GridSearchCV(LogisticRegression(class_weight='balanced'), param_grid=param_grid, scoring='f1', cv=scv, verbose=True, n_jobs=-1)\n",
    "\n",
    "best_LR= LR.fit(X_train, y_train)\n",
    "\n",
    "\n",
    "print('best parameters (CV f1 score =%0.3f):' % best_LR.best_score_)\n",
    "\n",
    "print(\"best model:\\n\", best_LR.best_params_)"
   ]
  },
  {
   "cell_type": "code",
   "execution_count": 15,
   "metadata": {},
   "outputs": [
    {
     "name": "stdout",
     "output_type": "stream",
     "text": [
      "f1-score of the best model on train sample = 0.954:\n",
      "f1-score of the best model on test sample = 0.764:\n"
     ]
    }
   ],
   "source": [
    "#Воспользуемся нашими функциями и проверим какие показатели удалось получить\n",
    "LR_report=ev_model(LogisticRegression(penalty='l1', C=10, solver = 'liblinear', class_weight='balanced'), X_train, y_train, X_test, y_test, scale=False)\n",
    "\n",
    "print('f1-score of the best model on train sample = %0.3f:' %LR_report[0])\n",
    "print('f1-score of the best model on test sample = %0.3f:' %LR_report[1] )"
   ]
  },
  {
   "cell_type": "markdown",
   "metadata": {},
   "source": [
    "Модель переобучилась, однако нам удалось пройти бейзлайн"
   ]
  },
  {
   "cell_type": "markdown",
   "metadata": {},
   "source": [
    "### DecisionTree"
   ]
  },
  {
   "cell_type": "code",
   "execution_count": 16,
   "metadata": {},
   "outputs": [],
   "source": [
    "#Do parameters of gridsearch \n",
    "param_grid = [{ \n",
    "    'max_depth' : list(range(2,4)),\n",
    "    'min_samples_leaf' : list(range(2,4)), \n",
    "    'min_samples_split' : list(range(2,4))\n",
    "     }]\n",
    "\n",
    "\n",
    "#Do gridsearch\n",
    "\n",
    "\n",
    "DT=GridSearchCV(DecisionTreeClassifier(class_weight='balanced'), param_grid=param_grid, scoring='f1', verbose=True, n_jobs=-1)\n",
    "\n",
    "best_DT=DT.fit(X_train, y_train)\n",
    "\n",
    "\n",
    "\n",
    "print('best parameters (CV f1 score =%0.3f):' % best_DT.best_score_)\n",
    "\n",
    "print(\"best model:\\n\", best_DT.best_params_)"
   ]
  },
  {
   "cell_type": "code",
   "execution_count": 17,
   "metadata": {},
   "outputs": [
    {
     "name": "stdout",
     "output_type": "stream",
     "text": [
      "f1-score of the best model on train sample = 0.671:\n",
      "f1-score of the best model on test sample = 0.627:\n"
     ]
    }
   ],
   "source": [
    "DT_report=ev_model(DecisionTreeClassifier(class_weight='balanced', max_depth = 20, min_samples_split = 8, min_samples_leaf = 4), X_train, y_train, X_test, y_test, scale=False)\n",
    "\n",
    "print('f1-score of the best model on train sample = %0.3f:' %DT_report[0])\n",
    "print('f1-score of the best model on test sample = %0.3f:' %DT_report[1])"
   ]
  },
  {
   "cell_type": "markdown",
   "metadata": {},
   "source": [
    "Бейзлайн не пройден"
   ]
  },
  {
   "cell_type": "markdown",
   "metadata": {},
   "source": [
    "## Выводы"
   ]
  },
  {
   "cell_type": "markdown",
   "metadata": {},
   "source": [
    "Для выполнения данной работы мы использовали стемминг и TFIDF для векторизации текстов. А так же обучили 2 модели: Логистическую регрессию и DecisionTree. Лучше себя показала логистическая регрессия (0.764 против 0.627 на тестовой выборке), нам удалось преодолеть бэйзлайн."
   ]
  },
  {
   "cell_type": "markdown",
   "metadata": {},
   "source": [
    "## Чек-лист проверки"
   ]
  },
  {
   "cell_type": "markdown",
   "metadata": {},
   "source": [
    "- [x]  Jupyter Notebook открыт\n",
    "- [x]  Весь код выполняется без ошибок\n",
    "- [x]  Ячейки с кодом расположены в порядке исполнения\n",
    "- [x]  Данные загружены и подготовлены\n",
    "- [x]  Модели обучены\n",
    "- [x]  Значение метрики *F1* не меньше 0.75\n",
    "- [x]  Выводы написаны"
   ]
  }
 ],
 "metadata": {
  "ExecuteTimeLog": [
   {
    "duration": 1161,
    "start_time": "2021-09-29T02:33:54.240Z"
   },
   {
    "duration": 2742,
    "start_time": "2021-09-29T02:44:37.589Z"
   },
   {
    "duration": 599,
    "start_time": "2021-09-29T02:44:54.445Z"
   },
   {
    "duration": 1297,
    "start_time": "2021-09-29T14:14:38.963Z"
   },
   {
    "duration": 637,
    "start_time": "2021-09-29T14:14:44.149Z"
   },
   {
    "duration": 2483,
    "start_time": "2021-09-29T14:34:52.660Z"
   },
   {
    "duration": 356,
    "start_time": "2021-09-29T14:35:29.058Z"
   },
   {
    "duration": 1280,
    "start_time": "2021-09-29T14:35:36.928Z"
   },
   {
    "duration": 618,
    "start_time": "2021-09-29T14:35:38.210Z"
   },
   {
    "duration": 4,
    "start_time": "2021-09-29T14:35:38.830Z"
   },
   {
    "duration": 2202,
    "start_time": "2021-09-29T14:35:38.844Z"
   },
   {
    "duration": 27,
    "start_time": "2021-09-29T14:36:51.307Z"
   },
   {
    "duration": 1273,
    "start_time": "2021-09-29T14:39:34.180Z"
   },
   {
    "duration": 642,
    "start_time": "2021-09-29T14:39:35.454Z"
   },
   {
    "duration": 3,
    "start_time": "2021-09-29T14:39:36.099Z"
   },
   {
    "duration": 36,
    "start_time": "2021-09-29T14:39:36.104Z"
   },
   {
    "duration": 3,
    "start_time": "2021-09-29T14:39:36.145Z"
   },
   {
    "duration": 2875,
    "start_time": "2021-09-29T14:39:36.150Z"
   },
   {
    "duration": 1441,
    "start_time": "2021-09-29T14:42:40.349Z"
   },
   {
    "duration": 648,
    "start_time": "2021-09-29T14:42:41.792Z"
   },
   {
    "duration": 4,
    "start_time": "2021-09-29T14:42:42.444Z"
   },
   {
    "duration": 29,
    "start_time": "2021-09-29T14:42:42.449Z"
   },
   {
    "duration": 2,
    "start_time": "2021-09-29T14:42:42.481Z"
   },
   {
    "duration": 3366,
    "start_time": "2021-09-29T14:42:42.485Z"
   },
   {
    "duration": 412,
    "start_time": "2021-09-29T14:43:04.578Z"
   },
   {
    "duration": 2838,
    "start_time": "2021-09-29T14:43:14.009Z"
   },
   {
    "duration": 1238,
    "start_time": "2021-09-29T14:48:53.111Z"
   },
   {
    "duration": 683,
    "start_time": "2021-09-29T14:48:54.351Z"
   },
   {
    "duration": 10,
    "start_time": "2021-09-29T14:48:55.036Z"
   },
   {
    "duration": 33,
    "start_time": "2021-09-29T14:48:55.047Z"
   },
   {
    "duration": 4,
    "start_time": "2021-09-29T14:48:55.082Z"
   },
   {
    "duration": 3782,
    "start_time": "2021-09-29T14:48:55.088Z"
   },
   {
    "duration": -372,
    "start_time": "2021-09-29T14:48:59.244Z"
   },
   {
    "duration": 1248,
    "start_time": "2021-09-30T15:43:24.058Z"
   },
   {
    "duration": 3,
    "start_time": "2021-09-30T16:37:16.042Z"
   },
   {
    "duration": 3,
    "start_time": "2021-09-30T16:37:18.064Z"
   },
   {
    "duration": 578,
    "start_time": "2021-09-30T16:37:21.047Z"
   },
   {
    "duration": 4,
    "start_time": "2021-09-30T16:37:22.854Z"
   },
   {
    "duration": 23,
    "start_time": "2021-09-30T16:37:24.165Z"
   },
   {
    "duration": 4,
    "start_time": "2021-09-30T16:37:26.944Z"
   },
   {
    "duration": 4,
    "start_time": "2021-09-30T16:37:29.309Z"
   },
   {
    "duration": 1196,
    "start_time": "2021-09-30T19:01:28.535Z"
   },
   {
    "duration": 586,
    "start_time": "2021-09-30T19:01:29.733Z"
   },
   {
    "duration": 3,
    "start_time": "2021-09-30T19:01:30.321Z"
   },
   {
    "duration": 42,
    "start_time": "2021-09-30T19:01:30.326Z"
   },
   {
    "duration": 17,
    "start_time": "2021-09-30T19:01:30.369Z"
   },
   {
    "duration": 29,
    "start_time": "2021-09-30T19:01:30.388Z"
   },
   {
    "duration": 21,
    "start_time": "2021-09-30T19:01:30.418Z"
   },
   {
    "duration": 1197,
    "start_time": "2021-09-30T19:01:30.441Z"
   },
   {
    "duration": -1069,
    "start_time": "2021-09-30T19:01:32.709Z"
   },
   {
    "duration": -1081,
    "start_time": "2021-09-30T19:01:32.722Z"
   },
   {
    "duration": 4,
    "start_time": "2021-09-30T19:03:05.873Z"
   },
   {
    "duration": 4,
    "start_time": "2021-09-30T19:03:13.606Z"
   },
   {
    "duration": 3,
    "start_time": "2021-09-30T19:03:15.536Z"
   },
   {
    "duration": 1164,
    "start_time": "2021-09-30T19:03:16.512Z"
   },
   {
    "duration": 5,
    "start_time": "2021-09-30T19:03:38.922Z"
   },
   {
    "duration": 2,
    "start_time": "2021-09-30T19:03:41.201Z"
   },
   {
    "duration": 128639,
    "start_time": "2021-09-30T19:03:42.233Z"
   },
   {
    "duration": 4,
    "start_time": "2021-09-30T19:06:37.519Z"
   },
   {
    "duration": 6692,
    "start_time": "2021-09-30T19:08:33.477Z"
   },
   {
    "duration": 10,
    "start_time": "2021-09-30T19:08:44.893Z"
   },
   {
    "duration": 4,
    "start_time": "2021-09-30T19:10:48.785Z"
   },
   {
    "duration": 4,
    "start_time": "2021-09-30T19:15:46.720Z"
   },
   {
    "duration": 92,
    "start_time": "2021-09-30T19:16:17.838Z"
   },
   {
    "duration": 61,
    "start_time": "2021-09-30T19:28:01.050Z"
   },
   {
    "duration": 3,
    "start_time": "2021-09-30T19:28:51.563Z"
   },
   {
    "duration": 268,
    "start_time": "2021-09-30T19:29:56.718Z"
   },
   {
    "duration": 4,
    "start_time": "2021-09-30T19:30:07.524Z"
   },
   {
    "duration": 4,
    "start_time": "2021-09-30T19:30:14.628Z"
   },
   {
    "duration": 5,
    "start_time": "2021-09-30T19:30:34.634Z"
   },
   {
    "duration": 5,
    "start_time": "2021-09-30T19:30:36.232Z"
   },
   {
    "duration": 264,
    "start_time": "2021-09-30T19:30:50.030Z"
   },
   {
    "duration": 266,
    "start_time": "2021-09-30T19:31:23.132Z"
   },
   {
    "duration": 418,
    "start_time": "2021-09-30T19:31:39.491Z"
   },
   {
    "duration": 319,
    "start_time": "2021-09-30T19:33:24.831Z"
   },
   {
    "duration": 4603,
    "start_time": "2021-09-30T19:33:38.449Z"
   },
   {
    "duration": 590,
    "start_time": "2021-09-30T19:35:47.003Z"
   },
   {
    "duration": 153388,
    "start_time": "2021-09-30T19:36:16.925Z"
   },
   {
    "duration": 291,
    "start_time": "2021-09-30T19:41:52.620Z"
   },
   {
    "duration": 319,
    "start_time": "2021-09-30T19:42:13.768Z"
   },
   {
    "duration": 130625,
    "start_time": "2021-09-30T19:42:28.989Z"
   },
   {
    "duration": 167999,
    "start_time": "2021-09-30T19:45:00.526Z"
   },
   {
    "duration": 1254,
    "start_time": "2021-09-30T19:57:13.987Z"
   },
   {
    "duration": 635,
    "start_time": "2021-09-30T19:57:15.243Z"
   },
   {
    "duration": 4,
    "start_time": "2021-09-30T19:57:15.880Z"
   },
   {
    "duration": 27,
    "start_time": "2021-09-30T19:57:15.887Z"
   },
   {
    "duration": 28,
    "start_time": "2021-09-30T19:57:15.916Z"
   },
   {
    "duration": 5,
    "start_time": "2021-09-30T19:57:15.946Z"
   },
   {
    "duration": 7,
    "start_time": "2021-09-30T19:57:15.953Z"
   },
   {
    "duration": 125683,
    "start_time": "2021-09-30T19:57:15.962Z"
   },
   {
    "duration": 108,
    "start_time": "2021-09-30T19:59:21.646Z"
   },
   {
    "duration": 4,
    "start_time": "2021-09-30T19:59:21.756Z"
   },
   {
    "duration": 17,
    "start_time": "2021-09-30T19:59:21.761Z"
   },
   {
    "duration": 17,
    "start_time": "2021-09-30T19:59:21.780Z"
   },
   {
    "duration": 1367,
    "start_time": "2021-10-01T17:01:44.444Z"
   },
   {
    "duration": 675,
    "start_time": "2021-10-01T17:01:45.813Z"
   },
   {
    "duration": 4,
    "start_time": "2021-10-01T17:01:46.490Z"
   },
   {
    "duration": 33,
    "start_time": "2021-10-01T17:01:46.495Z"
   },
   {
    "duration": 4,
    "start_time": "2021-10-01T17:01:46.530Z"
   },
   {
    "duration": 7,
    "start_time": "2021-10-01T17:01:46.536Z"
   },
   {
    "duration": 33,
    "start_time": "2021-10-01T17:01:46.544Z"
   },
   {
    "duration": 9,
    "start_time": "2021-10-01T17:01:46.580Z"
   },
   {
    "duration": 1187,
    "start_time": "2021-10-01T17:01:46.591Z"
   },
   {
    "duration": -1436,
    "start_time": "2021-10-01T17:01:49.217Z"
   },
   {
    "duration": -1499,
    "start_time": "2021-10-01T17:01:49.281Z"
   },
   {
    "duration": -1505,
    "start_time": "2021-10-01T17:01:49.288Z"
   },
   {
    "duration": -1536,
    "start_time": "2021-10-01T17:01:49.320Z"
   },
   {
    "duration": -1547,
    "start_time": "2021-10-01T17:01:49.332Z"
   },
   {
    "duration": -1553,
    "start_time": "2021-10-01T17:01:49.339Z"
   },
   {
    "duration": -1560,
    "start_time": "2021-10-01T17:01:49.348Z"
   },
   {
    "duration": -1565,
    "start_time": "2021-10-01T17:01:49.354Z"
   },
   {
    "duration": 1270,
    "start_time": "2021-10-01T17:02:52.824Z"
   },
   {
    "duration": 660,
    "start_time": "2021-10-01T17:02:54.096Z"
   },
   {
    "duration": 4,
    "start_time": "2021-10-01T17:02:54.758Z"
   },
   {
    "duration": 34,
    "start_time": "2021-10-01T17:02:54.764Z"
   },
   {
    "duration": 4,
    "start_time": "2021-10-01T17:02:54.800Z"
   },
   {
    "duration": 3,
    "start_time": "2021-10-01T17:02:54.805Z"
   },
   {
    "duration": 5,
    "start_time": "2021-10-01T17:02:54.810Z"
   },
   {
    "duration": 3,
    "start_time": "2021-10-01T17:02:54.818Z"
   },
   {
    "duration": 1159,
    "start_time": "2021-10-01T17:02:54.823Z"
   },
   {
    "duration": -1371,
    "start_time": "2021-10-01T17:02:57.356Z"
   },
   {
    "duration": -1438,
    "start_time": "2021-10-01T17:02:57.424Z"
   },
   {
    "duration": -1473,
    "start_time": "2021-10-01T17:02:57.460Z"
   },
   {
    "duration": -1505,
    "start_time": "2021-10-01T17:02:57.493Z"
   },
   {
    "duration": -1526,
    "start_time": "2021-10-01T17:02:57.515Z"
   },
   {
    "duration": -1535,
    "start_time": "2021-10-01T17:02:57.525Z"
   },
   {
    "duration": -1538,
    "start_time": "2021-10-01T17:02:57.529Z"
   },
   {
    "duration": -1543,
    "start_time": "2021-10-01T17:02:57.535Z"
   },
   {
    "duration": 1045,
    "start_time": "2021-10-01T17:04:48.936Z"
   },
   {
    "duration": 2209,
    "start_time": "2021-10-01T17:06:23.879Z"
   },
   {
    "duration": 4,
    "start_time": "2021-10-01T17:07:13.673Z"
   },
   {
    "duration": 949,
    "start_time": "2021-10-01T17:07:15.455Z"
   },
   {
    "duration": 405,
    "start_time": "2021-10-01T17:09:42.525Z"
   },
   {
    "duration": 361,
    "start_time": "2021-10-01T17:09:55.950Z"
   },
   {
    "duration": 815,
    "start_time": "2021-10-01T17:10:07.979Z"
   },
   {
    "duration": 398,
    "start_time": "2021-10-01T17:11:43.872Z"
   },
   {
    "duration": 675,
    "start_time": "2021-10-01T17:11:56.405Z"
   },
   {
    "duration": 1448,
    "start_time": "2021-10-01T17:16:55.260Z"
   },
   {
    "duration": 689,
    "start_time": "2021-10-01T17:16:56.711Z"
   },
   {
    "duration": 6,
    "start_time": "2021-10-01T17:16:57.403Z"
   },
   {
    "duration": 33,
    "start_time": "2021-10-01T17:16:57.411Z"
   },
   {
    "duration": 2331,
    "start_time": "2021-10-01T17:16:57.446Z"
   },
   {
    "duration": 13,
    "start_time": "2021-10-01T17:16:59.779Z"
   },
   {
    "duration": 16,
    "start_time": "2021-10-01T17:16:59.794Z"
   },
   {
    "duration": 6,
    "start_time": "2021-10-01T17:16:59.813Z"
   },
   {
    "duration": 511,
    "start_time": "2021-10-01T17:16:59.821Z"
   },
   {
    "duration": -1279,
    "start_time": "2021-10-01T17:17:01.613Z"
   },
   {
    "duration": -1286,
    "start_time": "2021-10-01T17:17:01.622Z"
   },
   {
    "duration": -1295,
    "start_time": "2021-10-01T17:17:01.632Z"
   },
   {
    "duration": -1307,
    "start_time": "2021-10-01T17:17:01.645Z"
   },
   {
    "duration": -1311,
    "start_time": "2021-10-01T17:17:01.650Z"
   },
   {
    "duration": -1325,
    "start_time": "2021-10-01T17:17:01.665Z"
   },
   {
    "duration": -1329,
    "start_time": "2021-10-01T17:17:01.670Z"
   },
   {
    "duration": -1334,
    "start_time": "2021-10-01T17:17:01.676Z"
   },
   {
    "duration": -1340,
    "start_time": "2021-10-01T17:17:01.683Z"
   },
   {
    "duration": -1346,
    "start_time": "2021-10-01T17:17:01.690Z"
   },
   {
    "duration": 121,
    "start_time": "2021-10-01T17:18:09.189Z"
   },
   {
    "duration": 1434,
    "start_time": "2021-10-01T17:18:18.377Z"
   },
   {
    "duration": 4,
    "start_time": "2021-10-01T17:19:44.117Z"
   },
   {
    "duration": 3,
    "start_time": "2021-10-01T17:20:03.308Z"
   },
   {
    "duration": 1343,
    "start_time": "2021-10-01T17:20:05.242Z"
   },
   {
    "duration": 4,
    "start_time": "2021-10-01T17:22:11.334Z"
   },
   {
    "duration": 3,
    "start_time": "2021-10-01T17:22:17.642Z"
   },
   {
    "duration": 1162,
    "start_time": "2021-10-01T17:22:19.580Z"
   },
   {
    "duration": 2097,
    "start_time": "2021-10-01T17:39:08.080Z"
   },
   {
    "duration": 944,
    "start_time": "2021-10-01T17:39:10.179Z"
   },
   {
    "duration": 5,
    "start_time": "2021-10-01T17:39:11.126Z"
   },
   {
    "duration": 45,
    "start_time": "2021-10-01T17:39:11.133Z"
   },
   {
    "duration": 2423,
    "start_time": "2021-10-01T17:39:11.180Z"
   },
   {
    "duration": 12,
    "start_time": "2021-10-01T17:39:13.606Z"
   },
   {
    "duration": 11,
    "start_time": "2021-10-01T17:39:13.621Z"
   },
   {
    "duration": 540,
    "start_time": "2021-10-01T17:39:13.635Z"
   },
   {
    "duration": -1263,
    "start_time": "2021-10-01T17:39:15.440Z"
   },
   {
    "duration": -1268,
    "start_time": "2021-10-01T17:39:15.447Z"
   },
   {
    "duration": -1275,
    "start_time": "2021-10-01T17:39:15.455Z"
   },
   {
    "duration": -1283,
    "start_time": "2021-10-01T17:39:15.464Z"
   },
   {
    "duration": -1289,
    "start_time": "2021-10-01T17:39:15.471Z"
   },
   {
    "duration": -1295,
    "start_time": "2021-10-01T17:39:15.478Z"
   },
   {
    "duration": -1299,
    "start_time": "2021-10-01T17:39:15.484Z"
   },
   {
    "duration": -1305,
    "start_time": "2021-10-01T17:39:15.491Z"
   },
   {
    "duration": -1309,
    "start_time": "2021-10-01T17:39:15.496Z"
   },
   {
    "duration": -1314,
    "start_time": "2021-10-01T17:39:15.502Z"
   },
   {
    "duration": -1319,
    "start_time": "2021-10-01T17:39:15.509Z"
   },
   {
    "duration": -1323,
    "start_time": "2021-10-01T17:39:15.514Z"
   },
   {
    "duration": 1283,
    "start_time": "2021-10-01T17:40:35.121Z"
   },
   {
    "duration": 671,
    "start_time": "2021-10-01T17:40:36.406Z"
   },
   {
    "duration": 5,
    "start_time": "2021-10-01T17:40:37.079Z"
   },
   {
    "duration": 30,
    "start_time": "2021-10-01T17:40:37.086Z"
   },
   {
    "duration": 3305,
    "start_time": "2021-10-01T17:40:37.118Z"
   },
   {
    "duration": 11,
    "start_time": "2021-10-01T17:40:40.425Z"
   },
   {
    "duration": 6,
    "start_time": "2021-10-01T17:40:40.438Z"
   },
   {
    "duration": 823,
    "start_time": "2021-10-01T17:40:40.447Z"
   },
   {
    "duration": -1314,
    "start_time": "2021-10-01T17:40:42.587Z"
   },
   {
    "duration": -1319,
    "start_time": "2021-10-01T17:40:42.593Z"
   },
   {
    "duration": -1327,
    "start_time": "2021-10-01T17:40:42.602Z"
   },
   {
    "duration": -1333,
    "start_time": "2021-10-01T17:40:42.609Z"
   },
   {
    "duration": -1340,
    "start_time": "2021-10-01T17:40:42.617Z"
   },
   {
    "duration": -1358,
    "start_time": "2021-10-01T17:40:42.635Z"
   },
   {
    "duration": -1362,
    "start_time": "2021-10-01T17:40:42.640Z"
   },
   {
    "duration": -1370,
    "start_time": "2021-10-01T17:40:42.649Z"
   },
   {
    "duration": -1375,
    "start_time": "2021-10-01T17:40:42.655Z"
   },
   {
    "duration": -1380,
    "start_time": "2021-10-01T17:40:42.661Z"
   },
   {
    "duration": -1389,
    "start_time": "2021-10-01T17:40:42.670Z"
   },
   {
    "duration": -1395,
    "start_time": "2021-10-01T17:40:42.677Z"
   },
   {
    "duration": 1338,
    "start_time": "2021-10-01T17:48:12.251Z"
   },
   {
    "duration": 673,
    "start_time": "2021-10-01T17:48:13.591Z"
   },
   {
    "duration": 14,
    "start_time": "2021-10-01T17:48:14.266Z"
   },
   {
    "duration": 34,
    "start_time": "2021-10-01T17:48:14.283Z"
   },
   {
    "duration": 2390,
    "start_time": "2021-10-01T17:48:14.319Z"
   },
   {
    "duration": 8,
    "start_time": "2021-10-01T17:48:16.711Z"
   },
   {
    "duration": 5,
    "start_time": "2021-10-01T17:48:16.721Z"
   },
   {
    "duration": 55294,
    "start_time": "2021-10-01T17:48:16.729Z"
   },
   {
    "duration": 529,
    "start_time": "2021-10-01T17:49:12.026Z"
   },
   {
    "duration": -1246,
    "start_time": "2021-10-01T17:49:13.804Z"
   },
   {
    "duration": -1252,
    "start_time": "2021-10-01T17:49:13.811Z"
   },
   {
    "duration": -1256,
    "start_time": "2021-10-01T17:49:13.816Z"
   },
   {
    "duration": -1274,
    "start_time": "2021-10-01T17:49:13.836Z"
   },
   {
    "duration": -1281,
    "start_time": "2021-10-01T17:49:13.844Z"
   },
   {
    "duration": -1284,
    "start_time": "2021-10-01T17:49:13.848Z"
   },
   {
    "duration": -1290,
    "start_time": "2021-10-01T17:49:13.855Z"
   },
   {
    "duration": -1294,
    "start_time": "2021-10-01T17:49:13.861Z"
   },
   {
    "duration": -1299,
    "start_time": "2021-10-01T17:49:13.868Z"
   },
   {
    "duration": -1305,
    "start_time": "2021-10-01T17:49:13.874Z"
   },
   {
    "duration": -1309,
    "start_time": "2021-10-01T17:49:13.880Z"
   },
   {
    "duration": 382,
    "start_time": "2021-10-01T17:49:36.135Z"
   },
   {
    "duration": 62341,
    "start_time": "2021-10-01T17:50:00.025Z"
   },
   {
    "duration": 10,
    "start_time": "2021-10-01T17:51:02.369Z"
   },
   {
    "duration": 593,
    "start_time": "2021-10-01T17:51:18.363Z"
   },
   {
    "duration": -1225,
    "start_time": "2021-10-01T17:51:20.185Z"
   },
   {
    "duration": -1241,
    "start_time": "2021-10-01T17:51:20.203Z"
   },
   {
    "duration": -1246,
    "start_time": "2021-10-01T17:51:20.209Z"
   },
   {
    "duration": -1251,
    "start_time": "2021-10-01T17:51:20.216Z"
   },
   {
    "duration": -1254,
    "start_time": "2021-10-01T17:51:20.220Z"
   },
   {
    "duration": -1258,
    "start_time": "2021-10-01T17:51:20.226Z"
   },
   {
    "duration": -1262,
    "start_time": "2021-10-01T17:51:20.232Z"
   },
   {
    "duration": -1269,
    "start_time": "2021-10-01T17:51:20.240Z"
   },
   {
    "duration": -1274,
    "start_time": "2021-10-01T17:51:20.247Z"
   },
   {
    "duration": -1288,
    "start_time": "2021-10-01T17:51:20.263Z"
   },
   {
    "duration": 11,
    "start_time": "2021-10-01T17:51:54.425Z"
   },
   {
    "duration": 5,
    "start_time": "2021-10-01T17:52:03.127Z"
   },
   {
    "duration": 4,
    "start_time": "2021-10-01T17:52:03.140Z"
   },
   {
    "duration": 10680,
    "start_time": "2021-10-01T17:52:03.147Z"
   },
   {
    "duration": 131,
    "start_time": "2021-10-01T17:52:13.829Z"
   },
   {
    "duration": 4,
    "start_time": "2021-10-01T17:52:13.963Z"
   },
   {
    "duration": 11,
    "start_time": "2021-10-01T17:52:13.969Z"
   },
   {
    "duration": 9,
    "start_time": "2021-10-01T17:52:13.982Z"
   },
   {
    "duration": 36496,
    "start_time": "2021-10-01T17:52:13.994Z"
   },
   {
    "duration": -1320,
    "start_time": "2021-10-01T17:52:51.812Z"
   },
   {
    "duration": -1353,
    "start_time": "2021-10-01T17:52:51.846Z"
   },
   {
    "duration": -1359,
    "start_time": "2021-10-01T17:52:51.853Z"
   },
   {
    "duration": 351,
    "start_time": "2021-10-01T17:53:09.568Z"
   },
   {
    "duration": 5449,
    "start_time": "2021-10-01T17:53:40.771Z"
   },
   {
    "duration": 395,
    "start_time": "2021-10-01T17:54:11.968Z"
   },
   {
    "duration": 1500,
    "start_time": "2021-10-01T17:54:21.830Z"
   },
   {
    "duration": 697,
    "start_time": "2021-10-01T17:54:23.332Z"
   },
   {
    "duration": 4,
    "start_time": "2021-10-01T17:54:24.031Z"
   },
   {
    "duration": 46,
    "start_time": "2021-10-01T17:54:24.038Z"
   },
   {
    "duration": 513,
    "start_time": "2021-10-01T17:54:24.086Z"
   },
   {
    "duration": -1274,
    "start_time": "2021-10-01T17:54:25.875Z"
   },
   {
    "duration": -1276,
    "start_time": "2021-10-01T17:54:25.879Z"
   },
   {
    "duration": -1285,
    "start_time": "2021-10-01T17:54:25.889Z"
   },
   {
    "duration": -1319,
    "start_time": "2021-10-01T17:54:25.924Z"
   },
   {
    "duration": -1324,
    "start_time": "2021-10-01T17:54:25.930Z"
   },
   {
    "duration": -1331,
    "start_time": "2021-10-01T17:54:25.939Z"
   },
   {
    "duration": -1335,
    "start_time": "2021-10-01T17:54:25.944Z"
   },
   {
    "duration": -1343,
    "start_time": "2021-10-01T17:54:25.953Z"
   },
   {
    "duration": -1346,
    "start_time": "2021-10-01T17:54:25.957Z"
   },
   {
    "duration": -1349,
    "start_time": "2021-10-01T17:54:25.961Z"
   },
   {
    "duration": -1356,
    "start_time": "2021-10-01T17:54:25.969Z"
   },
   {
    "duration": -1359,
    "start_time": "2021-10-01T17:54:25.973Z"
   },
   {
    "duration": -1363,
    "start_time": "2021-10-01T17:54:25.978Z"
   },
   {
    "duration": -1370,
    "start_time": "2021-10-01T17:54:25.986Z"
   },
   {
    "duration": -1377,
    "start_time": "2021-10-01T17:54:25.994Z"
   },
   {
    "duration": 4,
    "start_time": "2021-10-01T17:54:57.476Z"
   },
   {
    "duration": 5,
    "start_time": "2021-10-01T17:54:57.487Z"
   },
   {
    "duration": 36082,
    "start_time": "2021-10-01T17:54:57.494Z"
   },
   {
    "duration": 7,
    "start_time": "2021-10-01T17:55:33.578Z"
   },
   {
    "duration": 223,
    "start_time": "2021-10-01T17:55:33.587Z"
   },
   {
    "duration": 3,
    "start_time": "2021-10-01T17:55:33.812Z"
   },
   {
    "duration": 7250,
    "start_time": "2021-10-01T17:55:33.817Z"
   },
   {
    "duration": 123,
    "start_time": "2021-10-01T17:55:41.069Z"
   },
   {
    "duration": 5287,
    "start_time": "2021-10-01T17:55:41.196Z"
   },
   {
    "duration": 4,
    "start_time": "2021-10-01T17:55:46.485Z"
   },
   {
    "duration": 7,
    "start_time": "2021-10-01T17:55:46.491Z"
   },
   {
    "duration": 11,
    "start_time": "2021-10-01T17:55:46.500Z"
   },
   {
    "duration": 16382,
    "start_time": "2021-10-01T17:55:46.513Z"
   },
   {
    "duration": -1294,
    "start_time": "2021-10-01T17:56:04.191Z"
   },
   {
    "duration": -1307,
    "start_time": "2021-10-01T17:56:04.205Z"
   },
   {
    "duration": -1317,
    "start_time": "2021-10-01T17:56:04.216Z"
   },
   {
    "duration": 4056,
    "start_time": "2021-10-01T17:56:09.969Z"
   },
   {
    "duration": 1278,
    "start_time": "2021-10-01T18:00:50.330Z"
   },
   {
    "duration": 684,
    "start_time": "2021-10-01T18:00:51.610Z"
   },
   {
    "duration": 5,
    "start_time": "2021-10-01T18:00:52.296Z"
   },
   {
    "duration": 47,
    "start_time": "2021-10-01T18:00:52.303Z"
   },
   {
    "duration": 2,
    "start_time": "2021-10-01T18:00:52.353Z"
   },
   {
    "duration": 18,
    "start_time": "2021-10-01T18:00:52.357Z"
   },
   {
    "duration": 36162,
    "start_time": "2021-10-01T18:00:52.378Z"
   },
   {
    "duration": 5,
    "start_time": "2021-10-01T18:01:28.543Z"
   },
   {
    "duration": 254,
    "start_time": "2021-10-01T18:01:28.550Z"
   },
   {
    "duration": 3,
    "start_time": "2021-10-01T18:01:28.806Z"
   },
   {
    "duration": 591,
    "start_time": "2021-10-01T18:01:28.811Z"
   },
   {
    "duration": -1213,
    "start_time": "2021-10-01T18:01:30.616Z"
   },
   {
    "duration": -1219,
    "start_time": "2021-10-01T18:01:30.623Z"
   },
   {
    "duration": -1224,
    "start_time": "2021-10-01T18:01:30.629Z"
   },
   {
    "duration": -1238,
    "start_time": "2021-10-01T18:01:30.644Z"
   },
   {
    "duration": -1245,
    "start_time": "2021-10-01T18:01:30.652Z"
   },
   {
    "duration": -1249,
    "start_time": "2021-10-01T18:01:30.657Z"
   },
   {
    "duration": -1254,
    "start_time": "2021-10-01T18:01:30.663Z"
   },
   {
    "duration": 97,
    "start_time": "2021-10-01T18:02:20.653Z"
   },
   {
    "duration": 7651,
    "start_time": "2021-10-01T18:02:26.282Z"
   },
   {
    "duration": 5,
    "start_time": "2021-10-01T18:02:38.986Z"
   },
   {
    "duration": 5,
    "start_time": "2021-10-01T18:02:40.313Z"
   },
   {
    "duration": 4034,
    "start_time": "2021-10-01T18:02:43.972Z"
   },
   {
    "duration": 146403,
    "start_time": "2021-10-01T18:02:54.350Z"
   },
   {
    "duration": 1469,
    "start_time": "2021-10-01T18:18:16.957Z"
   },
   {
    "duration": 701,
    "start_time": "2021-10-01T18:18:18.428Z"
   },
   {
    "duration": 5,
    "start_time": "2021-10-01T18:18:19.132Z"
   },
   {
    "duration": 43,
    "start_time": "2021-10-01T18:18:19.139Z"
   },
   {
    "duration": 3,
    "start_time": "2021-10-01T18:18:19.185Z"
   },
   {
    "duration": 11,
    "start_time": "2021-10-01T18:18:19.190Z"
   },
   {
    "duration": 3093,
    "start_time": "2021-10-01T18:18:19.203Z"
   },
   {
    "duration": -1204,
    "start_time": "2021-10-01T18:18:23.510Z"
   },
   {
    "duration": -1207,
    "start_time": "2021-10-01T18:18:23.514Z"
   },
   {
    "duration": -1209,
    "start_time": "2021-10-01T18:18:23.517Z"
   },
   {
    "duration": -1214,
    "start_time": "2021-10-01T18:18:23.523Z"
   },
   {
    "duration": -1218,
    "start_time": "2021-10-01T18:18:23.528Z"
   },
   {
    "duration": -1222,
    "start_time": "2021-10-01T18:18:23.533Z"
   },
   {
    "duration": -1226,
    "start_time": "2021-10-01T18:18:23.538Z"
   },
   {
    "duration": -1229,
    "start_time": "2021-10-01T18:18:23.542Z"
   },
   {
    "duration": -1233,
    "start_time": "2021-10-01T18:18:23.547Z"
   },
   {
    "duration": -1236,
    "start_time": "2021-10-01T18:18:23.551Z"
   },
   {
    "duration": -1250,
    "start_time": "2021-10-01T18:18:23.566Z"
   },
   {
    "duration": 4,
    "start_time": "2021-10-01T18:19:20.242Z"
   },
   {
    "duration": 2673,
    "start_time": "2021-10-01T18:19:23.278Z"
   },
   {
    "duration": 6,
    "start_time": "2021-10-01T18:23:22.888Z"
   },
   {
    "duration": 1194,
    "start_time": "2021-10-01T18:23:27.524Z"
   },
   {
    "duration": 5,
    "start_time": "2021-10-01T18:23:52.810Z"
   },
   {
    "duration": 5,
    "start_time": "2021-10-01T18:28:05.597Z"
   },
   {
    "duration": 1458,
    "start_time": "2021-10-01T18:34:39.367Z"
   },
   {
    "duration": 344,
    "start_time": "2021-10-01T18:34:40.828Z"
   },
   {
    "duration": 694,
    "start_time": "2021-10-01T18:34:41.174Z"
   },
   {
    "duration": 8,
    "start_time": "2021-10-01T18:34:41.870Z"
   },
   {
    "duration": 35,
    "start_time": "2021-10-01T18:34:41.880Z"
   },
   {
    "duration": 8,
    "start_time": "2021-10-01T18:34:41.917Z"
   },
   {
    "duration": 10,
    "start_time": "2021-10-01T18:34:41.927Z"
   },
   {
    "duration": 12,
    "start_time": "2021-10-01T18:34:41.940Z"
   },
   {
    "duration": 495,
    "start_time": "2021-10-01T18:34:41.955Z"
   },
   {
    "duration": -1187,
    "start_time": "2021-10-01T18:34:43.641Z"
   },
   {
    "duration": -1194,
    "start_time": "2021-10-01T18:34:43.649Z"
   },
   {
    "duration": -1201,
    "start_time": "2021-10-01T18:34:43.657Z"
   },
   {
    "duration": -1204,
    "start_time": "2021-10-01T18:34:43.662Z"
   },
   {
    "duration": -1220,
    "start_time": "2021-10-01T18:34:43.679Z"
   },
   {
    "duration": -1227,
    "start_time": "2021-10-01T18:34:43.687Z"
   },
   {
    "duration": -1231,
    "start_time": "2021-10-01T18:34:43.693Z"
   },
   {
    "duration": -1234,
    "start_time": "2021-10-01T18:34:43.697Z"
   },
   {
    "duration": 341,
    "start_time": "2021-10-01T18:35:42.249Z"
   },
   {
    "duration": 3,
    "start_time": "2021-10-01T18:35:46.118Z"
   },
   {
    "duration": 140,
    "start_time": "2021-10-01T18:35:47.596Z"
   },
   {
    "duration": 150,
    "start_time": "2021-10-01T18:35:53.560Z"
   },
   {
    "duration": 3,
    "start_time": "2021-10-01T18:35:53.713Z"
   },
   {
    "duration": 1298,
    "start_time": "2021-10-01T18:40:28.810Z"
   },
   {
    "duration": 311,
    "start_time": "2021-10-01T18:40:30.110Z"
   },
   {
    "duration": 679,
    "start_time": "2021-10-01T18:40:30.425Z"
   },
   {
    "duration": 5,
    "start_time": "2021-10-01T18:40:31.106Z"
   },
   {
    "duration": 48,
    "start_time": "2021-10-01T18:40:31.113Z"
   },
   {
    "duration": 16,
    "start_time": "2021-10-01T18:40:31.163Z"
   },
   {
    "duration": 18,
    "start_time": "2021-10-01T18:40:31.181Z"
   },
   {
    "duration": 20,
    "start_time": "2021-10-01T18:40:31.202Z"
   },
   {
    "duration": 18,
    "start_time": "2021-10-01T18:40:31.224Z"
   },
   {
    "duration": 107,
    "start_time": "2021-10-01T18:40:31.244Z"
   },
   {
    "duration": 3,
    "start_time": "2021-10-01T18:40:31.353Z"
   },
   {
    "duration": 179889,
    "start_time": "2021-10-01T18:40:31.357Z"
   },
   {
    "duration": 4,
    "start_time": "2021-10-01T18:43:31.248Z"
   },
   {
    "duration": 10,
    "start_time": "2021-10-01T18:43:31.254Z"
   },
   {
    "duration": 173,
    "start_time": "2021-10-01T18:43:31.277Z"
   },
   {
    "duration": -1183,
    "start_time": "2021-10-01T18:43:32.635Z"
   },
   {
    "duration": -1191,
    "start_time": "2021-10-01T18:43:32.643Z"
   },
   {
    "duration": -1213,
    "start_time": "2021-10-01T18:43:32.666Z"
   },
   {
    "duration": 470,
    "start_time": "2021-10-01T18:45:13.380Z"
   },
   {
    "duration": 702,
    "start_time": "2021-10-01T18:45:35.851Z"
   },
   {
    "duration": 40728,
    "start_time": "2021-10-01T18:45:55.552Z"
   },
   {
    "duration": 1277,
    "start_time": "2021-10-01T19:58:07.030Z"
   },
   {
    "duration": 354,
    "start_time": "2021-10-01T19:58:08.309Z"
   },
   {
    "duration": 672,
    "start_time": "2021-10-01T19:58:08.665Z"
   },
   {
    "duration": 4,
    "start_time": "2021-10-01T19:58:09.339Z"
   },
   {
    "duration": 42,
    "start_time": "2021-10-01T19:58:09.345Z"
   },
   {
    "duration": 3,
    "start_time": "2021-10-01T19:58:09.389Z"
   },
   {
    "duration": 8,
    "start_time": "2021-10-01T19:58:09.394Z"
   },
   {
    "duration": 6,
    "start_time": "2021-10-01T19:58:09.404Z"
   },
   {
    "duration": 5,
    "start_time": "2021-10-01T19:58:09.411Z"
   },
   {
    "duration": 107,
    "start_time": "2021-10-01T19:58:09.418Z"
   },
   {
    "duration": 3,
    "start_time": "2021-10-01T19:58:09.527Z"
   },
   {
    "duration": 181413,
    "start_time": "2021-10-01T19:58:09.532Z"
   },
   {
    "duration": 5,
    "start_time": "2021-10-01T20:01:10.946Z"
   },
   {
    "duration": 8,
    "start_time": "2021-10-01T20:01:10.952Z"
   },
   {
    "duration": 1345,
    "start_time": "2021-10-02T02:52:09.658Z"
   },
   {
    "duration": 451,
    "start_time": "2021-10-02T02:52:11.005Z"
   },
   {
    "duration": 663,
    "start_time": "2021-10-02T02:52:11.458Z"
   },
   {
    "duration": 5,
    "start_time": "2021-10-02T02:52:12.123Z"
   },
   {
    "duration": 33,
    "start_time": "2021-10-02T02:52:12.130Z"
   },
   {
    "duration": 12,
    "start_time": "2021-10-02T02:52:12.165Z"
   },
   {
    "duration": 3,
    "start_time": "2021-10-02T02:52:12.179Z"
   },
   {
    "duration": 7,
    "start_time": "2021-10-02T02:52:12.184Z"
   },
   {
    "duration": 4,
    "start_time": "2021-10-02T02:52:12.193Z"
   },
   {
    "duration": 110,
    "start_time": "2021-10-02T02:52:12.199Z"
   },
   {
    "duration": 3,
    "start_time": "2021-10-02T02:52:12.311Z"
   },
   {
    "duration": 173898,
    "start_time": "2021-10-02T02:52:12.316Z"
   },
   {
    "duration": 4,
    "start_time": "2021-10-02T02:55:06.216Z"
   },
   {
    "duration": 7,
    "start_time": "2021-10-02T02:55:06.222Z"
   },
   {
    "duration": 4572,
    "start_time": "2021-10-02T02:55:06.230Z"
   },
   {
    "duration": 126562,
    "start_time": "2021-10-02T02:55:10.804Z"
   },
   {
    "duration": 16746,
    "start_time": "2021-10-02T02:57:41.154Z"
   },
   {
    "duration": 2485,
    "start_time": "2021-10-02T02:58:27.682Z"
   },
   {
    "duration": 2039,
    "start_time": "2021-10-02T02:58:44.329Z"
   },
   {
    "duration": 2335,
    "start_time": "2021-10-02T02:58:51.625Z"
   },
   {
    "duration": 2262,
    "start_time": "2021-10-02T02:59:07.689Z"
   },
   {
    "duration": 2474,
    "start_time": "2021-10-02T02:59:18.704Z"
   },
   {
    "duration": 3439,
    "start_time": "2021-10-02T02:59:25.131Z"
   },
   {
    "duration": 29913,
    "start_time": "2021-10-02T03:01:09.978Z"
   },
   {
    "duration": 157060,
    "start_time": "2021-10-02T03:13:32.628Z"
   },
   {
    "duration": 373,
    "start_time": "2021-10-02T03:23:37.932Z"
   },
   {
    "duration": 61386,
    "start_time": "2021-10-02T03:23:47.709Z"
   },
   {
    "duration": 341,
    "start_time": "2021-10-02T03:30:13.325Z"
   },
   {
    "duration": 397,
    "start_time": "2021-10-02T03:35:41.450Z"
   },
   {
    "duration": 1300,
    "start_time": "2021-10-02T03:35:50.390Z"
   },
   {
    "duration": 338,
    "start_time": "2021-10-02T03:35:51.692Z"
   },
   {
    "duration": 666,
    "start_time": "2021-10-02T03:35:52.031Z"
   },
   {
    "duration": 4,
    "start_time": "2021-10-02T03:35:52.698Z"
   },
   {
    "duration": 30,
    "start_time": "2021-10-02T03:35:52.703Z"
   },
   {
    "duration": 5,
    "start_time": "2021-10-02T03:35:52.735Z"
   },
   {
    "duration": 6,
    "start_time": "2021-10-02T03:35:52.742Z"
   },
   {
    "duration": 27,
    "start_time": "2021-10-02T03:35:52.750Z"
   },
   {
    "duration": 4,
    "start_time": "2021-10-02T03:35:52.779Z"
   },
   {
    "duration": 92,
    "start_time": "2021-10-02T03:35:52.785Z"
   },
   {
    "duration": 3,
    "start_time": "2021-10-02T03:35:52.878Z"
   },
   {
    "duration": 171000,
    "start_time": "2021-10-02T03:35:52.883Z"
   },
   {
    "duration": 4,
    "start_time": "2021-10-02T03:38:43.885Z"
   },
   {
    "duration": 12,
    "start_time": "2021-10-02T03:38:43.891Z"
   },
   {
    "duration": 5,
    "start_time": "2021-10-02T03:38:43.905Z"
   },
   {
    "duration": 6614,
    "start_time": "2021-10-02T03:38:43.911Z"
   },
   {
    "duration": 2,
    "start_time": "2021-10-02T03:38:50.527Z"
   },
   {
    "duration": 4956,
    "start_time": "2021-10-02T03:38:50.531Z"
   },
   {
    "duration": 15152,
    "start_time": "2021-10-02T03:38:55.488Z"
   },
   {
    "duration": 171256,
    "start_time": "2021-10-02T03:51:17.759Z"
   },
   {
    "duration": -814,
    "start_time": "2021-10-02T03:54:09.831Z"
   },
   {
    "duration": 7478,
    "start_time": "2021-10-02T03:54:36.152Z"
   },
   {
    "duration": 12216,
    "start_time": "2021-10-02T03:54:49.525Z"
   },
   {
    "duration": 16867,
    "start_time": "2021-10-02T03:55:08.189Z"
   },
   {
    "duration": 16853,
    "start_time": "2021-10-02T03:55:36.651Z"
   },
   {
    "duration": 15409,
    "start_time": "2021-10-02T03:56:04.893Z"
   },
   {
    "duration": 17397,
    "start_time": "2021-10-02T03:56:30.261Z"
   },
   {
    "duration": 18136,
    "start_time": "2021-10-02T03:58:09.143Z"
   },
   {
    "duration": 343,
    "start_time": "2021-10-02T04:25:54.415Z"
   },
   {
    "duration": 289,
    "start_time": "2021-10-02T04:26:12.681Z"
   },
   {
    "duration": 7,
    "start_time": "2021-10-02T04:26:23.685Z"
   },
   {
    "duration": 1615,
    "start_time": "2021-10-02T04:27:21.913Z"
   },
   {
    "duration": 674,
    "start_time": "2021-10-02T04:27:23.530Z"
   },
   {
    "duration": 3,
    "start_time": "2021-10-02T04:27:24.206Z"
   },
   {
    "duration": 32,
    "start_time": "2021-10-02T04:27:24.211Z"
   },
   {
    "duration": 10,
    "start_time": "2021-10-02T04:27:24.245Z"
   },
   {
    "duration": 20,
    "start_time": "2021-10-02T04:27:24.257Z"
   },
   {
    "duration": 5,
    "start_time": "2021-10-02T04:27:24.278Z"
   },
   {
    "duration": 9,
    "start_time": "2021-10-02T04:27:24.285Z"
   },
   {
    "duration": 106,
    "start_time": "2021-10-02T04:27:24.296Z"
   },
   {
    "duration": 2,
    "start_time": "2021-10-02T04:27:24.404Z"
   },
   {
    "duration": 172934,
    "start_time": "2021-10-02T04:27:24.408Z"
   },
   {
    "duration": 3,
    "start_time": "2021-10-02T04:30:17.344Z"
   },
   {
    "duration": 17,
    "start_time": "2021-10-02T04:30:17.349Z"
   },
   {
    "duration": 9,
    "start_time": "2021-10-02T04:30:17.368Z"
   },
   {
    "duration": 29798,
    "start_time": "2021-10-02T04:30:17.379Z"
   },
   {
    "duration": 3,
    "start_time": "2021-10-02T04:30:47.179Z"
   },
   {
    "duration": 19406,
    "start_time": "2021-10-02T04:30:47.184Z"
   }
  ],
  "kernelspec": {
   "display_name": "Python 3 (ipykernel)",
   "language": "python",
   "name": "python3"
  },
  "language_info": {
   "codemirror_mode": {
    "name": "ipython",
    "version": 3
   },
   "file_extension": ".py",
   "mimetype": "text/x-python",
   "name": "python",
   "nbconvert_exporter": "python",
   "pygments_lexer": "ipython3",
   "version": "3.9.7"
  },
  "toc": {
   "base_numbering": 1,
   "nav_menu": {},
   "number_sections": true,
   "sideBar": true,
   "skip_h1_title": true,
   "title_cell": "Содержание",
   "title_sidebar": "Contents",
   "toc_cell": true,
   "toc_position": {
    "height": "calc(100% - 180px)",
    "left": "10px",
    "top": "150px",
    "width": "302.391px"
   },
   "toc_section_display": true,
   "toc_window_display": false
  }
 },
 "nbformat": 4,
 "nbformat_minor": 2
}
