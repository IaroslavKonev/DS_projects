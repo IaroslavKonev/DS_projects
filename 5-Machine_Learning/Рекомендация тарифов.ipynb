{
 "cells": [
  {
   "cell_type": "markdown",
   "metadata": {},
   "source": [
    "# Рекомендация тарифов"
   ]
  },
  {
   "cell_type": "markdown",
   "metadata": {},
   "source": [
    "В вашем распоряжении данные о поведении клиентов, которые уже перешли на эти тарифы (из проекта курса «Статистический анализ данных»). Нужно построить модель для задачи классификации, которая выберет подходящий тариф. Предобработка данных не понадобится — мы её уже сделали.\n",
    "\n",
    "Постройте модель с максимально большим значением *accuracy*. Чтобы сдать проект успешно, нужно довести долю правильных ответов по крайней мере до 0.75. Проверьте *accuracy* на тестовой выборке самостоятельно."
   ]
  },
  {
   "cell_type": "markdown",
   "metadata": {},
   "source": [
    "Начнем нашу работу с импорта всех необходимых библиотек. По сути, перед нами стоит задача классификации между двумя известными тарифами. Следовательно. нам необходимо импортировать различные Classifier-библиотеки. Так же по заданию нам необходимо ориентироваться на метрику accuracy, следоватьелньо, нам необходим модуль для вычисления данной метрики."
   ]
  },
  {
   "cell_type": "code",
   "execution_count": 1,
   "metadata": {},
   "outputs": [],
   "source": [
    "import pandas as pd\n",
    "import numpy as np\n",
    "from sklearn.model_selection import train_test_split\n",
    "from sklearn.tree import DecisionTreeClassifier\n",
    "from sklearn.ensemble import RandomForestClassifier\n",
    "from sklearn.linear_model import LogisticRegression\n",
    "from sklearn.dummy import DummyClassifier\n",
    "from sklearn.metrics import accuracy_score"
   ]
  },
  {
   "cell_type": "markdown",
   "metadata": {},
   "source": [
    "## Откройте и изучите файл"
   ]
  },
  {
   "cell_type": "markdown",
   "metadata": {},
   "source": [
    "Открываем и изучаем данные:"
   ]
  },
  {
   "cell_type": "code",
   "execution_count": 2,
   "metadata": {},
   "outputs": [
    {
     "data": {
      "text/html": [
       "<div>\n",
       "<style scoped>\n",
       "    .dataframe tbody tr th:only-of-type {\n",
       "        vertical-align: middle;\n",
       "    }\n",
       "\n",
       "    .dataframe tbody tr th {\n",
       "        vertical-align: top;\n",
       "    }\n",
       "\n",
       "    .dataframe thead th {\n",
       "        text-align: right;\n",
       "    }\n",
       "</style>\n",
       "<table border=\"1\" class=\"dataframe\">\n",
       "  <thead>\n",
       "    <tr style=\"text-align: right;\">\n",
       "      <th></th>\n",
       "      <th>calls</th>\n",
       "      <th>minutes</th>\n",
       "      <th>messages</th>\n",
       "      <th>mb_used</th>\n",
       "      <th>is_ultra</th>\n",
       "    </tr>\n",
       "  </thead>\n",
       "  <tbody>\n",
       "    <tr>\n",
       "      <th>0</th>\n",
       "      <td>40.0</td>\n",
       "      <td>311.90</td>\n",
       "      <td>83.0</td>\n",
       "      <td>19915.42</td>\n",
       "      <td>0</td>\n",
       "    </tr>\n",
       "    <tr>\n",
       "      <th>1</th>\n",
       "      <td>85.0</td>\n",
       "      <td>516.75</td>\n",
       "      <td>56.0</td>\n",
       "      <td>22696.96</td>\n",
       "      <td>0</td>\n",
       "    </tr>\n",
       "    <tr>\n",
       "      <th>2</th>\n",
       "      <td>77.0</td>\n",
       "      <td>467.66</td>\n",
       "      <td>86.0</td>\n",
       "      <td>21060.45</td>\n",
       "      <td>0</td>\n",
       "    </tr>\n",
       "    <tr>\n",
       "      <th>3</th>\n",
       "      <td>106.0</td>\n",
       "      <td>745.53</td>\n",
       "      <td>81.0</td>\n",
       "      <td>8437.39</td>\n",
       "      <td>1</td>\n",
       "    </tr>\n",
       "    <tr>\n",
       "      <th>4</th>\n",
       "      <td>66.0</td>\n",
       "      <td>418.74</td>\n",
       "      <td>1.0</td>\n",
       "      <td>14502.75</td>\n",
       "      <td>0</td>\n",
       "    </tr>\n",
       "  </tbody>\n",
       "</table>\n",
       "</div>"
      ],
      "text/plain": [
       "   calls  minutes  messages   mb_used  is_ultra\n",
       "0   40.0   311.90      83.0  19915.42         0\n",
       "1   85.0   516.75      56.0  22696.96         0\n",
       "2   77.0   467.66      86.0  21060.45         0\n",
       "3  106.0   745.53      81.0   8437.39         1\n",
       "4   66.0   418.74       1.0  14502.75         0"
      ]
     },
     "execution_count": 2,
     "metadata": {},
     "output_type": "execute_result"
    }
   ],
   "source": [
    "df=pd.read_csv('D:\\\\DS\\\\Портфолио\\\\5-Машинное обучение\\\\users_behavior.csv')\n",
    "df.head()"
   ]
  },
  {
   "cell_type": "code",
   "execution_count": 3,
   "metadata": {},
   "outputs": [
    {
     "name": "stdout",
     "output_type": "stream",
     "text": [
      "<class 'pandas.core.frame.DataFrame'>\n",
      "RangeIndex: 3214 entries, 0 to 3213\n",
      "Data columns (total 5 columns):\n",
      " #   Column    Non-Null Count  Dtype  \n",
      "---  ------    --------------  -----  \n",
      " 0   calls     3214 non-null   float64\n",
      " 1   minutes   3214 non-null   float64\n",
      " 2   messages  3214 non-null   float64\n",
      " 3   mb_used   3214 non-null   float64\n",
      " 4   is_ultra  3214 non-null   int64  \n",
      "dtypes: float64(4), int64(1)\n",
      "memory usage: 125.7 KB\n"
     ]
    }
   ],
   "source": [
    "df.info()"
   ]
  },
  {
   "cell_type": "markdown",
   "metadata": {},
   "source": [
    "Отлично, у нас нет пропусков и все данные необходимого формата."
   ]
  },
  {
   "cell_type": "code",
   "execution_count": 4,
   "metadata": {},
   "outputs": [
    {
     "data": {
      "text/html": [
       "<div>\n",
       "<style scoped>\n",
       "    .dataframe tbody tr th:only-of-type {\n",
       "        vertical-align: middle;\n",
       "    }\n",
       "\n",
       "    .dataframe tbody tr th {\n",
       "        vertical-align: top;\n",
       "    }\n",
       "\n",
       "    .dataframe thead th {\n",
       "        text-align: right;\n",
       "    }\n",
       "</style>\n",
       "<table border=\"1\" class=\"dataframe\">\n",
       "  <thead>\n",
       "    <tr style=\"text-align: right;\">\n",
       "      <th></th>\n",
       "      <th>calls</th>\n",
       "      <th>minutes</th>\n",
       "      <th>messages</th>\n",
       "      <th>mb_used</th>\n",
       "      <th>is_ultra</th>\n",
       "    </tr>\n",
       "  </thead>\n",
       "  <tbody>\n",
       "    <tr>\n",
       "      <th>count</th>\n",
       "      <td>3214.000000</td>\n",
       "      <td>3214.000000</td>\n",
       "      <td>3214.000000</td>\n",
       "      <td>3214.000000</td>\n",
       "      <td>3214.000000</td>\n",
       "    </tr>\n",
       "    <tr>\n",
       "      <th>mean</th>\n",
       "      <td>63.038892</td>\n",
       "      <td>438.208787</td>\n",
       "      <td>38.281269</td>\n",
       "      <td>17207.673836</td>\n",
       "      <td>0.306472</td>\n",
       "    </tr>\n",
       "    <tr>\n",
       "      <th>std</th>\n",
       "      <td>33.236368</td>\n",
       "      <td>234.569872</td>\n",
       "      <td>36.148326</td>\n",
       "      <td>7570.968246</td>\n",
       "      <td>0.461100</td>\n",
       "    </tr>\n",
       "    <tr>\n",
       "      <th>min</th>\n",
       "      <td>0.000000</td>\n",
       "      <td>0.000000</td>\n",
       "      <td>0.000000</td>\n",
       "      <td>0.000000</td>\n",
       "      <td>0.000000</td>\n",
       "    </tr>\n",
       "    <tr>\n",
       "      <th>25%</th>\n",
       "      <td>40.000000</td>\n",
       "      <td>274.575000</td>\n",
       "      <td>9.000000</td>\n",
       "      <td>12491.902500</td>\n",
       "      <td>0.000000</td>\n",
       "    </tr>\n",
       "    <tr>\n",
       "      <th>50%</th>\n",
       "      <td>62.000000</td>\n",
       "      <td>430.600000</td>\n",
       "      <td>30.000000</td>\n",
       "      <td>16943.235000</td>\n",
       "      <td>0.000000</td>\n",
       "    </tr>\n",
       "    <tr>\n",
       "      <th>75%</th>\n",
       "      <td>82.000000</td>\n",
       "      <td>571.927500</td>\n",
       "      <td>57.000000</td>\n",
       "      <td>21424.700000</td>\n",
       "      <td>1.000000</td>\n",
       "    </tr>\n",
       "    <tr>\n",
       "      <th>max</th>\n",
       "      <td>244.000000</td>\n",
       "      <td>1632.060000</td>\n",
       "      <td>224.000000</td>\n",
       "      <td>49745.730000</td>\n",
       "      <td>1.000000</td>\n",
       "    </tr>\n",
       "  </tbody>\n",
       "</table>\n",
       "</div>"
      ],
      "text/plain": [
       "             calls      minutes     messages       mb_used     is_ultra\n",
       "count  3214.000000  3214.000000  3214.000000   3214.000000  3214.000000\n",
       "mean     63.038892   438.208787    38.281269  17207.673836     0.306472\n",
       "std      33.236368   234.569872    36.148326   7570.968246     0.461100\n",
       "min       0.000000     0.000000     0.000000      0.000000     0.000000\n",
       "25%      40.000000   274.575000     9.000000  12491.902500     0.000000\n",
       "50%      62.000000   430.600000    30.000000  16943.235000     0.000000\n",
       "75%      82.000000   571.927500    57.000000  21424.700000     1.000000\n",
       "max     244.000000  1632.060000   224.000000  49745.730000     1.000000"
      ]
     },
     "execution_count": 4,
     "metadata": {},
     "output_type": "execute_result"
    }
   ],
   "source": [
    "df.describe()"
   ]
  },
  {
   "cell_type": "markdown",
   "metadata": {},
   "source": [
    "Необычных данных тоже нет."
   ]
  },
  {
   "cell_type": "markdown",
   "metadata": {},
   "source": [
    "**Вывод:** \n",
    "Отлично, мы можем сразу приступать к разделению данных на выборки."
   ]
  },
  {
   "cell_type": "markdown",
   "metadata": {},
   "source": [
    "## Разбейте данные на выборки"
   ]
  },
  {
   "cell_type": "markdown",
   "metadata": {},
   "source": [
    "Целевым столбцом является для нас столбец \"is_ultra\". Остальные столбцы являются признаками. Создадим переменные:"
   ]
  },
  {
   "cell_type": "code",
   "execution_count": 5,
   "metadata": {},
   "outputs": [
    {
     "data": {
      "text/html": [
       "<div>\n",
       "<style scoped>\n",
       "    .dataframe tbody tr th:only-of-type {\n",
       "        vertical-align: middle;\n",
       "    }\n",
       "\n",
       "    .dataframe tbody tr th {\n",
       "        vertical-align: top;\n",
       "    }\n",
       "\n",
       "    .dataframe thead th {\n",
       "        text-align: right;\n",
       "    }\n",
       "</style>\n",
       "<table border=\"1\" class=\"dataframe\">\n",
       "  <thead>\n",
       "    <tr style=\"text-align: right;\">\n",
       "      <th></th>\n",
       "      <th>calls</th>\n",
       "      <th>minutes</th>\n",
       "      <th>messages</th>\n",
       "      <th>mb_used</th>\n",
       "    </tr>\n",
       "  </thead>\n",
       "  <tbody>\n",
       "    <tr>\n",
       "      <th>0</th>\n",
       "      <td>40.0</td>\n",
       "      <td>311.90</td>\n",
       "      <td>83.0</td>\n",
       "      <td>19915.42</td>\n",
       "    </tr>\n",
       "    <tr>\n",
       "      <th>1</th>\n",
       "      <td>85.0</td>\n",
       "      <td>516.75</td>\n",
       "      <td>56.0</td>\n",
       "      <td>22696.96</td>\n",
       "    </tr>\n",
       "    <tr>\n",
       "      <th>2</th>\n",
       "      <td>77.0</td>\n",
       "      <td>467.66</td>\n",
       "      <td>86.0</td>\n",
       "      <td>21060.45</td>\n",
       "    </tr>\n",
       "    <tr>\n",
       "      <th>3</th>\n",
       "      <td>106.0</td>\n",
       "      <td>745.53</td>\n",
       "      <td>81.0</td>\n",
       "      <td>8437.39</td>\n",
       "    </tr>\n",
       "    <tr>\n",
       "      <th>4</th>\n",
       "      <td>66.0</td>\n",
       "      <td>418.74</td>\n",
       "      <td>1.0</td>\n",
       "      <td>14502.75</td>\n",
       "    </tr>\n",
       "  </tbody>\n",
       "</table>\n",
       "</div>"
      ],
      "text/plain": [
       "   calls  minutes  messages   mb_used\n",
       "0   40.0   311.90      83.0  19915.42\n",
       "1   85.0   516.75      56.0  22696.96\n",
       "2   77.0   467.66      86.0  21060.45\n",
       "3  106.0   745.53      81.0   8437.39\n",
       "4   66.0   418.74       1.0  14502.75"
      ]
     },
     "execution_count": 5,
     "metadata": {},
     "output_type": "execute_result"
    }
   ],
   "source": [
    "features=df.drop(['is_ultra'], axis=1)\n",
    "target=df['is_ultra']\n",
    "\n",
    "#првоерим:\n",
    "features.head()"
   ]
  },
  {
   "cell_type": "code",
   "execution_count": 6,
   "metadata": {},
   "outputs": [
    {
     "data": {
      "text/plain": [
       "0    0\n",
       "1    0\n",
       "2    0\n",
       "3    1\n",
       "4    0\n",
       "Name: is_ultra, dtype: int64"
      ]
     },
     "execution_count": 6,
     "metadata": {},
     "output_type": "execute_result"
    }
   ],
   "source": [
    "#провервим:\n",
    "target.head()"
   ]
  },
  {
   "cell_type": "markdown",
   "metadata": {},
   "source": [
    "Для выполнения работы нам понадобится разделить данные на 3 пары выборок, примерно в следующих пропорциях:\n",
    "\n",
    "-Обучающую (60% выборок)\n",
    "\n",
    "-Валидационную (20% выборок)\n",
    "\n",
    "-Тестовую (20% выборок)\n",
    "\n",
    "Сперва мы разделим выборку на две части: df1 и test. \n",
    "test мы будем использовать для финальной проверки, а df1 разделим еще на 2 выборки: train_df и valid_df.\n",
    "\n",
    "Во всем проекте мы будем использовать единый random_state=1123 (со второго по пятое число последовательности Фибоначчи)"
   ]
  },
  {
   "cell_type": "code",
   "execution_count": 7,
   "metadata": {},
   "outputs": [],
   "source": [
    "df1_features, test_features_df, df1_target, test_target_df=train_test_split(\n",
    "features, target, test_size=0.20, random_state=1123)"
   ]
  },
  {
   "cell_type": "markdown",
   "metadata": {},
   "source": [
    "Отлично теперь разделим df1 выборку на обучающую и валидационную:"
   ]
  },
  {
   "cell_type": "code",
   "execution_count": 8,
   "metadata": {},
   "outputs": [],
   "source": [
    "train_features_df, valid_features_df, train_target_df, valid_target_df=train_test_split(\n",
    "df1_features, df1_target, test_size=0.20, random_state=1123)"
   ]
  },
  {
   "cell_type": "markdown",
   "metadata": {},
   "source": [
    "Проверим размерность наших наборов:"
   ]
  },
  {
   "cell_type": "code",
   "execution_count": 9,
   "metadata": {},
   "outputs": [
    {
     "data": {
      "text/plain": [
       "(2056, 4)"
      ]
     },
     "execution_count": 9,
     "metadata": {},
     "output_type": "execute_result"
    }
   ],
   "source": [
    "train_features_df.shape"
   ]
  },
  {
   "cell_type": "code",
   "execution_count": 10,
   "metadata": {},
   "outputs": [
    {
     "data": {
      "text/plain": [
       "(2056,)"
      ]
     },
     "execution_count": 10,
     "metadata": {},
     "output_type": "execute_result"
    }
   ],
   "source": [
    "train_target_df.shape"
   ]
  },
  {
   "cell_type": "code",
   "execution_count": 11,
   "metadata": {},
   "outputs": [
    {
     "data": {
      "text/plain": [
       "(515, 4)"
      ]
     },
     "execution_count": 11,
     "metadata": {},
     "output_type": "execute_result"
    }
   ],
   "source": [
    "valid_features_df.shape"
   ]
  },
  {
   "cell_type": "code",
   "execution_count": 12,
   "metadata": {},
   "outputs": [
    {
     "data": {
      "text/plain": [
       "(515,)"
      ]
     },
     "execution_count": 12,
     "metadata": {},
     "output_type": "execute_result"
    }
   ],
   "source": [
    "valid_target_df.shape"
   ]
  },
  {
   "cell_type": "code",
   "execution_count": 13,
   "metadata": {},
   "outputs": [
    {
     "data": {
      "text/plain": [
       "(643, 4)"
      ]
     },
     "execution_count": 13,
     "metadata": {},
     "output_type": "execute_result"
    }
   ],
   "source": [
    "test_features_df.shape"
   ]
  },
  {
   "cell_type": "code",
   "execution_count": 14,
   "metadata": {},
   "outputs": [
    {
     "data": {
      "text/plain": [
       "(643,)"
      ]
     },
     "execution_count": 14,
     "metadata": {},
     "output_type": "execute_result"
    }
   ],
   "source": [
    "test_target_df.shape"
   ]
  },
  {
   "cell_type": "markdown",
   "metadata": {},
   "source": [
    "**Вывод:**\n",
    "\n",
    "Отлично, итого у нас получилось 3 пары фреймов:\n",
    "\n",
    "train_features_df и train_target_df - для обучения\n",
    "\n",
    "valid_features_df и valid_target_df - для валидации\n",
    "\n",
    "test_features_df и test_target_df - для финального тестирования.\n"
   ]
  },
  {
   "cell_type": "markdown",
   "metadata": {},
   "source": [
    "## Исследуйте модели"
   ]
  },
  {
   "cell_type": "markdown",
   "metadata": {},
   "source": [
    "Приступаем к созданию, обучению и валидации моделей. Главу разобьем на 4 подглавы:\n",
    "\n",
    "1) DecisionTree\n",
    "\n",
    "2) RandomForest\n",
    "\n",
    "3) LogisticRegression\n",
    "\n",
    "4) Выбор наилучшей модели"
   ]
  },
  {
   "cell_type": "markdown",
   "metadata": {},
   "source": [
    "На протяжении всего исследования мы будем использовать повторяющиеся команды по обучению и вычислению результата. Поэтому запишем их в функцию:"
   ]
  },
  {
   "cell_type": "code",
   "execution_count": 15,
   "metadata": {},
   "outputs": [
    {
     "name": "stdout",
     "output_type": "stream",
     "text": [
      "Строка документации: \n",
      " \n",
      "    Вычисляет accuracy по по валидационной выборке. \n",
      "    \n",
      "    Внутри зашито обучение модели, предсказание на валидационной выборке и вычисление accuracy\n",
      "    ======================================\n",
      "    \n",
      "    Аргументы:\n",
      "                    train_feature_df (DataFrame): датафрейм признаков из тренировочной выборки\n",
      "                    train_target_df (DataFrame): датафрейм целевого признака из тренировочной выборки\n",
      "                    valid_feature_df (DataFrame): датафрейм признаков из валидационной выборки\n",
      "                    train_target_df (DataFrame): датафрейм целевого признака из валидационной  выборки\n",
      "                    \n",
      "\n",
      "    Возвращает:\n",
      "                    result (float): accuracy вычисленное на валидационной выборке\n",
      "    \n"
     ]
    }
   ],
   "source": [
    "def fit_result(train_feature_df, train_target_df, valid_feature_df, valid_target_df):\n",
    "    \n",
    "    '''\n",
    "    Вычисляет accuracy по по валидационной выборке. \n",
    "    \n",
    "    Внутри зашито обучение модели, предсказание на валидационной выборке и вычисление accuracy\n",
    "    ======================================\n",
    "    \n",
    "    Аргументы:\n",
    "                    train_feature_df (DataFrame): датафрейм признаков из тренировочной выборки\n",
    "                    train_target_df (DataFrame): датафрейм целевого признака из тренировочной выборки\n",
    "                    valid_feature_df (DataFrame): датафрейм признаков из валидационной выборки\n",
    "                    train_target_df (DataFrame): датафрейм целевого признака из валидационной  выборки\n",
    "                    \n",
    "\n",
    "    Возвращает:\n",
    "                    result (float): accuracy вычисленное на валидационной выборке\n",
    "    '''    \n",
    "    model.fit(train_feature_df,train_target_df)\n",
    "    prediction_valid=model.predict(valid_feature_df)\n",
    "    result = accuracy_score(valid_target_df, prediction_valid)\n",
    "    return result\n",
    "\n",
    "print('Строка документации: \\n', fit_result.__doc__)"
   ]
  },
  {
   "cell_type": "markdown",
   "metadata": {},
   "source": [
    "### DecisionTree"
   ]
  },
  {
   "cell_type": "markdown",
   "metadata": {},
   "source": [
    "В данной главе мы будем работать с алгоритмом DecisionTree.\n",
    "\n",
    "Мы будем регулировать 3 гипер параметра в данной модели: \n",
    "\n",
    "-max_depth \n",
    "\n",
    "-min_samples_split\n",
    "\n",
    "-min_samples_leaf\n",
    "\n"
   ]
  },
  {
   "cell_type": "code",
   "execution_count": 16,
   "metadata": {},
   "outputs": [
    {
     "name": "stdout",
     "output_type": "stream",
     "text": [
      "accuracy наилучшей модели на валидационной выборке: 0.8155339805825242\n",
      "depth наилучшей модели на валидационной выборке: 7\n",
      "split наилучшей модели на валидационной выборке: 4\n",
      "leaf наилучшей модели на валидационной выборке: 1\n"
     ]
    }
   ],
   "source": [
    "best_tree=None\n",
    "best_accuracy=0\n",
    "best_depth=0\n",
    "best_split=0\n",
    "best_leaf=0\n",
    "\n",
    "for depth in range(1,10):\n",
    "    for split in range(2,5):\n",
    "        for leaf in range(1,4):\n",
    "            model=DecisionTreeClassifier(random_state=1123, max_depth=depth, min_samples_split=split, min_samples_leaf=leaf) \n",
    "            if fit_result(train_features_df, train_target_df, valid_features_df, valid_target_df)>best_accuracy:\n",
    "                best_tree=model\n",
    "                best_accuracy=fit_result(train_features_df, train_target_df, valid_features_df, valid_target_df)\n",
    "                best_depth=depth\n",
    "                best_split=split\n",
    "                best_leaf=leaf\n",
    "                \n",
    "print('accuracy наилучшей модели на валидационной выборке: {}'.format(best_accuracy))\n",
    "print('depth наилучшей модели на валидационной выборке: {}'.format(best_depth))\n",
    "print('split наилучшей модели на валидационной выборке: {}'.format(best_split))\n",
    "print('leaf наилучшей модели на валидационной выборке: {}'.format(best_leaf))"
   ]
  },
  {
   "cell_type": "markdown",
   "metadata": {},
   "source": [
    "Отлично, мы получили модель с необходимым accuracy, а так же наилучшие гиперпараметры модели. Давайте посмотрим на время предсказания на валидационной выборке:"
   ]
  },
  {
   "cell_type": "code",
   "execution_count": 17,
   "metadata": {},
   "outputs": [
    {
     "name": "stdout",
     "output_type": "stream",
     "text": [
      "Wall time: 7 ms\n"
     ]
    }
   ],
   "source": [
    "%%time \n",
    "\n",
    "prediction_valid=best_tree.predict(valid_features_df)"
   ]
  },
  {
   "cell_type": "markdown",
   "metadata": {},
   "source": [
    "**Вывод:**\n",
    "\n",
    "Наилучшая модель работающая на алгоритме DecisionTree имеет следующие точность и гиперпараметры:\n",
    "\n",
    "accuracy наилучшей модели на валидационной выборке: 0.8155339805825242\n",
    "depth наилучшей модели на валидационной выборке: 7\n",
    "split наилучшей модели на валидационной выборке: 4\n",
    "leaf наилучшей модели на валидационной выборке: 1\n",
    "\n",
    "И выполняет предсказание за 1,68 миллисекунд на валидационной выборке. Наверное это быстро."
   ]
  },
  {
   "cell_type": "markdown",
   "metadata": {},
   "source": [
    "### RandomForest"
   ]
  },
  {
   "cell_type": "markdown",
   "metadata": {},
   "source": [
    "В данной главе мы будем работать с алгоритмом RandomForest.\n",
    "\n",
    "Мы будем регулировать 2 гипер параметра в данной модели:\n",
    "\n",
    "-max_depth \n",
    "\n",
    "-n_estimator "
   ]
  },
  {
   "cell_type": "code",
   "execution_count": 18,
   "metadata": {},
   "outputs": [
    {
     "name": "stdout",
     "output_type": "stream",
     "text": [
      "accuracy наилучшей модели на валидационной выборке: 0.8368932038834952\n",
      "depth наилучшей модели на валидационной выборке: 9\n",
      "est наилучшей модели на валидационной выборке: 30\n"
     ]
    }
   ],
   "source": [
    "best_forest=None\n",
    "best_forest_accuracy=0\n",
    "best_forest_depth=0\n",
    "best_forest_est=0\n",
    "\n",
    "for depth in range(1,10):\n",
    "    for est in range(10,51,10):\n",
    "        model=RandomForestClassifier(random_state=1123, max_depth=depth, n_estimators=est) \n",
    "        if fit_result(train_features_df, train_target_df, valid_features_df, valid_target_df)>best_forest_accuracy:\n",
    "            best_forest=model\n",
    "            best_forest_accuracy=fit_result(train_features_df, train_target_df, valid_features_df, valid_target_df)\n",
    "            best_forest_depth=depth\n",
    "            best_forest_est=est\n",
    "           \n",
    "                \n",
    "print('accuracy наилучшей модели на валидационной выборке: {}'.format(best_forest_accuracy))\n",
    "print('depth наилучшей модели на валидационной выборке: {}'.format(best_forest_depth))\n",
    "print('est наилучшей модели на валидационной выборке: {}'.format(best_forest_est))"
   ]
  },
  {
   "cell_type": "markdown",
   "metadata": {},
   "source": [
    "Отлично, мы получили модель с необзодимым accuracy, а так же наилучшие гиперпараметры модели. Давайте посмотрим на время выполнения предсказания на валидационной выборке:"
   ]
  },
  {
   "cell_type": "code",
   "execution_count": 19,
   "metadata": {},
   "outputs": [
    {
     "name": "stdout",
     "output_type": "stream",
     "text": [
      "Wall time: 35 ms\n"
     ]
    }
   ],
   "source": [
    "%%time \n",
    "\n",
    "prediction_valid=best_forest.predict(valid_features_df)"
   ]
  },
  {
   "cell_type": "markdown",
   "metadata": {},
   "source": [
    "**Вывод:**\n",
    "\n",
    "Наилучшая модель работающая на алгоритме RandomForest имеет следующие точность и гиперпараметры:\n",
    "\n",
    "accuracy наилучшей модели на валидационной выборке: 0.8368932038834952\n",
    "depth наилучшей модели на валидационной выборке: 9\n",
    "est наилучшей модели на валидационной выборке: 30\n",
    "\n",
    "И выполняет предсказание за 9,48 миллисекунд на валидационной выборке. Это медленнее чем DecisionTree. \n",
    "Причем accuracy больше на совсем небольшое значение, а вот скорость работы в несколько раз медленнее."
   ]
  },
  {
   "cell_type": "markdown",
   "metadata": {},
   "source": [
    "### LogisticRegression"
   ]
  },
  {
   "cell_type": "markdown",
   "metadata": {},
   "source": [
    "В данной главе мы будем работать с алгоритмом LogisticRegression."
   ]
  },
  {
   "cell_type": "code",
   "execution_count": 20,
   "metadata": {},
   "outputs": [
    {
     "name": "stdout",
     "output_type": "stream",
     "text": [
      "accuracy наилучшей модели на валидационной выборке: 0.7300970873786408\n",
      "C наилучшей модели на валидационной выборке: 1\n"
     ]
    }
   ],
   "source": [
    "best_log_regr=None\n",
    "best_log_regr_accuracy=0\n",
    "best_log_regr_c=0\n",
    "\n",
    "\n",
    "for c in range(1,10):\n",
    "    model=LogisticRegression(random_state=1123, C=c)\n",
    "    if fit_result(train_features_df, train_target_df, valid_features_df, valid_target_df)>best_log_regr_accuracy:\n",
    "        best_log_regr=model\n",
    "        best_log_regr_accuracy=fit_result(train_features_df, train_target_df, valid_features_df, valid_target_df)\n",
    "        best_log_regr_c=c\n",
    "                        \n",
    "print('accuracy наилучшей модели на валидационной выборке: {}'.format(best_log_regr_accuracy))\n",
    "print('C наилучшей модели на валидационной выборке: {}'.format(best_log_regr_c))"
   ]
  },
  {
   "cell_type": "markdown",
   "metadata": {},
   "source": [
    "Мы получили accuracy ниже требуемого. Нет смысла дальше использовать данный алгоритм."
   ]
  },
  {
   "cell_type": "markdown",
   "metadata": {},
   "source": [
    "### Выбор лучшего алгоритма"
   ]
  },
  {
   "cell_type": "markdown",
   "metadata": {},
   "source": [
    "Исходя из accuracy и скоростью работы алгоритмов, для дальнейшей работы лучше использовать DecisionTree. Проверим ее на тестовой выборке."
   ]
  },
  {
   "cell_type": "markdown",
   "metadata": {},
   "source": [
    "## Проверьте модель на тестовой выборке"
   ]
  },
  {
   "cell_type": "markdown",
   "metadata": {},
   "source": [
    "Проверим работу нашей модели на тестовой выборке."
   ]
  },
  {
   "cell_type": "code",
   "execution_count": 21,
   "metadata": {},
   "outputs": [
    {
     "name": "stdout",
     "output_type": "stream",
     "text": [
      "accuracy на тестовой выборке: 0.8055987558320373\n"
     ]
    }
   ],
   "source": [
    "#Делаем предсказание на тестовой выборке\n",
    "prediction_test=best_tree.predict(test_features_df)\n",
    "\n",
    "#Вычисляем accuracy на тестовой выборке\n",
    "accu_test=accuracy_score(test_target_df, prediction_test)\n",
    "\n",
    "print('accuracy на тестовой выборке: {}'.format(accu_test))"
   ]
  },
  {
   "cell_type": "markdown",
   "metadata": {},
   "source": [
    "**Вывод:**\n",
    "\n",
    "Мы обучили модель используя алгоритм DecisionTree. Нам удалось получить accuracy=0.80 выше требуемого (0,75).\n",
    "Мы отсеяли алгоритм RandomForest из-за медлительности, а LogisticRegression из-за низкого accuracy."
   ]
  },
  {
   "cell_type": "markdown",
   "metadata": {},
   "source": [
    "## (бонус) Проверьте модели на адекватность"
   ]
  },
  {
   "cell_type": "markdown",
   "metadata": {},
   "source": [
    "Предположим, перед нами модель, которая предсказывает тарифы случайным образом. С вероятностью 50/50 ответ будет 0 или 1. \n",
    "Тогда accuracy такой модели следующая:\n",
    "\n",
    "accuracy=0.5x(доля угаданных 1) + 0.5х(доля угаданных 0)\n",
    "\n",
    "Ответы модели не связаны с правильными ответами, поэтому вероятность угадать 1 равна 50% (так же и для 0)\n",
    "\n",
    "тогда accuracy = 0.5x0.5 + 0.5x0.5=0.25+0.25 = 0.5"
   ]
  },
  {
   "cell_type": "markdown",
   "metadata": {},
   "source": [
    "Выполним проверку при промощи DummyClassifier"
   ]
  },
  {
   "cell_type": "code",
   "execution_count": 22,
   "metadata": {},
   "outputs": [
    {
     "name": "stdout",
     "output_type": "stream",
     "text": [
      "accuracy на тестовой выборке: 0.71850699844479\n"
     ]
    }
   ],
   "source": [
    "dummy_clf = DummyClassifier(random_state=1123, strategy=\"most_frequent\")\n",
    "dummy_clf.fit(train_features_df,train_target_df)\n",
    "prediction_dummy_test=dummy_clf.predict(test_features_df)\n",
    "accu_dummy_test=accuracy_score(test_target_df, prediction_dummy_test)\n",
    "\n",
    "print('accuracy на тестовой выборке: {}'.format(accu_dummy_test))"
   ]
  },
  {
   "cell_type": "markdown",
   "metadata": {},
   "source": [
    "**Вывод:**\n",
    "\n",
    "Наша модель имеет accuracy (0.80) выше чем accuracy случайной модели (0.5), и выше, чем модель реализованная через DummyClassifier (0.71). Следовательно наша модель прошла проверку на адекватность."
   ]
  },
  {
   "cell_type": "markdown",
   "metadata": {},
   "source": [
    "## Вывод"
   ]
  },
  {
   "cell_type": "markdown",
   "metadata": {},
   "source": [
    "Мы обучили несколько моделей и использовали в работе различные алгоритмы, а именно:\n",
    "\n",
    "DecisionTree\n",
    "\n",
    "RandomForest\n",
    "\n",
    "LogisticRegression\n",
    "\n",
    "Нам не подошел алгортим LogisticRegression, так как accuracy на модели ниже требуемого. (0.72/0.75)\n",
    "\n",
    "Модели работающих на адлгоритмах DecisionTree и RandomForest показали accuracy выше необходимого (0.80/0.75 на тестовой выборке) и (0.83/0.75 на валидационной выборке).\n",
    "\n",
    "Алгоритм RandomForest оказался в несколько раз медленне алгоритма DecisionTree, но в то же время оказался несколько точнее.\n",
    "\n",
    "Можно предложить заказчику на рассмотрение оба варианта, на случай если высокая точность будет важнее производительности.\n",
    "\n",
    "Дополнительно мы провели проверку на адекватность при помощи DummyClassifier и случайной моделью. Отобранные нами модели показывают лучший результат и прошли проверку на адекватность."
   ]
  }
 ],
 "metadata": {
  "ExecuteTimeLog": [
   {
    "duration": 1106,
    "start_time": "2021-06-22T07:06:10.886Z"
   },
   {
    "duration": 647,
    "start_time": "2021-06-22T07:06:21.042Z"
   },
   {
    "duration": 90,
    "start_time": "2021-06-22T07:20:56.531Z"
   },
   {
    "duration": 3742,
    "start_time": "2021-06-22T07:21:00.620Z"
   },
   {
    "duration": 41,
    "start_time": "2021-06-22T07:21:28.082Z"
   },
   {
    "duration": 9,
    "start_time": "2021-06-22T07:21:45.465Z"
   },
   {
    "duration": 34,
    "start_time": "2021-06-22T07:21:55.306Z"
   },
   {
    "duration": 36,
    "start_time": "2021-06-22T07:25:17.138Z"
   },
   {
    "duration": 10,
    "start_time": "2021-06-22T07:52:53.767Z"
   },
   {
    "duration": 15,
    "start_time": "2021-06-22T07:53:03.234Z"
   },
   {
    "duration": 6,
    "start_time": "2021-06-22T07:53:19.348Z"
   },
   {
    "duration": 283,
    "start_time": "2021-06-22T08:00:17.928Z"
   },
   {
    "duration": 7,
    "start_time": "2021-06-22T08:01:26.063Z"
   },
   {
    "duration": 7,
    "start_time": "2021-06-22T08:02:26.658Z"
   },
   {
    "duration": 7,
    "start_time": "2021-06-22T08:06:54.609Z"
   },
   {
    "duration": 1314,
    "start_time": "2021-06-22T08:07:10.478Z"
   },
   {
    "duration": 41,
    "start_time": "2021-06-22T08:07:11.795Z"
   },
   {
    "duration": 15,
    "start_time": "2021-06-22T08:07:11.839Z"
   },
   {
    "duration": 36,
    "start_time": "2021-06-22T08:07:11.857Z"
   },
   {
    "duration": 12,
    "start_time": "2021-06-22T08:07:11.896Z"
   },
   {
    "duration": 11,
    "start_time": "2021-06-22T08:07:11.911Z"
   },
   {
    "duration": 33,
    "start_time": "2021-06-22T08:07:11.924Z"
   },
   {
    "duration": 7,
    "start_time": "2021-06-22T08:07:11.959Z"
   },
   {
    "duration": 100,
    "start_time": "2021-06-22T09:26:34.608Z"
   },
   {
    "duration": 4,
    "start_time": "2021-06-22T12:05:56.846Z"
   },
   {
    "duration": 5,
    "start_time": "2021-06-22T12:06:26.330Z"
   },
   {
    "duration": 4,
    "start_time": "2021-06-22T12:13:10.304Z"
   },
   {
    "duration": 4,
    "start_time": "2021-06-22T12:14:52.945Z"
   },
   {
    "duration": 1588,
    "start_time": "2021-06-22T12:20:37.201Z"
   },
   {
    "duration": 40,
    "start_time": "2021-06-22T12:20:38.792Z"
   },
   {
    "duration": 9,
    "start_time": "2021-06-22T12:20:38.834Z"
   },
   {
    "duration": 40,
    "start_time": "2021-06-22T12:20:38.845Z"
   },
   {
    "duration": 12,
    "start_time": "2021-06-22T12:20:38.888Z"
   },
   {
    "duration": 8,
    "start_time": "2021-06-22T12:20:38.902Z"
   },
   {
    "duration": 8,
    "start_time": "2021-06-22T12:20:38.912Z"
   },
   {
    "duration": 9,
    "start_time": "2021-06-22T12:20:38.923Z"
   },
   {
    "duration": 13,
    "start_time": "2021-06-22T12:20:38.934Z"
   },
   {
    "duration": 2585,
    "start_time": "2021-06-22T12:20:38.950Z"
   },
   {
    "duration": 4,
    "start_time": "2021-06-22T12:25:21.379Z"
   },
   {
    "duration": 626,
    "start_time": "2021-06-22T12:25:24.249Z"
   },
   {
    "duration": 4,
    "start_time": "2021-06-22T12:25:53.329Z"
   },
   {
    "duration": 336,
    "start_time": "2021-06-22T12:25:58.984Z"
   },
   {
    "duration": 310,
    "start_time": "2021-06-22T12:26:16.682Z"
   },
   {
    "duration": 303,
    "start_time": "2021-06-22T12:26:56.078Z"
   },
   {
    "duration": 272,
    "start_time": "2021-06-22T12:27:16.869Z"
   },
   {
    "duration": 273,
    "start_time": "2021-06-22T12:27:51.738Z"
   },
   {
    "duration": 148,
    "start_time": "2021-06-22T12:28:29.443Z"
   },
   {
    "duration": 143,
    "start_time": "2021-06-22T12:30:34.678Z"
   },
   {
    "duration": 186,
    "start_time": "2021-06-22T12:33:34.485Z"
   },
   {
    "duration": 6,
    "start_time": "2021-06-22T12:33:43.101Z"
   },
   {
    "duration": 633,
    "start_time": "2021-06-22T12:42:59.201Z"
   },
   {
    "duration": 6,
    "start_time": "2021-06-22T12:43:06.689Z"
   },
   {
    "duration": 547,
    "start_time": "2021-06-22T12:45:48.653Z"
   },
   {
    "duration": 608,
    "start_time": "2021-06-22T12:46:45.094Z"
   },
   {
    "duration": 6,
    "start_time": "2021-06-22T12:46:48.214Z"
   },
   {
    "duration": 281,
    "start_time": "2021-06-22T12:51:15.471Z"
   },
   {
    "duration": 4962,
    "start_time": "2021-06-22T12:51:23.996Z"
   },
   {
    "duration": 14,
    "start_time": "2021-06-22T12:54:50.476Z"
   },
   {
    "duration": 23,
    "start_time": "2021-06-22T13:06:54.823Z"
   },
   {
    "duration": 338,
    "start_time": "2021-06-22T13:22:12.847Z"
   },
   {
    "duration": 1359,
    "start_time": "2021-06-22T13:22:28.142Z"
   },
   {
    "duration": 42,
    "start_time": "2021-06-22T13:22:29.503Z"
   },
   {
    "duration": 13,
    "start_time": "2021-06-22T13:22:29.549Z"
   },
   {
    "duration": 40,
    "start_time": "2021-06-22T13:22:29.565Z"
   },
   {
    "duration": 15,
    "start_time": "2021-06-22T13:22:29.607Z"
   },
   {
    "duration": 36,
    "start_time": "2021-06-22T13:22:29.624Z"
   },
   {
    "duration": 13,
    "start_time": "2021-06-22T13:22:29.662Z"
   },
   {
    "duration": 9,
    "start_time": "2021-06-22T13:22:29.678Z"
   },
   {
    "duration": 4,
    "start_time": "2021-06-22T13:22:29.690Z"
   },
   {
    "duration": 658,
    "start_time": "2021-06-22T13:22:29.696Z"
   },
   {
    "duration": 7,
    "start_time": "2021-06-22T13:22:30.357Z"
   },
   {
    "duration": 5001,
    "start_time": "2021-06-22T13:22:30.366Z"
   },
   {
    "duration": 13,
    "start_time": "2021-06-22T13:22:35.369Z"
   },
   {
    "duration": 24,
    "start_time": "2021-06-22T13:22:35.385Z"
   },
   {
    "duration": 446,
    "start_time": "2021-06-22T13:22:35.411Z"
   },
   {
    "duration": 8,
    "start_time": "2021-06-22T13:27:39.473Z"
   },
   {
    "duration": 5,
    "start_time": "2021-06-22T13:38:19.713Z"
   },
   {
    "duration": 1352,
    "start_time": "2021-06-22T13:45:40.448Z"
   },
   {
    "duration": 41,
    "start_time": "2021-06-22T13:45:41.803Z"
   },
   {
    "duration": 9,
    "start_time": "2021-06-22T13:45:41.847Z"
   },
   {
    "duration": 37,
    "start_time": "2021-06-22T13:45:41.859Z"
   },
   {
    "duration": 13,
    "start_time": "2021-06-22T13:45:41.898Z"
   },
   {
    "duration": 11,
    "start_time": "2021-06-22T13:45:41.914Z"
   },
   {
    "duration": 9,
    "start_time": "2021-06-22T13:45:41.955Z"
   },
   {
    "duration": 18,
    "start_time": "2021-06-22T13:45:41.969Z"
   },
   {
    "duration": 7,
    "start_time": "2021-06-22T13:45:41.990Z"
   },
   {
    "duration": 679,
    "start_time": "2021-06-22T13:45:41.321Z"
   },
   {
    "duration": 659,
    "start_time": "2021-06-22T13:45:41.343Z"
   },
   {
    "duration": 653,
    "start_time": "2021-06-22T13:45:41.351Z"
   },
   {
    "duration": 640,
    "start_time": "2021-06-22T13:45:41.367Z"
   },
   {
    "duration": 633,
    "start_time": "2021-06-22T13:45:41.376Z"
   },
   {
    "duration": 623,
    "start_time": "2021-06-22T13:45:41.389Z"
   },
   {
    "duration": 5,
    "start_time": "2021-06-22T13:46:36.287Z"
   },
   {
    "duration": 6,
    "start_time": "2021-06-22T13:47:12.972Z"
   },
   {
    "duration": 6,
    "start_time": "2021-06-22T13:47:22.236Z"
   },
   {
    "duration": 1453,
    "start_time": "2021-06-22T13:47:51.532Z"
   },
   {
    "duration": 40,
    "start_time": "2021-06-22T13:47:52.988Z"
   },
   {
    "duration": 9,
    "start_time": "2021-06-22T13:47:53.031Z"
   },
   {
    "duration": 42,
    "start_time": "2021-06-22T13:47:53.043Z"
   },
   {
    "duration": 13,
    "start_time": "2021-06-22T13:47:53.088Z"
   },
   {
    "duration": 8,
    "start_time": "2021-06-22T13:47:53.105Z"
   },
   {
    "duration": 46,
    "start_time": "2021-06-22T13:47:53.116Z"
   },
   {
    "duration": 15,
    "start_time": "2021-06-22T13:47:53.167Z"
   },
   {
    "duration": 7,
    "start_time": "2021-06-22T13:47:53.185Z"
   },
   {
    "duration": 625,
    "start_time": "2021-06-22T13:47:53.195Z"
   },
   {
    "duration": 7,
    "start_time": "2021-06-22T13:47:53.824Z"
   },
   {
    "duration": 5145,
    "start_time": "2021-06-22T13:47:53.834Z"
   },
   {
    "duration": 13,
    "start_time": "2021-06-22T13:47:58.981Z"
   },
   {
    "duration": 23,
    "start_time": "2021-06-22T13:47:58.996Z"
   },
   {
    "duration": 35,
    "start_time": "2021-06-22T13:47:59.022Z"
   },
   {
    "duration": 396,
    "start_time": "2021-06-22T15:33:08.546Z"
   },
   {
    "duration": 1390,
    "start_time": "2021-06-22T15:33:24.101Z"
   },
   {
    "duration": 42,
    "start_time": "2021-06-22T15:33:25.494Z"
   },
   {
    "duration": 20,
    "start_time": "2021-06-22T15:33:25.540Z"
   },
   {
    "duration": 39,
    "start_time": "2021-06-22T15:33:25.564Z"
   },
   {
    "duration": 14,
    "start_time": "2021-06-22T15:33:25.606Z"
   },
   {
    "duration": 37,
    "start_time": "2021-06-22T15:33:25.623Z"
   },
   {
    "duration": 15,
    "start_time": "2021-06-22T15:33:25.662Z"
   },
   {
    "duration": 12,
    "start_time": "2021-06-22T15:33:25.680Z"
   },
   {
    "duration": 433,
    "start_time": "2021-06-22T15:33:25.695Z"
   },
   {
    "duration": 824,
    "start_time": "2021-06-22T15:33:25.306Z"
   },
   {
    "duration": 815,
    "start_time": "2021-06-22T15:33:25.316Z"
   },
   {
    "duration": 810,
    "start_time": "2021-06-22T15:33:25.323Z"
   },
   {
    "duration": 798,
    "start_time": "2021-06-22T15:33:25.336Z"
   },
   {
    "duration": 789,
    "start_time": "2021-06-22T15:33:25.347Z"
   },
   {
    "duration": 782,
    "start_time": "2021-06-22T15:33:25.355Z"
   },
   {
    "duration": 774,
    "start_time": "2021-06-22T15:33:25.365Z"
   },
   {
    "duration": 6,
    "start_time": "2021-06-22T15:35:18.092Z"
   },
   {
    "duration": 6,
    "start_time": "2021-06-22T15:36:20.948Z"
   },
   {
    "duration": 5,
    "start_time": "2021-06-22T15:36:30.875Z"
   },
   {
    "duration": 5,
    "start_time": "2021-06-22T15:36:40.726Z"
   },
   {
    "duration": 5,
    "start_time": "2021-06-22T15:36:51.285Z"
   },
   {
    "duration": 6,
    "start_time": "2021-06-22T15:36:59.231Z"
   },
   {
    "duration": 6,
    "start_time": "2021-06-22T15:37:04.605Z"
   },
   {
    "duration": 1354,
    "start_time": "2021-06-22T15:41:14.630Z"
   },
   {
    "duration": 40,
    "start_time": "2021-06-22T15:41:15.987Z"
   },
   {
    "duration": 9,
    "start_time": "2021-06-22T15:41:16.030Z"
   },
   {
    "duration": 47,
    "start_time": "2021-06-22T15:41:16.042Z"
   },
   {
    "duration": 13,
    "start_time": "2021-06-22T15:41:16.092Z"
   },
   {
    "duration": 14,
    "start_time": "2021-06-22T15:41:16.107Z"
   },
   {
    "duration": 17,
    "start_time": "2021-06-22T15:41:16.123Z"
   },
   {
    "duration": 6,
    "start_time": "2021-06-22T15:41:16.155Z"
   },
   {
    "duration": 26,
    "start_time": "2021-06-22T15:41:16.164Z"
   },
   {
    "duration": 15,
    "start_time": "2021-06-22T15:41:16.192Z"
   },
   {
    "duration": 9,
    "start_time": "2021-06-22T15:41:16.209Z"
   },
   {
    "duration": 13,
    "start_time": "2021-06-22T15:41:16.220Z"
   },
   {
    "duration": 12,
    "start_time": "2021-06-22T15:41:16.235Z"
   },
   {
    "duration": 11,
    "start_time": "2021-06-22T15:41:16.249Z"
   },
   {
    "duration": 11,
    "start_time": "2021-06-22T15:41:16.262Z"
   },
   {
    "duration": 622,
    "start_time": "2021-06-22T15:41:16.276Z"
   },
   {
    "duration": 8,
    "start_time": "2021-06-22T15:41:16.901Z"
   },
   {
    "duration": 4865,
    "start_time": "2021-06-22T15:41:16.912Z"
   },
   {
    "duration": 15,
    "start_time": "2021-06-22T15:41:21.780Z"
   },
   {
    "duration": 25,
    "start_time": "2021-06-22T15:41:21.798Z"
   },
   {
    "duration": 9,
    "start_time": "2021-06-22T15:41:21.855Z"
   },
   {
    "duration": 96,
    "start_time": "2021-06-22T15:47:33.380Z"
   },
   {
    "duration": 105,
    "start_time": "2021-06-22T15:48:03.552Z"
   },
   {
    "duration": 109,
    "start_time": "2021-06-22T15:48:24.668Z"
   },
   {
    "duration": 74,
    "start_time": "2021-06-22T15:48:34.427Z"
   },
   {
    "duration": 157,
    "start_time": "2021-06-22T15:48:54.495Z"
   },
   {
    "duration": 214,
    "start_time": "2021-06-22T15:49:07.103Z"
   },
   {
    "duration": 292,
    "start_time": "2021-06-22T15:49:33.771Z"
   },
   {
    "duration": 152,
    "start_time": "2021-06-22T15:49:46.168Z"
   },
   {
    "duration": 85,
    "start_time": "2021-06-22T15:50:56.219Z"
   },
   {
    "duration": 94,
    "start_time": "2021-06-22T15:51:17.144Z"
   },
   {
    "duration": 33,
    "start_time": "2021-06-22T15:51:27.223Z"
   },
   {
    "duration": 5,
    "start_time": "2021-06-22T16:01:02.563Z"
   },
   {
    "duration": 4,
    "start_time": "2021-06-22T16:19:27.474Z"
   },
   {
    "duration": 389,
    "start_time": "2021-06-22T16:23:00.992Z"
   },
   {
    "duration": 8,
    "start_time": "2021-06-22T16:23:18.758Z"
   }
  ],
  "kernelspec": {
   "display_name": "Python 3",
   "language": "python",
   "name": "python3"
  },
  "language_info": {
   "codemirror_mode": {
    "name": "ipython",
    "version": 3
   },
   "file_extension": ".py",
   "mimetype": "text/x-python",
   "name": "python",
   "nbconvert_exporter": "python",
   "pygments_lexer": "ipython3",
   "version": "3.8.8"
  },
  "toc": {
   "base_numbering": 1,
   "nav_menu": {},
   "number_sections": true,
   "sideBar": true,
   "skip_h1_title": true,
   "title_cell": "Table of Contents",
   "title_sidebar": "Contents",
   "toc_cell": false,
   "toc_position": {},
   "toc_section_display": true,
   "toc_window_display": false
  }
 },
 "nbformat": 4,
 "nbformat_minor": 2
}
