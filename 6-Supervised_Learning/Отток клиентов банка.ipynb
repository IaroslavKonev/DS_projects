{
 "cells": [
  {
   "cell_type": "markdown",
   "metadata": {
    "toc": true
   },
   "source": [
    "<h1>Содержание<span class=\"tocSkip\"></span></h1>\n",
    "<div class=\"toc\"><ul class=\"toc-item\"><li><span><a href=\"#Подготовка-данных\" data-toc-modified-id=\"Подготовка-данных-1\"><span class=\"toc-item-num\">1&nbsp;&nbsp;</span>Подготовка данных</a></span><ul class=\"toc-item\"><li><span><a href=\"#Знакомство-с-данными\" data-toc-modified-id=\"Знакомство-с-данными-1.1\"><span class=\"toc-item-num\">1.1&nbsp;&nbsp;</span>Знакомство с данными</a></span></li><li><span><a href=\"#Предобработка-данных\" data-toc-modified-id=\"Предобработка-данных-1.2\"><span class=\"toc-item-num\">1.2&nbsp;&nbsp;</span>Предобработка данных</a></span></li><li><span><a href=\"#Исследование-данных:\" data-toc-modified-id=\"Исследование-данных:-1.3\"><span class=\"toc-item-num\">1.3&nbsp;&nbsp;</span>Исследование данных:</a></span></li><li><span><a href=\"#Кодирование\" data-toc-modified-id=\"Кодирование-1.4\"><span class=\"toc-item-num\">1.4&nbsp;&nbsp;</span>Кодирование</a></span></li><li><span><a href=\"#Вывод:\" data-toc-modified-id=\"Вывод:-1.5\"><span class=\"toc-item-num\">1.5&nbsp;&nbsp;</span>Вывод:</a></span></li></ul></li><li><span><a href=\"#Исследование-задачи\" data-toc-modified-id=\"Исследование-задачи-2\"><span class=\"toc-item-num\">2&nbsp;&nbsp;</span>Исследование задачи</a></span><ul class=\"toc-item\"><li><span><a href=\"#Баланс-классов\" data-toc-modified-id=\"Баланс-классов-2.1\"><span class=\"toc-item-num\">2.1&nbsp;&nbsp;</span>Баланс классов</a></span></li><li><span><a href=\"#Разделение-данных-на-обучающую,-валидационную-и-тестовую-выборки.\" data-toc-modified-id=\"Разделение-данных-на-обучающую,-валидационную-и-тестовую-выборки.-2.2\"><span class=\"toc-item-num\">2.2&nbsp;&nbsp;</span>Разделение данных на обучающую, валидационную и тестовую выборки.</a></span></li><li><span><a href=\"#Масштабирование\" data-toc-modified-id=\"Масштабирование-2.3\"><span class=\"toc-item-num\">2.3&nbsp;&nbsp;</span>Масштабирование</a></span></li><li><span><a href=\"#Обучение-модели-при-помощи-LogisticRegression\" data-toc-modified-id=\"Обучение-модели-при-помощи-LogisticRegression-2.4\"><span class=\"toc-item-num\">2.4&nbsp;&nbsp;</span>Обучение модели при помощи LogisticRegression</a></span></li><li><span><a href=\"#Обучение-модели-при-помощи-DecisionTree\" data-toc-modified-id=\"Обучение-модели-при-помощи-DecisionTree-2.5\"><span class=\"toc-item-num\">2.5&nbsp;&nbsp;</span>Обучение модели при помощи DecisionTree</a></span></li><li><span><a href=\"#Обучение-модели-при-помощи-RandomForestClassifier\" data-toc-modified-id=\"Обучение-модели-при-помощи-RandomForestClassifier-2.6\"><span class=\"toc-item-num\">2.6&nbsp;&nbsp;</span>Обучение модели при помощи RandomForestClassifier</a></span></li><li><span><a href=\"#Вывод\" data-toc-modified-id=\"Вывод-2.7\"><span class=\"toc-item-num\">2.7&nbsp;&nbsp;</span>Вывод</a></span></li></ul></li><li><span><a href=\"#Борьба-с-дисбалансом\" data-toc-modified-id=\"Борьба-с-дисбалансом-3\"><span class=\"toc-item-num\">3&nbsp;&nbsp;</span>Борьба с дисбалансом</a></span><ul class=\"toc-item\"><li><span><a href=\"#Взвешивание-классов\" data-toc-modified-id=\"Взвешивание-классов-3.1\"><span class=\"toc-item-num\">3.1&nbsp;&nbsp;</span>Взвешивание классов</a></span><ul class=\"toc-item\"><li><span><a href=\"#Взвешенный-LogisticRegression\" data-toc-modified-id=\"Взвешенный-LogisticRegression-3.1.1\"><span class=\"toc-item-num\">3.1.1&nbsp;&nbsp;</span>Взвешенный LogisticRegression</a></span></li><li><span><a href=\"#Взвешенный-DecisionTree\" data-toc-modified-id=\"Взвешенный-DecisionTree-3.1.2\"><span class=\"toc-item-num\">3.1.2&nbsp;&nbsp;</span>Взвешенный DecisionTree</a></span></li><li><span><a href=\"#Взвешенный-RandomForest\" data-toc-modified-id=\"Взвешенный-RandomForest-3.1.3\"><span class=\"toc-item-num\">3.1.3&nbsp;&nbsp;</span>Взвешенный RandomForest</a></span></li></ul></li><li><span><a href=\"#Увеличение-выборки\" data-toc-modified-id=\"Увеличение-выборки-3.2\"><span class=\"toc-item-num\">3.2&nbsp;&nbsp;</span>Увеличение выборки</a></span><ul class=\"toc-item\"><li><span><a href=\"#Исследование-LogisticRegression\" data-toc-modified-id=\"Исследование-LogisticRegression-3.2.1\"><span class=\"toc-item-num\">3.2.1&nbsp;&nbsp;</span>Исследование LogisticRegression</a></span></li><li><span><a href=\"#Исследование-DecisionTree\" data-toc-modified-id=\"Исследование-DecisionTree-3.2.2\"><span class=\"toc-item-num\">3.2.2&nbsp;&nbsp;</span>Исследование DecisionTree</a></span></li><li><span><a href=\"#Исследование-RandomForest\" data-toc-modified-id=\"Исследование-RandomForest-3.2.3\"><span class=\"toc-item-num\">3.2.3&nbsp;&nbsp;</span>Исследование RandomForest</a></span></li></ul></li><li><span><a href=\"#Вывод:\" data-toc-modified-id=\"Вывод:-3.3\"><span class=\"toc-item-num\">3.3&nbsp;&nbsp;</span>Вывод:</a></span></li></ul></li><li><span><a href=\"#Подбор-гиперпараметров-и-тестирование-модели\" data-toc-modified-id=\"Подбор-гиперпараметров-и-тестирование-модели-4\"><span class=\"toc-item-num\">4&nbsp;&nbsp;</span>Подбор гиперпараметров и тестирование модели</a></span></li><li><span><a href=\"#Вывод\" data-toc-modified-id=\"Вывод-5\"><span class=\"toc-item-num\">5&nbsp;&nbsp;</span>Вывод</a></span></li></ul></div>"
   ]
  },
  {
   "cell_type": "markdown",
   "metadata": {},
   "source": [
    "# Отток клиентов"
   ]
  },
  {
   "cell_type": "markdown",
   "metadata": {},
   "source": [
    "Из «Бета-Банка» стали уходить клиенты. Каждый месяц. Немного, но заметно. Банковские маркетологи посчитали: сохранять текущих клиентов дешевле, чем привлекать новых.\n",
    "\n",
    "Нужно спрогнозировать, уйдёт клиент из банка в ближайшее время или нет. Вам предоставлены исторические данные о поведении клиентов и расторжении договоров с банком. \n",
    "\n",
    "Постройте модель с предельно большим значением *F1*-меры. Чтобы сдать проект успешно, нужно довести метрику до 0.59. Проверьте *F1*-меру на тестовой выборке самостоятельно.\n",
    "\n",
    "Дополнительно измеряйте *AUC-ROC*, сравнивайте её значение с *F1*-мерой.\n",
    "\n",
    "Источник данных: [https://www.kaggle.com/barelydedicated/bank-customer-churn-modeling](https://www.kaggle.com/barelydedicated/bank-customer-churn-modeling)"
   ]
  },
  {
   "cell_type": "markdown",
   "metadata": {},
   "source": [
    "Перед нами стоит задача классификации. Нам понадобятся различные классификаторы и их метрики, а так же вспомогательные инструменты для разделения выборок, кодирования,  Для начала импортируем все необходимые библиотеки:"
   ]
  },
  {
   "cell_type": "code",
   "execution_count": 1,
   "metadata": {},
   "outputs": [],
   "source": [
    "import pandas as pd\n",
    "import numpy as np\n",
    "import matplotlib.pyplot as plt\n",
    "import seaborn as sns\n",
    "from sklearn.tree import DecisionTreeClassifier\n",
    "from sklearn.metrics import accuracy_score\n",
    "from sklearn.model_selection import train_test_split\n",
    "from sklearn.ensemble import RandomForestClassifier\n",
    "from sklearn.linear_model import LogisticRegression\n",
    "from sklearn.preprocessing import OrdinalEncoder\n",
    "from sklearn.preprocessing import StandardScaler\n",
    "from sklearn.metrics import recall_score\n",
    "from sklearn.metrics import precision_score\n",
    "from sklearn.metrics import f1_score\n",
    "from sklearn.utils import shuffle\n",
    "from sklearn.metrics import roc_curve\n",
    "from sklearn.metrics import precision_recall_curve\n",
    "from sklearn.metrics import roc_auc_score\n",
    "\n",
    "#Отключим уведомление масштабирования\n",
    "pd.options.mode.chained_assignment=None"
   ]
  },
  {
   "cell_type": "markdown",
   "metadata": {},
   "source": [
    "## Подготовка данных"
   ]
  },
  {
   "cell_type": "markdown",
   "metadata": {},
   "source": [
    "### Знакомство с данными"
   ]
  },
  {
   "cell_type": "markdown",
   "metadata": {},
   "source": [
    "Создадим наш фрейм и познакомимся данными:"
   ]
  },
  {
   "cell_type": "code",
   "execution_count": 2,
   "metadata": {},
   "outputs": [
    {
     "data": {
      "text/html": [
       "<div>\n",
       "<style scoped>\n",
       "    .dataframe tbody tr th:only-of-type {\n",
       "        vertical-align: middle;\n",
       "    }\n",
       "\n",
       "    .dataframe tbody tr th {\n",
       "        vertical-align: top;\n",
       "    }\n",
       "\n",
       "    .dataframe thead th {\n",
       "        text-align: right;\n",
       "    }\n",
       "</style>\n",
       "<table border=\"1\" class=\"dataframe\">\n",
       "  <thead>\n",
       "    <tr style=\"text-align: right;\">\n",
       "      <th></th>\n",
       "      <th>RowNumber</th>\n",
       "      <th>CustomerId</th>\n",
       "      <th>Surname</th>\n",
       "      <th>CreditScore</th>\n",
       "      <th>Geography</th>\n",
       "      <th>Gender</th>\n",
       "      <th>Age</th>\n",
       "      <th>Tenure</th>\n",
       "      <th>Balance</th>\n",
       "      <th>NumOfProducts</th>\n",
       "      <th>HasCrCard</th>\n",
       "      <th>IsActiveMember</th>\n",
       "      <th>EstimatedSalary</th>\n",
       "      <th>Exited</th>\n",
       "    </tr>\n",
       "  </thead>\n",
       "  <tbody>\n",
       "    <tr>\n",
       "      <th>0</th>\n",
       "      <td>1</td>\n",
       "      <td>15634602</td>\n",
       "      <td>Hargrave</td>\n",
       "      <td>619</td>\n",
       "      <td>France</td>\n",
       "      <td>Female</td>\n",
       "      <td>42</td>\n",
       "      <td>2.0</td>\n",
       "      <td>0.00</td>\n",
       "      <td>1</td>\n",
       "      <td>1</td>\n",
       "      <td>1</td>\n",
       "      <td>101348.88</td>\n",
       "      <td>1</td>\n",
       "    </tr>\n",
       "    <tr>\n",
       "      <th>1</th>\n",
       "      <td>2</td>\n",
       "      <td>15647311</td>\n",
       "      <td>Hill</td>\n",
       "      <td>608</td>\n",
       "      <td>Spain</td>\n",
       "      <td>Female</td>\n",
       "      <td>41</td>\n",
       "      <td>1.0</td>\n",
       "      <td>83807.86</td>\n",
       "      <td>1</td>\n",
       "      <td>0</td>\n",
       "      <td>1</td>\n",
       "      <td>112542.58</td>\n",
       "      <td>0</td>\n",
       "    </tr>\n",
       "    <tr>\n",
       "      <th>2</th>\n",
       "      <td>3</td>\n",
       "      <td>15619304</td>\n",
       "      <td>Onio</td>\n",
       "      <td>502</td>\n",
       "      <td>France</td>\n",
       "      <td>Female</td>\n",
       "      <td>42</td>\n",
       "      <td>8.0</td>\n",
       "      <td>159660.80</td>\n",
       "      <td>3</td>\n",
       "      <td>1</td>\n",
       "      <td>0</td>\n",
       "      <td>113931.57</td>\n",
       "      <td>1</td>\n",
       "    </tr>\n",
       "    <tr>\n",
       "      <th>3</th>\n",
       "      <td>4</td>\n",
       "      <td>15701354</td>\n",
       "      <td>Boni</td>\n",
       "      <td>699</td>\n",
       "      <td>France</td>\n",
       "      <td>Female</td>\n",
       "      <td>39</td>\n",
       "      <td>1.0</td>\n",
       "      <td>0.00</td>\n",
       "      <td>2</td>\n",
       "      <td>0</td>\n",
       "      <td>0</td>\n",
       "      <td>93826.63</td>\n",
       "      <td>0</td>\n",
       "    </tr>\n",
       "    <tr>\n",
       "      <th>4</th>\n",
       "      <td>5</td>\n",
       "      <td>15737888</td>\n",
       "      <td>Mitchell</td>\n",
       "      <td>850</td>\n",
       "      <td>Spain</td>\n",
       "      <td>Female</td>\n",
       "      <td>43</td>\n",
       "      <td>2.0</td>\n",
       "      <td>125510.82</td>\n",
       "      <td>1</td>\n",
       "      <td>1</td>\n",
       "      <td>1</td>\n",
       "      <td>79084.10</td>\n",
       "      <td>0</td>\n",
       "    </tr>\n",
       "  </tbody>\n",
       "</table>\n",
       "</div>"
      ],
      "text/plain": [
       "   RowNumber  CustomerId   Surname  CreditScore Geography  Gender  Age  \\\n",
       "0          1    15634602  Hargrave          619    France  Female   42   \n",
       "1          2    15647311      Hill          608     Spain  Female   41   \n",
       "2          3    15619304      Onio          502    France  Female   42   \n",
       "3          4    15701354      Boni          699    France  Female   39   \n",
       "4          5    15737888  Mitchell          850     Spain  Female   43   \n",
       "\n",
       "   Tenure    Balance  NumOfProducts  HasCrCard  IsActiveMember  \\\n",
       "0     2.0       0.00              1          1               1   \n",
       "1     1.0   83807.86              1          0               1   \n",
       "2     8.0  159660.80              3          1               0   \n",
       "3     1.0       0.00              2          0               0   \n",
       "4     2.0  125510.82              1          1               1   \n",
       "\n",
       "   EstimatedSalary  Exited  \n",
       "0        101348.88       1  \n",
       "1        112542.58       0  \n",
       "2        113931.57       1  \n",
       "3         93826.63       0  \n",
       "4         79084.10       0  "
      ]
     },
     "execution_count": 2,
     "metadata": {},
     "output_type": "execute_result"
    }
   ],
   "source": [
    "df=pd.read_csv('D:\\\\DS\\\\Портфолио\\\\6-Обучение с учителем\\\\Churn.csv')\n",
    "df.head()"
   ]
  },
  {
   "cell_type": "markdown",
   "metadata": {},
   "source": [
    "Столбец RowNumber - не имеет отношения к задаче. По смыслу дублирует индексы строк фрейма со смещением в единицу. Позже уберем данный столбец. Surname, CustomerID так же попробую опустить."
   ]
  },
  {
   "cell_type": "code",
   "execution_count": 3,
   "metadata": {},
   "outputs": [
    {
     "name": "stdout",
     "output_type": "stream",
     "text": [
      "<class 'pandas.core.frame.DataFrame'>\n",
      "RangeIndex: 10000 entries, 0 to 9999\n",
      "Data columns (total 14 columns):\n",
      " #   Column           Non-Null Count  Dtype  \n",
      "---  ------           --------------  -----  \n",
      " 0   RowNumber        10000 non-null  int64  \n",
      " 1   CustomerId       10000 non-null  int64  \n",
      " 2   Surname          10000 non-null  object \n",
      " 3   CreditScore      10000 non-null  int64  \n",
      " 4   Geography        10000 non-null  object \n",
      " 5   Gender           10000 non-null  object \n",
      " 6   Age              10000 non-null  int64  \n",
      " 7   Tenure           9091 non-null   float64\n",
      " 8   Balance          10000 non-null  float64\n",
      " 9   NumOfProducts    10000 non-null  int64  \n",
      " 10  HasCrCard        10000 non-null  int64  \n",
      " 11  IsActiveMember   10000 non-null  int64  \n",
      " 12  EstimatedSalary  10000 non-null  float64\n",
      " 13  Exited           10000 non-null  int64  \n",
      "dtypes: float64(3), int64(8), object(3)\n",
      "memory usage: 1.1+ MB\n"
     ]
    }
   ],
   "source": [
    "df.info()"
   ]
  },
  {
   "cell_type": "markdown",
   "metadata": {},
   "source": [
    "У нас почти нет пропусков в данных за исключением столбца Tenure. Адекватно заполнить данные не получится. В реальности необходимо было обратиться к коллегам за возможностью уточнения недостающих данных. Всего из 10000 тысяч у нас пропущено 909, это меньше 10%. На этапе предобработки - выбросим пустые строки."
   ]
  },
  {
   "cell_type": "code",
   "execution_count": 4,
   "metadata": {},
   "outputs": [
    {
     "data": {
      "text/html": [
       "<div>\n",
       "<style scoped>\n",
       "    .dataframe tbody tr th:only-of-type {\n",
       "        vertical-align: middle;\n",
       "    }\n",
       "\n",
       "    .dataframe tbody tr th {\n",
       "        vertical-align: top;\n",
       "    }\n",
       "\n",
       "    .dataframe thead th {\n",
       "        text-align: right;\n",
       "    }\n",
       "</style>\n",
       "<table border=\"1\" class=\"dataframe\">\n",
       "  <thead>\n",
       "    <tr style=\"text-align: right;\">\n",
       "      <th></th>\n",
       "      <th>RowNumber</th>\n",
       "      <th>CustomerId</th>\n",
       "      <th>CreditScore</th>\n",
       "      <th>Age</th>\n",
       "      <th>Tenure</th>\n",
       "      <th>Balance</th>\n",
       "      <th>NumOfProducts</th>\n",
       "      <th>HasCrCard</th>\n",
       "      <th>IsActiveMember</th>\n",
       "      <th>EstimatedSalary</th>\n",
       "      <th>Exited</th>\n",
       "    </tr>\n",
       "  </thead>\n",
       "  <tbody>\n",
       "    <tr>\n",
       "      <th>count</th>\n",
       "      <td>10000.00000</td>\n",
       "      <td>1.000000e+04</td>\n",
       "      <td>10000.000000</td>\n",
       "      <td>10000.000000</td>\n",
       "      <td>9091.000000</td>\n",
       "      <td>10000.000000</td>\n",
       "      <td>10000.000000</td>\n",
       "      <td>10000.00000</td>\n",
       "      <td>10000.000000</td>\n",
       "      <td>10000.000000</td>\n",
       "      <td>10000.000000</td>\n",
       "    </tr>\n",
       "    <tr>\n",
       "      <th>mean</th>\n",
       "      <td>5000.50000</td>\n",
       "      <td>1.569094e+07</td>\n",
       "      <td>650.528800</td>\n",
       "      <td>38.921800</td>\n",
       "      <td>4.997690</td>\n",
       "      <td>76485.889288</td>\n",
       "      <td>1.530200</td>\n",
       "      <td>0.70550</td>\n",
       "      <td>0.515100</td>\n",
       "      <td>100090.239881</td>\n",
       "      <td>0.203700</td>\n",
       "    </tr>\n",
       "    <tr>\n",
       "      <th>std</th>\n",
       "      <td>2886.89568</td>\n",
       "      <td>7.193619e+04</td>\n",
       "      <td>96.653299</td>\n",
       "      <td>10.487806</td>\n",
       "      <td>2.894723</td>\n",
       "      <td>62397.405202</td>\n",
       "      <td>0.581654</td>\n",
       "      <td>0.45584</td>\n",
       "      <td>0.499797</td>\n",
       "      <td>57510.492818</td>\n",
       "      <td>0.402769</td>\n",
       "    </tr>\n",
       "    <tr>\n",
       "      <th>min</th>\n",
       "      <td>1.00000</td>\n",
       "      <td>1.556570e+07</td>\n",
       "      <td>350.000000</td>\n",
       "      <td>18.000000</td>\n",
       "      <td>0.000000</td>\n",
       "      <td>0.000000</td>\n",
       "      <td>1.000000</td>\n",
       "      <td>0.00000</td>\n",
       "      <td>0.000000</td>\n",
       "      <td>11.580000</td>\n",
       "      <td>0.000000</td>\n",
       "    </tr>\n",
       "    <tr>\n",
       "      <th>25%</th>\n",
       "      <td>2500.75000</td>\n",
       "      <td>1.562853e+07</td>\n",
       "      <td>584.000000</td>\n",
       "      <td>32.000000</td>\n",
       "      <td>2.000000</td>\n",
       "      <td>0.000000</td>\n",
       "      <td>1.000000</td>\n",
       "      <td>0.00000</td>\n",
       "      <td>0.000000</td>\n",
       "      <td>51002.110000</td>\n",
       "      <td>0.000000</td>\n",
       "    </tr>\n",
       "    <tr>\n",
       "      <th>50%</th>\n",
       "      <td>5000.50000</td>\n",
       "      <td>1.569074e+07</td>\n",
       "      <td>652.000000</td>\n",
       "      <td>37.000000</td>\n",
       "      <td>5.000000</td>\n",
       "      <td>97198.540000</td>\n",
       "      <td>1.000000</td>\n",
       "      <td>1.00000</td>\n",
       "      <td>1.000000</td>\n",
       "      <td>100193.915000</td>\n",
       "      <td>0.000000</td>\n",
       "    </tr>\n",
       "    <tr>\n",
       "      <th>75%</th>\n",
       "      <td>7500.25000</td>\n",
       "      <td>1.575323e+07</td>\n",
       "      <td>718.000000</td>\n",
       "      <td>44.000000</td>\n",
       "      <td>7.000000</td>\n",
       "      <td>127644.240000</td>\n",
       "      <td>2.000000</td>\n",
       "      <td>1.00000</td>\n",
       "      <td>1.000000</td>\n",
       "      <td>149388.247500</td>\n",
       "      <td>0.000000</td>\n",
       "    </tr>\n",
       "    <tr>\n",
       "      <th>max</th>\n",
       "      <td>10000.00000</td>\n",
       "      <td>1.581569e+07</td>\n",
       "      <td>850.000000</td>\n",
       "      <td>92.000000</td>\n",
       "      <td>10.000000</td>\n",
       "      <td>250898.090000</td>\n",
       "      <td>4.000000</td>\n",
       "      <td>1.00000</td>\n",
       "      <td>1.000000</td>\n",
       "      <td>199992.480000</td>\n",
       "      <td>1.000000</td>\n",
       "    </tr>\n",
       "  </tbody>\n",
       "</table>\n",
       "</div>"
      ],
      "text/plain": [
       "         RowNumber    CustomerId   CreditScore           Age       Tenure  \\\n",
       "count  10000.00000  1.000000e+04  10000.000000  10000.000000  9091.000000   \n",
       "mean    5000.50000  1.569094e+07    650.528800     38.921800     4.997690   \n",
       "std     2886.89568  7.193619e+04     96.653299     10.487806     2.894723   \n",
       "min        1.00000  1.556570e+07    350.000000     18.000000     0.000000   \n",
       "25%     2500.75000  1.562853e+07    584.000000     32.000000     2.000000   \n",
       "50%     5000.50000  1.569074e+07    652.000000     37.000000     5.000000   \n",
       "75%     7500.25000  1.575323e+07    718.000000     44.000000     7.000000   \n",
       "max    10000.00000  1.581569e+07    850.000000     92.000000    10.000000   \n",
       "\n",
       "             Balance  NumOfProducts    HasCrCard  IsActiveMember  \\\n",
       "count   10000.000000   10000.000000  10000.00000    10000.000000   \n",
       "mean    76485.889288       1.530200      0.70550        0.515100   \n",
       "std     62397.405202       0.581654      0.45584        0.499797   \n",
       "min         0.000000       1.000000      0.00000        0.000000   \n",
       "25%         0.000000       1.000000      0.00000        0.000000   \n",
       "50%     97198.540000       1.000000      1.00000        1.000000   \n",
       "75%    127644.240000       2.000000      1.00000        1.000000   \n",
       "max    250898.090000       4.000000      1.00000        1.000000   \n",
       "\n",
       "       EstimatedSalary        Exited  \n",
       "count     10000.000000  10000.000000  \n",
       "mean     100090.239881      0.203700  \n",
       "std       57510.492818      0.402769  \n",
       "min          11.580000      0.000000  \n",
       "25%       51002.110000      0.000000  \n",
       "50%      100193.915000      0.000000  \n",
       "75%      149388.247500      0.000000  \n",
       "max      199992.480000      1.000000  "
      ]
     },
     "execution_count": 4,
     "metadata": {},
     "output_type": "execute_result"
    }
   ],
   "source": [
    "df.describe()"
   ]
  },
  {
   "cell_type": "markdown",
   "metadata": {},
   "source": [
    "Аномальных или странных отрицательных значений нет"
   ]
  },
  {
   "cell_type": "markdown",
   "metadata": {},
   "source": [
    "**Вывод:**\n",
    "\n",
    "Необходимо выстроить работу следующим образом:\n",
    "\n",
    "**Предобработка:**\n",
    "\n",
    "На этапе предобработки данных нам необходимо убрать 3 ненужных столбца. Убрать строки с пустыми значениями. Поменять тип данных с float на int в столбце Tenure.\n",
    "\n",
    "**Исследование:**\n",
    "\n",
    "На этапе исслеования необходимо посмотреть как распределяются данные.\n",
    "\n",
    "Данные работы необходимо провести до начала кодировки и обучения моделей."
   ]
  },
  {
   "cell_type": "markdown",
   "metadata": {},
   "source": [
    "### Предобработка данных"
   ]
  },
  {
   "cell_type": "code",
   "execution_count": 5,
   "metadata": {},
   "outputs": [
    {
     "data": {
      "text/html": [
       "<div>\n",
       "<style scoped>\n",
       "    .dataframe tbody tr th:only-of-type {\n",
       "        vertical-align: middle;\n",
       "    }\n",
       "\n",
       "    .dataframe tbody tr th {\n",
       "        vertical-align: top;\n",
       "    }\n",
       "\n",
       "    .dataframe thead th {\n",
       "        text-align: right;\n",
       "    }\n",
       "</style>\n",
       "<table border=\"1\" class=\"dataframe\">\n",
       "  <thead>\n",
       "    <tr style=\"text-align: right;\">\n",
       "      <th></th>\n",
       "      <th>CreditScore</th>\n",
       "      <th>Geography</th>\n",
       "      <th>Gender</th>\n",
       "      <th>Age</th>\n",
       "      <th>Tenure</th>\n",
       "      <th>Balance</th>\n",
       "      <th>NumOfProducts</th>\n",
       "      <th>HasCrCard</th>\n",
       "      <th>IsActiveMember</th>\n",
       "      <th>EstimatedSalary</th>\n",
       "      <th>Exited</th>\n",
       "    </tr>\n",
       "  </thead>\n",
       "  <tbody>\n",
       "    <tr>\n",
       "      <th>0</th>\n",
       "      <td>619</td>\n",
       "      <td>France</td>\n",
       "      <td>Female</td>\n",
       "      <td>42</td>\n",
       "      <td>2.0</td>\n",
       "      <td>0.00</td>\n",
       "      <td>1</td>\n",
       "      <td>1</td>\n",
       "      <td>1</td>\n",
       "      <td>101348.88</td>\n",
       "      <td>1</td>\n",
       "    </tr>\n",
       "    <tr>\n",
       "      <th>1</th>\n",
       "      <td>608</td>\n",
       "      <td>Spain</td>\n",
       "      <td>Female</td>\n",
       "      <td>41</td>\n",
       "      <td>1.0</td>\n",
       "      <td>83807.86</td>\n",
       "      <td>1</td>\n",
       "      <td>0</td>\n",
       "      <td>1</td>\n",
       "      <td>112542.58</td>\n",
       "      <td>0</td>\n",
       "    </tr>\n",
       "    <tr>\n",
       "      <th>2</th>\n",
       "      <td>502</td>\n",
       "      <td>France</td>\n",
       "      <td>Female</td>\n",
       "      <td>42</td>\n",
       "      <td>8.0</td>\n",
       "      <td>159660.80</td>\n",
       "      <td>3</td>\n",
       "      <td>1</td>\n",
       "      <td>0</td>\n",
       "      <td>113931.57</td>\n",
       "      <td>1</td>\n",
       "    </tr>\n",
       "    <tr>\n",
       "      <th>3</th>\n",
       "      <td>699</td>\n",
       "      <td>France</td>\n",
       "      <td>Female</td>\n",
       "      <td>39</td>\n",
       "      <td>1.0</td>\n",
       "      <td>0.00</td>\n",
       "      <td>2</td>\n",
       "      <td>0</td>\n",
       "      <td>0</td>\n",
       "      <td>93826.63</td>\n",
       "      <td>0</td>\n",
       "    </tr>\n",
       "    <tr>\n",
       "      <th>4</th>\n",
       "      <td>850</td>\n",
       "      <td>Spain</td>\n",
       "      <td>Female</td>\n",
       "      <td>43</td>\n",
       "      <td>2.0</td>\n",
       "      <td>125510.82</td>\n",
       "      <td>1</td>\n",
       "      <td>1</td>\n",
       "      <td>1</td>\n",
       "      <td>79084.10</td>\n",
       "      <td>0</td>\n",
       "    </tr>\n",
       "  </tbody>\n",
       "</table>\n",
       "</div>"
      ],
      "text/plain": [
       "   CreditScore Geography  Gender  Age  Tenure    Balance  NumOfProducts  \\\n",
       "0          619    France  Female   42     2.0       0.00              1   \n",
       "1          608     Spain  Female   41     1.0   83807.86              1   \n",
       "2          502    France  Female   42     8.0  159660.80              3   \n",
       "3          699    France  Female   39     1.0       0.00              2   \n",
       "4          850     Spain  Female   43     2.0  125510.82              1   \n",
       "\n",
       "   HasCrCard  IsActiveMember  EstimatedSalary  Exited  \n",
       "0          1               1        101348.88       1  \n",
       "1          0               1        112542.58       0  \n",
       "2          1               0        113931.57       1  \n",
       "3          0               0         93826.63       0  \n",
       "4          1               1         79084.10       0  "
      ]
     },
     "execution_count": 5,
     "metadata": {},
     "output_type": "execute_result"
    }
   ],
   "source": [
    "#Убираем лишние столбцы\n",
    "df=df.drop(['RowNumber', 'CustomerId', 'Surname'], axis=1)\n",
    "\n",
    "#проверяем\n",
    "df.head()"
   ]
  },
  {
   "cell_type": "code",
   "execution_count": 6,
   "metadata": {},
   "outputs": [
    {
     "data": {
      "text/plain": [
       "France     5014\n",
       "Germany    2509\n",
       "Spain      2477\n",
       "Name: Geography, dtype: int64"
      ]
     },
     "execution_count": 6,
     "metadata": {},
     "output_type": "execute_result"
    }
   ],
   "source": [
    "df['Geography'].value_counts()"
   ]
  },
  {
   "cell_type": "code",
   "execution_count": 7,
   "metadata": {},
   "outputs": [
    {
     "data": {
      "text/plain": [
       "0"
      ]
     },
     "execution_count": 7,
     "metadata": {},
     "output_type": "execute_result"
    }
   ],
   "source": [
    "#Убираем пустые значения\n",
    "df.dropna(inplace = True)\n",
    "\n",
    "#Проверяем\n",
    "df['Tenure'].isnull().sum()"
   ]
  },
  {
   "cell_type": "code",
   "execution_count": 8,
   "metadata": {},
   "outputs": [
    {
     "name": "stdout",
     "output_type": "stream",
     "text": [
      "<class 'pandas.core.frame.DataFrame'>\n",
      "Int64Index: 9091 entries, 0 to 9998\n",
      "Data columns (total 11 columns):\n",
      " #   Column           Non-Null Count  Dtype  \n",
      "---  ------           --------------  -----  \n",
      " 0   CreditScore      9091 non-null   int64  \n",
      " 1   Geography        9091 non-null   object \n",
      " 2   Gender           9091 non-null   object \n",
      " 3   Age              9091 non-null   int64  \n",
      " 4   Tenure           9091 non-null   int32  \n",
      " 5   Balance          9091 non-null   float64\n",
      " 6   NumOfProducts    9091 non-null   int64  \n",
      " 7   HasCrCard        9091 non-null   int64  \n",
      " 8   IsActiveMember   9091 non-null   int64  \n",
      " 9   EstimatedSalary  9091 non-null   float64\n",
      " 10  Exited           9091 non-null   int64  \n",
      "dtypes: float64(2), int32(1), int64(6), object(2)\n",
      "memory usage: 816.8+ KB\n"
     ]
    }
   ],
   "source": [
    "#меняем тип данных с float на int\n",
    "df['Tenure']=df['Tenure'].astype(int)\n",
    "\n",
    "#проверяем\n",
    "df.info()"
   ]
  },
  {
   "cell_type": "markdown",
   "metadata": {},
   "source": [
    "**Вывод:**\n",
    "Мы провели работу по предобработке данных. У нас чистые данные с которыми можно работать дальше"
   ]
  },
  {
   "cell_type": "markdown",
   "metadata": {},
   "source": [
    "### Исследование данных:"
   ]
  },
  {
   "cell_type": "markdown",
   "metadata": {},
   "source": [
    "В этоей главе мы просто посмотрим как распределяются данные."
   ]
  },
  {
   "cell_type": "code",
   "execution_count": 9,
   "metadata": {},
   "outputs": [
    {
     "data": {
      "text/plain": [
       "array([[<AxesSubplot:title={'center':'CreditScore'}>,\n",
       "        <AxesSubplot:title={'center':'Age'}>,\n",
       "        <AxesSubplot:title={'center':'Tenure'}>],\n",
       "       [<AxesSubplot:title={'center':'Balance'}>,\n",
       "        <AxesSubplot:title={'center':'NumOfProducts'}>,\n",
       "        <AxesSubplot:title={'center':'HasCrCard'}>],\n",
       "       [<AxesSubplot:title={'center':'IsActiveMember'}>,\n",
       "        <AxesSubplot:title={'center':'EstimatedSalary'}>,\n",
       "        <AxesSubplot:title={'center':'Exited'}>]], dtype=object)"
      ]
     },
     "execution_count": 9,
     "metadata": {},
     "output_type": "execute_result"
    },
    {
     "data": {
      "image/png": "[encoded data removed]",
      "text/plain": [
       "<Figure size 1080x1080 with 9 Axes>"
      ]
     },
     "metadata": {
      "needs_background": "light"
     },
     "output_type": "display_data"
    }
   ],
   "source": [
    "df.hist(figsize=(15,15))"
   ]
  },
  {
   "cell_type": "code",
   "execution_count": 10,
   "metadata": {},
   "outputs": [
    {
     "data": {
      "text/plain": [
       "Text(0.5, 1.0, 'Correlation Heatmap')"
      ]
     },
     "execution_count": 10,
     "metadata": {},
     "output_type": "execute_result"
    },
    {
     "data": {
      "image/png": "[encoded data removed]",
      "text/plain": [
       "<Figure size 1440x1440 with 2 Axes>"
      ]
     },
     "metadata": {
      "needs_background": "light"
     },
     "output_type": "display_data"
    }
   ],
   "source": [
    "plt.figure(figsize=(20, 20))\n",
    "heatmap = sns.heatmap(df.corr(), vmin=-1, vmax=1, annot=True, cmap='BrBG')\n",
    "heatmap.set_title('Correlation Heatmap', fontdict={'fontsize':18}, pad=12)"
   ]
  },
  {
   "cell_type": "markdown",
   "metadata": {},
   "source": [
    "**Вывод:** \n",
    "\n",
    "Интересно, возраст, баланс, кредитный скоринг - распределяются \"нормально\". Tenure - распределен равномерно. Подозреваю, что никогда не будет распределятся нормально, так как банк не заинтересован в уходе клиентов и нацелен на увеличение и удержание клиентов, следоватеьно с каждым годом их должно становиться больше и больше. Интересная ситуация с балансом. Вероятно этот всплеск вызван неумением/нежеланием людей накапливать состояния. Так как любая значимая сумма чаще всего тратится на что-то, а на счетах держат какую-то небольщую сумму и так как таких большинство - мы можем наблюдать всплеск, после всплеска мы видим нормальное распределение. Из матрицы корреляции мы видим, что у нас есть связь ухода клиента с возрастом и с балансом на счете. И присутствует обратня корреляция с активностью клиента. Кредитный скоринг, период обслуживания количество продуктов, аличие кредитной карты и предполагаемая зарплата имеют почти нулевую зависимость."
   ]
  },
  {
   "cell_type": "markdown",
   "metadata": {},
   "source": [
    "### Кодирование"
   ]
  },
  {
   "cell_type": "markdown",
   "metadata": {},
   "source": [
    "Мы можем использовать OHE для Gender и  Geography. Приступим. Geography можно было кодировать через OE, но данные потеряют универсальность, так как для линейных моделей OE создат порядок в днных которого могло не быть. Решил везде использовать OHE Так как добавится всего 2 столбца с данными."
   ]
  },
  {
   "cell_type": "code",
   "execution_count": 11,
   "metadata": {},
   "outputs": [
    {
     "data": {
      "text/html": [
       "<div>\n",
       "<style scoped>\n",
       "    .dataframe tbody tr th:only-of-type {\n",
       "        vertical-align: middle;\n",
       "    }\n",
       "\n",
       "    .dataframe tbody tr th {\n",
       "        vertical-align: top;\n",
       "    }\n",
       "\n",
       "    .dataframe thead th {\n",
       "        text-align: right;\n",
       "    }\n",
       "</style>\n",
       "<table border=\"1\" class=\"dataframe\">\n",
       "  <thead>\n",
       "    <tr style=\"text-align: right;\">\n",
       "      <th></th>\n",
       "      <th>CreditScore</th>\n",
       "      <th>Age</th>\n",
       "      <th>Tenure</th>\n",
       "      <th>Balance</th>\n",
       "      <th>NumOfProducts</th>\n",
       "      <th>HasCrCard</th>\n",
       "      <th>IsActiveMember</th>\n",
       "      <th>EstimatedSalary</th>\n",
       "      <th>Exited</th>\n",
       "      <th>Gender_Male</th>\n",
       "      <th>Geography_France</th>\n",
       "      <th>Geography_Germany</th>\n",
       "      <th>Geography_Spain</th>\n",
       "    </tr>\n",
       "  </thead>\n",
       "  <tbody>\n",
       "    <tr>\n",
       "      <th>0</th>\n",
       "      <td>619</td>\n",
       "      <td>42</td>\n",
       "      <td>2</td>\n",
       "      <td>0.00</td>\n",
       "      <td>1</td>\n",
       "      <td>1</td>\n",
       "      <td>1</td>\n",
       "      <td>101348.88</td>\n",
       "      <td>1</td>\n",
       "      <td>0</td>\n",
       "      <td>1</td>\n",
       "      <td>0</td>\n",
       "      <td>0</td>\n",
       "    </tr>\n",
       "    <tr>\n",
       "      <th>1</th>\n",
       "      <td>608</td>\n",
       "      <td>41</td>\n",
       "      <td>1</td>\n",
       "      <td>83807.86</td>\n",
       "      <td>1</td>\n",
       "      <td>0</td>\n",
       "      <td>1</td>\n",
       "      <td>112542.58</td>\n",
       "      <td>0</td>\n",
       "      <td>0</td>\n",
       "      <td>0</td>\n",
       "      <td>0</td>\n",
       "      <td>1</td>\n",
       "    </tr>\n",
       "    <tr>\n",
       "      <th>2</th>\n",
       "      <td>502</td>\n",
       "      <td>42</td>\n",
       "      <td>8</td>\n",
       "      <td>159660.80</td>\n",
       "      <td>3</td>\n",
       "      <td>1</td>\n",
       "      <td>0</td>\n",
       "      <td>113931.57</td>\n",
       "      <td>1</td>\n",
       "      <td>0</td>\n",
       "      <td>1</td>\n",
       "      <td>0</td>\n",
       "      <td>0</td>\n",
       "    </tr>\n",
       "    <tr>\n",
       "      <th>3</th>\n",
       "      <td>699</td>\n",
       "      <td>39</td>\n",
       "      <td>1</td>\n",
       "      <td>0.00</td>\n",
       "      <td>2</td>\n",
       "      <td>0</td>\n",
       "      <td>0</td>\n",
       "      <td>93826.63</td>\n",
       "      <td>0</td>\n",
       "      <td>0</td>\n",
       "      <td>1</td>\n",
       "      <td>0</td>\n",
       "      <td>0</td>\n",
       "    </tr>\n",
       "    <tr>\n",
       "      <th>4</th>\n",
       "      <td>850</td>\n",
       "      <td>43</td>\n",
       "      <td>2</td>\n",
       "      <td>125510.82</td>\n",
       "      <td>1</td>\n",
       "      <td>1</td>\n",
       "      <td>1</td>\n",
       "      <td>79084.10</td>\n",
       "      <td>0</td>\n",
       "      <td>0</td>\n",
       "      <td>0</td>\n",
       "      <td>0</td>\n",
       "      <td>1</td>\n",
       "    </tr>\n",
       "  </tbody>\n",
       "</table>\n",
       "</div>"
      ],
      "text/plain": [
       "   CreditScore  Age  Tenure    Balance  NumOfProducts  HasCrCard  \\\n",
       "0          619   42       2       0.00              1          1   \n",
       "1          608   41       1   83807.86              1          0   \n",
       "2          502   42       8  159660.80              3          1   \n",
       "3          699   39       1       0.00              2          0   \n",
       "4          850   43       2  125510.82              1          1   \n",
       "\n",
       "   IsActiveMember  EstimatedSalary  Exited  Gender_Male  Geography_France  \\\n",
       "0               1        101348.88       1            0                 1   \n",
       "1               1        112542.58       0            0                 0   \n",
       "2               0        113931.57       1            0                 1   \n",
       "3               0         93826.63       0            0                 1   \n",
       "4               1         79084.10       0            0                 0   \n",
       "\n",
       "   Geography_Germany  Geography_Spain  \n",
       "0                  0                0  \n",
       "1                  0                1  \n",
       "2                  0                0  \n",
       "3                  0                0  \n",
       "4                  0                1  "
      ]
     },
     "execution_count": 11,
     "metadata": {},
     "output_type": "execute_result"
    }
   ],
   "source": [
    "#применяем OHE\n",
    "df=pd.get_dummies(df, columns=['Gender'], drop_first=True)\n",
    "df=pd.get_dummies(df, columns=['Geography'])\n",
    "\n",
    "#проверяем\n",
    "df.head()"
   ]
  },
  {
   "cell_type": "markdown",
   "metadata": {},
   "source": [
    "### Вывод:"
   ]
  },
  {
   "cell_type": "markdown",
   "metadata": {},
   "source": [
    "Мы познакомились и предобработали данные, проверили распределение. Никаких серьезных аномалий не выявлено. можем приступать к подготовке данных для обучения и непосредственно к обучению моделей."
   ]
  },
  {
   "cell_type": "markdown",
   "metadata": {},
   "source": [
    "## Исследование задачи"
   ]
  },
  {
   "cell_type": "markdown",
   "metadata": {},
   "source": [
    "В данной главе, мы будем заниматься исследованием нашей задачи и выявлением \"подводных\" камней в данных, начнем работу с алгоритма LogisticRegression. Но сперва исследуем балансировку классов."
   ]
  },
  {
   "cell_type": "markdown",
   "metadata": {},
   "source": [
    "### Баланс классов"
   ]
  },
  {
   "cell_type": "code",
   "execution_count": 12,
   "metadata": {},
   "outputs": [
    {
     "data": {
      "text/plain": [
       "<AxesSubplot:>"
      ]
     },
     "execution_count": 12,
     "metadata": {},
     "output_type": "execute_result"
    },
    {
     "data": {
      "image/png": "[encoded data removed]",
      "text/plain": [
       "<Figure size 432x288 with 1 Axes>"
      ]
     },
     "metadata": {
      "needs_background": "light"
     },
     "output_type": "display_data"
    }
   ],
   "source": [
    "#проверим доли нулей и единиц в целевом столбце:\n",
    "class_frequency=df['Exited'].value_counts(normalize=2/len(df))\n",
    "df['Exited'].hist()"
   ]
  },
  {
   "cell_type": "code",
   "execution_count": 13,
   "metadata": {},
   "outputs": [
    {
     "data": {
      "text/plain": [
       "0    0.796062\n",
       "1    0.203938\n",
       "Name: Exited, dtype: float64"
      ]
     },
     "execution_count": 13,
     "metadata": {},
     "output_type": "execute_result"
    }
   ],
   "source": [
    "class_frequency"
   ]
  },
  {
   "cell_type": "markdown",
   "metadata": {},
   "source": [
    "**Вывод:**\n",
    "\n",
    "Мы видим что доля положительных ответов почти в 4 раза меньше доли отрицательных. Предполагаю, что если обучать модель на таких данных - мы получим переобученную, не адекватную модель. Но давайте попробуем и проанализируем результаты."
   ]
  },
  {
   "cell_type": "markdown",
   "metadata": {},
   "source": [
    "### Разделение данных на обучающую, валидационную и тестовую выборки."
   ]
  },
  {
   "cell_type": "markdown",
   "metadata": {},
   "source": [
    "Итак, сперва мы отделим тестовую выборку, а затем большую часть данных еще раз разделим на обучающую и валидационную."
   ]
  },
  {
   "cell_type": "code",
   "execution_count": 14,
   "metadata": {},
   "outputs": [],
   "source": [
    "#Создаем массивы признаков и целевого значения:\n",
    "features=df.drop(['Exited'], axis=1)\n",
    "target=df['Exited']"
   ]
  },
  {
   "cell_type": "code",
   "execution_count": 15,
   "metadata": {},
   "outputs": [],
   "source": [
    "#Разделяем выборки на промежуточную и тестовую\n",
    "features_df, features_test, target_df, target_test=train_test_split(\n",
    "    features, target, test_size=0.25, random_state=1123, stratify=target)"
   ]
  },
  {
   "cell_type": "markdown",
   "metadata": {},
   "source": [
    "Отлично, теперь у нас есть тестовый набор данных:\n",
    "\n",
    "-features_test\n",
    "\n",
    "-target_test\n",
    "\n",
    "проверим, размерности всех массивов данных:"
   ]
  },
  {
   "cell_type": "code",
   "execution_count": 16,
   "metadata": {},
   "outputs": [
    {
     "data": {
      "text/plain": [
       "(6818, 12)"
      ]
     },
     "execution_count": 16,
     "metadata": {},
     "output_type": "execute_result"
    }
   ],
   "source": [
    "features_df.shape"
   ]
  },
  {
   "cell_type": "code",
   "execution_count": 17,
   "metadata": {},
   "outputs": [
    {
     "data": {
      "text/plain": [
       "(6818,)"
      ]
     },
     "execution_count": 17,
     "metadata": {},
     "output_type": "execute_result"
    }
   ],
   "source": [
    "target_df.shape"
   ]
  },
  {
   "cell_type": "code",
   "execution_count": 18,
   "metadata": {},
   "outputs": [
    {
     "data": {
      "text/plain": [
       "(2273, 12)"
      ]
     },
     "execution_count": 18,
     "metadata": {},
     "output_type": "execute_result"
    }
   ],
   "source": [
    "features_test.shape"
   ]
  },
  {
   "cell_type": "code",
   "execution_count": 19,
   "metadata": {},
   "outputs": [
    {
     "data": {
      "text/plain": [
       "(2273,)"
      ]
     },
     "execution_count": 19,
     "metadata": {},
     "output_type": "execute_result"
    }
   ],
   "source": [
    "target_test.shape"
   ]
  },
  {
   "cell_type": "markdown",
   "metadata": {},
   "source": [
    "Отлично, мы ничего не потеряли, давайте теперь промежуточную выборку будем делить на обучающую и валидационную:"
   ]
  },
  {
   "cell_type": "code",
   "execution_count": 20,
   "metadata": {},
   "outputs": [],
   "source": [
    "features_train, features_valid, target_train, target_valid=train_test_split(\n",
    "    features_df, target_df, test_size=0.25, random_state=1123, stratify=target_df)"
   ]
  },
  {
   "cell_type": "markdown",
   "metadata": {},
   "source": [
    "Давайте проверим размерности:"
   ]
  },
  {
   "cell_type": "code",
   "execution_count": 21,
   "metadata": {},
   "outputs": [
    {
     "data": {
      "text/plain": [
       "(5113, 12)"
      ]
     },
     "execution_count": 21,
     "metadata": {},
     "output_type": "execute_result"
    }
   ],
   "source": [
    "features_train.shape"
   ]
  },
  {
   "cell_type": "code",
   "execution_count": 22,
   "metadata": {},
   "outputs": [
    {
     "data": {
      "text/plain": [
       "(5113,)"
      ]
     },
     "execution_count": 22,
     "metadata": {},
     "output_type": "execute_result"
    }
   ],
   "source": [
    "target_train.shape"
   ]
  },
  {
   "cell_type": "code",
   "execution_count": 23,
   "metadata": {},
   "outputs": [
    {
     "data": {
      "text/plain": [
       "(1705, 12)"
      ]
     },
     "execution_count": 23,
     "metadata": {},
     "output_type": "execute_result"
    }
   ],
   "source": [
    "features_valid.shape"
   ]
  },
  {
   "cell_type": "code",
   "execution_count": 24,
   "metadata": {},
   "outputs": [
    {
     "data": {
      "text/plain": [
       "(1705,)"
      ]
     },
     "execution_count": 24,
     "metadata": {},
     "output_type": "execute_result"
    }
   ],
   "source": [
    "target_valid.shape"
   ]
  },
  {
   "cell_type": "markdown",
   "metadata": {},
   "source": [
    "С размерностями все в порядке, давайте приступать к масштабированию данных."
   ]
  },
  {
   "cell_type": "markdown",
   "metadata": {},
   "source": [
    "### Масштабирование"
   ]
  },
  {
   "cell_type": "markdown",
   "metadata": {},
   "source": [
    "Масштабированию должны подвергаться возраст, баланс, зарплата, кредитный скоринг, длительность обслуживания. По сути человек в лобом возрасте, с любым кошельком, зарплатой, и кредитной историей может отказаться от обслуживания, вне зависимости от того как долго он пользовался услугами банка."
   ]
  },
  {
   "cell_type": "code",
   "execution_count": 25,
   "metadata": {},
   "outputs": [
    {
     "data": {
      "text/html": [
       "<div>\n",
       "<style scoped>\n",
       "    .dataframe tbody tr th:only-of-type {\n",
       "        vertical-align: middle;\n",
       "    }\n",
       "\n",
       "    .dataframe tbody tr th {\n",
       "        vertical-align: top;\n",
       "    }\n",
       "\n",
       "    .dataframe thead th {\n",
       "        text-align: right;\n",
       "    }\n",
       "</style>\n",
       "<table border=\"1\" class=\"dataframe\">\n",
       "  <thead>\n",
       "    <tr style=\"text-align: right;\">\n",
       "      <th></th>\n",
       "      <th>CreditScore</th>\n",
       "      <th>Age</th>\n",
       "      <th>Tenure</th>\n",
       "      <th>Balance</th>\n",
       "      <th>NumOfProducts</th>\n",
       "      <th>HasCrCard</th>\n",
       "      <th>IsActiveMember</th>\n",
       "      <th>EstimatedSalary</th>\n",
       "      <th>Gender_Male</th>\n",
       "      <th>Geography_France</th>\n",
       "      <th>Geography_Germany</th>\n",
       "      <th>Geography_Spain</th>\n",
       "    </tr>\n",
       "  </thead>\n",
       "  <tbody>\n",
       "    <tr>\n",
       "      <th>4850</th>\n",
       "      <td>-1.413852</td>\n",
       "      <td>-1.140398</td>\n",
       "      <td>1.361541</td>\n",
       "      <td>-1.226434</td>\n",
       "      <td>1</td>\n",
       "      <td>1</td>\n",
       "      <td>0</td>\n",
       "      <td>0.735162</td>\n",
       "      <td>1</td>\n",
       "      <td>1</td>\n",
       "      <td>0</td>\n",
       "      <td>0</td>\n",
       "    </tr>\n",
       "    <tr>\n",
       "      <th>4619</th>\n",
       "      <td>0.587063</td>\n",
       "      <td>0.770292</td>\n",
       "      <td>-1.726994</td>\n",
       "      <td>0.809163</td>\n",
       "      <td>2</td>\n",
       "      <td>0</td>\n",
       "      <td>1</td>\n",
       "      <td>0.562347</td>\n",
       "      <td>0</td>\n",
       "      <td>1</td>\n",
       "      <td>0</td>\n",
       "      <td>0</td>\n",
       "    </tr>\n",
       "    <tr>\n",
       "      <th>9386</th>\n",
       "      <td>0.680856</td>\n",
       "      <td>-0.567191</td>\n",
       "      <td>1.704711</td>\n",
       "      <td>0.416743</td>\n",
       "      <td>2</td>\n",
       "      <td>1</td>\n",
       "      <td>0</td>\n",
       "      <td>-1.339345</td>\n",
       "      <td>0</td>\n",
       "      <td>0</td>\n",
       "      <td>1</td>\n",
       "      <td>0</td>\n",
       "    </tr>\n",
       "    <tr>\n",
       "      <th>5887</th>\n",
       "      <td>0.243156</td>\n",
       "      <td>-0.567191</td>\n",
       "      <td>-1.726994</td>\n",
       "      <td>1.054021</td>\n",
       "      <td>1</td>\n",
       "      <td>1</td>\n",
       "      <td>0</td>\n",
       "      <td>-0.617157</td>\n",
       "      <td>0</td>\n",
       "      <td>0</td>\n",
       "      <td>1</td>\n",
       "      <td>0</td>\n",
       "    </tr>\n",
       "    <tr>\n",
       "      <th>2954</th>\n",
       "      <td>-1.184581</td>\n",
       "      <td>-0.567191</td>\n",
       "      <td>-0.011141</td>\n",
       "      <td>-1.226434</td>\n",
       "      <td>2</td>\n",
       "      <td>1</td>\n",
       "      <td>0</td>\n",
       "      <td>0.462178</td>\n",
       "      <td>0</td>\n",
       "      <td>1</td>\n",
       "      <td>0</td>\n",
       "      <td>0</td>\n",
       "    </tr>\n",
       "  </tbody>\n",
       "</table>\n",
       "</div>"
      ],
      "text/plain": [
       "      CreditScore       Age    Tenure   Balance  NumOfProducts  HasCrCard  \\\n",
       "4850    -1.413852 -1.140398  1.361541 -1.226434              1          1   \n",
       "4619     0.587063  0.770292 -1.726994  0.809163              2          0   \n",
       "9386     0.680856 -0.567191  1.704711  0.416743              2          1   \n",
       "5887     0.243156 -0.567191 -1.726994  1.054021              1          1   \n",
       "2954    -1.184581 -0.567191 -0.011141 -1.226434              2          1   \n",
       "\n",
       "      IsActiveMember  EstimatedSalary  Gender_Male  Geography_France  \\\n",
       "4850               0         0.735162            1                 1   \n",
       "4619               1         0.562347            0                 1   \n",
       "9386               0        -1.339345            0                 0   \n",
       "5887               0        -0.617157            0                 0   \n",
       "2954               0         0.462178            0                 1   \n",
       "\n",
       "      Geography_Germany  Geography_Spain  \n",
       "4850                  0                0  \n",
       "4619                  0                0  \n",
       "9386                  1                0  \n",
       "5887                  1                0  \n",
       "2954                  0                0  "
      ]
     },
     "execution_count": 25,
     "metadata": {},
     "output_type": "execute_result"
    }
   ],
   "source": [
    "#Создаем лист с масштабируемыми столбцами\n",
    "scaler_features=['Age','Balance','CreditScore','EstimatedSalary','Tenure']\n",
    "\n",
    "#Создаем структуру\n",
    "scaler=StandardScaler()\n",
    "scaler.fit(features_train[scaler_features])\n",
    "\n",
    "#Трансофрмируем данные\n",
    "features_train[scaler_features]=scaler.transform(features_train[scaler_features])\n",
    "features_valid[scaler_features]=scaler.transform(features_valid[scaler_features])\n",
    "\n",
    "features_train.head()"
   ]
  },
  {
   "cell_type": "markdown",
   "metadata": {},
   "source": [
    "### Обучение модели при помощи LogisticRegression"
   ]
  },
  {
   "cell_type": "markdown",
   "metadata": {},
   "source": [
    "Для последующей работы нам понадобится написать функцию при помощи который мы будем обучать модель и сразу же выводить на экран все необходимые графики, метрики и гиперпараметры. Давайте напишем её."
   ]
  },
  {
   "cell_type": "code",
   "execution_count": 26,
   "metadata": {},
   "outputs": [
    {
     "name": "stdout",
     "output_type": "stream",
     "text": [
      "Строка документации: \n",
      " \n",
      "    Вычисляет лучшие гиперпараметры выбранного классификатора, вычисляет метрики, строит PR/ROC-кривые\n",
      "    \n",
      "    Внутри зашито обучение модели, предсказание на валидационной, тренировочной выборках, а так же\n",
      "    accuracy константной модели.\n",
      "    \n",
      "    В функции используются 3 алгоритма классификации:\n",
      "    LogisticRegression\n",
      "    DecisionTree\n",
      "    RandomForest\n",
      "    \n",
      "    ======================================\n",
      "    \n",
      "    Аргументы:\n",
      "                    algo (Object): Алгоритм классификации в соответствии с библиотекой SkLearn\n",
      "                    rand_st (Int): Коэффициент рандомизации\n",
      "                    balance (Object/String): None/'balanced' - взвешивание классов\n",
      "                    f_train (DataFrame): датафрейм признаков тренировочной выборки\n",
      "                    t_train (DataFrame): датафрейм целевого признака тренировочной выборки\n",
      "                    f_valid (DataFrame): датафрейм признаков валидационной/тестовой выборки\n",
      "                    t_valid (DataFrame): датафрейм целевого признака валидационной/тестовой выборки\n",
      "                    с_index (Int): С-коэффициент логистической регресси, если алгоритм другой - ставь ноль\n",
      "                    depth_index (Int): глубина дерева для DT и RF, если алгоритм другой - ставь ноль\n",
      "                    min_samples_split_index (Int): количество \"узлов\" в DT, если алгоритм другой - ставь ноль\n",
      "                    min_samples_leaf_index (Int):  количество \"листьев\" в DT, если алгоритм другой - ставь ноль\n",
      "                    est_index (Int): максимальное количество дервьев в \"Лесу\".\n",
      "                    step (Int): Шаг с которым подбирается лучший гиперпараметр количества деревьев в \"Лесу\"\n",
      "                    \n",
      "\n",
      "    Возвращает:\n",
      "                    Выводит на экран гиперпараметры и метрики (String)\n",
      "                    Выводит на экран график PR-кривой (Object)\n",
      "                    Выводит на экран график ROC-кривой (Object)\n",
      "                    \n",
      "    \n"
     ]
    }
   ],
   "source": [
    "def Classifier(algo, rand_st, balance, \n",
    "                    f_train, t_train, f_valid, t_valid,\n",
    "                    c_index, \n",
    "                    depth_index, min_samples_split_index, min_samples_leaf_index, \n",
    "                    est_index, step):\n",
    "    \n",
    "    '''\n",
    "    Вычисляет лучшие гиперпараметры выбранного классификатора, вычисляет метрики, строит PR/ROC-кривые\n",
    "    \n",
    "    Внутри зашито обучение модели, предсказание на валидационной, тренировочной выборках, а так же\n",
    "    accuracy константной модели.\n",
    "    \n",
    "    В функции используются 3 алгоритма классификации:\n",
    "    LogisticRegression\n",
    "    DecisionTree\n",
    "    RandomForest\n",
    "    \n",
    "    ======================================\n",
    "    \n",
    "    Аргументы:\n",
    "                    algo (Object): Алгоритм классификации в соответствии с библиотекой SkLearn\n",
    "                    rand_st (Int): Коэффициент рандомизации\n",
    "                    balance (Object/String): None/'balanced' - взвешивание классов\n",
    "                    f_train (DataFrame): датафрейм признаков тренировочной выборки\n",
    "                    t_train (DataFrame): датафрейм целевого признака тренировочной выборки\n",
    "                    f_valid (DataFrame): датафрейм признаков валидационной/тестовой выборки\n",
    "                    t_valid (DataFrame): датафрейм целевого признака валидационной/тестовой выборки\n",
    "                    с_index (Int): С-коэффициент логистической регресси, если алгоритм другой - ставь ноль\n",
    "                    depth_index (Int): глубина дерева для DT и RF, если алгоритм другой - ставь ноль\n",
    "                    min_samples_split_index (Int): количество \"узлов\" в DT, если алгоритм другой - ставь ноль\n",
    "                    min_samples_leaf_index (Int):  количество \"листьев\" в DT, если алгоритм другой - ставь ноль\n",
    "                    est_index (Int): максимальное количество дервьев в \"Лесу\".\n",
    "                    step (Int): Шаг с которым подбирается лучший гиперпараметр количества деревьев в \"Лесу\"\n",
    "                    \n",
    "\n",
    "    Возвращает:\n",
    "                    Выводит на экран гиперпараметры и метрики (String)\n",
    "                    Выводит на экран график PR-кривой (Object)\n",
    "                    Выводит на экран график ROC-кривой (Object)\n",
    "                    \n",
    "    '''    \n",
    "    \n",
    "    #Предсказание константной модели\n",
    "    predict_constant_model=pd.Series(t_valid.median(), index=t_valid.index)\n",
    "    \n",
    "    #нулевая модель и гиперпараметры\n",
    "    best_model=None\n",
    "    best_c=0\n",
    "    best_dt_depth=0\n",
    "    best_dt_mss=0\n",
    "    best_dt_msl=0\n",
    "    \n",
    "    #нулевые метрики модели на валидационной выборке\n",
    "    best_accuracy=0\n",
    "    best_recall=0\n",
    "    best_precision=0\n",
    "    best_f1=0\n",
    "    best_auc_roc=0\n",
    "    \n",
    "    #Ветка вычисления, если используется LogisticRegression\n",
    "    if algo==LogisticRegression:\n",
    "        for c in range(1, c_index):\n",
    "            \n",
    "            #Создаем и обучаем модель\n",
    "            model=algo(random_state=rand_st, C=c, solver='liblinear', class_weight=balance)\n",
    "            model.fit(f_train, t_train)\n",
    "            \n",
    "            #Предсказание на валидационной воборке\n",
    "            predicted_valid=model.predict(f_valid)\n",
    "            \n",
    "            #Вычисляем веротяности на валидационной выборке\n",
    "            probabilities_valid = model.predict_proba(f_valid)\n",
    "            \n",
    "            #Вычисляем метрики валидационной выборки\n",
    "            f1=f1_score(t_valid, predicted_valid)\n",
    "            recall=recall_score(t_valid, predicted_valid)\n",
    "            precision=precision_score(t_valid, predicted_valid)\n",
    "            accu=model.score(f_valid, t_valid)\n",
    "            auc_roc=roc_auc_score(t_valid,probabilities_valid[:,1])\n",
    "            \n",
    "            if f1>best_f1:\n",
    "                best_model=model\n",
    "                best_c=c\n",
    "                best_accuracy=accu\n",
    "                best_recall=recall\n",
    "                best_precision=precision\n",
    "                best_f1=f1\n",
    "                best_auc_roc=auc_roc\n",
    "        print('\"C\" наилучшей модели: {}'.format(best_c))\n",
    "    \n",
    "    #Ветка вычисления, если используется DecisionTree\n",
    "    elif algo==DecisionTreeClassifier:\n",
    "        for depth in range(1, depth_index):\n",
    "            for split in range(2, min_samples_split_index):\n",
    "                for leaf in range(1, min_samples_leaf_index):\n",
    "                    #Создаем и обучаем модель\n",
    "                    model=DecisionTreeClassifier(\n",
    "                        random_state=rand_st, class_weight=balance, \n",
    "                        max_depth=depth, \n",
    "                        min_samples_split=split, \n",
    "                        min_samples_leaf=leaf)\n",
    "                    model.fit(f_train, t_train)\n",
    "                        \n",
    "                    #Предсказание на валидационной воборке\n",
    "                    predicted_valid=model.predict(f_valid)\n",
    "            \n",
    "                    #Вычисляем веротяности на валидационной выборке\n",
    "                    probabilities_valid = model.predict_proba(f_valid)\n",
    "                    \n",
    "                    #Вычисляем метрики валидационной выборки\n",
    "                    f1=f1_score(t_valid, predicted_valid)\n",
    "                    recall=recall_score(t_valid, predicted_valid)\n",
    "                    precision=precision_score(t_valid, predicted_valid)\n",
    "                    accu=model.score(f_valid, t_valid)\n",
    "                    auc_roc=roc_auc_score(t_valid,probabilities_valid[:,1])\n",
    "                    \n",
    "                    if f1>best_f1:\n",
    "                        best_model=model\n",
    "                        best_depth=depth\n",
    "                        best_split=split\n",
    "                        best_leaf=leaf\n",
    "                        best_accuracy=accu\n",
    "                        best_recall=recall\n",
    "                        best_precision=precision\n",
    "                        best_f1=f1\n",
    "                        best_auc_roc=auc_roc\n",
    "                        \n",
    "        print('\"depth\" наилучшей модели на валидационной выборке: {}'.format(best_depth),\n",
    "        '\\n\"split\" наилучшей модели на валидационной выборке: {}'.format(best_split),\n",
    "        '\\n\"leaf\" наилучшей модели на валидационной выборке: {}'.format(best_leaf))\n",
    "                        \n",
    "    \n",
    "    #Ветка вычисления, если используется RandomForest\n",
    "    elif algo==RandomForestClassifier:\n",
    "        for depth in range(2, depth_index):\n",
    "            for est in range(1 ,est_index, step):\n",
    "                \n",
    "                #Создаем и обучаем модель\n",
    "                model=RandomForestClassifier(random_state=1123, max_depth=depth, \n",
    "                                             n_estimators=est, class_weight=balance)\n",
    "                model.fit(f_train, t_train)\n",
    "                \n",
    "                #Предсказание на валидационной воборке\n",
    "                predicted_valid=model.predict(f_valid)\n",
    "            \n",
    "                #Вычисляем веротяности на валидационной выборке\n",
    "                probabilities_valid = model.predict_proba(f_valid)\n",
    "            \n",
    "                #Вычисляем метрики валидационной выборки\n",
    "                f1=f1_score(t_valid, predicted_valid)\n",
    "                recall=recall_score(t_valid, predicted_valid)\n",
    "                precision=precision_score(t_valid, predicted_valid)\n",
    "                accu=model.score(f_valid, t_valid)\n",
    "                auc_roc=roc_auc_score(t_valid,probabilities_valid[:,1])\n",
    "            \n",
    "                if f1>best_f1:\n",
    "                    best_model=model\n",
    "                    best_depth=depth\n",
    "                    best_est=est\n",
    "                    best_accuracy=accu\n",
    "                    best_recall=recall\n",
    "                    best_precision=precision\n",
    "                    best_f1=f1\n",
    "                    best_auc_roc=auc_roc\n",
    "                    \n",
    "        print('\"depth\" наилучшей модели на валидационной выборке: {}'.format(best_depth),\n",
    "        '\\n\"est\" наилучшей модели на валидационной выборке: {}'.format(best_est))\n",
    "                    \n",
    "    #Берем даныне для построения pr-кривой\n",
    "    precision_valid, recall_valid, thresholds_valid = precision_recall_curve(\n",
    "            t_valid, probabilities_valid[:, 1])\n",
    "            \n",
    "    #Берем даныне для построения roc-кривой\n",
    "    precision_valid_roc, recall_valid_roc, thresholds_valid_roc= roc_curve(\n",
    "            t_valid, probabilities_valid[:, 1])\n",
    "                \n",
    "    #Предсказание на обучающей выборке\n",
    "    predicted_train=best_model.predict(f_train) \n",
    "            \n",
    "    #Вычисляем веротяности на обучающей выборке\n",
    "    probabilities_train = best_model.predict_proba(f_train)\n",
    "                  \n",
    "    #Вычисляем метрики обучающей выборки\n",
    "    f1_train=f1_score(t_train, predicted_train)\n",
    "    recall_train=recall_score(t_train, predicted_train)\n",
    "    precision_train=precision_score(t_train, predicted_train)\n",
    "    accu_train=best_model.score(f_train, t_train)\n",
    "    auc_roc_train=roc_auc_score(t_train,probabilities_train[:,1])\n",
    "            \n",
    "    #Вычисляем accuracy константной модели\n",
    "    accu_const=best_model.score(f_valid, predict_constant_model)\n",
    "    \n",
    "    print('\\nМЕТРИКИ НА ТЕСТОВОЙ/ВАЛИДАЦИОННОЙ ВЫБОРКЕ:'\n",
    "            '\\naccuracy: {:.2f}'.format(best_accuracy),\n",
    "            '\\nrecall: {:.2f}'.format(best_recall),\n",
    "            '\\nprecision: {:.2f}'.format(best_precision),\n",
    "            '\\nf1: {:.2f}'.format(best_f1),\n",
    "            '\\nauc_roc:{:.2f}'.format(best_auc_roc),\n",
    "            '\\n',    \n",
    "            '\\nМЕТРИКИ НА ОБУЧАЮЩЕЙ ВЫБОРКЕ',\n",
    "            '\\naccuracy: {:.2f}'.format(accu_train),\n",
    "            '\\nrecall: {:.2f}'.format(recall_train),\n",
    "            '\\nprecision: {:.2f}'.format(precision_train),\n",
    "            '\\nf1: {:.2f}'.format(f1_train),\n",
    "            '\\nauc_roc:{:.2f}'.format(auc_roc_train),\n",
    "            '\\n'     \n",
    "            '\\nКОНСТАНТНАЯ МОДЕЛЬ',\n",
    "            '\\naccuracy константной модели: {:.2f}'.format(accu_const))\n",
    "    \n",
    "    #строим pr-кривую\n",
    "    pr_curve=(plt.figure(),\n",
    "                plt.step(recall_valid, precision_valid, where='post'),\n",
    "                plt.xlabel('Recall'),\n",
    "                plt.ylabel('Precision'),\n",
    "                plt.ylim([0.0, 1.05]),\n",
    "                plt.xlim([0.0, 1.0]),\n",
    "                plt.title('Кривая Precision-Recall валидационной выборки'),\n",
    "                plt.show()) \n",
    "    #строим ROC-кривую\n",
    "    roc_cur= (plt.figure(),\n",
    "                plt.plot(precision_valid_roc, recall_valid_roc),\n",
    "                plt.title('ROC-кривая'))\n",
    "    \n",
    "print('Строка документации: \\n', Classifier.__doc__)"
   ]
  },
  {
   "cell_type": "markdown",
   "metadata": {},
   "source": [
    "Используем нашу функцию без взвешивания классов:"
   ]
  },
  {
   "cell_type": "code",
   "execution_count": 27,
   "metadata": {},
   "outputs": [
    {
     "name": "stdout",
     "output_type": "stream",
     "text": [
      "\"C\" наилучшей модели: 1\n",
      "\n",
      "МЕТРИКИ НА ТЕСТОВОЙ/ВАЛИДАЦИОННОЙ ВЫБОРКЕ:\n",
      "accuracy: 0.81 \n",
      "recall: 0.25 \n",
      "precision: 0.58 \n",
      "f1: 0.35 \n",
      "auc_roc:0.77 \n",
      " \n",
      "МЕТРИКИ НА ОБУЧАЮЩЕЙ ВЫБОРКЕ \n",
      "accuracy: 0.81 \n",
      "recall: 0.22 \n",
      "precision: 0.59 \n",
      "f1: 0.32 \n",
      "auc_roc:0.77 \n",
      "\n",
      "КОНСТАНТНАЯ МОДЕЛЬ \n",
      "accuracy константной модели: 0.91\n"
     ]
    },
    {
     "data": {
      "image/png": "[encoded data removed]",
      "text/plain": [
       "<Figure size 432x288 with 1 Axes>"
      ]
     },
     "metadata": {
      "needs_background": "light"
     },
     "output_type": "display_data"
    },
    {
     "data": {
      "image/png": "[encoded data removed]",
      "text/plain": [
       "<Figure size 432x288 with 1 Axes>"
      ]
     },
     "metadata": {
      "needs_background": "light"
     },
     "output_type": "display_data"
    }
   ],
   "source": [
    "Classifier(\n",
    "    LogisticRegression, 1123, None,\n",
    "    features_train, target_train, \n",
    "    features_valid, target_valid, \n",
    "    10,\n",
    "    0, 0,0,\n",
    "    0, 0)"
   ]
  },
  {
   "cell_type": "markdown",
   "metadata": {},
   "source": [
    "**Вывод:**\n",
    "\n",
    "Мы видим следующую картину:\n",
    "Accuracy на валидационной выборке выше, чем на тренировочной, но ниже чем на константной, следовательно модель неадекватна. При этом доля TP ответов среди всех истинных 0.25. При этом доля отрицательных ответов  0.58. Оно и понятно, ведь у нас серьезный дисбаланс классов в сторону отрицательного класса. f1-мера находится ниже требуемого значения."
   ]
  },
  {
   "cell_type": "markdown",
   "metadata": {},
   "source": [
    "### Обучение модели при помощи DecisionTree"
   ]
  },
  {
   "cell_type": "markdown",
   "metadata": {},
   "source": [
    "Применим на шу функцию без взвешивания классов"
   ]
  },
  {
   "cell_type": "code",
   "execution_count": 28,
   "metadata": {},
   "outputs": [
    {
     "name": "stderr",
     "output_type": "stream",
     "text": [
      "D:\\Program Files (x86)\\Conda\\lib\\site-packages\\sklearn\\metrics\\_classification.py:1245: UndefinedMetricWarning: Precision is ill-defined and being set to 0.0 due to no predicted samples. Use `zero_division` parameter to control this behavior.\n",
      "  _warn_prf(average, modifier, msg_start, len(result))\n",
      "D:\\Program Files (x86)\\Conda\\lib\\site-packages\\sklearn\\metrics\\_classification.py:1245: UndefinedMetricWarning: Precision is ill-defined and being set to 0.0 due to no predicted samples. Use `zero_division` parameter to control this behavior.\n",
      "  _warn_prf(average, modifier, msg_start, len(result))\n",
      "D:\\Program Files (x86)\\Conda\\lib\\site-packages\\sklearn\\metrics\\_classification.py:1245: UndefinedMetricWarning: Precision is ill-defined and being set to 0.0 due to no predicted samples. Use `zero_division` parameter to control this behavior.\n",
      "  _warn_prf(average, modifier, msg_start, len(result))\n",
      "D:\\Program Files (x86)\\Conda\\lib\\site-packages\\sklearn\\metrics\\_classification.py:1245: UndefinedMetricWarning: Precision is ill-defined and being set to 0.0 due to no predicted samples. Use `zero_division` parameter to control this behavior.\n",
      "  _warn_prf(average, modifier, msg_start, len(result))\n",
      "D:\\Program Files (x86)\\Conda\\lib\\site-packages\\sklearn\\metrics\\_classification.py:1245: UndefinedMetricWarning: Precision is ill-defined and being set to 0.0 due to no predicted samples. Use `zero_division` parameter to control this behavior.\n",
      "  _warn_prf(average, modifier, msg_start, len(result))\n",
      "D:\\Program Files (x86)\\Conda\\lib\\site-packages\\sklearn\\metrics\\_classification.py:1245: UndefinedMetricWarning: Precision is ill-defined and being set to 0.0 due to no predicted samples. Use `zero_division` parameter to control this behavior.\n",
      "  _warn_prf(average, modifier, msg_start, len(result))\n",
      "D:\\Program Files (x86)\\Conda\\lib\\site-packages\\sklearn\\metrics\\_classification.py:1245: UndefinedMetricWarning: Precision is ill-defined and being set to 0.0 due to no predicted samples. Use `zero_division` parameter to control this behavior.\n",
      "  _warn_prf(average, modifier, msg_start, len(result))\n",
      "D:\\Program Files (x86)\\Conda\\lib\\site-packages\\sklearn\\metrics\\_classification.py:1245: UndefinedMetricWarning: Precision is ill-defined and being set to 0.0 due to no predicted samples. Use `zero_division` parameter to control this behavior.\n",
      "  _warn_prf(average, modifier, msg_start, len(result))\n",
      "D:\\Program Files (x86)\\Conda\\lib\\site-packages\\sklearn\\metrics\\_classification.py:1245: UndefinedMetricWarning: Precision is ill-defined and being set to 0.0 due to no predicted samples. Use `zero_division` parameter to control this behavior.\n",
      "  _warn_prf(average, modifier, msg_start, len(result))\n",
      "D:\\Program Files (x86)\\Conda\\lib\\site-packages\\sklearn\\metrics\\_classification.py:1245: UndefinedMetricWarning: Precision is ill-defined and being set to 0.0 due to no predicted samples. Use `zero_division` parameter to control this behavior.\n",
      "  _warn_prf(average, modifier, msg_start, len(result))\n",
      "D:\\Program Files (x86)\\Conda\\lib\\site-packages\\sklearn\\metrics\\_classification.py:1245: UndefinedMetricWarning: Precision is ill-defined and being set to 0.0 due to no predicted samples. Use `zero_division` parameter to control this behavior.\n",
      "  _warn_prf(average, modifier, msg_start, len(result))\n",
      "D:\\Program Files (x86)\\Conda\\lib\\site-packages\\sklearn\\metrics\\_classification.py:1245: UndefinedMetricWarning: Precision is ill-defined and being set to 0.0 due to no predicted samples. Use `zero_division` parameter to control this behavior.\n",
      "  _warn_prf(average, modifier, msg_start, len(result))\n",
      "D:\\Program Files (x86)\\Conda\\lib\\site-packages\\sklearn\\metrics\\_classification.py:1245: UndefinedMetricWarning: Precision is ill-defined and being set to 0.0 due to no predicted samples. Use `zero_division` parameter to control this behavior.\n",
      "  _warn_prf(average, modifier, msg_start, len(result))\n",
      "D:\\Program Files (x86)\\Conda\\lib\\site-packages\\sklearn\\metrics\\_classification.py:1245: UndefinedMetricWarning: Precision is ill-defined and being set to 0.0 due to no predicted samples. Use `zero_division` parameter to control this behavior.\n",
      "  _warn_prf(average, modifier, msg_start, len(result))\n",
      "D:\\Program Files (x86)\\Conda\\lib\\site-packages\\sklearn\\metrics\\_classification.py:1245: UndefinedMetricWarning: Precision is ill-defined and being set to 0.0 due to no predicted samples. Use `zero_division` parameter to control this behavior.\n",
      "  _warn_prf(average, modifier, msg_start, len(result))\n",
      "D:\\Program Files (x86)\\Conda\\lib\\site-packages\\sklearn\\metrics\\_classification.py:1245: UndefinedMetricWarning: Precision is ill-defined and being set to 0.0 due to no predicted samples. Use `zero_division` parameter to control this behavior.\n",
      "  _warn_prf(average, modifier, msg_start, len(result))\n",
      "D:\\Program Files (x86)\\Conda\\lib\\site-packages\\sklearn\\metrics\\_classification.py:1245: UndefinedMetricWarning: Precision is ill-defined and being set to 0.0 due to no predicted samples. Use `zero_division` parameter to control this behavior.\n",
      "  _warn_prf(average, modifier, msg_start, len(result))\n",
      "D:\\Program Files (x86)\\Conda\\lib\\site-packages\\sklearn\\metrics\\_classification.py:1245: UndefinedMetricWarning: Precision is ill-defined and being set to 0.0 due to no predicted samples. Use `zero_division` parameter to control this behavior.\n",
      "  _warn_prf(average, modifier, msg_start, len(result))\n"
     ]
    },
    {
     "name": "stdout",
     "output_type": "stream",
     "text": [
      "\"depth\" наилучшей модели на валидационной выборке: 2 \n",
      "\"split\" наилучшей модели на валидационной выборке: 2 \n",
      "\"leaf\" наилучшей модели на валидационной выборке: 1\n",
      "\n",
      "МЕТРИКИ НА ТЕСТОВОЙ/ВАЛИДАЦИОННОЙ ВЫБОРКЕ:\n",
      "accuracy: 0.84 \n",
      "recall: 0.46 \n",
      "precision: 0.66 \n",
      "f1: 0.54 \n",
      "auc_roc:0.75 \n",
      " \n",
      "МЕТРИКИ НА ОБУЧАЮЩЕЙ ВЫБОРКЕ \n",
      "accuracy: 0.84 \n",
      "recall: 0.42 \n",
      "precision: 0.65 \n",
      "f1: 0.51 \n",
      "auc_roc:0.74 \n",
      "\n",
      "КОНСТАНТНАЯ МОДЕЛЬ \n",
      "accuracy константной модели: 0.86\n"
     ]
    },
    {
     "data": {
      "image/png": "[encoded data removed]",
      "text/plain": [
       "<Figure size 432x288 with 1 Axes>"
      ]
     },
     "metadata": {
      "needs_background": "light"
     },
     "output_type": "display_data"
    },
    {
     "data": {
      "image/png": "[encoded data removed]",
      "text/plain": [
       "<Figure size 432x288 with 1 Axes>"
      ]
     },
     "metadata": {
      "needs_background": "light"
     },
     "output_type": "display_data"
    }
   ],
   "source": [
    "Classifier(\n",
    "    DecisionTreeClassifier, 1123, None, \n",
    "    features_train, target_train, \n",
    "    features_valid, target_valid, \n",
    "    0,\n",
    "    3, 5,7,\n",
    "    0, 0)"
   ]
  },
  {
   "cell_type": "markdown",
   "metadata": {},
   "source": [
    "**Вывод:**\n",
    "\n",
    "Accuracy на валидационной выборке и на обучающей - равны, но ниже константной модели, следовательно модель неадекватна. При этом доля TP ответов 0.46, а отрицательных ответов 0.66. При этом f1-мера достаточно близка к требуемой."
   ]
  },
  {
   "cell_type": "markdown",
   "metadata": {},
   "source": [
    "### Обучение модели при помощи RandomForestClassifier"
   ]
  },
  {
   "cell_type": "markdown",
   "metadata": {},
   "source": [
    "Применим на шу функцию без взвешивания классов"
   ]
  },
  {
   "cell_type": "code",
   "execution_count": 29,
   "metadata": {},
   "outputs": [
    {
     "name": "stderr",
     "output_type": "stream",
     "text": [
      "D:\\Program Files (x86)\\Conda\\lib\\site-packages\\sklearn\\metrics\\_classification.py:1245: UndefinedMetricWarning: Precision is ill-defined and being set to 0.0 due to no predicted samples. Use `zero_division` parameter to control this behavior.\n",
      "  _warn_prf(average, modifier, msg_start, len(result))\n",
      "D:\\Program Files (x86)\\Conda\\lib\\site-packages\\sklearn\\metrics\\_classification.py:1245: UndefinedMetricWarning: Precision is ill-defined and being set to 0.0 due to no predicted samples. Use `zero_division` parameter to control this behavior.\n",
      "  _warn_prf(average, modifier, msg_start, len(result))\n",
      "D:\\Program Files (x86)\\Conda\\lib\\site-packages\\sklearn\\metrics\\_classification.py:1245: UndefinedMetricWarning: Precision is ill-defined and being set to 0.0 due to no predicted samples. Use `zero_division` parameter to control this behavior.\n",
      "  _warn_prf(average, modifier, msg_start, len(result))\n"
     ]
    },
    {
     "name": "stdout",
     "output_type": "stream",
     "text": [
      "\"depth\" наилучшей модели на валидационной выборке: 5 \n",
      "\"est\" наилучшей модели на валидационной выборке: 56\n",
      "\n",
      "МЕТРИКИ НА ТЕСТОВОЙ/ВАЛИДАЦИОННОЙ ВЫБОРКЕ:\n",
      "accuracy: 0.86 \n",
      "recall: 0.35 \n",
      "precision: 0.85 \n",
      "f1: 0.50 \n",
      "auc_roc:0.87 \n",
      " \n",
      "МЕТРИКИ НА ОБУЧАЮЩЕЙ ВЫБОРКЕ \n",
      "accuracy: 0.86 \n",
      "recall: 0.34 \n",
      "precision: 0.89 \n",
      "f1: 0.50 \n",
      "auc_roc:0.87 \n",
      "\n",
      "КОНСТАНТНАЯ МОДЕЛЬ \n",
      "accuracy константной модели: 0.91\n"
     ]
    },
    {
     "data": {
      "image/png": "[encoded data removed]",
      "text/plain": [
       "<Figure size 432x288 with 1 Axes>"
      ]
     },
     "metadata": {
      "needs_background": "light"
     },
     "output_type": "display_data"
    },
    {
     "data": {
      "image/png": "[encoded data removed]",
      "text/plain": [
       "<Figure size 432x288 with 1 Axes>"
      ]
     },
     "metadata": {
      "needs_background": "light"
     },
     "output_type": "display_data"
    }
   ],
   "source": [
    "Classifier(\n",
    "    RandomForestClassifier, 1123, None,\n",
    "    features_train, target_train, \n",
    "    features_valid, target_valid, \n",
    "    0,\n",
    "    6,0 ,0,\n",
    "    60, 5)"
   ]
  },
  {
   "cell_type": "markdown",
   "metadata": {},
   "source": [
    "**Вывод:**\n",
    "\n",
    "Accuracy на валидационной выборке и на обучающей - равны, и ниже чем на константной, следовательно модель не адекватна. Precision равен 0.85, а recall 0.35. Модель плохо разобралась в особенностях положительного класса и плохо распознает его. f1-мера имеет значение ниже требуемого."
   ]
  },
  {
   "cell_type": "markdown",
   "metadata": {},
   "source": [
    "### Вывод"
   ]
  },
  {
   "cell_type": "markdown",
   "metadata": {},
   "source": [
    "Среди всех моделей, наилучшим образом себя проявила модель DecisionTree. f1-мера модели выше, чем у моделей работающих на других алгоритмах(с учетом используемых ограничений на гиперпараметры). Но ни одна модель не показала свою адекватость. Нам необходимо балансировать классы. Этим мы займемся в следующей главе."
   ]
  },
  {
   "cell_type": "markdown",
   "metadata": {},
   "source": [
    "## Борьба с дисбалансом"
   ]
  },
  {
   "cell_type": "markdown",
   "metadata": {},
   "source": [
    "В данной главе мы будем стараться нивелировать дисбаланс классов. Будем использовать 2 метода:\n",
    "\n",
    "1) Взвешивание классов\n",
    "\n",
    "2) Увеличение выборки (Так как мы удаляли некоторые строки с пустыми данными)\n",
    "\n",
    "Начнем по-порядку."
   ]
  },
  {
   "cell_type": "markdown",
   "metadata": {},
   "source": [
    "### Взвешивание классов"
   ]
  },
  {
   "cell_type": "markdown",
   "metadata": {},
   "source": [
    "#### Взвешенный LogisticRegression"
   ]
  },
  {
   "cell_type": "markdown",
   "metadata": {},
   "source": [
    "Смотрим как ведет себя LogisticRegression"
   ]
  },
  {
   "cell_type": "code",
   "execution_count": 30,
   "metadata": {},
   "outputs": [
    {
     "name": "stdout",
     "output_type": "stream",
     "text": [
      "\"C\" наилучшей модели: 1\n",
      "\n",
      "МЕТРИКИ НА ТЕСТОВОЙ/ВАЛИДАЦИОННОЙ ВЫБОРКЕ:\n",
      "accuracy: 0.71 \n",
      "recall: 0.67 \n",
      "precision: 0.38 \n",
      "f1: 0.49 \n",
      "auc_roc:0.78 \n",
      " \n",
      "МЕТРИКИ НА ОБУЧАЮЩЕЙ ВЫБОРКЕ \n",
      "accuracy: 0.71 \n",
      "recall: 0.70 \n",
      "precision: 0.39 \n",
      "f1: 0.50 \n",
      "auc_roc:0.78 \n",
      "\n",
      "КОНСТАНТНАЯ МОДЕЛЬ \n",
      "accuracy константной модели: 0.64\n"
     ]
    },
    {
     "data": {
      "image/png": "[encoded data removed]",
      "text/plain": [
       "<Figure size 432x288 with 1 Axes>"
      ]
     },
     "metadata": {
      "needs_background": "light"
     },
     "output_type": "display_data"
    },
    {
     "data": {
      "image/png": "[encoded data removed]",
      "text/plain": [
       "<Figure size 432x288 with 1 Axes>"
      ]
     },
     "metadata": {
      "needs_background": "light"
     },
     "output_type": "display_data"
    }
   ],
   "source": [
    "Classifier(\n",
    "    LogisticRegression, 1123, 'balanced',\n",
    "    features_train, target_train, \n",
    "    features_valid, target_valid, \n",
    "    10,\n",
    "    0, 0,0,\n",
    "    0, 0)"
   ]
  },
  {
   "cell_type": "markdown",
   "metadata": {},
   "source": [
    "\n",
    "**Вывод:**\n",
    "\n",
    "В сравнении с несбалансированной выборкой имеем следующие результаты:\n",
    "\n",
    "Метрика   |  Было   |   Стало\n",
    "\n",
    "Accuracy  |  0.81  |   0.71\n",
    "\n",
    "recall    |  0.25 |   0.67\n",
    "\n",
    "precision |  0.58  |   0.38\n",
    "\n",
    "f1        |  0.35 |   0.49\n",
    "\n",
    "auc_roc   |  0.77  |   0.78\n",
    "\n",
    "\n",
    "Можно заметить, что модель стала адекватной, accuracy на валидационной выборке выше чем на константной. У нас вырос recall, ведь теперь положительный класс имеет больший вес. В тоже время у нас снизился precision, модель переусердствует присваивая положительные метки. f1 так же стала больше, но пока не дотягивает до необходимого значения."
   ]
  },
  {
   "cell_type": "markdown",
   "metadata": {},
   "source": [
    "#### Взвешенный DecisionTree "
   ]
  },
  {
   "cell_type": "markdown",
   "metadata": {},
   "source": [
    "Теперь проверим DecisionTree"
   ]
  },
  {
   "cell_type": "code",
   "execution_count": 31,
   "metadata": {},
   "outputs": [
    {
     "name": "stdout",
     "output_type": "stream",
     "text": [
      "\"depth\" наилучшей модели на валидационной выборке: 2 \n",
      "\"split\" наилучшей модели на валидационной выборке: 2 \n",
      "\"leaf\" наилучшей модели на валидационной выборке: 1\n",
      "\n",
      "МЕТРИКИ НА ТЕСТОВОЙ/ВАЛИДАЦИОННОЙ ВЫБОРКЕ:\n",
      "accuracy: 0.77 \n",
      "recall: 0.67 \n",
      "precision: 0.45 \n",
      "f1: 0.54 \n",
      "auc_roc:0.76 \n",
      " \n",
      "МЕТРИКИ НА ОБУЧАЮЩЕЙ ВЫБОРКЕ \n",
      "accuracy: 0.76 \n",
      "recall: 0.65 \n",
      "precision: 0.44 \n",
      "f1: 0.52 \n",
      "auc_roc:0.74 \n",
      "\n",
      "КОНСТАНТНАЯ МОДЕЛЬ \n",
      "accuracy константной модели: 0.70\n"
     ]
    },
    {
     "data": {
      "image/png": "[encoded data removed]",
      "text/plain": [
       "<Figure size 432x288 with 1 Axes>"
      ]
     },
     "metadata": {
      "needs_background": "light"
     },
     "output_type": "display_data"
    },
    {
     "data": {
      "image/png": "[encoded data removed]",
      "text/plain": [
       "<Figure size 432x288 with 1 Axes>"
      ]
     },
     "metadata": {
      "needs_background": "light"
     },
     "output_type": "display_data"
    }
   ],
   "source": [
    "Classifier(\n",
    "    DecisionTreeClassifier, 1123, 'balanced', \n",
    "    features_train, target_train, \n",
    "    features_valid, target_valid, \n",
    "    0,\n",
    "    3, 5,7,\n",
    "    0, 0)"
   ]
  },
  {
   "cell_type": "markdown",
   "metadata": {},
   "source": [
    "**Вывод:**\n",
    "\n",
    "В сравнении с несбалансированной выборкой имеем следующие результаты:\n",
    "\n",
    "Метрика   |  Было   |   Стало\n",
    "\n",
    "Accuracy  |  0.84   |   0.77\n",
    "\n",
    "recall    |  0.46   |   0.67\n",
    "\n",
    "precision |  0.66   |   0.45\n",
    "\n",
    "f1        |  0.54   |   0.54\n",
    "\n",
    "auc_roc   |  0.75   |   0.76\n",
    "\n",
    "\n",
    "Можно заметить, что модель стала адекватной, accuracy на валидационной выборке выше чем на обучающей и константной. У нас вырос recall, ведь теперь положительный класс имеет больший вес. В тоже время у нас снизился precision, модель переусердствует присваивая положительные метки."
   ]
  },
  {
   "cell_type": "markdown",
   "metadata": {},
   "source": [
    "#### Взвешенный RandomForest"
   ]
  },
  {
   "cell_type": "markdown",
   "metadata": {},
   "source": [
    "Проверим RandomForest"
   ]
  },
  {
   "cell_type": "code",
   "execution_count": 32,
   "metadata": {},
   "outputs": [
    {
     "name": "stdout",
     "output_type": "stream",
     "text": [
      "\"depth\" наилучшей модели на валидационной выборке: 5 \n",
      "\"est\" наилучшей модели на валидационной выборке: 26\n",
      "\n",
      "МЕТРИКИ НА ТЕСТОВОЙ/ВАЛИДАЦИОННОЙ ВЫБОРКЕ:\n",
      "accuracy: 0.82 \n",
      "recall: 0.73 \n",
      "precision: 0.54 \n",
      "f1: 0.62 \n",
      "auc_roc:0.86 \n",
      " \n",
      "МЕТРИКИ НА ОБУЧАЮЩЕЙ ВЫБОРКЕ \n",
      "accuracy: 0.82 \n",
      "recall: 0.72 \n",
      "precision: 0.55 \n",
      "f1: 0.62 \n",
      "auc_roc:0.87 \n",
      "\n",
      "КОНСТАНТНАЯ МОДЕЛЬ \n",
      "accuracy константной модели: 0.73\n"
     ]
    },
    {
     "data": {
      "image/png": "[encoded data removed]",
      "text/plain": [
       "<Figure size 432x288 with 1 Axes>"
      ]
     },
     "metadata": {
      "needs_background": "light"
     },
     "output_type": "display_data"
    },
    {
     "data": {
      "image/png": "[encoded data removed]",
      "text/plain": [
       "<Figure size 432x288 with 1 Axes>"
      ]
     },
     "metadata": {
      "needs_background": "light"
     },
     "output_type": "display_data"
    }
   ],
   "source": [
    "Classifier(\n",
    "    RandomForestClassifier, 1123, 'balanced',\n",
    "    features_train, target_train, \n",
    "    features_valid, target_valid, \n",
    "    0,\n",
    "    6,0 ,0,\n",
    "    60, 5)"
   ]
  },
  {
   "cell_type": "markdown",
   "metadata": {},
   "source": [
    "**Вывод:**\n",
    "\n",
    "В сравнении с несбалансированной выборкой имеем следующие результаты:\n",
    "\n",
    "Метрика   |  Было   |   Стало\n",
    "\n",
    "Accuracy  |  0.86   |   0.82\n",
    "\n",
    "recall    |  0.35   |   0.73\n",
    "\n",
    "precision |  0.85   |   0.54\n",
    "\n",
    "f1        |  0.50   |   0.62\n",
    "\n",
    "auc_roc   |  0.87   |   0.86\n",
    "\n",
    "\n",
    "Можно заметить, что модель стала адекватной, accuracy на валидационной выборке выше чем на константной модели. У нас вырос recall, ведь теперь положительный класс имеет больший вес. В тоже время у нас снизился precision. Взвешивание классов положительнее всего повлияло на RandomForest. Все что ухудшилось - ухудшилось не так сильно, А улучшения значительные. f1 достигла подходящего значения."
   ]
  },
  {
   "cell_type": "markdown",
   "metadata": {},
   "source": [
    "Мы провели исследования и получили положительную динамику. Теперь нам необходимо увеличить количество положительных данных и вновь провести исследование."
   ]
  },
  {
   "cell_type": "markdown",
   "metadata": {},
   "source": [
    "### Увеличение выборки"
   ]
  },
  {
   "cell_type": "markdown",
   "metadata": {},
   "source": [
    "В данной главе мы будем заниматься увеличением выборки, а имеено увеличение доли положительных ответов, напомню, что на этапе предобработки мы удалили часть данных, и теперь попробум возместить потерянное и добавить еще. Напомню что класс 0 - примерно 80% выборки, а 1 - 20%. Давайте приступать."
   ]
  },
  {
   "cell_type": "code",
   "execution_count": 33,
   "metadata": {},
   "outputs": [],
   "source": [
    "#Разделим выборку\n",
    "features_zeros=features_train[target_train==0]\n",
    "features_ones=features_train[target_train==1]\n",
    "target_zeros=target_train[target_train==0]\n",
    "target_ones=target_train[target_train==1]\n",
    "\n",
    "#Зададим множитель для объединения\n",
    "repeat=4\n",
    "\n",
    "#Объединяем таблицы\n",
    "features_up_train=pd.concat([features_zeros]+[features_ones]*repeat)\n",
    "target_up_train=pd.concat([target_zeros]+[target_ones]*repeat)\n",
    "\n",
    "#Перемешаем\n",
    "features_up_train, target_up_train=shuffle(features_up_train, target_up_train, random_state=1123)"
   ]
  },
  {
   "cell_type": "code",
   "execution_count": 34,
   "metadata": {},
   "outputs": [
    {
     "data": {
      "text/plain": [
       "1    0.505887\n",
       "0    0.494113\n",
       "Name: Exited, dtype: float64"
      ]
     },
     "execution_count": 34,
     "metadata": {},
     "output_type": "execute_result"
    }
   ],
   "source": [
    "#проверим доли\n",
    "answers_parts=target_up_train.value_counts(normalize=2/len(df))\n",
    "answers_parts"
   ]
  },
  {
   "cell_type": "markdown",
   "metadata": {},
   "source": [
    "Мы можем наблюдать примерно сбалансированные классы. Давайте теперь обучим наши модели и исследуем метрики. Будем использовать в работе обе функции и первоначальную и модернизированную заодно посмотрим как изменяются результаты."
   ]
  },
  {
   "cell_type": "markdown",
   "metadata": {},
   "source": [
    "#### Исследование LogisticRegression"
   ]
  },
  {
   "cell_type": "code",
   "execution_count": 35,
   "metadata": {},
   "outputs": [
    {
     "name": "stdout",
     "output_type": "stream",
     "text": [
      "\"C\" наилучшей модели: 1\n",
      "\n",
      "МЕТРИКИ НА ТЕСТОВОЙ/ВАЛИДАЦИОННОЙ ВЫБОРКЕ:\n",
      "accuracy: 0.71 \n",
      "recall: 0.69 \n",
      "precision: 0.38 \n",
      "f1: 0.49 \n",
      "auc_roc:0.78 \n",
      " \n",
      "МЕТРИКИ НА ОБУЧАЮЩЕЙ ВЫБОРКЕ \n",
      "accuracy: 0.71 \n",
      "recall: 0.71 \n",
      "precision: 0.72 \n",
      "f1: 0.71 \n",
      "auc_roc:0.78 \n",
      "\n",
      "КОНСТАНТНАЯ МОДЕЛЬ \n",
      "accuracy константной модели: 0.63\n"
     ]
    },
    {
     "data": {
      "image/png": "[encoded data removed]",
      "text/plain": [
       "<Figure size 432x288 with 1 Axes>"
      ]
     },
     "metadata": {
      "needs_background": "light"
     },
     "output_type": "display_data"
    },
    {
     "data": {
      "image/png": "[encoded data removed]",
      "text/plain": [
       "<Figure size 432x288 with 1 Axes>"
      ]
     },
     "metadata": {
      "needs_background": "light"
     },
     "output_type": "display_data"
    }
   ],
   "source": [
    "Classifier(\n",
    "    LogisticRegression, 1123, None, \n",
    "    features_up_train, target_up_train, \n",
    "    features_valid, target_valid, \n",
    "    10,\n",
    "    0, 0,0,\n",
    "    0, 0)"
   ]
  },
  {
   "cell_type": "markdown",
   "metadata": {},
   "source": [
    "**Вывод:**\n",
    "\n",
    "Имеем следуюшиую картину на увеличенной выборке\n",
    "\n",
    "Метрика  ||увеличенная выб.  || обычная выборка с функцией взвешивания\n",
    "\n",
    "Accuracy || 0.71             || 0.71\n",
    "\n",
    "recall   || 0.69             || 0.67\n",
    "\n",
    "precision|| 0.38             || 0.38\n",
    "\n",
    "f1       || 0.49             || 0.49\n",
    "\n",
    "auc_roc  || 0.78             || 0.78\n",
    "\n",
    "Метрики моделей совпадают, однако на лицо переобучение модели, на обучающей выборке показатели сильно лучше."
   ]
  },
  {
   "cell_type": "markdown",
   "metadata": {},
   "source": [
    "#### Исследование DecisionTree"
   ]
  },
  {
   "cell_type": "code",
   "execution_count": 36,
   "metadata": {},
   "outputs": [
    {
     "name": "stdout",
     "output_type": "stream",
     "text": [
      "\"depth\" наилучшей модели на валидационной выборке: 2 \n",
      "\"split\" наилучшей модели на валидационной выборке: 2 \n",
      "\"leaf\" наилучшей модели на валидационной выборке: 1\n",
      "\n",
      "МЕТРИКИ НА ТЕСТОВОЙ/ВАЛИДАЦИОННОЙ ВЫБОРКЕ:\n",
      "accuracy: 0.77 \n",
      "recall: 0.67 \n",
      "precision: 0.45 \n",
      "f1: 0.54 \n",
      "auc_roc:0.76 \n",
      " \n",
      "МЕТРИКИ НА ОБУЧАЮЩЕЙ ВЫБОРКЕ \n",
      "accuracy: 0.72 \n",
      "recall: 0.65 \n",
      "precision: 0.75 \n",
      "f1: 0.70 \n",
      "auc_roc:0.74 \n",
      "\n",
      "КОНСТАНТНАЯ МОДЕЛЬ \n",
      "accuracy константной модели: 0.70\n"
     ]
    },
    {
     "data": {
      "image/png": "[encoded data removed]",
      "text/plain": [
       "<Figure size 432x288 with 1 Axes>"
      ]
     },
     "metadata": {
      "needs_background": "light"
     },
     "output_type": "display_data"
    },
    {
     "data": {
      "image/png": "[encoded data removed]",
      "text/plain": [
       "<Figure size 432x288 with 1 Axes>"
      ]
     },
     "metadata": {
      "needs_background": "light"
     },
     "output_type": "display_data"
    }
   ],
   "source": [
    "Classifier(\n",
    "    DecisionTreeClassifier, 1123, None,\n",
    "    features_up_train, target_up_train, \n",
    "    features_valid, target_valid, \n",
    "    0,\n",
    "    3, 5,7,\n",
    "    0, 0)"
   ]
  },
  {
   "cell_type": "markdown",
   "metadata": {},
   "source": [
    "**Вывод:**\n",
    "\n",
    "Имеем следуюшиую картину на увеличенной выборке\n",
    "\n",
    "Метрика  ||увеличенная выб.|| обычная выборка с функцией взвешивания\n",
    "\n",
    "Accuracy || 0.77           || 0.77\n",
    "\n",
    "recall   || 0.67           || 0.67\n",
    "\n",
    "precision|| 0.45           || 0.45\n",
    "\n",
    "f1       || 0.54           || 0.54\n",
    "\n",
    "auc_roc  || 0.76           || 0.76\n",
    "\n",
    "Мы получили полностью одинаковые показатели моделей, Но вновь, переобучение, показатели на обучающей выборке сильно выше."
   ]
  },
  {
   "cell_type": "markdown",
   "metadata": {},
   "source": [
    "#### Исследование RandomForest"
   ]
  },
  {
   "cell_type": "code",
   "execution_count": 37,
   "metadata": {},
   "outputs": [
    {
     "name": "stdout",
     "output_type": "stream",
     "text": [
      "\"depth\" наилучшей модели на валидационной выборке: 5 \n",
      "\"est\" наилучшей модели на валидационной выборке: 21\n",
      "\n",
      "МЕТРИКИ НА ТЕСТОВОЙ/ВАЛИДАЦИОННОЙ ВЫБОРКЕ:\n",
      "accuracy: 0.81 \n",
      "recall: 0.75 \n",
      "precision: 0.52 \n",
      "f1: 0.61 \n",
      "auc_roc:0.86 \n",
      " \n",
      "МЕТРИКИ НА ОБУЧАЮЩЕЙ ВЫБОРКЕ \n",
      "accuracy: 0.79 \n",
      "recall: 0.76 \n",
      "precision: 0.81 \n",
      "f1: 0.78 \n",
      "auc_roc:0.87 \n",
      "\n",
      "КОНСТАНТНАЯ МОДЕЛЬ \n",
      "accuracy константной модели: 0.71\n"
     ]
    },
    {
     "data": {
      "image/png": "[encoded data removed]",
      "text/plain": [
       "<Figure size 432x288 with 1 Axes>"
      ]
     },
     "metadata": {
      "needs_background": "light"
     },
     "output_type": "display_data"
    },
    {
     "data": {
      "image/png": "[encoded data removed]",
      "text/plain": [
       "<Figure size 432x288 with 1 Axes>"
      ]
     },
     "metadata": {
      "needs_background": "light"
     },
     "output_type": "display_data"
    }
   ],
   "source": [
    "Classifier(\n",
    "    RandomForestClassifier, 1123, None,\n",
    "    features_up_train, target_up_train, \n",
    "    features_valid, target_valid, \n",
    "    0,\n",
    "    6,0 ,0,\n",
    "    60, 5)"
   ]
  },
  {
   "cell_type": "markdown",
   "metadata": {},
   "source": [
    "**Вывод:**\n",
    "\n",
    "Имеем следуюшиую картину на увеличенной выборке\n",
    "\n",
    "Метрика  ||увеличенная выб.|| обычная выборка с функцией взвешивания\n",
    "\n",
    "Accuracy || 0.81           || 0.82\n",
    "\n",
    "recall   || 0.75           || 0.74\n",
    "\n",
    "precision|| 0.52           || 0.54\n",
    "\n",
    "f1       || 0.61           || 0.63\n",
    "\n",
    "auc_roc  || 0.86           || 0.87\n",
    "\n",
    "Можно заметить, что при увеличенной выборке функция без взвешивания классов имеет f1-меру ниже, нежели функция со взвешиванием, так же выше recall и ниже precision. На лицо переобучение модели. На обучающей выборке показатели сильно лучше."
   ]
  },
  {
   "cell_type": "markdown",
   "metadata": {},
   "source": [
    "### Вывод:\n",
    "\n",
    "В общем и целом после увеличения выборки мы получили результаты те же, что и при взвешивании классов на обычной выборке, за исключением алгоритма RandomForest, он на увеличенной выборке показал себя хуже, нежели при взвешивании классов в алгоритме. Можно было поиграться с порогом, но у нас уже есть потенциальная модель. Это  RandomForest, на валидационной выборке показал необходимую f1-меру. Приступим к тестированию."
   ]
  },
  {
   "cell_type": "markdown",
   "metadata": {},
   "source": [
    "## Подбор гиперпараметров и тестирование модели"
   ]
  },
  {
   "cell_type": "markdown",
   "metadata": {},
   "source": [
    "Отмасштабируем тестовую выборку"
   ]
  },
  {
   "cell_type": "code",
   "execution_count": 38,
   "metadata": {},
   "outputs": [],
   "source": [
    "features_test[scaler_features]=scaler.transform(features_test[scaler_features])"
   ]
  },
  {
   "cell_type": "markdown",
   "metadata": {},
   "source": [
    "Воспользуемся нашей функцией, но вместо валидационной выборки скормим тестовую. В таком случае - будем иметь в виду что вывод об обученной модели будет нести информацию о тестовой выборке."
   ]
  },
  {
   "cell_type": "code",
   "execution_count": 39,
   "metadata": {},
   "outputs": [
    {
     "name": "stdout",
     "output_type": "stream",
     "text": [
      "\"depth\" наилучшей модели на валидационной выборке: 8 \n",
      "\"est\" наилучшей модели на валидационной выборке: 151\n",
      "\n",
      "МЕТРИКИ НА ТЕСТОВОЙ/ВАЛИДАЦИОННОЙ ВЫБОРКЕ:\n",
      "accuracy: 0.83 \n",
      "recall: 0.66 \n",
      "precision: 0.56 \n",
      "f1: 0.61 \n",
      "auc_roc:0.85 \n",
      " \n",
      "МЕТРИКИ НА ОБУЧАЮЩЕЙ ВЫБОРКЕ \n",
      "accuracy: 0.88 \n",
      "recall: 0.79 \n",
      "precision: 0.67 \n",
      "f1: 0.73 \n",
      "auc_roc:0.94 \n",
      "\n",
      "КОНСТАНТНАЯ МОДЕЛЬ \n",
      "accuracy константной модели: 0.76\n"
     ]
    },
    {
     "data": {
      "image/png": "[encoded data removed]",
      "text/plain": [
       "<Figure size 432x288 with 1 Axes>"
      ]
     },
     "metadata": {
      "needs_background": "light"
     },
     "output_type": "display_data"
    },
    {
     "data": {
      "image/png": "[encoded data removed]",
      "text/plain": [
       "<Figure size 432x288 with 1 Axes>"
      ]
     },
     "metadata": {
      "needs_background": "light"
     },
     "output_type": "display_data"
    }
   ],
   "source": [
    "Classifier(\n",
    "    RandomForestClassifier, 1123, 'balanced',\n",
    "    features_train, target_train, \n",
    "    features_test, target_test, \n",
    "    0,\n",
    "    20, 0 ,0,\n",
    "    500, 50)"
   ]
  },
  {
   "cell_type": "markdown",
   "metadata": {},
   "source": [
    "## Вывод"
   ]
  },
  {
   "cell_type": "markdown",
   "metadata": {},
   "source": [
    "Мы исследовали несколько моделей. Из всех лучше всего себя проявила модель, работающая на алгоритме со взвешиванием RandomForest. Нам удалось получить необходимую f1-меру. Вот метрики и гиперпараметры модели:\n",
    "\n",
    "\"depth\" наилучшей модели: 8 \n",
    "\n",
    "\"est\" наилучшей модели: 151\n",
    "\n",
    "accuracy: 0.83\n",
    "\n",
    "recall: 0.66\n",
    "\n",
    "precision: 0.56\n",
    "\n",
    "f1: 0.61 \n",
    "\n",
    "auc_roc:0.85 \n",
    "\n",
    "\n",
    "Мы получили достаточно высокую метрику AUC_ROC, это означает что наша модель имеет хорошую меру отделимости.\n",
    "Precision-0.56. Наша модель иногда дает ложные положительные метки. Но для нашей задачи это не так плохо, ведь, модель будет предсказывать потенциальный уход клиента. И если банк уделит время клиенту, который не собирался уходить - это только повысит лоялность к банку."
   ]
  }
 ],
 "metadata": {
  "ExecuteTimeLog": [
   {
    "duration": 1544,
    "start_time": "2021-07-03T07:14:44.369Z"
   },
   {
    "duration": 59,
    "start_time": "2021-07-03T08:10:46.238Z"
   },
   {
    "duration": 12,
    "start_time": "2021-07-03T08:14:00.006Z"
   },
   {
    "duration": 233,
    "start_time": "2021-07-04T04:11:51.622Z"
   },
   {
    "duration": 1004,
    "start_time": "2021-07-04T04:12:00.114Z"
   },
   {
    "duration": 50,
    "start_time": "2021-07-04T04:12:01.120Z"
   },
   {
    "duration": 8,
    "start_time": "2021-07-04T04:12:01.172Z"
   },
   {
    "duration": 87,
    "start_time": "2021-07-04T04:12:01.184Z"
   },
   {
    "duration": 312,
    "start_time": "2021-07-04T04:12:36.143Z"
   },
   {
    "duration": 37,
    "start_time": "2021-07-04T04:12:41.872Z"
   },
   {
    "duration": 40,
    "start_time": "2021-07-04T04:16:48.493Z"
   },
   {
    "duration": 12,
    "start_time": "2021-07-04T04:47:35.654Z"
   },
   {
    "duration": 3,
    "start_time": "2021-07-04T04:48:59.243Z"
   },
   {
    "duration": 185,
    "start_time": "2021-07-04T04:52:49.532Z"
   },
   {
    "duration": 10,
    "start_time": "2021-07-04T04:53:00.384Z"
   },
   {
    "duration": 8,
    "start_time": "2021-07-04T04:53:09.384Z"
   },
   {
    "duration": 9,
    "start_time": "2021-07-04T04:54:16.525Z"
   },
   {
    "duration": 1087,
    "start_time": "2021-07-04T04:59:20.343Z"
   },
   {
    "duration": 210,
    "start_time": "2021-07-04T05:00:00.594Z"
   },
   {
    "duration": 188,
    "start_time": "2021-07-04T05:00:05.063Z"
   },
   {
    "duration": 15228,
    "start_time": "2021-07-04T05:00:12.844Z"
   },
   {
    "duration": 8485,
    "start_time": "2021-07-04T05:01:00.373Z"
   },
   {
    "duration": 8907,
    "start_time": "2021-07-04T05:01:19.985Z"
   },
   {
    "duration": 7409,
    "start_time": "2021-07-04T05:03:34.463Z"
   },
   {
    "duration": 63,
    "start_time": "2021-07-04T05:04:01.304Z"
   },
   {
    "duration": 469,
    "start_time": "2021-07-04T05:04:05.443Z"
   },
   {
    "duration": 2407,
    "start_time": "2021-07-04T05:04:13.204Z"
   },
   {
    "duration": 1243,
    "start_time": "2021-07-04T05:04:54.583Z"
   },
   {
    "duration": 65,
    "start_time": "2021-07-04T05:05:17.653Z"
   },
   {
    "duration": 1540,
    "start_time": "2021-07-04T05:05:21.963Z"
   },
   {
    "duration": 12,
    "start_time": "2021-07-04T05:32:32.094Z"
   },
   {
    "duration": 8,
    "start_time": "2021-07-04T05:32:44.233Z"
   },
   {
    "duration": 4250,
    "start_time": "2021-07-04T05:33:03.572Z"
   },
   {
    "duration": 1012,
    "start_time": "2021-07-04T05:33:24.804Z"
   },
   {
    "duration": 44,
    "start_time": "2021-07-04T05:33:25.818Z"
   },
   {
    "duration": 8,
    "start_time": "2021-07-04T05:33:25.864Z"
   },
   {
    "duration": 45,
    "start_time": "2021-07-04T05:33:25.874Z"
   },
   {
    "duration": 12,
    "start_time": "2021-07-04T05:33:25.921Z"
   },
   {
    "duration": 10,
    "start_time": "2021-07-04T05:33:25.935Z"
   },
   {
    "duration": 9,
    "start_time": "2021-07-04T05:33:25.946Z"
   },
   {
    "duration": 1629,
    "start_time": "2021-07-04T05:33:25.957Z"
   },
   {
    "duration": 12,
    "start_time": "2021-07-04T05:33:27.588Z"
   },
   {
    "duration": 38,
    "start_time": "2021-07-04T06:17:36.579Z"
   },
   {
    "duration": 12,
    "start_time": "2021-07-04T06:17:44.418Z"
   },
   {
    "duration": 341,
    "start_time": "2021-07-05T06:14:53.277Z"
   },
   {
    "duration": 1318,
    "start_time": "2021-07-05T06:14:59.618Z"
   },
   {
    "duration": 61,
    "start_time": "2021-07-05T06:15:00.939Z"
   },
   {
    "duration": 12,
    "start_time": "2021-07-05T06:15:01.003Z"
   },
   {
    "duration": 85,
    "start_time": "2021-07-05T06:15:01.018Z"
   },
   {
    "duration": 18,
    "start_time": "2021-07-05T06:15:01.105Z"
   },
   {
    "duration": 34,
    "start_time": "2021-07-05T06:15:01.126Z"
   },
   {
    "duration": 22,
    "start_time": "2021-07-05T06:15:01.163Z"
   },
   {
    "duration": 2614,
    "start_time": "2021-07-05T06:15:01.189Z"
   },
   {
    "duration": 18,
    "start_time": "2021-07-05T06:15:03.806Z"
   },
   {
    "duration": 402,
    "start_time": "2021-07-05T06:15:03.827Z"
   },
   {
    "duration": 6,
    "start_time": "2021-07-05T06:15:27.937Z"
   },
   {
    "duration": 309,
    "start_time": "2021-07-05T06:16:02.967Z"
   },
   {
    "duration": 6,
    "start_time": "2021-07-05T06:31:56.085Z"
   },
   {
    "duration": 11,
    "start_time": "2021-07-05T06:34:21.535Z"
   },
   {
    "duration": 5,
    "start_time": "2021-07-05T06:36:42.885Z"
   },
   {
    "duration": 5,
    "start_time": "2021-07-05T06:37:20.537Z"
   },
   {
    "duration": 582,
    "start_time": "2021-07-05T06:37:21.451Z"
   },
   {
    "duration": 5,
    "start_time": "2021-07-05T06:37:24.378Z"
   },
   {
    "duration": 5,
    "start_time": "2021-07-05T06:37:26.401Z"
   },
   {
    "duration": 5,
    "start_time": "2021-07-05T06:37:27.792Z"
   },
   {
    "duration": 10,
    "start_time": "2021-07-05T06:39:34.666Z"
   },
   {
    "duration": 6,
    "start_time": "2021-07-05T06:41:10.675Z"
   },
   {
    "duration": 6,
    "start_time": "2021-07-05T06:41:31.523Z"
   },
   {
    "duration": 5,
    "start_time": "2021-07-05T06:41:41.731Z"
   },
   {
    "duration": 6,
    "start_time": "2021-07-05T06:41:51.346Z"
   },
   {
    "duration": 108,
    "start_time": "2021-07-05T07:14:33.599Z"
   },
   {
    "duration": 103,
    "start_time": "2021-07-05T07:15:34.041Z"
   },
   {
    "duration": 328,
    "start_time": "2021-07-05T07:16:00.239Z"
   },
   {
    "duration": 1404,
    "start_time": "2021-07-05T07:29:57.307Z"
   },
   {
    "duration": 60,
    "start_time": "2021-07-05T07:29:58.714Z"
   },
   {
    "duration": 16,
    "start_time": "2021-07-05T07:29:58.777Z"
   },
   {
    "duration": 65,
    "start_time": "2021-07-05T07:29:58.796Z"
   },
   {
    "duration": 41,
    "start_time": "2021-07-05T07:29:58.863Z"
   },
   {
    "duration": 18,
    "start_time": "2021-07-05T07:29:58.906Z"
   },
   {
    "duration": 14,
    "start_time": "2021-07-05T07:29:58.926Z"
   },
   {
    "duration": 2618,
    "start_time": "2021-07-05T07:29:58.944Z"
   },
   {
    "duration": 55,
    "start_time": "2021-07-05T07:30:01.566Z"
   },
   {
    "duration": 438,
    "start_time": "2021-07-05T07:30:01.625Z"
   },
   {
    "duration": 7,
    "start_time": "2021-07-05T07:30:02.065Z"
   },
   {
    "duration": 74,
    "start_time": "2021-07-05T07:30:02.085Z"
   },
   {
    "duration": 37,
    "start_time": "2021-07-05T07:30:02.162Z"
   },
   {
    "duration": 16,
    "start_time": "2021-07-05T07:30:02.201Z"
   },
   {
    "duration": 15,
    "start_time": "2021-07-05T07:30:02.219Z"
   },
   {
    "duration": 19,
    "start_time": "2021-07-05T07:30:02.237Z"
   },
   {
    "duration": 34,
    "start_time": "2021-07-05T07:30:02.259Z"
   },
   {
    "duration": 25,
    "start_time": "2021-07-05T07:30:02.295Z"
   },
   {
    "duration": 28,
    "start_time": "2021-07-05T07:30:02.323Z"
   },
   {
    "duration": 61,
    "start_time": "2021-07-05T07:30:02.354Z"
   },
   {
    "duration": 134,
    "start_time": "2021-07-05T07:30:02.418Z"
   },
   {
    "duration": 32,
    "start_time": "2021-07-05T07:30:02.555Z"
   },
   {
    "duration": 102,
    "start_time": "2021-07-05T07:30:02.592Z"
   },
   {
    "duration": 9,
    "start_time": "2021-07-05T07:32:26.234Z"
   },
   {
    "duration": 1286,
    "start_time": "2021-07-05T07:32:39.532Z"
   },
   {
    "duration": 60,
    "start_time": "2021-07-05T07:32:40.821Z"
   },
   {
    "duration": 13,
    "start_time": "2021-07-05T07:32:40.884Z"
   },
   {
    "duration": 61,
    "start_time": "2021-07-05T07:32:40.900Z"
   },
   {
    "duration": 39,
    "start_time": "2021-07-05T07:32:40.963Z"
   },
   {
    "duration": 12,
    "start_time": "2021-07-05T07:32:41.005Z"
   },
   {
    "duration": 12,
    "start_time": "2021-07-05T07:32:41.019Z"
   },
   {
    "duration": 51,
    "start_time": "2021-07-05T07:32:41.035Z"
   },
   {
    "duration": 2623,
    "start_time": "2021-07-05T07:32:41.089Z"
   },
   {
    "duration": 21,
    "start_time": "2021-07-05T07:32:43.714Z"
   },
   {
    "duration": 395,
    "start_time": "2021-07-05T07:32:43.738Z"
   },
   {
    "duration": 7,
    "start_time": "2021-07-05T07:32:44.137Z"
   },
   {
    "duration": 8,
    "start_time": "2021-07-05T07:32:44.147Z"
   },
   {
    "duration": 36,
    "start_time": "2021-07-05T07:32:44.158Z"
   },
   {
    "duration": 7,
    "start_time": "2021-07-05T07:32:44.196Z"
   },
   {
    "duration": 8,
    "start_time": "2021-07-05T07:32:44.206Z"
   },
   {
    "duration": 12,
    "start_time": "2021-07-05T07:32:44.216Z"
   },
   {
    "duration": 6,
    "start_time": "2021-07-05T07:32:44.231Z"
   },
   {
    "duration": 50,
    "start_time": "2021-07-05T07:32:44.239Z"
   },
   {
    "duration": 6,
    "start_time": "2021-07-05T07:32:44.292Z"
   },
   {
    "duration": 7,
    "start_time": "2021-07-05T07:32:44.301Z"
   },
   {
    "duration": 6,
    "start_time": "2021-07-05T07:32:44.311Z"
   },
   {
    "duration": 7,
    "start_time": "2021-07-05T07:32:44.323Z"
   },
   {
    "duration": 162,
    "start_time": "2021-07-05T07:32:44.332Z"
   },
   {
    "duration": 19,
    "start_time": "2021-07-05T07:33:24.760Z"
   },
   {
    "duration": 57,
    "start_time": "2021-07-05T07:40:21.041Z"
   },
   {
    "duration": 141,
    "start_time": "2021-07-05T07:40:36.752Z"
   },
   {
    "duration": 1892,
    "start_time": "2021-07-05T07:40:44.711Z"
   },
   {
    "duration": 89,
    "start_time": "2021-07-05T07:40:46.607Z"
   },
   {
    "duration": 18,
    "start_time": "2021-07-05T07:40:46.701Z"
   },
   {
    "duration": 119,
    "start_time": "2021-07-05T07:40:46.723Z"
   },
   {
    "duration": 42,
    "start_time": "2021-07-05T07:40:46.845Z"
   },
   {
    "duration": 25,
    "start_time": "2021-07-05T07:40:46.891Z"
   },
   {
    "duration": 28,
    "start_time": "2021-07-05T07:40:46.920Z"
   },
   {
    "duration": 19,
    "start_time": "2021-07-05T07:40:46.954Z"
   },
   {
    "duration": 4179,
    "start_time": "2021-07-05T07:40:46.988Z"
   },
   {
    "duration": 37,
    "start_time": "2021-07-05T07:40:51.170Z"
   },
   {
    "duration": 392,
    "start_time": "2021-07-05T07:40:51.210Z"
   },
   {
    "duration": 5,
    "start_time": "2021-07-05T07:40:51.605Z"
   },
   {
    "duration": 17,
    "start_time": "2021-07-05T07:40:51.613Z"
   },
   {
    "duration": 18,
    "start_time": "2021-07-05T07:40:51.633Z"
   },
   {
    "duration": 9,
    "start_time": "2021-07-05T07:40:51.653Z"
   },
   {
    "duration": 6,
    "start_time": "2021-07-05T07:40:51.686Z"
   },
   {
    "duration": 14,
    "start_time": "2021-07-05T07:40:51.695Z"
   },
   {
    "duration": 11,
    "start_time": "2021-07-05T07:40:51.711Z"
   },
   {
    "duration": 15,
    "start_time": "2021-07-05T07:40:51.725Z"
   },
   {
    "duration": 6,
    "start_time": "2021-07-05T07:40:51.742Z"
   },
   {
    "duration": 37,
    "start_time": "2021-07-05T07:40:51.750Z"
   },
   {
    "duration": 9,
    "start_time": "2021-07-05T07:40:51.790Z"
   },
   {
    "duration": 6,
    "start_time": "2021-07-05T07:40:51.804Z"
   },
   {
    "duration": 185,
    "start_time": "2021-07-05T07:40:51.813Z"
   },
   {
    "duration": 9,
    "start_time": "2021-07-05T07:42:47.307Z"
   },
   {
    "duration": 35,
    "start_time": "2021-07-05T07:49:33.600Z"
   },
   {
    "duration": 1452,
    "start_time": "2021-07-05T07:49:53.278Z"
   },
   {
    "duration": 59,
    "start_time": "2021-07-05T07:49:54.733Z"
   },
   {
    "duration": 12,
    "start_time": "2021-07-05T07:49:54.795Z"
   },
   {
    "duration": 78,
    "start_time": "2021-07-05T07:49:54.810Z"
   },
   {
    "duration": 19,
    "start_time": "2021-07-05T07:49:54.891Z"
   },
   {
    "duration": 10,
    "start_time": "2021-07-05T07:49:54.912Z"
   },
   {
    "duration": 14,
    "start_time": "2021-07-05T07:49:54.925Z"
   },
   {
    "duration": 49,
    "start_time": "2021-07-05T07:49:54.943Z"
   },
   {
    "duration": 2693,
    "start_time": "2021-07-05T07:49:54.996Z"
   },
   {
    "duration": 45,
    "start_time": "2021-07-05T07:49:57.691Z"
   },
   {
    "duration": 10,
    "start_time": "2021-07-05T07:49:57.739Z"
   },
   {
    "duration": 400,
    "start_time": "2021-07-05T07:49:57.752Z"
   },
   {
    "duration": 6,
    "start_time": "2021-07-05T07:49:58.155Z"
   },
   {
    "duration": 22,
    "start_time": "2021-07-05T07:49:58.163Z"
   },
   {
    "duration": 13,
    "start_time": "2021-07-05T07:49:58.188Z"
   },
   {
    "duration": 18,
    "start_time": "2021-07-05T07:49:58.203Z"
   },
   {
    "duration": 12,
    "start_time": "2021-07-05T07:49:58.223Z"
   },
   {
    "duration": 19,
    "start_time": "2021-07-05T07:49:58.238Z"
   },
   {
    "duration": 9,
    "start_time": "2021-07-05T07:49:58.259Z"
   },
   {
    "duration": 19,
    "start_time": "2021-07-05T07:49:58.271Z"
   },
   {
    "duration": 16,
    "start_time": "2021-07-05T07:49:58.292Z"
   },
   {
    "duration": 7,
    "start_time": "2021-07-05T07:49:58.310Z"
   },
   {
    "duration": 16,
    "start_time": "2021-07-05T07:49:58.321Z"
   },
   {
    "duration": 11,
    "start_time": "2021-07-05T07:49:58.340Z"
   },
   {
    "duration": 241,
    "start_time": "2021-07-05T07:49:58.353Z"
   },
   {
    "duration": 1348,
    "start_time": "2021-07-05T07:51:07.271Z"
   },
   {
    "duration": 60,
    "start_time": "2021-07-05T07:51:08.622Z"
   },
   {
    "duration": 11,
    "start_time": "2021-07-05T07:51:08.686Z"
   },
   {
    "duration": 62,
    "start_time": "2021-07-05T07:51:08.699Z"
   },
   {
    "duration": 34,
    "start_time": "2021-07-05T07:51:08.764Z"
   },
   {
    "duration": 11,
    "start_time": "2021-07-05T07:51:08.801Z"
   },
   {
    "duration": 13,
    "start_time": "2021-07-05T07:51:08.814Z"
   },
   {
    "duration": 12,
    "start_time": "2021-07-05T07:51:08.830Z"
   },
   {
    "duration": 2746,
    "start_time": "2021-07-05T07:51:08.845Z"
   },
   {
    "duration": 31,
    "start_time": "2021-07-05T07:51:11.594Z"
   },
   {
    "duration": 8,
    "start_time": "2021-07-05T07:51:11.628Z"
   },
   {
    "duration": 403,
    "start_time": "2021-07-05T07:51:11.638Z"
   },
   {
    "duration": 6,
    "start_time": "2021-07-05T07:51:12.044Z"
   },
   {
    "duration": 11,
    "start_time": "2021-07-05T07:51:12.052Z"
   },
   {
    "duration": 26,
    "start_time": "2021-07-05T07:51:12.065Z"
   },
   {
    "duration": 6,
    "start_time": "2021-07-05T07:51:12.093Z"
   },
   {
    "duration": 9,
    "start_time": "2021-07-05T07:51:12.102Z"
   },
   {
    "duration": 12,
    "start_time": "2021-07-05T07:51:12.113Z"
   },
   {
    "duration": 12,
    "start_time": "2021-07-05T07:51:12.127Z"
   },
   {
    "duration": 10,
    "start_time": "2021-07-05T07:51:12.142Z"
   },
   {
    "duration": 7,
    "start_time": "2021-07-05T07:51:12.185Z"
   },
   {
    "duration": 7,
    "start_time": "2021-07-05T07:51:12.194Z"
   },
   {
    "duration": 12,
    "start_time": "2021-07-05T07:51:12.206Z"
   },
   {
    "duration": 9,
    "start_time": "2021-07-05T07:51:12.221Z"
   },
   {
    "duration": 460,
    "start_time": "2021-07-05T07:51:12.233Z"
   },
   {
    "duration": 55,
    "start_time": "2021-07-05T07:51:41.626Z"
   },
   {
    "duration": 1400,
    "start_time": "2021-07-05T07:51:48.827Z"
   },
   {
    "duration": 60,
    "start_time": "2021-07-05T07:51:50.230Z"
   },
   {
    "duration": 12,
    "start_time": "2021-07-05T07:51:50.293Z"
   },
   {
    "duration": 79,
    "start_time": "2021-07-05T07:51:50.308Z"
   },
   {
    "duration": 19,
    "start_time": "2021-07-05T07:51:50.389Z"
   },
   {
    "duration": 18,
    "start_time": "2021-07-05T07:51:50.410Z"
   },
   {
    "duration": 15,
    "start_time": "2021-07-05T07:51:50.431Z"
   },
   {
    "duration": 41,
    "start_time": "2021-07-05T07:51:50.450Z"
   },
   {
    "duration": 2857,
    "start_time": "2021-07-05T07:51:50.494Z"
   },
   {
    "duration": 45,
    "start_time": "2021-07-05T07:51:53.353Z"
   },
   {
    "duration": 7888,
    "start_time": "2021-07-05T07:51:53.401Z"
   },
   {
    "duration": -61,
    "start_time": "2021-07-05T07:52:01.353Z"
   },
   {
    "duration": -77,
    "start_time": "2021-07-05T07:52:01.370Z"
   },
   {
    "duration": -85,
    "start_time": "2021-07-05T07:52:01.380Z"
   },
   {
    "duration": -91,
    "start_time": "2021-07-05T07:52:01.388Z"
   },
   {
    "duration": -97,
    "start_time": "2021-07-05T07:52:01.396Z"
   },
   {
    "duration": -105,
    "start_time": "2021-07-05T07:52:01.406Z"
   },
   {
    "duration": -110,
    "start_time": "2021-07-05T07:52:01.413Z"
   },
   {
    "duration": -115,
    "start_time": "2021-07-05T07:52:01.420Z"
   },
   {
    "duration": -120,
    "start_time": "2021-07-05T07:52:01.427Z"
   },
   {
    "duration": -139,
    "start_time": "2021-07-05T07:52:01.448Z"
   },
   {
    "duration": -146,
    "start_time": "2021-07-05T07:52:01.456Z"
   },
   {
    "duration": -151,
    "start_time": "2021-07-05T07:52:01.463Z"
   },
   {
    "duration": -157,
    "start_time": "2021-07-05T07:52:01.471Z"
   },
   {
    "duration": -161,
    "start_time": "2021-07-05T07:52:01.477Z"
   },
   {
    "duration": 1419,
    "start_time": "2021-07-05T07:52:58.128Z"
   },
   {
    "duration": 59,
    "start_time": "2021-07-05T07:52:59.549Z"
   },
   {
    "duration": 12,
    "start_time": "2021-07-05T07:52:59.612Z"
   },
   {
    "duration": 84,
    "start_time": "2021-07-05T07:52:59.627Z"
   },
   {
    "duration": 19,
    "start_time": "2021-07-05T07:52:59.714Z"
   },
   {
    "duration": 11,
    "start_time": "2021-07-05T07:52:59.735Z"
   },
   {
    "duration": 44,
    "start_time": "2021-07-05T07:52:59.749Z"
   },
   {
    "duration": 11,
    "start_time": "2021-07-05T07:52:59.797Z"
   },
   {
    "duration": 3019,
    "start_time": "2021-07-05T07:52:59.811Z"
   },
   {
    "duration": 60,
    "start_time": "2021-07-05T07:53:02.832Z"
   },
   {
    "duration": 8666,
    "start_time": "2021-07-05T07:53:02.894Z"
   },
   {
    "duration": -121,
    "start_time": "2021-07-05T07:53:11.684Z"
   },
   {
    "duration": -139,
    "start_time": "2021-07-05T07:53:11.704Z"
   },
   {
    "duration": -146,
    "start_time": "2021-07-05T07:53:11.713Z"
   },
   {
    "duration": -164,
    "start_time": "2021-07-05T07:53:11.733Z"
   },
   {
    "duration": -200,
    "start_time": "2021-07-05T07:53:11.770Z"
   },
   {
    "duration": -228,
    "start_time": "2021-07-05T07:53:11.800Z"
   },
   {
    "duration": -266,
    "start_time": "2021-07-05T07:53:11.839Z"
   },
   {
    "duration": -296,
    "start_time": "2021-07-05T07:53:11.870Z"
   },
   {
    "duration": -328,
    "start_time": "2021-07-05T07:53:11.903Z"
   },
   {
    "duration": -358,
    "start_time": "2021-07-05T07:53:11.935Z"
   },
   {
    "duration": -385,
    "start_time": "2021-07-05T07:53:11.963Z"
   },
   {
    "duration": -402,
    "start_time": "2021-07-05T07:53:11.981Z"
   },
   {
    "duration": -423,
    "start_time": "2021-07-05T07:53:12.003Z"
   },
   {
    "duration": -455,
    "start_time": "2021-07-05T07:53:12.037Z"
   },
   {
    "duration": 1332,
    "start_time": "2021-07-05T07:53:48.379Z"
   },
   {
    "duration": 59,
    "start_time": "2021-07-05T07:53:49.714Z"
   },
   {
    "duration": 12,
    "start_time": "2021-07-05T07:53:49.786Z"
   },
   {
    "duration": 60,
    "start_time": "2021-07-05T07:53:49.801Z"
   },
   {
    "duration": 39,
    "start_time": "2021-07-05T07:53:49.863Z"
   },
   {
    "duration": 11,
    "start_time": "2021-07-05T07:53:49.904Z"
   },
   {
    "duration": 14,
    "start_time": "2021-07-05T07:53:49.919Z"
   },
   {
    "duration": 11,
    "start_time": "2021-07-05T07:53:49.936Z"
   },
   {
    "duration": 2596,
    "start_time": "2021-07-05T07:53:49.950Z"
   },
   {
    "duration": 49,
    "start_time": "2021-07-05T07:53:52.549Z"
   },
   {
    "duration": 386,
    "start_time": "2021-07-05T07:53:52.601Z"
   },
   {
    "duration": 6,
    "start_time": "2021-07-05T07:53:52.990Z"
   },
   {
    "duration": 9,
    "start_time": "2021-07-05T07:53:52.998Z"
   },
   {
    "duration": 9,
    "start_time": "2021-07-05T07:53:53.009Z"
   },
   {
    "duration": 5,
    "start_time": "2021-07-05T07:53:53.020Z"
   },
   {
    "duration": 12,
    "start_time": "2021-07-05T07:53:53.027Z"
   },
   {
    "duration": 46,
    "start_time": "2021-07-05T07:53:53.041Z"
   },
   {
    "duration": 11,
    "start_time": "2021-07-05T07:53:53.089Z"
   },
   {
    "duration": 9,
    "start_time": "2021-07-05T07:53:53.103Z"
   },
   {
    "duration": 16,
    "start_time": "2021-07-05T07:53:53.114Z"
   },
   {
    "duration": 12,
    "start_time": "2021-07-05T07:53:53.132Z"
   },
   {
    "duration": 14,
    "start_time": "2021-07-05T07:53:53.148Z"
   },
   {
    "duration": 25,
    "start_time": "2021-07-05T07:53:53.165Z"
   },
   {
    "duration": 198,
    "start_time": "2021-07-05T07:53:53.193Z"
   },
   {
    "duration": 1491,
    "start_time": "2021-07-05T07:56:12.047Z"
   },
   {
    "duration": 62,
    "start_time": "2021-07-05T07:56:13.541Z"
   },
   {
    "duration": 15,
    "start_time": "2021-07-05T07:56:13.607Z"
   },
   {
    "duration": 90,
    "start_time": "2021-07-05T07:56:13.625Z"
   },
   {
    "duration": 21,
    "start_time": "2021-07-05T07:56:13.719Z"
   },
   {
    "duration": 13,
    "start_time": "2021-07-05T07:56:13.743Z"
   },
   {
    "duration": 14,
    "start_time": "2021-07-05T07:56:13.786Z"
   },
   {
    "duration": 13,
    "start_time": "2021-07-05T07:56:13.806Z"
   },
   {
    "duration": 2819,
    "start_time": "2021-07-05T07:56:13.823Z"
   },
   {
    "duration": 52,
    "start_time": "2021-07-05T07:56:16.645Z"
   },
   {
    "duration": 395,
    "start_time": "2021-07-05T07:56:16.701Z"
   },
   {
    "duration": 8,
    "start_time": "2021-07-05T07:56:17.099Z"
   },
   {
    "duration": 10,
    "start_time": "2021-07-05T07:56:17.110Z"
   },
   {
    "duration": 10,
    "start_time": "2021-07-05T07:56:17.123Z"
   },
   {
    "duration": 7,
    "start_time": "2021-07-05T07:56:17.135Z"
   },
   {
    "duration": 6,
    "start_time": "2021-07-05T07:56:17.186Z"
   },
   {
    "duration": 7,
    "start_time": "2021-07-05T07:56:17.194Z"
   },
   {
    "duration": 8,
    "start_time": "2021-07-05T07:56:17.204Z"
   },
   {
    "duration": 9,
    "start_time": "2021-07-05T07:56:17.214Z"
   },
   {
    "duration": 5,
    "start_time": "2021-07-05T07:56:17.227Z"
   },
   {
    "duration": 50,
    "start_time": "2021-07-05T07:56:17.235Z"
   },
   {
    "duration": 6,
    "start_time": "2021-07-05T07:56:17.288Z"
   },
   {
    "duration": 7,
    "start_time": "2021-07-05T07:56:17.298Z"
   },
   {
    "duration": 176,
    "start_time": "2021-07-05T07:56:17.308Z"
   },
   {
    "duration": 1333,
    "start_time": "2021-07-05T08:25:36.191Z"
   },
   {
    "duration": 61,
    "start_time": "2021-07-05T08:25:37.526Z"
   },
   {
    "duration": 12,
    "start_time": "2021-07-05T08:25:37.590Z"
   },
   {
    "duration": 82,
    "start_time": "2021-07-05T08:25:37.605Z"
   },
   {
    "duration": 22,
    "start_time": "2021-07-05T08:25:37.689Z"
   },
   {
    "duration": 12,
    "start_time": "2021-07-05T08:25:37.714Z"
   },
   {
    "duration": 14,
    "start_time": "2021-07-05T08:25:37.730Z"
   },
   {
    "duration": 14,
    "start_time": "2021-07-05T08:25:37.787Z"
   },
   {
    "duration": 2983,
    "start_time": "2021-07-05T08:25:37.804Z"
   },
   {
    "duration": 43,
    "start_time": "2021-07-05T08:25:40.790Z"
   },
   {
    "duration": 386,
    "start_time": "2021-07-05T08:25:40.836Z"
   },
   {
    "duration": 6,
    "start_time": "2021-07-05T08:25:41.225Z"
   },
   {
    "duration": 25,
    "start_time": "2021-07-05T08:25:41.233Z"
   },
   {
    "duration": 21,
    "start_time": "2021-07-05T08:25:41.261Z"
   },
   {
    "duration": 12,
    "start_time": "2021-07-05T08:25:41.285Z"
   },
   {
    "duration": 22,
    "start_time": "2021-07-05T08:25:41.300Z"
   },
   {
    "duration": 22,
    "start_time": "2021-07-05T08:25:41.325Z"
   },
   {
    "duration": 24,
    "start_time": "2021-07-05T08:25:41.349Z"
   },
   {
    "duration": 19,
    "start_time": "2021-07-05T08:25:41.375Z"
   },
   {
    "duration": 15,
    "start_time": "2021-07-05T08:25:41.397Z"
   },
   {
    "duration": 22,
    "start_time": "2021-07-05T08:25:41.414Z"
   },
   {
    "duration": 21,
    "start_time": "2021-07-05T08:25:41.438Z"
   },
   {
    "duration": 21,
    "start_time": "2021-07-05T08:25:41.463Z"
   },
   {
    "duration": 44,
    "start_time": "2021-07-05T08:25:41.486Z"
   },
   {
    "duration": 61,
    "start_time": "2021-07-05T08:25:41.533Z"
   },
   {
    "duration": 1390,
    "start_time": "2021-07-05T08:27:23.935Z"
   },
   {
    "duration": 59,
    "start_time": "2021-07-05T08:27:25.328Z"
   },
   {
    "duration": 13,
    "start_time": "2021-07-05T08:27:25.390Z"
   },
   {
    "duration": 81,
    "start_time": "2021-07-05T08:27:25.406Z"
   },
   {
    "duration": 19,
    "start_time": "2021-07-05T08:27:25.489Z"
   },
   {
    "duration": 13,
    "start_time": "2021-07-05T08:27:25.510Z"
   },
   {
    "duration": 14,
    "start_time": "2021-07-05T08:27:25.525Z"
   },
   {
    "duration": 47,
    "start_time": "2021-07-05T08:27:25.543Z"
   },
   {
    "duration": 2566,
    "start_time": "2021-07-05T08:27:25.593Z"
   },
   {
    "duration": 47,
    "start_time": "2021-07-05T08:27:28.161Z"
   },
   {
    "duration": 404,
    "start_time": "2021-07-05T08:27:28.210Z"
   },
   {
    "duration": 6,
    "start_time": "2021-07-05T08:27:28.617Z"
   },
   {
    "duration": 8,
    "start_time": "2021-07-05T08:27:28.626Z"
   },
   {
    "duration": 9,
    "start_time": "2021-07-05T08:27:28.636Z"
   },
   {
    "duration": 40,
    "start_time": "2021-07-05T08:27:28.647Z"
   },
   {
    "duration": 7,
    "start_time": "2021-07-05T08:27:28.690Z"
   },
   {
    "duration": 11,
    "start_time": "2021-07-05T08:27:28.700Z"
   },
   {
    "duration": 7,
    "start_time": "2021-07-05T08:27:28.713Z"
   },
   {
    "duration": 10,
    "start_time": "2021-07-05T08:27:28.723Z"
   },
   {
    "duration": 54,
    "start_time": "2021-07-05T08:27:28.735Z"
   },
   {
    "duration": 7,
    "start_time": "2021-07-05T08:27:28.791Z"
   },
   {
    "duration": 7,
    "start_time": "2021-07-05T08:27:28.801Z"
   },
   {
    "duration": 5,
    "start_time": "2021-07-05T08:27:28.812Z"
   },
   {
    "duration": 71,
    "start_time": "2021-07-05T08:27:28.819Z"
   },
   {
    "duration": 109,
    "start_time": "2021-07-05T08:27:28.893Z"
   },
   {
    "duration": 60,
    "start_time": "2021-07-05T08:28:08.826Z"
   },
   {
    "duration": 51,
    "start_time": "2021-07-05T08:28:23.342Z"
   },
   {
    "duration": 36,
    "start_time": "2021-07-05T08:28:49.009Z"
   },
   {
    "duration": 330,
    "start_time": "2021-07-05T12:49:00.794Z"
   },
   {
    "duration": 1596,
    "start_time": "2021-07-05T12:49:08.567Z"
   },
   {
    "duration": 82,
    "start_time": "2021-07-05T12:49:10.168Z"
   },
   {
    "duration": 16,
    "start_time": "2021-07-05T12:49:10.257Z"
   },
   {
    "duration": 83,
    "start_time": "2021-07-05T12:49:10.277Z"
   },
   {
    "duration": 24,
    "start_time": "2021-07-05T12:49:10.362Z"
   },
   {
    "duration": 17,
    "start_time": "2021-07-05T12:49:10.389Z"
   },
   {
    "duration": 49,
    "start_time": "2021-07-05T12:49:10.409Z"
   },
   {
    "duration": 14,
    "start_time": "2021-07-05T12:49:10.462Z"
   },
   {
    "duration": 2753,
    "start_time": "2021-07-05T12:49:10.479Z"
   },
   {
    "duration": 47,
    "start_time": "2021-07-05T12:49:13.234Z"
   },
   {
    "duration": 383,
    "start_time": "2021-07-05T12:49:13.283Z"
   },
   {
    "duration": 7,
    "start_time": "2021-07-05T12:49:13.668Z"
   },
   {
    "duration": 12,
    "start_time": "2021-07-05T12:49:13.677Z"
   },
   {
    "duration": 11,
    "start_time": "2021-07-05T12:49:13.691Z"
   },
   {
    "duration": 7,
    "start_time": "2021-07-05T12:49:13.704Z"
   },
   {
    "duration": 6,
    "start_time": "2021-07-05T12:49:13.714Z"
   },
   {
    "duration": 6,
    "start_time": "2021-07-05T12:49:13.756Z"
   },
   {
    "duration": 7,
    "start_time": "2021-07-05T12:49:13.764Z"
   },
   {
    "duration": 9,
    "start_time": "2021-07-05T12:49:13.773Z"
   },
   {
    "duration": 5,
    "start_time": "2021-07-05T12:49:13.784Z"
   },
   {
    "duration": 9,
    "start_time": "2021-07-05T12:49:13.792Z"
   },
   {
    "duration": 54,
    "start_time": "2021-07-05T12:49:13.803Z"
   },
   {
    "duration": 8,
    "start_time": "2021-07-05T12:49:13.862Z"
   },
   {
    "duration": 46,
    "start_time": "2021-07-05T12:49:13.874Z"
   },
   {
    "duration": 135,
    "start_time": "2021-07-05T12:49:13.923Z"
   },
   {
    "duration": 435,
    "start_time": "2021-07-05T12:49:14.062Z"
   },
   {
    "duration": 277,
    "start_time": "2021-07-05T12:51:34.187Z"
   },
   {
    "duration": 95,
    "start_time": "2021-07-05T13:29:34.302Z"
   },
   {
    "duration": 103,
    "start_time": "2021-07-05T13:30:24.650Z"
   },
   {
    "duration": 96,
    "start_time": "2021-07-05T13:32:31.685Z"
   },
   {
    "duration": 94,
    "start_time": "2021-07-05T13:34:03.381Z"
   },
   {
    "duration": 6,
    "start_time": "2021-07-05T13:35:12.233Z"
   },
   {
    "duration": 1360,
    "start_time": "2021-07-05T13:35:20.983Z"
   },
   {
    "duration": 117,
    "start_time": "2021-07-05T13:35:26.007Z"
   },
   {
    "duration": 90,
    "start_time": "2021-07-05T13:36:00.487Z"
   },
   {
    "duration": 88,
    "start_time": "2021-07-05T13:36:45.960Z"
   },
   {
    "duration": 6,
    "start_time": "2021-07-05T13:37:03.380Z"
   },
   {
    "duration": 108,
    "start_time": "2021-07-05T13:37:16.304Z"
   },
   {
    "duration": 314,
    "start_time": "2021-07-05T13:37:26.030Z"
   },
   {
    "duration": 82,
    "start_time": "2021-07-05T13:37:54.947Z"
   },
   {
    "duration": 5,
    "start_time": "2021-07-05T13:38:27.293Z"
   },
   {
    "duration": 6,
    "start_time": "2021-07-05T13:38:58.522Z"
   },
   {
    "duration": 69,
    "start_time": "2021-07-05T13:40:30.187Z"
   },
   {
    "duration": 90,
    "start_time": "2021-07-05T13:46:32.798Z"
   },
   {
    "duration": 83,
    "start_time": "2021-07-05T13:46:58.753Z"
   },
   {
    "duration": 87,
    "start_time": "2021-07-05T13:47:07.587Z"
   },
   {
    "duration": 5,
    "start_time": "2021-07-05T13:47:15.366Z"
   },
   {
    "duration": 61,
    "start_time": "2021-07-05T13:47:17.599Z"
   },
   {
    "duration": 5,
    "start_time": "2021-07-05T13:47:33.284Z"
   },
   {
    "duration": 61,
    "start_time": "2021-07-05T13:47:35.996Z"
   },
   {
    "duration": 8,
    "start_time": "2021-07-05T13:48:02.174Z"
   },
   {
    "duration": 77,
    "start_time": "2021-07-05T13:48:04.280Z"
   },
   {
    "duration": 7,
    "start_time": "2021-07-05T13:50:05.619Z"
   },
   {
    "duration": 47,
    "start_time": "2021-07-05T13:50:07.814Z"
   },
   {
    "duration": 98,
    "start_time": "2021-07-05T14:00:43.900Z"
   },
   {
    "duration": 7,
    "start_time": "2021-07-05T14:01:06.052Z"
   },
   {
    "duration": 266,
    "start_time": "2021-07-05T14:01:08.136Z"
   },
   {
    "duration": 125,
    "start_time": "2021-07-05T14:01:46.138Z"
   },
   {
    "duration": 93,
    "start_time": "2021-07-05T14:15:38.402Z"
   },
   {
    "duration": 99,
    "start_time": "2021-07-05T14:15:51.507Z"
   },
   {
    "duration": 9,
    "start_time": "2021-07-05T14:16:01.835Z"
   },
   {
    "duration": 549,
    "start_time": "2021-07-05T14:16:08.708Z"
   },
   {
    "duration": 1491,
    "start_time": "2021-07-05T14:16:34.655Z"
   },
   {
    "duration": 61,
    "start_time": "2021-07-05T14:16:36.149Z"
   },
   {
    "duration": 11,
    "start_time": "2021-07-05T14:16:36.213Z"
   },
   {
    "duration": 65,
    "start_time": "2021-07-05T14:16:36.227Z"
   },
   {
    "duration": 19,
    "start_time": "2021-07-05T14:16:36.294Z"
   },
   {
    "duration": 25,
    "start_time": "2021-07-05T14:16:36.315Z"
   },
   {
    "duration": 35,
    "start_time": "2021-07-05T14:16:36.342Z"
   },
   {
    "duration": 15,
    "start_time": "2021-07-05T14:16:36.380Z"
   },
   {
    "duration": 2684,
    "start_time": "2021-07-05T14:16:36.398Z"
   },
   {
    "duration": 33,
    "start_time": "2021-07-05T14:16:39.084Z"
   },
   {
    "duration": 365,
    "start_time": "2021-07-05T14:16:39.119Z"
   },
   {
    "duration": 7,
    "start_time": "2021-07-05T14:16:39.486Z"
   },
   {
    "duration": 12,
    "start_time": "2021-07-05T14:16:39.496Z"
   },
   {
    "duration": 16,
    "start_time": "2021-07-05T14:16:39.510Z"
   },
   {
    "duration": 30,
    "start_time": "2021-07-05T14:16:39.528Z"
   },
   {
    "duration": 6,
    "start_time": "2021-07-05T14:16:39.561Z"
   },
   {
    "duration": 10,
    "start_time": "2021-07-05T14:16:39.570Z"
   },
   {
    "duration": 18,
    "start_time": "2021-07-05T14:16:39.582Z"
   },
   {
    "duration": 14,
    "start_time": "2021-07-05T14:16:39.602Z"
   },
   {
    "duration": 5,
    "start_time": "2021-07-05T14:16:39.619Z"
   },
   {
    "duration": 6,
    "start_time": "2021-07-05T14:16:39.656Z"
   },
   {
    "duration": 10,
    "start_time": "2021-07-05T14:16:39.664Z"
   },
   {
    "duration": 6,
    "start_time": "2021-07-05T14:16:39.679Z"
   },
   {
    "duration": 72,
    "start_time": "2021-07-05T14:16:39.688Z"
   },
   {
    "duration": 11,
    "start_time": "2021-07-05T14:16:39.763Z"
   },
   {
    "duration": 841,
    "start_time": "2021-07-05T14:16:39.776Z"
   },
   {
    "duration": 138,
    "start_time": "2021-07-05T14:17:09.422Z"
   },
   {
    "duration": 101,
    "start_time": "2021-07-05T14:17:38.185Z"
   },
   {
    "duration": 114,
    "start_time": "2021-07-05T14:20:08.902Z"
   },
   {
    "duration": 94,
    "start_time": "2021-07-05T14:20:51.583Z"
   },
   {
    "duration": 9,
    "start_time": "2021-07-05T14:21:41.381Z"
   },
   {
    "duration": 610,
    "start_time": "2021-07-05T14:21:47.961Z"
   },
   {
    "duration": 9,
    "start_time": "2021-07-05T14:23:49.159Z"
   },
   {
    "duration": 658,
    "start_time": "2021-07-05T14:23:52.264Z"
   },
   {
    "duration": 85,
    "start_time": "2021-07-05T14:24:07.716Z"
   },
   {
    "duration": 125,
    "start_time": "2021-07-05T14:24:22.986Z"
   },
   {
    "duration": 11,
    "start_time": "2021-07-05T14:24:51.728Z"
   },
   {
    "duration": 668,
    "start_time": "2021-07-05T14:25:02.903Z"
   },
   {
    "duration": 87,
    "start_time": "2021-07-05T14:25:29.572Z"
   },
   {
    "duration": 82,
    "start_time": "2021-07-05T14:25:39.661Z"
   },
   {
    "duration": 535,
    "start_time": "2021-07-05T14:25:41.753Z"
   },
   {
    "duration": 9,
    "start_time": "2021-07-05T14:25:53.372Z"
   },
   {
    "duration": 579,
    "start_time": "2021-07-05T14:25:55.421Z"
   },
   {
    "duration": 8,
    "start_time": "2021-07-05T14:26:13.889Z"
   },
   {
    "duration": 695,
    "start_time": "2021-07-05T14:26:15.678Z"
   },
   {
    "duration": 96,
    "start_time": "2021-07-05T14:26:26.005Z"
   },
   {
    "duration": 16,
    "start_time": "2021-07-05T14:26:34.498Z"
   },
   {
    "duration": 176,
    "start_time": "2021-07-05T14:26:35.883Z"
   },
   {
    "duration": 11,
    "start_time": "2021-07-05T14:30:46.267Z"
   },
   {
    "duration": 2472,
    "start_time": "2021-07-05T14:30:47.788Z"
   },
   {
    "duration": 1376,
    "start_time": "2021-07-05T14:32:26.011Z"
   },
   {
    "duration": 57,
    "start_time": "2021-07-05T14:32:27.390Z"
   },
   {
    "duration": 14,
    "start_time": "2021-07-05T14:32:27.449Z"
   },
   {
    "duration": 75,
    "start_time": "2021-07-05T14:32:27.465Z"
   },
   {
    "duration": 27,
    "start_time": "2021-07-05T14:32:27.543Z"
   },
   {
    "duration": 13,
    "start_time": "2021-07-05T14:32:27.572Z"
   },
   {
    "duration": 12,
    "start_time": "2021-07-05T14:32:27.588Z"
   },
   {
    "duration": 14,
    "start_time": "2021-07-05T14:32:27.605Z"
   },
   {
    "duration": 2490,
    "start_time": "2021-07-05T14:32:27.622Z"
   },
   {
    "duration": 50,
    "start_time": "2021-07-05T14:32:30.114Z"
   },
   {
    "duration": 391,
    "start_time": "2021-07-05T14:32:30.167Z"
   },
   {
    "duration": 7,
    "start_time": "2021-07-05T14:32:30.561Z"
   },
   {
    "duration": 53,
    "start_time": "2021-07-05T14:32:30.571Z"
   },
   {
    "duration": 34,
    "start_time": "2021-07-05T14:32:30.627Z"
   },
   {
    "duration": 20,
    "start_time": "2021-07-05T14:32:30.664Z"
   },
   {
    "duration": 32,
    "start_time": "2021-07-05T14:32:30.687Z"
   },
   {
    "duration": 22,
    "start_time": "2021-07-05T14:32:30.722Z"
   },
   {
    "duration": 24,
    "start_time": "2021-07-05T14:32:30.746Z"
   },
   {
    "duration": 17,
    "start_time": "2021-07-05T14:32:30.773Z"
   },
   {
    "duration": 15,
    "start_time": "2021-07-05T14:32:30.793Z"
   },
   {
    "duration": 17,
    "start_time": "2021-07-05T14:32:30.811Z"
   },
   {
    "duration": 20,
    "start_time": "2021-07-05T14:32:30.830Z"
   },
   {
    "duration": 11,
    "start_time": "2021-07-05T14:32:30.855Z"
   },
   {
    "duration": 54,
    "start_time": "2021-07-05T14:32:30.869Z"
   },
   {
    "duration": 9,
    "start_time": "2021-07-05T14:32:30.925Z"
   },
   {
    "duration": 225,
    "start_time": "2021-07-05T14:32:30.937Z"
   },
   {
    "duration": 168,
    "start_time": "2021-07-05T14:33:38.593Z"
   },
   {
    "duration": 125,
    "start_time": "2021-07-05T18:34:24.703Z"
   },
   {
    "duration": 11,
    "start_time": "2021-07-05T18:51:01.874Z"
   },
   {
    "duration": 382,
    "start_time": "2021-07-05T18:51:07.216Z"
   },
   {
    "duration": 1550,
    "start_time": "2021-07-05T18:51:15.486Z"
   },
   {
    "duration": 58,
    "start_time": "2021-07-05T18:51:17.039Z"
   },
   {
    "duration": 18,
    "start_time": "2021-07-05T18:51:17.101Z"
   },
   {
    "duration": 64,
    "start_time": "2021-07-05T18:51:17.122Z"
   },
   {
    "duration": 19,
    "start_time": "2021-07-05T18:51:17.210Z"
   },
   {
    "duration": 11,
    "start_time": "2021-07-05T18:51:17.236Z"
   },
   {
    "duration": 17,
    "start_time": "2021-07-05T18:51:17.251Z"
   },
   {
    "duration": 17,
    "start_time": "2021-07-05T18:51:17.312Z"
   },
   {
    "duration": 4394,
    "start_time": "2021-07-05T18:51:17.333Z"
   },
   {
    "duration": 46,
    "start_time": "2021-07-05T18:51:21.730Z"
   },
   {
    "duration": 585,
    "start_time": "2021-07-05T18:51:21.779Z"
   },
   {
    "duration": 8,
    "start_time": "2021-07-05T18:51:22.368Z"
   },
   {
    "duration": 35,
    "start_time": "2021-07-05T18:51:22.378Z"
   },
   {
    "duration": 11,
    "start_time": "2021-07-05T18:51:22.415Z"
   },
   {
    "duration": 8,
    "start_time": "2021-07-05T18:51:22.429Z"
   },
   {
    "duration": 7,
    "start_time": "2021-07-05T18:51:22.440Z"
   },
   {
    "duration": 6,
    "start_time": "2021-07-05T18:51:22.450Z"
   },
   {
    "duration": 55,
    "start_time": "2021-07-05T18:51:22.458Z"
   },
   {
    "duration": 18,
    "start_time": "2021-07-05T18:51:22.515Z"
   },
   {
    "duration": 16,
    "start_time": "2021-07-05T18:51:22.535Z"
   },
   {
    "duration": 13,
    "start_time": "2021-07-05T18:51:22.554Z"
   },
   {
    "duration": 20,
    "start_time": "2021-07-05T18:51:22.570Z"
   },
   {
    "duration": 16,
    "start_time": "2021-07-05T18:51:22.596Z"
   },
   {
    "duration": 58,
    "start_time": "2021-07-05T18:51:22.615Z"
   },
   {
    "duration": 36,
    "start_time": "2021-07-05T18:51:22.676Z"
   },
   {
    "duration": 998,
    "start_time": "2021-07-05T18:51:22.715Z"
   },
   {
    "duration": 10,
    "start_time": "2021-07-05T18:52:01.164Z"
   },
   {
    "duration": 794,
    "start_time": "2021-07-05T18:52:02.787Z"
   },
   {
    "duration": 11,
    "start_time": "2021-07-05T18:58:54.362Z"
   },
   {
    "duration": 1225,
    "start_time": "2021-07-05T18:59:01.930Z"
   },
   {
    "duration": 134,
    "start_time": "2021-07-05T18:59:46.265Z"
   },
   {
    "duration": 10,
    "start_time": "2021-07-05T19:00:11.281Z"
   },
   {
    "duration": 652,
    "start_time": "2021-07-05T19:00:17.426Z"
   },
   {
    "duration": 20,
    "start_time": "2021-07-06T05:40:03.302Z"
   },
   {
    "duration": 1461,
    "start_time": "2021-07-06T05:40:14.397Z"
   },
   {
    "duration": 63,
    "start_time": "2021-07-06T05:40:15.861Z"
   },
   {
    "duration": 13,
    "start_time": "2021-07-06T05:40:15.927Z"
   },
   {
    "duration": 85,
    "start_time": "2021-07-06T05:40:15.943Z"
   },
   {
    "duration": 18,
    "start_time": "2021-07-06T05:40:16.030Z"
   },
   {
    "duration": 26,
    "start_time": "2021-07-06T05:40:16.051Z"
   },
   {
    "duration": 16,
    "start_time": "2021-07-06T05:40:16.080Z"
   },
   {
    "duration": 12,
    "start_time": "2021-07-06T05:40:16.101Z"
   },
   {
    "duration": 2901,
    "start_time": "2021-07-06T05:40:16.116Z"
   },
   {
    "duration": 50,
    "start_time": "2021-07-06T05:40:19.020Z"
   },
   {
    "duration": 400,
    "start_time": "2021-07-06T05:40:19.074Z"
   },
   {
    "duration": 7,
    "start_time": "2021-07-06T05:40:19.477Z"
   },
   {
    "duration": 10,
    "start_time": "2021-07-06T05:40:19.487Z"
   },
   {
    "duration": 9,
    "start_time": "2021-07-06T05:40:19.499Z"
   },
   {
    "duration": 7,
    "start_time": "2021-07-06T05:40:19.510Z"
   },
   {
    "duration": 47,
    "start_time": "2021-07-06T05:40:19.520Z"
   },
   {
    "duration": 6,
    "start_time": "2021-07-06T05:40:19.571Z"
   },
   {
    "duration": 10,
    "start_time": "2021-07-06T05:40:19.580Z"
   },
   {
    "duration": 12,
    "start_time": "2021-07-06T05:40:19.593Z"
   },
   {
    "duration": 5,
    "start_time": "2021-07-06T05:40:19.607Z"
   },
   {
    "duration": 6,
    "start_time": "2021-07-06T05:40:19.614Z"
   },
   {
    "duration": 46,
    "start_time": "2021-07-06T05:40:19.623Z"
   },
   {
    "duration": 6,
    "start_time": "2021-07-06T05:40:19.674Z"
   },
   {
    "duration": 42,
    "start_time": "2021-07-06T05:40:19.683Z"
   },
   {
    "duration": 52,
    "start_time": "2021-07-06T05:40:19.727Z"
   },
   {
    "duration": 853,
    "start_time": "2021-07-06T05:40:19.782Z"
   },
   {
    "duration": 625,
    "start_time": "2021-07-06T05:41:12.228Z"
   },
   {
    "duration": 18,
    "start_time": "2021-07-06T05:42:05.573Z"
   },
   {
    "duration": 662,
    "start_time": "2021-07-06T05:42:08.435Z"
   },
   {
    "duration": 630,
    "start_time": "2021-07-06T05:42:21.561Z"
   },
   {
    "duration": 18,
    "start_time": "2021-07-06T05:42:36.029Z"
   },
   {
    "duration": 952,
    "start_time": "2021-07-06T05:42:37.910Z"
   },
   {
    "duration": 19,
    "start_time": "2021-07-06T05:44:46.923Z"
   },
   {
    "duration": 892,
    "start_time": "2021-07-06T05:44:49.857Z"
   },
   {
    "duration": 9,
    "start_time": "2021-07-06T05:46:19.029Z"
   },
   {
    "duration": 722,
    "start_time": "2021-07-06T05:46:21.199Z"
   },
   {
    "duration": 19,
    "start_time": "2021-07-06T05:49:27.828Z"
   },
   {
    "duration": 1045,
    "start_time": "2021-07-06T05:49:44.396Z"
   },
   {
    "duration": 18,
    "start_time": "2021-07-06T05:51:53.178Z"
   },
   {
    "duration": 2768,
    "start_time": "2021-07-06T05:52:01.901Z"
   },
   {
    "duration": 18,
    "start_time": "2021-07-06T05:52:32.554Z"
   },
   {
    "duration": 2011,
    "start_time": "2021-07-06T05:52:35.572Z"
   },
   {
    "duration": 18,
    "start_time": "2021-07-06T05:53:24.012Z"
   },
   {
    "duration": 2094,
    "start_time": "2021-07-06T05:53:30.783Z"
   },
   {
    "duration": 18,
    "start_time": "2021-07-06T05:54:17.085Z"
   },
   {
    "duration": 1021,
    "start_time": "2021-07-06T05:54:19.920Z"
   },
   {
    "duration": 17,
    "start_time": "2021-07-06T05:54:44.172Z"
   },
   {
    "duration": 1975,
    "start_time": "2021-07-06T05:54:46.304Z"
   },
   {
    "duration": 17,
    "start_time": "2021-07-06T05:55:19.075Z"
   },
   {
    "duration": 1746,
    "start_time": "2021-07-06T05:55:21.723Z"
   },
   {
    "duration": 17,
    "start_time": "2021-07-06T05:57:01.802Z"
   },
   {
    "duration": 2195,
    "start_time": "2021-07-06T05:57:04.694Z"
   },
   {
    "duration": 4644,
    "start_time": "2021-07-06T05:57:14.828Z"
   },
   {
    "duration": 17,
    "start_time": "2021-07-06T05:58:43.230Z"
   },
   {
    "duration": 3999,
    "start_time": "2021-07-06T05:58:47.169Z"
   },
   {
    "duration": 25,
    "start_time": "2021-07-06T06:00:12.863Z"
   },
   {
    "duration": 4408,
    "start_time": "2021-07-06T06:00:17.463Z"
   },
   {
    "duration": 355,
    "start_time": "2021-07-06T06:02:16.515Z"
   },
   {
    "duration": 12,
    "start_time": "2021-07-06T06:02:34.070Z"
   },
   {
    "duration": 25,
    "start_time": "2021-07-06T06:03:52.248Z"
   },
   {
    "duration": 5701,
    "start_time": "2021-07-06T06:03:55.484Z"
   },
   {
    "duration": 17,
    "start_time": "2021-07-06T06:05:19.246Z"
   },
   {
    "duration": 16,
    "start_time": "2021-07-06T06:05:29.019Z"
   },
   {
    "duration": 4457,
    "start_time": "2021-07-06T06:05:30.931Z"
   },
   {
    "duration": 111,
    "start_time": "2021-07-06T06:05:56.030Z"
   },
   {
    "duration": 16,
    "start_time": "2021-07-06T06:06:09.410Z"
   },
   {
    "duration": 4376,
    "start_time": "2021-07-06T06:06:10.391Z"
   },
   {
    "duration": 18,
    "start_time": "2021-07-06T06:11:58.168Z"
   },
   {
    "duration": 3958,
    "start_time": "2021-07-06T06:12:01.025Z"
   },
   {
    "duration": 114,
    "start_time": "2021-07-06T06:22:21.982Z"
   },
   {
    "duration": 15,
    "start_time": "2021-07-06T06:22:43.540Z"
   },
   {
    "duration": 350,
    "start_time": "2021-07-06T06:22:46.105Z"
   },
   {
    "duration": 3808,
    "start_time": "2021-07-06T06:23:24.862Z"
   },
   {
    "duration": 17,
    "start_time": "2021-07-06T06:37:23.690Z"
   },
   {
    "duration": 1168,
    "start_time": "2021-07-06T06:37:30.066Z"
   },
   {
    "duration": 1601,
    "start_time": "2021-07-06T06:38:00.104Z"
   },
   {
    "duration": 59,
    "start_time": "2021-07-06T06:38:01.708Z"
   },
   {
    "duration": 15,
    "start_time": "2021-07-06T06:38:01.770Z"
   },
   {
    "duration": 86,
    "start_time": "2021-07-06T06:38:01.795Z"
   },
   {
    "duration": 21,
    "start_time": "2021-07-06T06:38:01.884Z"
   },
   {
    "duration": 14,
    "start_time": "2021-07-06T06:38:01.908Z"
   },
   {
    "duration": 16,
    "start_time": "2021-07-06T06:38:01.924Z"
   },
   {
    "duration": 38,
    "start_time": "2021-07-06T06:38:01.944Z"
   },
   {
    "duration": 2701,
    "start_time": "2021-07-06T06:38:01.987Z"
   },
   {
    "duration": 38,
    "start_time": "2021-07-06T06:38:04.692Z"
   },
   {
    "duration": 360,
    "start_time": "2021-07-06T06:38:04.732Z"
   },
   {
    "duration": 6,
    "start_time": "2021-07-06T06:38:05.096Z"
   },
   {
    "duration": 11,
    "start_time": "2021-07-06T06:38:05.105Z"
   },
   {
    "duration": 8,
    "start_time": "2021-07-06T06:38:05.119Z"
   },
   {
    "duration": 41,
    "start_time": "2021-07-06T06:38:05.129Z"
   },
   {
    "duration": 7,
    "start_time": "2021-07-06T06:38:05.172Z"
   },
   {
    "duration": 7,
    "start_time": "2021-07-06T06:38:05.182Z"
   },
   {
    "duration": 7,
    "start_time": "2021-07-06T06:38:05.192Z"
   },
   {
    "duration": 119,
    "start_time": "2021-07-06T06:38:05.202Z"
   },
   {
    "duration": 4,
    "start_time": "2021-07-06T06:38:05.324Z"
   },
   {
    "duration": 8,
    "start_time": "2021-07-06T06:38:05.330Z"
   },
   {
    "duration": 29,
    "start_time": "2021-07-06T06:38:05.340Z"
   },
   {
    "duration": 7,
    "start_time": "2021-07-06T06:38:05.374Z"
   },
   {
    "duration": 44,
    "start_time": "2021-07-06T06:38:05.384Z"
   },
   {
    "duration": 52,
    "start_time": "2021-07-06T06:38:05.430Z"
   },
   {
    "duration": 6951,
    "start_time": "2021-07-06T06:38:05.485Z"
   },
   {
    "duration": 127,
    "start_time": "2021-07-06T06:38:12.439Z"
   },
   {
    "duration": 17,
    "start_time": "2021-07-06T06:39:38.956Z"
   },
   {
    "duration": 4831,
    "start_time": "2021-07-06T06:39:40.586Z"
   },
   {
    "duration": 18,
    "start_time": "2021-07-06T06:41:31.455Z"
   },
   {
    "duration": 5681,
    "start_time": "2021-07-06T06:41:33.306Z"
   },
   {
    "duration": 17,
    "start_time": "2021-07-06T06:42:21.289Z"
   },
   {
    "duration": 4691,
    "start_time": "2021-07-06T06:42:22.528Z"
   },
   {
    "duration": 17,
    "start_time": "2021-07-06T06:43:43.524Z"
   },
   {
    "duration": 4988,
    "start_time": "2021-07-06T06:43:45.523Z"
   },
   {
    "duration": 17,
    "start_time": "2021-07-06T06:47:03.618Z"
   },
   {
    "duration": 4977,
    "start_time": "2021-07-06T06:47:05.826Z"
   },
   {
    "duration": 187,
    "start_time": "2021-07-06T06:48:17.900Z"
   },
   {
    "duration": 17,
    "start_time": "2021-07-06T06:48:24.437Z"
   },
   {
    "duration": 5634,
    "start_time": "2021-07-06T06:48:27.161Z"
   },
   {
    "duration": 17,
    "start_time": "2021-07-06T06:50:09.296Z"
   },
   {
    "duration": 17,
    "start_time": "2021-07-06T06:51:22.073Z"
   },
   {
    "duration": 6842,
    "start_time": "2021-07-06T06:51:24.177Z"
   },
   {
    "duration": 31,
    "start_time": "2021-07-06T11:28:39.974Z"
   },
   {
    "duration": 45,
    "start_time": "2021-07-06T11:31:28.180Z"
   },
   {
    "duration": 4602,
    "start_time": "2021-07-06T11:31:32.739Z"
   },
   {
    "duration": 1042,
    "start_time": "2021-07-06T11:32:00.122Z"
   },
   {
    "duration": 1521,
    "start_time": "2021-07-06T11:32:11.735Z"
   },
   {
    "duration": 55,
    "start_time": "2021-07-06T11:32:13.259Z"
   },
   {
    "duration": 14,
    "start_time": "2021-07-06T11:32:13.318Z"
   },
   {
    "duration": 88,
    "start_time": "2021-07-06T11:32:13.336Z"
   },
   {
    "duration": 41,
    "start_time": "2021-07-06T11:32:13.427Z"
   },
   {
    "duration": 12,
    "start_time": "2021-07-06T11:32:13.470Z"
   },
   {
    "duration": 18,
    "start_time": "2021-07-06T11:32:13.485Z"
   },
   {
    "duration": 13,
    "start_time": "2021-07-06T11:32:13.509Z"
   },
   {
    "duration": 2621,
    "start_time": "2021-07-06T11:32:13.567Z"
   },
   {
    "duration": 37,
    "start_time": "2021-07-06T11:32:16.191Z"
   },
   {
    "duration": 454,
    "start_time": "2021-07-06T11:32:16.232Z"
   },
   {
    "duration": 8,
    "start_time": "2021-07-06T11:32:16.689Z"
   },
   {
    "duration": 11,
    "start_time": "2021-07-06T11:32:16.699Z"
   },
   {
    "duration": 16,
    "start_time": "2021-07-06T11:32:16.713Z"
   },
   {
    "duration": 13,
    "start_time": "2021-07-06T11:32:16.732Z"
   },
   {
    "duration": 7,
    "start_time": "2021-07-06T11:32:16.768Z"
   },
   {
    "duration": 7,
    "start_time": "2021-07-06T11:32:16.777Z"
   },
   {
    "duration": 17,
    "start_time": "2021-07-06T11:32:16.786Z"
   },
   {
    "duration": 109,
    "start_time": "2021-07-06T11:32:16.805Z"
   },
   {
    "duration": 5,
    "start_time": "2021-07-06T11:32:16.916Z"
   },
   {
    "duration": 12,
    "start_time": "2021-07-06T11:32:16.924Z"
   },
   {
    "duration": 45,
    "start_time": "2021-07-06T11:32:16.938Z"
   },
   {
    "duration": 15,
    "start_time": "2021-07-06T11:32:16.988Z"
   },
   {
    "duration": 43,
    "start_time": "2021-07-06T11:32:17.005Z"
   },
   {
    "duration": 34,
    "start_time": "2021-07-06T11:32:17.051Z"
   },
   {
    "duration": 4960,
    "start_time": "2021-07-06T11:32:17.087Z"
   },
   {
    "duration": 508,
    "start_time": "2021-07-06T11:32:22.049Z"
   },
   {
    "duration": 794,
    "start_time": "2021-07-06T11:32:53.735Z"
   },
   {
    "duration": 32,
    "start_time": "2021-07-06T11:33:23.399Z"
   },
   {
    "duration": 660,
    "start_time": "2021-07-06T11:33:27.453Z"
   },
   {
    "duration": 34,
    "start_time": "2021-07-06T11:34:50.887Z"
   },
   {
    "duration": 743,
    "start_time": "2021-07-06T11:34:55.055Z"
   },
   {
    "duration": 47,
    "start_time": "2021-07-06T11:35:30.689Z"
   },
   {
    "duration": 1836,
    "start_time": "2021-07-06T11:35:32.045Z"
   },
   {
    "duration": 33,
    "start_time": "2021-07-06T11:36:54.171Z"
   },
   {
    "duration": 1888,
    "start_time": "2021-07-06T11:37:00.481Z"
   },
   {
    "duration": 33,
    "start_time": "2021-07-06T11:38:27.182Z"
   },
   {
    "duration": 1657,
    "start_time": "2021-07-06T11:38:30.432Z"
   },
   {
    "duration": 32,
    "start_time": "2021-07-06T11:40:32.203Z"
   },
   {
    "duration": 742,
    "start_time": "2021-07-06T11:40:32.239Z"
   },
   {
    "duration": 633,
    "start_time": "2021-07-06T11:40:56.390Z"
   },
   {
    "duration": 32,
    "start_time": "2021-07-06T11:41:25.292Z"
   },
   {
    "duration": 1609,
    "start_time": "2021-07-06T11:41:28.824Z"
   },
   {
    "duration": 142,
    "start_time": "2021-07-06T11:50:32.186Z"
   },
   {
    "duration": 34,
    "start_time": "2021-07-06T11:50:53.015Z"
   },
   {
    "duration": 737,
    "start_time": "2021-07-06T11:50:56.389Z"
   },
   {
    "duration": 33,
    "start_time": "2021-07-06T11:51:33.645Z"
   },
   {
    "duration": 5205,
    "start_time": "2021-07-06T11:51:35.383Z"
   },
   {
    "duration": 2354,
    "start_time": "2021-07-06T11:51:53.472Z"
   },
   {
    "duration": 33,
    "start_time": "2021-07-06T11:52:48.203Z"
   },
   {
    "duration": 1928,
    "start_time": "2021-07-06T11:52:51.362Z"
   },
   {
    "duration": 154,
    "start_time": "2021-07-06T12:22:26.457Z"
   },
   {
    "duration": 154,
    "start_time": "2021-07-06T12:22:50.021Z"
   },
   {
    "duration": 160,
    "start_time": "2021-07-06T12:24:43.037Z"
   },
   {
    "duration": 48,
    "start_time": "2021-07-06T12:25:38.061Z"
   },
   {
    "duration": 5082,
    "start_time": "2021-07-06T12:25:42.701Z"
   },
   {
    "duration": 2016,
    "start_time": "2021-07-06T12:25:51.174Z"
   },
   {
    "duration": 1528,
    "start_time": "2021-07-06T12:27:03.453Z"
   },
   {
    "duration": 47,
    "start_time": "2021-07-06T12:27:22.948Z"
   },
   {
    "duration": 2810,
    "start_time": "2021-07-06T12:27:26.135Z"
   },
   {
    "duration": 47,
    "start_time": "2021-07-06T12:28:18.873Z"
   },
   {
    "duration": 2760,
    "start_time": "2021-07-06T12:28:24.492Z"
   },
   {
    "duration": 47,
    "start_time": "2021-07-06T12:28:59.041Z"
   },
   {
    "duration": 2768,
    "start_time": "2021-07-06T12:29:07.101Z"
   },
   {
    "duration": 53,
    "start_time": "2021-07-06T12:38:20.937Z"
   },
   {
    "duration": 5149,
    "start_time": "2021-07-06T12:38:43.135Z"
   },
   {
    "duration": 2812,
    "start_time": "2021-07-06T12:48:29.379Z"
   },
   {
    "duration": 2089,
    "start_time": "2021-07-06T12:54:39.145Z"
   },
   {
    "duration": 1510,
    "start_time": "2021-07-06T12:54:47.604Z"
   },
   {
    "duration": 54,
    "start_time": "2021-07-06T12:54:49.117Z"
   },
   {
    "duration": 14,
    "start_time": "2021-07-06T12:54:49.174Z"
   },
   {
    "duration": 78,
    "start_time": "2021-07-06T12:54:49.191Z"
   },
   {
    "duration": 22,
    "start_time": "2021-07-06T12:54:49.272Z"
   },
   {
    "duration": 14,
    "start_time": "2021-07-06T12:54:49.296Z"
   },
   {
    "duration": 17,
    "start_time": "2021-07-06T12:54:49.312Z"
   },
   {
    "duration": 47,
    "start_time": "2021-07-06T12:54:49.332Z"
   },
   {
    "duration": 2721,
    "start_time": "2021-07-06T12:54:49.382Z"
   },
   {
    "duration": 34,
    "start_time": "2021-07-06T12:54:52.105Z"
   },
   {
    "duration": 333,
    "start_time": "2021-07-06T12:54:52.141Z"
   },
   {
    "duration": 6,
    "start_time": "2021-07-06T12:54:52.477Z"
   },
   {
    "duration": 15,
    "start_time": "2021-07-06T12:54:52.485Z"
   },
   {
    "duration": 10,
    "start_time": "2021-07-06T12:54:52.502Z"
   },
   {
    "duration": 15,
    "start_time": "2021-07-06T12:54:52.515Z"
   },
   {
    "duration": 35,
    "start_time": "2021-07-06T12:54:52.532Z"
   },
   {
    "duration": 6,
    "start_time": "2021-07-06T12:54:52.569Z"
   },
   {
    "duration": 7,
    "start_time": "2021-07-06T12:54:52.577Z"
   },
   {
    "duration": 8,
    "start_time": "2021-07-06T12:54:52.587Z"
   },
   {
    "duration": 6,
    "start_time": "2021-07-06T12:54:52.699Z"
   },
   {
    "duration": 6,
    "start_time": "2021-07-06T12:54:52.708Z"
   },
   {
    "duration": 7,
    "start_time": "2021-07-06T12:54:52.717Z"
   },
   {
    "duration": 39,
    "start_time": "2021-07-06T12:54:52.729Z"
   },
   {
    "duration": 39,
    "start_time": "2021-07-06T12:54:52.771Z"
   },
   {
    "duration": 65,
    "start_time": "2021-07-06T12:54:52.812Z"
   },
   {
    "duration": 5091,
    "start_time": "2021-07-06T12:54:52.879Z"
   },
   {
    "duration": 1907,
    "start_time": "2021-07-06T12:54:57.973Z"
   },
   {
    "duration": 2207,
    "start_time": "2021-07-06T12:54:59.883Z"
   },
   {
    "duration": 47,
    "start_time": "2021-07-06T13:15:40.637Z"
   },
   {
    "duration": 198,
    "start_time": "2021-07-06T13:16:25.474Z"
   },
   {
    "duration": 46,
    "start_time": "2021-07-06T13:17:14.185Z"
   },
   {
    "duration": 820,
    "start_time": "2021-07-06T13:19:04.506Z"
   },
   {
    "duration": 48,
    "start_time": "2021-07-06T13:19:42.170Z"
   },
   {
    "duration": 5545,
    "start_time": "2021-07-06T13:19:46.271Z"
   },
   {
    "duration": 1979,
    "start_time": "2021-07-06T13:27:13.173Z"
   },
   {
    "duration": 11234,
    "start_time": "2021-07-06T13:55:10.543Z"
   },
   {
    "duration": 15567,
    "start_time": "2021-07-06T13:55:25.178Z"
   },
   {
    "duration": 10613,
    "start_time": "2021-07-06T13:57:43.434Z"
   },
   {
    "duration": 41350,
    "start_time": "2021-07-06T14:00:48.329Z"
   },
   {
    "duration": 9288,
    "start_time": "2021-07-06T14:02:27.192Z"
   },
   {
    "duration": 2445,
    "start_time": "2021-07-06T14:02:58.125Z"
   },
   {
    "duration": 2181,
    "start_time": "2021-07-06T14:04:44.659Z"
   },
   {
    "duration": 8120,
    "start_time": "2021-07-06T14:05:52.050Z"
   },
   {
    "duration": 8261,
    "start_time": "2021-07-06T14:06:03.576Z"
   },
   {
    "duration": 9497,
    "start_time": "2021-07-06T14:09:09.673Z"
   },
   {
    "duration": 1435,
    "start_time": "2021-07-06T18:56:17.982Z"
   },
   {
    "duration": 54,
    "start_time": "2021-07-06T18:56:19.420Z"
   },
   {
    "duration": 14,
    "start_time": "2021-07-06T18:56:19.477Z"
   },
   {
    "duration": 103,
    "start_time": "2021-07-06T18:56:19.494Z"
   },
   {
    "duration": 30,
    "start_time": "2021-07-06T18:56:19.600Z"
   },
   {
    "duration": 28,
    "start_time": "2021-07-06T18:56:19.633Z"
   },
   {
    "duration": 18,
    "start_time": "2021-07-06T18:56:19.664Z"
   },
   {
    "duration": 12,
    "start_time": "2021-07-06T18:56:19.686Z"
   },
   {
    "duration": 2535,
    "start_time": "2021-07-06T18:56:19.702Z"
   },
   {
    "duration": 47,
    "start_time": "2021-07-06T18:56:22.240Z"
   },
   {
    "duration": 312,
    "start_time": "2021-07-06T18:56:22.289Z"
   },
   {
    "duration": 7,
    "start_time": "2021-07-06T18:56:22.604Z"
   },
   {
    "duration": 11,
    "start_time": "2021-07-06T18:56:22.614Z"
   },
   {
    "duration": 34,
    "start_time": "2021-07-06T18:56:22.628Z"
   },
   {
    "duration": 14,
    "start_time": "2021-07-06T18:56:22.664Z"
   },
   {
    "duration": 6,
    "start_time": "2021-07-06T18:56:22.682Z"
   },
   {
    "duration": 7,
    "start_time": "2021-07-06T18:56:22.691Z"
   },
   {
    "duration": 6,
    "start_time": "2021-07-06T18:56:22.701Z"
   },
   {
    "duration": 156,
    "start_time": "2021-07-06T18:56:22.710Z"
   },
   {
    "duration": 6,
    "start_time": "2021-07-06T18:56:22.869Z"
   },
   {
    "duration": 7,
    "start_time": "2021-07-06T18:56:22.878Z"
   },
   {
    "duration": 7,
    "start_time": "2021-07-06T18:56:22.888Z"
   },
   {
    "duration": 6,
    "start_time": "2021-07-06T18:56:22.902Z"
   },
   {
    "duration": 40,
    "start_time": "2021-07-06T18:56:22.955Z"
   },
   {
    "duration": 86,
    "start_time": "2021-07-06T18:56:22.999Z"
   },
   {
    "duration": 5552,
    "start_time": "2021-07-06T18:56:23.089Z"
   },
   {
    "duration": 2002,
    "start_time": "2021-07-06T18:56:28.644Z"
   },
   {
    "duration": 8046,
    "start_time": "2021-07-06T18:56:30.657Z"
   },
   {
    "duration": 62,
    "start_time": "2021-07-06T18:56:38.706Z"
   },
   {
    "duration": 6470,
    "start_time": "2021-07-06T18:56:38.771Z"
   },
   {
    "duration": 1910,
    "start_time": "2021-07-06T18:56:45.255Z"
   },
   {
    "duration": 7833,
    "start_time": "2021-07-06T18:56:47.168Z"
   },
   {
    "duration": 315,
    "start_time": "2021-07-07T08:23:17.795Z"
   },
   {
    "duration": 1106,
    "start_time": "2021-07-07T08:23:30.319Z"
   },
   {
    "duration": 38,
    "start_time": "2021-07-07T08:23:31.427Z"
   },
   {
    "duration": 8,
    "start_time": "2021-07-07T08:23:31.470Z"
   },
   {
    "duration": 34,
    "start_time": "2021-07-07T08:23:31.480Z"
   },
   {
    "duration": 32,
    "start_time": "2021-07-07T08:23:31.516Z"
   },
   {
    "duration": 10,
    "start_time": "2021-07-07T08:23:31.550Z"
   },
   {
    "duration": 14,
    "start_time": "2021-07-07T08:23:31.562Z"
   },
   {
    "duration": 18,
    "start_time": "2021-07-07T08:23:31.578Z"
   },
   {
    "duration": 1292,
    "start_time": "2021-07-07T08:23:31.598Z"
   },
   {
    "duration": 18,
    "start_time": "2021-07-07T08:23:32.892Z"
   },
   {
    "duration": 166,
    "start_time": "2021-07-07T08:23:32.912Z"
   },
   {
    "duration": 4,
    "start_time": "2021-07-07T08:23:33.080Z"
   },
   {
    "duration": 21,
    "start_time": "2021-07-07T08:23:33.085Z"
   },
   {
    "duration": 17,
    "start_time": "2021-07-07T08:23:33.107Z"
   },
   {
    "duration": 10,
    "start_time": "2021-07-07T08:23:33.126Z"
   },
   {
    "duration": 14,
    "start_time": "2021-07-07T08:23:33.137Z"
   },
   {
    "duration": 13,
    "start_time": "2021-07-07T08:23:33.153Z"
   },
   {
    "duration": 16,
    "start_time": "2021-07-07T08:23:33.167Z"
   },
   {
    "duration": 69,
    "start_time": "2021-07-07T08:23:33.184Z"
   },
   {
    "duration": 3,
    "start_time": "2021-07-07T08:23:33.254Z"
   },
   {
    "duration": 14,
    "start_time": "2021-07-07T08:23:33.259Z"
   },
   {
    "duration": 13,
    "start_time": "2021-07-07T08:23:33.276Z"
   },
   {
    "duration": 18,
    "start_time": "2021-07-07T08:23:33.291Z"
   },
   {
    "duration": 35,
    "start_time": "2021-07-07T08:23:33.311Z"
   },
   {
    "duration": 27,
    "start_time": "2021-07-07T08:23:33.348Z"
   },
   {
    "duration": 4225,
    "start_time": "2021-07-07T08:23:33.377Z"
   },
   {
    "duration": 1119,
    "start_time": "2021-07-07T08:23:37.604Z"
   },
   {
    "duration": 4420,
    "start_time": "2021-07-07T08:23:38.725Z"
   },
   {
    "duration": 27,
    "start_time": "2021-07-07T08:23:43.147Z"
   },
   {
    "duration": 4024,
    "start_time": "2021-07-07T08:23:43.175Z"
   },
   {
    "duration": 1116,
    "start_time": "2021-07-07T08:23:47.200Z"
   },
   {
    "duration": 4512,
    "start_time": "2021-07-07T08:23:48.318Z"
   },
   {
    "duration": 17,
    "start_time": "2021-07-07T08:23:52.832Z"
   },
   {
    "duration": 11,
    "start_time": "2021-07-07T08:23:52.851Z"
   },
   {
    "duration": 6,
    "start_time": "2021-07-07T08:26:30.650Z"
   },
   {
    "duration": 1091,
    "start_time": "2021-07-07T08:26:44.416Z"
   },
   {
    "duration": 37,
    "start_time": "2021-07-07T08:26:45.509Z"
   },
   {
    "duration": 7,
    "start_time": "2021-07-07T08:26:45.548Z"
   },
   {
    "duration": 39,
    "start_time": "2021-07-07T08:26:45.557Z"
   },
   {
    "duration": 10,
    "start_time": "2021-07-07T08:26:45.598Z"
   },
   {
    "duration": 9,
    "start_time": "2021-07-07T08:26:45.610Z"
   },
   {
    "duration": 20,
    "start_time": "2021-07-07T08:26:45.621Z"
   },
   {
    "duration": 10,
    "start_time": "2021-07-07T08:26:45.643Z"
   },
   {
    "duration": 1303,
    "start_time": "2021-07-07T08:26:45.655Z"
   },
   {
    "duration": 19,
    "start_time": "2021-07-07T08:26:46.959Z"
   },
   {
    "duration": 178,
    "start_time": "2021-07-07T08:26:46.980Z"
   },
   {
    "duration": 4,
    "start_time": "2021-07-07T08:26:47.159Z"
   },
   {
    "duration": 18,
    "start_time": "2021-07-07T08:26:47.165Z"
   },
   {
    "duration": 20,
    "start_time": "2021-07-07T08:26:47.185Z"
   },
   {
    "duration": 21,
    "start_time": "2021-07-07T08:26:47.206Z"
   },
   {
    "duration": 25,
    "start_time": "2021-07-07T08:26:47.229Z"
   },
   {
    "duration": 11,
    "start_time": "2021-07-07T08:26:47.256Z"
   },
   {
    "duration": 14,
    "start_time": "2021-07-07T08:26:47.269Z"
   },
   {
    "duration": 76,
    "start_time": "2021-07-07T08:26:47.284Z"
   },
   {
    "duration": 4,
    "start_time": "2021-07-07T08:26:47.361Z"
   },
   {
    "duration": 15,
    "start_time": "2021-07-07T08:26:47.367Z"
   },
   {
    "duration": 12,
    "start_time": "2021-07-07T08:26:47.384Z"
   },
   {
    "duration": 7,
    "start_time": "2021-07-07T08:26:47.400Z"
   },
   {
    "duration": 34,
    "start_time": "2021-07-07T08:26:47.409Z"
   },
   {
    "duration": 28,
    "start_time": "2021-07-07T08:26:47.445Z"
   },
   {
    "duration": 3738,
    "start_time": "2021-07-07T08:26:47.475Z"
   },
   {
    "duration": 1104,
    "start_time": "2021-07-07T08:26:51.215Z"
   },
   {
    "duration": 4730,
    "start_time": "2021-07-07T08:26:52.321Z"
   },
   {
    "duration": 27,
    "start_time": "2021-07-07T08:26:57.053Z"
   },
   {
    "duration": 4020,
    "start_time": "2021-07-07T08:26:57.082Z"
   },
   {
    "duration": 1126,
    "start_time": "2021-07-07T08:27:01.103Z"
   },
   {
    "duration": 4605,
    "start_time": "2021-07-07T08:27:02.231Z"
   },
   {
    "duration": 11,
    "start_time": "2021-07-07T08:27:06.837Z"
   },
   {
    "duration": 5,
    "start_time": "2021-07-07T08:27:06.850Z"
   },
   {
    "duration": 4430,
    "start_time": "2021-07-07T08:29:23.472Z"
   },
   {
    "duration": 4361,
    "start_time": "2021-07-07T08:30:22.809Z"
   },
   {
    "duration": 341,
    "start_time": "2021-07-07T08:57:07.304Z"
   },
   {
    "duration": 12,
    "start_time": "2021-07-07T08:57:43.913Z"
   },
   {
    "duration": 6,
    "start_time": "2021-07-07T08:57:45.459Z"
   },
   {
    "duration": 4541,
    "start_time": "2021-07-07T08:57:47.267Z"
   },
   {
    "duration": 4653,
    "start_time": "2021-07-07T08:58:05.650Z"
   },
   {
    "duration": 1242,
    "start_time": "2021-07-07T08:58:11.842Z"
   },
   {
    "duration": 3902,
    "start_time": "2021-07-07T08:59:04.572Z"
   },
   {
    "duration": 24407,
    "start_time": "2021-07-07T08:59:21.513Z"
   },
   {
    "duration": 1238,
    "start_time": "2021-07-07T09:07:16.621Z"
   },
   {
    "duration": 1351,
    "start_time": "2021-07-07T09:07:43.942Z"
   },
   {
    "duration": 85,
    "start_time": "2021-07-07T09:15:50.089Z"
   },
   {
    "duration": 5875,
    "start_time": "2021-07-07T09:15:58.990Z"
   },
   {
    "duration": 5906,
    "start_time": "2021-07-07T09:16:53.745Z"
   },
   {
    "duration": 20148,
    "start_time": "2021-07-07T09:34:58.873Z"
   },
   {
    "duration": 7808,
    "start_time": "2021-07-07T09:35:53.328Z"
   },
   {
    "duration": 36637,
    "start_time": "2021-07-07T09:36:18.525Z"
   },
   {
    "duration": 16222,
    "start_time": "2021-07-07T09:37:19.866Z"
   },
   {
    "duration": 33390,
    "start_time": "2021-07-07T09:37:52.913Z"
   },
   {
    "duration": 52650,
    "start_time": "2021-07-07T09:40:41.792Z"
   },
   {
    "duration": 121660,
    "start_time": "2021-07-07T09:42:46.769Z"
   },
   {
    "duration": 150084,
    "start_time": "2021-07-07T09:46:41.972Z"
   },
   {
    "duration": 27285,
    "start_time": "2021-07-07T09:55:48.150Z"
   },
   {
    "duration": 59090,
    "start_time": "2021-07-07T09:57:44.635Z"
   },
   {
    "duration": 6255,
    "start_time": "2021-07-07T10:01:21.567Z"
   },
   {
    "duration": 16988,
    "start_time": "2021-07-07T10:01:42.529Z"
   },
   {
    "duration": 551,
    "start_time": "2021-07-07T10:15:51.261Z"
   },
   {
    "duration": 27,
    "start_time": "2021-07-07T10:17:25.194Z"
   },
   {
    "duration": 27,
    "start_time": "2021-07-07T10:18:19.355Z"
   },
   {
    "duration": 17077,
    "start_time": "2021-07-07T10:18:23.705Z"
   },
   {
    "duration": 86270,
    "start_time": "2021-07-07T10:19:59.156Z"
   },
   {
    "duration": 85008,
    "start_time": "2021-07-07T10:22:09.399Z"
   },
   {
    "duration": 1212,
    "start_time": "2021-07-07T10:24:00.453Z"
   },
   {
    "duration": 37,
    "start_time": "2021-07-07T10:24:01.666Z"
   },
   {
    "duration": 7,
    "start_time": "2021-07-07T10:24:01.705Z"
   },
   {
    "duration": 44,
    "start_time": "2021-07-07T10:24:01.714Z"
   },
   {
    "duration": 11,
    "start_time": "2021-07-07T10:24:01.759Z"
   },
   {
    "duration": 18,
    "start_time": "2021-07-07T10:24:01.771Z"
   },
   {
    "duration": 14,
    "start_time": "2021-07-07T10:24:01.790Z"
   },
   {
    "duration": 38,
    "start_time": "2021-07-07T10:24:01.806Z"
   },
   {
    "duration": 1527,
    "start_time": "2021-07-07T10:24:01.846Z"
   },
   {
    "duration": 20,
    "start_time": "2021-07-07T10:24:03.374Z"
   },
   {
    "duration": 179,
    "start_time": "2021-07-07T10:24:03.395Z"
   },
   {
    "duration": 4,
    "start_time": "2021-07-07T10:24:03.575Z"
   },
   {
    "duration": 17,
    "start_time": "2021-07-07T10:24:03.581Z"
   },
   {
    "duration": 14,
    "start_time": "2021-07-07T10:24:03.600Z"
   },
   {
    "duration": 21,
    "start_time": "2021-07-07T10:24:03.615Z"
   },
   {
    "duration": 19,
    "start_time": "2021-07-07T10:24:03.637Z"
   },
   {
    "duration": 17,
    "start_time": "2021-07-07T10:24:03.658Z"
   },
   {
    "duration": 14,
    "start_time": "2021-07-07T10:24:03.677Z"
   },
   {
    "duration": 86,
    "start_time": "2021-07-07T10:24:03.694Z"
   },
   {
    "duration": 4,
    "start_time": "2021-07-07T10:24:03.782Z"
   },
   {
    "duration": 25,
    "start_time": "2021-07-07T10:24:03.788Z"
   },
   {
    "duration": 34,
    "start_time": "2021-07-07T10:24:03.815Z"
   },
   {
    "duration": 21,
    "start_time": "2021-07-07T10:24:03.851Z"
   },
   {
    "duration": 35,
    "start_time": "2021-07-07T10:24:03.874Z"
   },
   {
    "duration": 29,
    "start_time": "2021-07-07T10:24:03.911Z"
   },
   {
    "duration": 3085,
    "start_time": "2021-07-07T10:24:03.944Z"
   },
   {
    "duration": 1191,
    "start_time": "2021-07-07T10:24:07.030Z"
   },
   {
    "duration": 4683,
    "start_time": "2021-07-07T10:24:08.223Z"
   },
   {
    "duration": 40,
    "start_time": "2021-07-07T10:24:12.907Z"
   },
   {
    "duration": 3367,
    "start_time": "2021-07-07T10:24:12.949Z"
   },
   {
    "duration": 1239,
    "start_time": "2021-07-07T10:24:16.317Z"
   },
   {
    "duration": 5246,
    "start_time": "2021-07-07T10:24:17.558Z"
   },
   {
    "duration": 342,
    "start_time": "2021-07-07T10:24:22.806Z"
   },
   {
    "duration": -245,
    "start_time": "2021-07-07T10:24:23.397Z"
   },
   {
    "duration": -257,
    "start_time": "2021-07-07T10:24:23.410Z"
   },
   {
    "duration": -267,
    "start_time": "2021-07-07T10:24:23.422Z"
   },
   {
    "duration": -278,
    "start_time": "2021-07-07T10:24:23.434Z"
   },
   {
    "duration": -287,
    "start_time": "2021-07-07T10:24:23.444Z"
   },
   {
    "duration": -317,
    "start_time": "2021-07-07T10:24:23.475Z"
   },
   {
    "duration": -329,
    "start_time": "2021-07-07T10:24:23.487Z"
   },
   {
    "duration": -341,
    "start_time": "2021-07-07T10:24:23.500Z"
   },
   {
    "duration": -350,
    "start_time": "2021-07-07T10:24:23.510Z"
   },
   {
    "duration": 12,
    "start_time": "2021-07-07T10:25:00.328Z"
   },
   {
    "duration": 1450,
    "start_time": "2021-07-07T10:25:05.725Z"
   },
   {
    "duration": 37,
    "start_time": "2021-07-07T10:25:07.177Z"
   },
   {
    "duration": 10,
    "start_time": "2021-07-07T10:25:07.216Z"
   },
   {
    "duration": 55,
    "start_time": "2021-07-07T10:25:07.227Z"
   },
   {
    "duration": 12,
    "start_time": "2021-07-07T10:25:07.284Z"
   },
   {
    "duration": 21,
    "start_time": "2021-07-07T10:25:07.297Z"
   },
   {
    "duration": 12,
    "start_time": "2021-07-07T10:25:07.319Z"
   },
   {
    "duration": 24,
    "start_time": "2021-07-07T10:25:07.333Z"
   },
   {
    "duration": 1394,
    "start_time": "2021-07-07T10:25:07.359Z"
   },
   {
    "duration": 19,
    "start_time": "2021-07-07T10:25:08.756Z"
   },
   {
    "duration": 195,
    "start_time": "2021-07-07T10:25:08.777Z"
   },
   {
    "duration": 5,
    "start_time": "2021-07-07T10:25:08.973Z"
   },
   {
    "duration": 23,
    "start_time": "2021-07-07T10:25:08.980Z"
   },
   {
    "duration": 22,
    "start_time": "2021-07-07T10:25:09.004Z"
   },
   {
    "duration": 28,
    "start_time": "2021-07-07T10:25:09.027Z"
   },
   {
    "duration": 17,
    "start_time": "2021-07-07T10:25:09.057Z"
   },
   {
    "duration": 19,
    "start_time": "2021-07-07T10:25:09.076Z"
   },
   {
    "duration": 10,
    "start_time": "2021-07-07T10:25:09.096Z"
   },
   {
    "duration": 80,
    "start_time": "2021-07-07T10:25:09.107Z"
   },
   {
    "duration": 4,
    "start_time": "2021-07-07T10:25:09.188Z"
   },
   {
    "duration": 21,
    "start_time": "2021-07-07T10:25:09.194Z"
   },
   {
    "duration": 18,
    "start_time": "2021-07-07T10:25:09.216Z"
   },
   {
    "duration": 15,
    "start_time": "2021-07-07T10:25:09.237Z"
   },
   {
    "duration": 32,
    "start_time": "2021-07-07T10:25:09.255Z"
   },
   {
    "duration": 26,
    "start_time": "2021-07-07T10:25:09.289Z"
   },
   {
    "duration": 3297,
    "start_time": "2021-07-07T10:25:09.317Z"
   },
   {
    "duration": 1202,
    "start_time": "2021-07-07T10:25:12.616Z"
   },
   {
    "duration": 4728,
    "start_time": "2021-07-07T10:25:13.819Z"
   },
   {
    "duration": 29,
    "start_time": "2021-07-07T10:25:18.550Z"
   },
   {
    "duration": 3735,
    "start_time": "2021-07-07T10:25:18.581Z"
   },
   {
    "duration": 1341,
    "start_time": "2021-07-07T10:25:22.318Z"
   },
   {
    "duration": 4887,
    "start_time": "2021-07-07T10:25:23.660Z"
   },
   {
    "duration": 12,
    "start_time": "2021-07-07T10:25:28.549Z"
   },
   {
    "duration": 8,
    "start_time": "2021-07-07T10:25:28.563Z"
   },
   {
    "duration": 4254,
    "start_time": "2021-07-07T10:25:28.574Z"
   },
   {
    "duration": 3963,
    "start_time": "2021-07-07T10:25:32.830Z"
   },
   {
    "duration": 1504,
    "start_time": "2021-07-07T10:25:36.795Z"
   },
   {
    "duration": 1498,
    "start_time": "2021-07-07T10:25:38.300Z"
   },
   {
    "duration": 6221,
    "start_time": "2021-07-07T10:25:39.800Z"
   },
   {
    "duration": 6209,
    "start_time": "2021-07-07T10:25:46.022Z"
   },
   {
    "duration": 85349,
    "start_time": "2021-07-07T10:25:52.233Z"
   },
   {
    "duration": 87835,
    "start_time": "2021-07-07T10:27:17.584Z"
   },
   {
    "duration": 20086,
    "start_time": "2021-07-07T10:28:45.421Z"
   },
   {
    "duration": 20092,
    "start_time": "2021-07-07T10:31:04.166Z"
   },
   {
    "duration": 16,
    "start_time": "2021-07-07T10:32:45.545Z"
   },
   {
    "duration": 6,
    "start_time": "2021-07-07T10:32:48.390Z"
   },
   {
    "duration": 20,
    "start_time": "2021-07-07T10:32:56.937Z"
   },
   {
    "duration": 8,
    "start_time": "2021-07-07T10:33:00.353Z"
   },
   {
    "duration": 14,
    "start_time": "2021-07-07T10:33:04.147Z"
   },
   {
    "duration": 7,
    "start_time": "2021-07-07T10:33:06.087Z"
   },
   {
    "duration": 16,
    "start_time": "2021-07-07T10:33:09.242Z"
   },
   {
    "duration": 6,
    "start_time": "2021-07-07T10:33:12.132Z"
   },
   {
    "duration": 4161,
    "start_time": "2021-07-07T10:33:16.658Z"
   },
   {
    "duration": 4342,
    "start_time": "2021-07-07T10:33:28.767Z"
   },
   {
    "duration": 4196,
    "start_time": "2021-07-07T10:33:42.025Z"
   },
   {
    "duration": 1565,
    "start_time": "2021-07-07T10:33:57.595Z"
   },
   {
    "duration": 6637,
    "start_time": "2021-07-07T10:34:01.929Z"
   },
   {
    "duration": 1574,
    "start_time": "2021-07-07T10:34:09.796Z"
   },
   {
    "duration": 1633,
    "start_time": "2021-07-07T10:34:14.871Z"
   },
   {
    "duration": 6673,
    "start_time": "2021-07-07T10:34:24.385Z"
   },
   {
    "duration": 6514,
    "start_time": "2021-07-07T10:34:31.061Z"
   },
   {
    "duration": 6385,
    "start_time": "2021-07-07T10:35:20.894Z"
   },
   {
    "duration": 6820,
    "start_time": "2021-07-07T10:35:42.191Z"
   },
   {
    "duration": 21106,
    "start_time": "2021-07-07T10:36:34.170Z"
   },
   {
    "duration": 1096,
    "start_time": "2021-07-07T10:37:39.667Z"
   },
   {
    "duration": 37,
    "start_time": "2021-07-07T10:37:40.765Z"
   },
   {
    "duration": 7,
    "start_time": "2021-07-07T10:37:40.804Z"
   },
   {
    "duration": 43,
    "start_time": "2021-07-07T10:37:40.812Z"
   },
   {
    "duration": 12,
    "start_time": "2021-07-07T10:37:40.857Z"
   },
   {
    "duration": 15,
    "start_time": "2021-07-07T10:37:40.870Z"
   },
   {
    "duration": 13,
    "start_time": "2021-07-07T10:37:40.887Z"
   },
   {
    "duration": 22,
    "start_time": "2021-07-07T10:37:40.902Z"
   },
   {
    "duration": 1390,
    "start_time": "2021-07-07T10:37:40.925Z"
   },
   {
    "duration": 39,
    "start_time": "2021-07-07T10:37:42.317Z"
   },
   {
    "duration": 179,
    "start_time": "2021-07-07T10:37:42.358Z"
   },
   {
    "duration": 6,
    "start_time": "2021-07-07T10:37:42.539Z"
   },
   {
    "duration": 14,
    "start_time": "2021-07-07T10:37:42.547Z"
   },
   {
    "duration": 9,
    "start_time": "2021-07-07T10:37:42.563Z"
   },
   {
    "duration": 6,
    "start_time": "2021-07-07T10:37:42.573Z"
   },
   {
    "duration": 6,
    "start_time": "2021-07-07T10:37:42.580Z"
   },
   {
    "duration": 6,
    "start_time": "2021-07-07T10:37:42.587Z"
   },
   {
    "duration": 8,
    "start_time": "2021-07-07T10:37:42.594Z"
   },
   {
    "duration": 90,
    "start_time": "2021-07-07T10:37:42.604Z"
   },
   {
    "duration": 4,
    "start_time": "2021-07-07T10:37:42.695Z"
   },
   {
    "duration": 9,
    "start_time": "2021-07-07T10:37:42.700Z"
   },
   {
    "duration": 9,
    "start_time": "2021-07-07T10:37:42.710Z"
   },
   {
    "duration": 9,
    "start_time": "2021-07-07T10:37:42.722Z"
   },
   {
    "duration": 39,
    "start_time": "2021-07-07T10:37:42.732Z"
   },
   {
    "duration": 29,
    "start_time": "2021-07-07T10:37:42.772Z"
   },
   {
    "duration": 3313,
    "start_time": "2021-07-07T10:37:42.803Z"
   },
   {
    "duration": 1213,
    "start_time": "2021-07-07T10:37:46.117Z"
   },
   {
    "duration": 4929,
    "start_time": "2021-07-07T10:37:47.332Z"
   },
   {
    "duration": 28,
    "start_time": "2021-07-07T10:37:52.262Z"
   },
   {
    "duration": 3494,
    "start_time": "2021-07-07T10:37:52.291Z"
   },
   {
    "duration": 1356,
    "start_time": "2021-07-07T10:37:55.787Z"
   },
   {
    "duration": 5654,
    "start_time": "2021-07-07T10:37:57.145Z"
   },
   {
    "duration": 12,
    "start_time": "2021-07-07T10:38:02.801Z"
   },
   {
    "duration": 5,
    "start_time": "2021-07-07T10:38:02.815Z"
   },
   {
    "duration": 5109,
    "start_time": "2021-07-07T10:38:02.821Z"
   },
   {
    "duration": 5118,
    "start_time": "2021-07-07T10:38:07.931Z"
   },
   {
    "duration": 1508,
    "start_time": "2021-07-07T10:38:13.051Z"
   },
   {
    "duration": 1946,
    "start_time": "2021-07-07T10:38:14.561Z"
   },
   {
    "duration": 7958,
    "start_time": "2021-07-07T10:38:16.509Z"
   },
   {
    "duration": 7504,
    "start_time": "2021-07-07T10:38:24.471Z"
   },
   {
    "duration": 22354,
    "start_time": "2021-07-07T10:38:31.976Z"
   },
   {
    "duration": 332,
    "start_time": "2021-07-07T10:50:23.104Z"
   },
   {
    "duration": 463,
    "start_time": "2021-07-07T10:51:56.259Z"
   },
   {
    "duration": 459,
    "start_time": "2021-07-07T10:53:08.841Z"
   },
   {
    "duration": 530,
    "start_time": "2021-07-07T10:53:29.077Z"
   },
   {
    "duration": 552,
    "start_time": "2021-07-07T10:53:57.593Z"
   },
   {
    "duration": 987,
    "start_time": "2021-07-07T10:54:25.167Z"
   },
   {
    "duration": 37,
    "start_time": "2021-07-07T10:54:26.155Z"
   },
   {
    "duration": 7,
    "start_time": "2021-07-07T10:54:26.193Z"
   },
   {
    "duration": 38,
    "start_time": "2021-07-07T10:54:26.201Z"
   },
   {
    "duration": 11,
    "start_time": "2021-07-07T10:54:26.241Z"
   },
   {
    "duration": 23,
    "start_time": "2021-07-07T10:54:26.254Z"
   },
   {
    "duration": 11,
    "start_time": "2021-07-07T10:54:26.279Z"
   },
   {
    "duration": 8,
    "start_time": "2021-07-07T10:54:26.292Z"
   },
   {
    "duration": 1299,
    "start_time": "2021-07-07T10:54:26.302Z"
   },
   {
    "duration": 20,
    "start_time": "2021-07-07T10:54:27.602Z"
   },
   {
    "duration": 169,
    "start_time": "2021-07-07T10:54:27.623Z"
   },
   {
    "duration": 3,
    "start_time": "2021-07-07T10:54:27.794Z"
   },
   {
    "duration": 12,
    "start_time": "2021-07-07T10:54:27.799Z"
   },
   {
    "duration": 9,
    "start_time": "2021-07-07T10:54:27.812Z"
   },
   {
    "duration": 8,
    "start_time": "2021-07-07T10:54:27.822Z"
   },
   {
    "duration": 9,
    "start_time": "2021-07-07T10:54:27.832Z"
   },
   {
    "duration": 7,
    "start_time": "2021-07-07T10:54:27.843Z"
   },
   {
    "duration": 17,
    "start_time": "2021-07-07T10:54:27.851Z"
   },
   {
    "duration": 65,
    "start_time": "2021-07-07T10:54:27.869Z"
   },
   {
    "duration": 3,
    "start_time": "2021-07-07T10:54:27.936Z"
   },
   {
    "duration": 8,
    "start_time": "2021-07-07T10:54:27.940Z"
   },
   {
    "duration": 8,
    "start_time": "2021-07-07T10:54:27.949Z"
   },
   {
    "duration": 7,
    "start_time": "2021-07-07T10:54:27.959Z"
   },
   {
    "duration": 27,
    "start_time": "2021-07-07T10:54:27.967Z"
   },
   {
    "duration": 26,
    "start_time": "2021-07-07T10:54:27.996Z"
   },
   {
    "duration": 4182,
    "start_time": "2021-07-07T10:54:28.024Z"
   },
   {
    "duration": 1107,
    "start_time": "2021-07-07T10:54:32.208Z"
   },
   {
    "duration": 4384,
    "start_time": "2021-07-07T10:54:33.317Z"
   },
   {
    "duration": 26,
    "start_time": "2021-07-07T10:54:37.703Z"
   },
   {
    "duration": 3960,
    "start_time": "2021-07-07T10:54:37.740Z"
   },
   {
    "duration": 1112,
    "start_time": "2021-07-07T10:54:41.701Z"
   },
   {
    "duration": 4482,
    "start_time": "2021-07-07T10:54:42.814Z"
   },
   {
    "duration": 13,
    "start_time": "2021-07-07T10:54:47.298Z"
   },
   {
    "duration": 10,
    "start_time": "2021-07-07T10:54:47.313Z"
   },
   {
    "duration": 4673,
    "start_time": "2021-07-07T10:54:47.325Z"
   },
   {
    "duration": 4879,
    "start_time": "2021-07-07T10:54:51.999Z"
   },
   {
    "duration": 1373,
    "start_time": "2021-07-07T10:54:56.880Z"
   },
   {
    "duration": 1457,
    "start_time": "2021-07-07T10:54:58.255Z"
   },
   {
    "duration": 6068,
    "start_time": "2021-07-07T10:54:59.715Z"
   },
   {
    "duration": 6054,
    "start_time": "2021-07-07T10:55:05.785Z"
   },
   {
    "duration": 21048,
    "start_time": "2021-07-07T10:55:11.841Z"
   },
   {
    "duration": 686,
    "start_time": "2021-07-07T10:55:32.890Z"
   },
   {
    "duration": 787,
    "start_time": "2021-07-07T10:55:45.722Z"
   },
   {
    "duration": 11,
    "start_time": "2021-07-07T13:24:10.990Z"
   },
   {
    "duration": 6,
    "start_time": "2021-07-07T13:24:13.164Z"
   },
   {
    "duration": 352,
    "start_time": "2021-07-07T13:25:07.477Z"
   },
   {
    "duration": 10,
    "start_time": "2021-07-07T13:25:16.627Z"
   },
   {
    "duration": 6,
    "start_time": "2021-07-07T13:25:18.140Z"
   },
   {
    "duration": 11,
    "start_time": "2021-07-07T13:25:22.508Z"
   },
   {
    "duration": 6,
    "start_time": "2021-07-07T13:25:23.905Z"
   },
   {
    "duration": 4487,
    "start_time": "2021-07-07T13:25:46.827Z"
   },
   {
    "duration": 1405,
    "start_time": "2021-07-07T13:27:01.481Z"
   },
   {
    "duration": 7,
    "start_time": "2021-07-07T13:38:02.596Z"
   },
   {
    "duration": 112680,
    "start_time": "2021-07-07T13:45:26.664Z"
   },
   {
    "duration": 81485,
    "start_time": "2021-07-07T13:47:19.345Z"
   },
   {
    "duration": 564,
    "start_time": "2021-07-07T13:49:56.395Z"
   },
   {
    "duration": 1108,
    "start_time": "2021-07-07T13:58:26.286Z"
   },
   {
    "duration": 37,
    "start_time": "2021-07-07T13:58:27.396Z"
   },
   {
    "duration": 9,
    "start_time": "2021-07-07T13:58:27.434Z"
   },
   {
    "duration": 46,
    "start_time": "2021-07-07T13:58:27.446Z"
   },
   {
    "duration": 12,
    "start_time": "2021-07-07T13:58:27.494Z"
   },
   {
    "duration": 14,
    "start_time": "2021-07-07T13:58:27.508Z"
   },
   {
    "duration": 11,
    "start_time": "2021-07-07T13:58:27.523Z"
   },
   {
    "duration": 11,
    "start_time": "2021-07-07T13:58:27.536Z"
   },
   {
    "duration": 1902,
    "start_time": "2021-07-07T13:58:27.550Z"
   },
   {
    "duration": 24,
    "start_time": "2021-07-07T13:58:29.454Z"
   },
   {
    "duration": 199,
    "start_time": "2021-07-07T13:58:29.480Z"
   },
   {
    "duration": 5,
    "start_time": "2021-07-07T13:58:29.681Z"
   },
   {
    "duration": 10,
    "start_time": "2021-07-07T13:58:29.687Z"
   },
   {
    "duration": 10,
    "start_time": "2021-07-07T13:58:29.698Z"
   },
   {
    "duration": 5,
    "start_time": "2021-07-07T13:58:29.709Z"
   },
   {
    "duration": 6,
    "start_time": "2021-07-07T13:58:29.716Z"
   },
   {
    "duration": 19,
    "start_time": "2021-07-07T13:58:29.723Z"
   },
   {
    "duration": 4,
    "start_time": "2021-07-07T13:58:29.745Z"
   },
   {
    "duration": 65,
    "start_time": "2021-07-07T13:58:29.751Z"
   },
   {
    "duration": 3,
    "start_time": "2021-07-07T13:58:29.818Z"
   },
   {
    "duration": 18,
    "start_time": "2021-07-07T13:58:29.823Z"
   },
   {
    "duration": 4,
    "start_time": "2021-07-07T13:58:29.843Z"
   },
   {
    "duration": 11,
    "start_time": "2021-07-07T13:58:29.850Z"
   },
   {
    "duration": 42,
    "start_time": "2021-07-07T13:58:29.864Z"
   },
   {
    "duration": 56,
    "start_time": "2021-07-07T13:58:29.908Z"
   },
   {
    "duration": 2755,
    "start_time": "2021-07-07T13:58:29.965Z"
   },
   {
    "duration": 1190,
    "start_time": "2021-07-07T13:58:32.721Z"
   },
   {
    "duration": 4723,
    "start_time": "2021-07-07T13:58:33.913Z"
   },
   {
    "duration": 35,
    "start_time": "2021-07-07T13:58:38.637Z"
   },
   {
    "duration": 2433,
    "start_time": "2021-07-07T13:58:38.673Z"
   },
   {
    "duration": 1314,
    "start_time": "2021-07-07T13:58:41.107Z"
   },
   {
    "duration": 4839,
    "start_time": "2021-07-07T13:58:42.423Z"
   },
   {
    "duration": 11,
    "start_time": "2021-07-07T13:58:47.263Z"
   },
   {
    "duration": 8,
    "start_time": "2021-07-07T13:58:47.275Z"
   },
   {
    "duration": 5,
    "start_time": "2021-07-07T13:58:47.285Z"
   },
   {
    "duration": 4605,
    "start_time": "2021-07-07T13:58:47.291Z"
   },
   {
    "duration": 1401,
    "start_time": "2021-07-07T13:58:51.898Z"
   },
   {
    "duration": 6157,
    "start_time": "2021-07-07T13:58:53.301Z"
   },
   {
    "duration": 40896,
    "start_time": "2021-07-07T13:58:59.460Z"
   },
   {
    "duration": 31158,
    "start_time": "2021-07-07T13:59:40.358Z"
   },
   {
    "duration": 675,
    "start_time": "2021-07-07T14:00:11.518Z"
   },
   {
    "duration": 663,
    "start_time": "2021-07-07T14:01:29.151Z"
   },
   {
    "duration": 571,
    "start_time": "2021-07-07T14:02:26.167Z"
   },
   {
    "duration": 484,
    "start_time": "2021-07-07T14:02:34.121Z"
   },
   {
    "duration": 488,
    "start_time": "2021-07-07T14:03:03.077Z"
   },
   {
    "duration": 29,
    "start_time": "2021-07-07T14:03:36.697Z"
   },
   {
    "duration": 114,
    "start_time": "2021-07-07T14:03:58.864Z"
   },
   {
    "duration": 1161,
    "start_time": "2021-07-07T14:04:05.438Z"
   },
   {
    "duration": 38,
    "start_time": "2021-07-07T14:04:06.601Z"
   },
   {
    "duration": 11,
    "start_time": "2021-07-07T14:04:06.646Z"
   },
   {
    "duration": 59,
    "start_time": "2021-07-07T14:04:06.659Z"
   },
   {
    "duration": 29,
    "start_time": "2021-07-07T14:04:06.720Z"
   },
   {
    "duration": 34,
    "start_time": "2021-07-07T14:04:06.751Z"
   },
   {
    "duration": 21,
    "start_time": "2021-07-07T14:04:06.788Z"
   },
   {
    "duration": 22,
    "start_time": "2021-07-07T14:04:06.811Z"
   },
   {
    "duration": 1443,
    "start_time": "2021-07-07T14:04:06.835Z"
   },
   {
    "duration": 20,
    "start_time": "2021-07-07T14:04:08.280Z"
   },
   {
    "duration": 255,
    "start_time": "2021-07-07T14:04:08.301Z"
   },
   {
    "duration": 4,
    "start_time": "2021-07-07T14:04:08.558Z"
   },
   {
    "duration": 16,
    "start_time": "2021-07-07T14:04:08.564Z"
   },
   {
    "duration": 16,
    "start_time": "2021-07-07T14:04:08.581Z"
   },
   {
    "duration": 15,
    "start_time": "2021-07-07T14:04:08.598Z"
   },
   {
    "duration": 11,
    "start_time": "2021-07-07T14:04:08.614Z"
   },
   {
    "duration": 12,
    "start_time": "2021-07-07T14:04:08.626Z"
   },
   {
    "duration": 16,
    "start_time": "2021-07-07T14:04:08.639Z"
   },
   {
    "duration": 75,
    "start_time": "2021-07-07T14:04:08.657Z"
   },
   {
    "duration": 4,
    "start_time": "2021-07-07T14:04:08.733Z"
   },
   {
    "duration": 17,
    "start_time": "2021-07-07T14:04:08.738Z"
   },
   {
    "duration": 15,
    "start_time": "2021-07-07T14:04:08.759Z"
   },
   {
    "duration": 12,
    "start_time": "2021-07-07T14:04:08.776Z"
   },
   {
    "duration": 39,
    "start_time": "2021-07-07T14:04:08.789Z"
   },
   {
    "duration": 37,
    "start_time": "2021-07-07T14:04:08.830Z"
   },
   {
    "duration": 2961,
    "start_time": "2021-07-07T14:04:08.869Z"
   },
   {
    "duration": 1564,
    "start_time": "2021-07-07T14:04:11.832Z"
   },
   {
    "duration": 7295,
    "start_time": "2021-07-07T14:04:13.397Z"
   },
   {
    "duration": 73,
    "start_time": "2021-07-07T14:04:20.695Z"
   },
   {
    "duration": 2733,
    "start_time": "2021-07-07T14:04:20.780Z"
   },
   {
    "duration": 1404,
    "start_time": "2021-07-07T14:04:23.515Z"
   },
   {
    "duration": 5059,
    "start_time": "2021-07-07T14:04:24.920Z"
   },
   {
    "duration": 12,
    "start_time": "2021-07-07T14:04:29.980Z"
   },
   {
    "duration": 7,
    "start_time": "2021-07-07T14:04:29.993Z"
   },
   {
    "duration": 4046,
    "start_time": "2021-07-07T14:04:30.002Z"
   },
   {
    "duration": 1478,
    "start_time": "2021-07-07T14:04:34.050Z"
   },
   {
    "duration": 6800,
    "start_time": "2021-07-07T14:04:35.530Z"
   },
   {
    "duration": 563,
    "start_time": "2021-07-07T14:04:42.331Z"
   },
   {
    "duration": 532,
    "start_time": "2021-07-07T14:04:42.895Z"
   },
   {
    "duration": 668,
    "start_time": "2021-07-07T14:04:43.429Z"
   },
   {
    "duration": 301,
    "start_time": "2021-07-07T14:05:24.475Z"
   },
   {
    "duration": 1635,
    "start_time": "2021-07-07T14:05:50.553Z"
   },
   {
    "duration": 1215,
    "start_time": "2021-07-07T14:05:53.320Z"
   },
   {
    "duration": 342,
    "start_time": "2021-07-07T14:06:16.742Z"
   },
   {
    "duration": 2174,
    "start_time": "2021-07-07T14:06:58.172Z"
   },
   {
    "duration": 1671,
    "start_time": "2021-07-07T14:07:00.815Z"
   },
   {
    "duration": 4757,
    "start_time": "2021-07-07T14:07:27.199Z"
   },
   {
    "duration": 3733,
    "start_time": "2021-07-07T14:07:31.958Z"
   },
   {
    "duration": 355,
    "start_time": "2021-07-07T14:08:02.329Z"
   },
   {
    "duration": 4245,
    "start_time": "2021-07-07T14:08:56.321Z"
   },
   {
    "duration": 3478,
    "start_time": "2021-07-07T14:09:00.568Z"
   },
   {
    "duration": 20104,
    "start_time": "2021-07-07T14:09:36.652Z"
   },
   {
    "duration": 14771,
    "start_time": "2021-07-07T14:09:56.758Z"
   },
   {
    "duration": 575,
    "start_time": "2021-07-07T14:10:45.814Z"
   },
   {
    "duration": 23438,
    "start_time": "2021-07-07T14:11:14.040Z"
   },
   {
    "duration": 17541,
    "start_time": "2021-07-07T14:11:37.480Z"
   },
   {
    "duration": 264133,
    "start_time": "2021-07-07T14:21:18.307Z"
   },
   {
    "duration": 6095,
    "start_time": "2021-07-07T14:27:03.938Z"
   },
   {
    "duration": 10930,
    "start_time": "2021-07-07T14:29:01.299Z"
   },
   {
    "duration": 28250,
    "start_time": "2021-07-07T14:29:32.316Z"
   },
   {
    "duration": 18465,
    "start_time": "2021-07-07T14:32:32.401Z"
   },
   {
    "duration": 25393,
    "start_time": "2021-07-07T14:32:50.868Z"
   },
   {
    "duration": 591,
    "start_time": "2021-07-07T14:33:56.580Z"
   },
   {
    "duration": 1470,
    "start_time": "2021-07-07T14:35:34.472Z"
   },
   {
    "duration": 37,
    "start_time": "2021-07-07T14:35:35.944Z"
   },
   {
    "duration": 7,
    "start_time": "2021-07-07T14:35:35.983Z"
   },
   {
    "duration": 33,
    "start_time": "2021-07-07T14:35:35.992Z"
   },
   {
    "duration": 18,
    "start_time": "2021-07-07T14:35:36.027Z"
   },
   {
    "duration": 9,
    "start_time": "2021-07-07T14:35:36.047Z"
   },
   {
    "duration": 9,
    "start_time": "2021-07-07T14:35:36.058Z"
   },
   {
    "duration": 7,
    "start_time": "2021-07-07T14:35:36.069Z"
   },
   {
    "duration": 1332,
    "start_time": "2021-07-07T14:35:36.078Z"
   },
   {
    "duration": 29,
    "start_time": "2021-07-07T14:35:37.412Z"
   },
   {
    "duration": 165,
    "start_time": "2021-07-07T14:35:37.443Z"
   },
   {
    "duration": 4,
    "start_time": "2021-07-07T14:35:37.609Z"
   },
   {
    "duration": 10,
    "start_time": "2021-07-07T14:35:37.614Z"
   },
   {
    "duration": 15,
    "start_time": "2021-07-07T14:35:37.625Z"
   },
   {
    "duration": 4,
    "start_time": "2021-07-07T14:35:37.642Z"
   },
   {
    "duration": 6,
    "start_time": "2021-07-07T14:35:37.648Z"
   },
   {
    "duration": 5,
    "start_time": "2021-07-07T14:35:37.656Z"
   },
   {
    "duration": 6,
    "start_time": "2021-07-07T14:35:37.663Z"
   },
   {
    "duration": 71,
    "start_time": "2021-07-07T14:35:37.670Z"
   },
   {
    "duration": 3,
    "start_time": "2021-07-07T14:35:37.743Z"
   },
   {
    "duration": 7,
    "start_time": "2021-07-07T14:35:37.747Z"
   },
   {
    "duration": 6,
    "start_time": "2021-07-07T14:35:37.755Z"
   },
   {
    "duration": 4,
    "start_time": "2021-07-07T14:35:37.764Z"
   },
   {
    "duration": 24,
    "start_time": "2021-07-07T14:35:37.770Z"
   },
   {
    "duration": 47,
    "start_time": "2021-07-07T14:35:37.796Z"
   },
   {
    "duration": 3832,
    "start_time": "2021-07-07T14:35:37.845Z"
   },
   {
    "duration": 1093,
    "start_time": "2021-07-07T14:35:41.678Z"
   },
   {
    "duration": 4722,
    "start_time": "2021-07-07T14:35:42.773Z"
   },
   {
    "duration": 26,
    "start_time": "2021-07-07T14:35:47.497Z"
   },
   {
    "duration": 3991,
    "start_time": "2021-07-07T14:35:47.524Z"
   },
   {
    "duration": 1135,
    "start_time": "2021-07-07T14:35:51.516Z"
   },
   {
    "duration": 5279,
    "start_time": "2021-07-07T14:35:52.652Z"
   },
   {
    "duration": 17,
    "start_time": "2021-07-07T14:35:57.932Z"
   },
   {
    "duration": 6,
    "start_time": "2021-07-07T14:35:57.951Z"
   },
   {
    "duration": 4739,
    "start_time": "2021-07-07T14:35:57.958Z"
   },
   {
    "duration": 1416,
    "start_time": "2021-07-07T14:36:02.698Z"
   },
   {
    "duration": 6046,
    "start_time": "2021-07-07T14:36:04.115Z"
   },
   {
    "duration": 23595,
    "start_time": "2021-07-07T14:36:10.162Z"
   },
   {
    "duration": 17713,
    "start_time": "2021-07-07T14:36:33.759Z"
   },
   {
    "duration": 574,
    "start_time": "2021-07-07T14:36:51.474Z"
   },
   {
    "duration": 569,
    "start_time": "2021-07-07T14:39:41.578Z"
   },
   {
    "duration": 574,
    "start_time": "2021-07-07T14:41:21.006Z"
   },
   {
    "duration": 663,
    "start_time": "2021-07-07T15:19:55.667Z"
   },
   {
    "duration": 710,
    "start_time": "2021-07-07T15:24:54.739Z"
   },
   {
    "duration": 385,
    "start_time": "2021-07-07T15:25:12.588Z"
   },
   {
    "duration": 562,
    "start_time": "2021-07-07T15:25:56.295Z"
   },
   {
    "duration": 8,
    "start_time": "2021-07-07T15:50:29.084Z"
   },
   {
    "duration": 568,
    "start_time": "2021-07-07T15:50:40.380Z"
   },
   {
    "duration": 1094,
    "start_time": "2021-07-07T15:54:42.901Z"
   },
   {
    "duration": 38,
    "start_time": "2021-07-07T15:54:43.997Z"
   },
   {
    "duration": 7,
    "start_time": "2021-07-07T15:54:44.037Z"
   },
   {
    "duration": 34,
    "start_time": "2021-07-07T15:54:44.045Z"
   },
   {
    "duration": 11,
    "start_time": "2021-07-07T15:54:44.080Z"
   },
   {
    "duration": 8,
    "start_time": "2021-07-07T15:54:44.092Z"
   },
   {
    "duration": 8,
    "start_time": "2021-07-07T15:54:44.101Z"
   },
   {
    "duration": 32,
    "start_time": "2021-07-07T15:54:44.112Z"
   },
   {
    "duration": 1357,
    "start_time": "2021-07-07T15:54:44.145Z"
   },
   {
    "duration": 22,
    "start_time": "2021-07-07T15:54:45.505Z"
   },
   {
    "duration": 199,
    "start_time": "2021-07-07T15:54:45.541Z"
   },
   {
    "duration": 5,
    "start_time": "2021-07-07T15:54:45.742Z"
   },
   {
    "duration": 6,
    "start_time": "2021-07-07T15:54:45.749Z"
   },
   {
    "duration": 5,
    "start_time": "2021-07-07T15:54:45.757Z"
   },
   {
    "duration": 8,
    "start_time": "2021-07-07T15:54:45.764Z"
   },
   {
    "duration": 6,
    "start_time": "2021-07-07T15:54:45.774Z"
   },
   {
    "duration": 6,
    "start_time": "2021-07-07T15:54:45.781Z"
   },
   {
    "duration": 6,
    "start_time": "2021-07-07T15:54:45.788Z"
   },
   {
    "duration": 92,
    "start_time": "2021-07-07T15:54:45.796Z"
   },
   {
    "duration": 4,
    "start_time": "2021-07-07T15:54:45.889Z"
   },
   {
    "duration": 9,
    "start_time": "2021-07-07T15:54:45.895Z"
   },
   {
    "duration": 8,
    "start_time": "2021-07-07T15:54:45.906Z"
   },
   {
    "duration": 15,
    "start_time": "2021-07-07T15:54:45.917Z"
   },
   {
    "duration": 43,
    "start_time": "2021-07-07T15:54:45.934Z"
   },
   {
    "duration": 27,
    "start_time": "2021-07-07T15:54:45.979Z"
   },
   {
    "duration": 3880,
    "start_time": "2021-07-07T15:54:46.007Z"
   },
   {
    "duration": 1120,
    "start_time": "2021-07-07T15:54:49.889Z"
   },
   {
    "duration": 4732,
    "start_time": "2021-07-07T15:54:51.011Z"
   },
   {
    "duration": 27,
    "start_time": "2021-07-07T15:54:55.745Z"
   },
   {
    "duration": 4114,
    "start_time": "2021-07-07T15:54:55.773Z"
   },
   {
    "duration": 1164,
    "start_time": "2021-07-07T15:54:59.889Z"
   },
   {
    "duration": 4896,
    "start_time": "2021-07-07T15:55:01.055Z"
   },
   {
    "duration": 13,
    "start_time": "2021-07-07T15:55:05.952Z"
   },
   {
    "duration": 6,
    "start_time": "2021-07-07T15:55:05.966Z"
   },
   {
    "duration": 4627,
    "start_time": "2021-07-07T15:55:05.974Z"
   },
   {
    "duration": 1508,
    "start_time": "2021-07-07T15:55:10.603Z"
   },
   {
    "duration": 6464,
    "start_time": "2021-07-07T15:55:12.113Z"
   },
   {
    "duration": 23347,
    "start_time": "2021-07-07T15:55:18.578Z"
   },
   {
    "duration": 21865,
    "start_time": "2021-07-07T15:55:41.927Z"
   },
   {
    "duration": -21,
    "start_time": "2021-07-07T15:56:03.815Z"
   },
   {
    "duration": -33,
    "start_time": "2021-07-07T15:56:03.829Z"
   },
   {
    "duration": 60835,
    "start_time": "2021-07-07T15:56:20.962Z"
   },
   {
    "duration": 194973,
    "start_time": "2021-07-07T15:58:39.950Z"
   },
   {
    "duration": 8,
    "start_time": "2021-07-07T16:02:11.482Z"
   },
   {
    "duration": 650,
    "start_time": "2021-07-07T16:02:15.066Z"
   },
   {
    "duration": 1068,
    "start_time": "2021-07-07T16:09:14.327Z"
   },
   {
    "duration": 38,
    "start_time": "2021-07-07T16:09:15.397Z"
   },
   {
    "duration": 8,
    "start_time": "2021-07-07T16:09:15.437Z"
   },
   {
    "duration": 35,
    "start_time": "2021-07-07T16:09:15.446Z"
   },
   {
    "duration": 12,
    "start_time": "2021-07-07T16:09:15.483Z"
   },
   {
    "duration": 8,
    "start_time": "2021-07-07T16:09:15.497Z"
   },
   {
    "duration": 9,
    "start_time": "2021-07-07T16:09:15.507Z"
   },
   {
    "duration": 28,
    "start_time": "2021-07-07T16:09:15.519Z"
   },
   {
    "duration": 1294,
    "start_time": "2021-07-07T16:09:15.549Z"
   },
   {
    "duration": 21,
    "start_time": "2021-07-07T16:09:16.844Z"
   },
   {
    "duration": 171,
    "start_time": "2021-07-07T16:09:16.866Z"
   },
   {
    "duration": 4,
    "start_time": "2021-07-07T16:09:17.040Z"
   },
   {
    "duration": 6,
    "start_time": "2021-07-07T16:09:17.046Z"
   },
   {
    "duration": 5,
    "start_time": "2021-07-07T16:09:17.054Z"
   },
   {
    "duration": 5,
    "start_time": "2021-07-07T16:09:17.060Z"
   },
   {
    "duration": 5,
    "start_time": "2021-07-07T16:09:17.066Z"
   },
   {
    "duration": 5,
    "start_time": "2021-07-07T16:09:17.072Z"
   },
   {
    "duration": 5,
    "start_time": "2021-07-07T16:09:17.078Z"
   },
   {
    "duration": 90,
    "start_time": "2021-07-07T16:09:17.085Z"
   },
   {
    "duration": 3,
    "start_time": "2021-07-07T16:09:17.176Z"
   },
   {
    "duration": 8,
    "start_time": "2021-07-07T16:09:17.180Z"
   },
   {
    "duration": 4,
    "start_time": "2021-07-07T16:09:17.190Z"
   },
   {
    "duration": 4,
    "start_time": "2021-07-07T16:09:17.197Z"
   },
   {
    "duration": 38,
    "start_time": "2021-07-07T16:09:17.203Z"
   },
   {
    "duration": 27,
    "start_time": "2021-07-07T16:09:17.243Z"
   },
   {
    "duration": 4026,
    "start_time": "2021-07-07T16:09:17.271Z"
   },
   {
    "duration": 1251,
    "start_time": "2021-07-07T16:09:21.298Z"
   },
   {
    "duration": 4774,
    "start_time": "2021-07-07T16:09:22.551Z"
   },
   {
    "duration": 34,
    "start_time": "2021-07-07T16:09:27.326Z"
   },
   {
    "duration": 3942,
    "start_time": "2021-07-07T16:09:27.362Z"
   },
   {
    "duration": 1129,
    "start_time": "2021-07-07T16:09:31.306Z"
   },
   {
    "duration": 4746,
    "start_time": "2021-07-07T16:09:32.440Z"
   },
   {
    "duration": 11,
    "start_time": "2021-07-07T16:09:37.188Z"
   },
   {
    "duration": 11,
    "start_time": "2021-07-07T16:09:37.201Z"
   },
   {
    "duration": 4388,
    "start_time": "2021-07-07T16:09:37.214Z"
   },
   {
    "duration": 1392,
    "start_time": "2021-07-07T16:09:41.603Z"
   },
   {
    "duration": 6260,
    "start_time": "2021-07-07T16:09:42.996Z"
   },
   {
    "duration": 195991,
    "start_time": "2021-07-07T16:09:49.257Z"
   },
   {
    "duration": 8,
    "start_time": "2021-07-07T16:13:05.249Z"
   },
   {
    "duration": 706,
    "start_time": "2021-07-07T16:13:05.258Z"
   },
   {
    "duration": 394,
    "start_time": "2021-07-08T11:05:50.914Z"
   },
   {
    "duration": 2041,
    "start_time": "2021-07-08T11:05:58.248Z"
   },
   {
    "duration": 75,
    "start_time": "2021-07-08T11:06:00.292Z"
   },
   {
    "duration": 23,
    "start_time": "2021-07-08T11:06:00.371Z"
   },
   {
    "duration": 71,
    "start_time": "2021-07-08T11:06:00.397Z"
   },
   {
    "duration": 30,
    "start_time": "2021-07-08T11:06:00.471Z"
   },
   {
    "duration": 24,
    "start_time": "2021-07-08T11:06:00.503Z"
   },
   {
    "duration": 17,
    "start_time": "2021-07-08T11:06:00.529Z"
   },
   {
    "duration": 13,
    "start_time": "2021-07-08T11:06:00.549Z"
   },
   {
    "duration": 2600,
    "start_time": "2021-07-08T11:06:00.565Z"
   },
   {
    "duration": 34,
    "start_time": "2021-07-08T11:06:03.168Z"
   },
   {
    "duration": 34,
    "start_time": "2021-07-08T11:06:03.205Z"
   },
   {
    "duration": 349,
    "start_time": "2021-07-08T11:06:03.242Z"
   },
   {
    "duration": 7,
    "start_time": "2021-07-08T11:06:03.595Z"
   },
   {
    "duration": 13,
    "start_time": "2021-07-08T11:06:03.605Z"
   },
   {
    "duration": 15,
    "start_time": "2021-07-08T11:06:03.620Z"
   },
   {
    "duration": 34,
    "start_time": "2021-07-08T11:06:03.638Z"
   },
   {
    "duration": 20,
    "start_time": "2021-07-08T11:06:03.675Z"
   },
   {
    "duration": 24,
    "start_time": "2021-07-08T11:06:03.698Z"
   },
   {
    "duration": 16,
    "start_time": "2021-07-08T11:06:03.725Z"
   },
   {
    "duration": 106,
    "start_time": "2021-07-08T11:06:03.743Z"
   },
   {
    "duration": 5,
    "start_time": "2021-07-08T11:06:03.851Z"
   },
   {
    "duration": 29,
    "start_time": "2021-07-08T11:06:03.858Z"
   },
   {
    "duration": 5,
    "start_time": "2021-07-08T11:06:03.892Z"
   },
   {
    "duration": 11,
    "start_time": "2021-07-08T11:06:03.900Z"
   },
   {
    "duration": 86,
    "start_time": "2021-07-08T11:06:03.914Z"
   },
   {
    "duration": 83,
    "start_time": "2021-07-08T11:06:04.003Z"
   },
   {
    "duration": 4830,
    "start_time": "2021-07-08T11:06:04.089Z"
   },
   {
    "duration": 2018,
    "start_time": "2021-07-08T11:06:08.921Z"
   },
   {
    "duration": 8428,
    "start_time": "2021-07-08T11:06:10.942Z"
   },
   {
    "duration": 57,
    "start_time": "2021-07-08T11:06:19.373Z"
   },
   {
    "duration": 7057,
    "start_time": "2021-07-08T11:06:19.433Z"
   },
   {
    "duration": 1974,
    "start_time": "2021-07-08T11:06:26.492Z"
   },
   {
    "duration": 9184,
    "start_time": "2021-07-08T11:06:28.468Z"
   },
   {
    "duration": 35,
    "start_time": "2021-07-08T11:06:37.654Z"
   },
   {
    "duration": 9,
    "start_time": "2021-07-08T11:06:37.691Z"
   },
   {
    "duration": 7396,
    "start_time": "2021-07-08T11:06:37.702Z"
   },
   {
    "duration": 2325,
    "start_time": "2021-07-08T11:06:45.100Z"
   },
   {
    "duration": 10830,
    "start_time": "2021-07-08T11:06:47.427Z"
   },
   {
    "duration": 357494,
    "start_time": "2021-07-08T11:06:58.260Z"
   },
   {
    "duration": 28,
    "start_time": "2021-07-08T11:12:55.757Z"
   },
   {
    "duration": 1246,
    "start_time": "2021-07-08T11:12:55.788Z"
   },
   {
    "duration": 13,
    "start_time": "2021-07-08T11:23:03.837Z"
   },
   {
    "duration": 103,
    "start_time": "2021-07-08T11:25:24.051Z"
   },
   {
    "duration": 14,
    "start_time": "2021-07-08T11:25:30.773Z"
   },
   {
    "duration": 16,
    "start_time": "2021-07-08T12:03:28.533Z"
   },
   {
    "duration": 112,
    "start_time": "2021-07-08T12:04:22.101Z"
   },
   {
    "duration": 787,
    "start_time": "2021-07-08T12:04:29.149Z"
   },
   {
    "duration": 27,
    "start_time": "2021-07-08T12:04:52.345Z"
   },
   {
    "duration": 635,
    "start_time": "2021-07-08T12:04:54.274Z"
   },
   {
    "duration": 17,
    "start_time": "2021-07-08T12:06:02.592Z"
   },
   {
    "duration": 3054,
    "start_time": "2021-07-08T12:06:09.066Z"
   },
   {
    "duration": 22,
    "start_time": "2021-07-08T12:14:55.151Z"
   },
   {
    "duration": 3283,
    "start_time": "2021-07-08T12:15:04.769Z"
   },
   {
    "duration": 126,
    "start_time": "2021-07-08T12:15:23.723Z"
   },
   {
    "duration": 648,
    "start_time": "2021-07-08T12:15:30.398Z"
   },
   {
    "duration": 22,
    "start_time": "2021-07-08T12:15:50.231Z"
   },
   {
    "duration": 1347,
    "start_time": "2021-07-08T12:15:54.824Z"
   },
   {
    "duration": 26,
    "start_time": "2021-07-08T12:16:25.769Z"
   },
   {
    "duration": 4187,
    "start_time": "2021-07-08T12:16:27.606Z"
   },
   {
    "duration": 1259,
    "start_time": "2021-07-08T12:16:32.221Z"
   },
   {
    "duration": 22,
    "start_time": "2021-07-08T12:17:59.925Z"
   },
   {
    "duration": 26,
    "start_time": "2021-07-08T12:24:06.065Z"
   },
   {
    "duration": 3790,
    "start_time": "2021-07-08T12:25:09.795Z"
   },
   {
    "duration": 1705,
    "start_time": "2021-07-08T12:25:18.006Z"
   },
   {
    "duration": 110,
    "start_time": "2021-07-08T12:25:29.366Z"
   },
   {
    "duration": 304,
    "start_time": "2021-07-08T12:25:32.261Z"
   },
   {
    "duration": 632,
    "start_time": "2021-07-08T12:25:38.681Z"
   },
   {
    "duration": 40,
    "start_time": "2021-07-08T12:26:09.195Z"
   },
   {
    "duration": 10473,
    "start_time": "2021-07-08T12:26:16.321Z"
   },
   {
    "duration": 30,
    "start_time": "2021-07-08T12:27:26.092Z"
   },
   {
    "duration": 7684,
    "start_time": "2021-07-08T12:27:33.622Z"
   },
   {
    "duration": 158,
    "start_time": "2021-07-08T12:28:59.151Z"
   },
   {
    "duration": 34,
    "start_time": "2021-07-08T12:29:34.795Z"
   },
   {
    "duration": 3426,
    "start_time": "2021-07-08T12:29:37.748Z"
   },
   {
    "duration": 1282,
    "start_time": "2021-07-08T12:29:44.485Z"
   },
   {
    "duration": 8371,
    "start_time": "2021-07-08T12:29:51.900Z"
   },
   {
    "duration": 30,
    "start_time": "2021-07-08T13:00:33.291Z"
   },
   {
    "duration": 1558,
    "start_time": "2021-07-08T13:01:30.006Z"
   },
   {
    "duration": 58,
    "start_time": "2021-07-08T13:01:31.567Z"
   },
   {
    "duration": 26,
    "start_time": "2021-07-08T13:01:31.629Z"
   },
   {
    "duration": 102,
    "start_time": "2021-07-08T13:01:31.659Z"
   },
   {
    "duration": 35,
    "start_time": "2021-07-08T13:01:31.764Z"
   },
   {
    "duration": 33,
    "start_time": "2021-07-08T13:01:31.803Z"
   },
   {
    "duration": 34,
    "start_time": "2021-07-08T13:01:31.839Z"
   },
   {
    "duration": 20,
    "start_time": "2021-07-08T13:01:31.878Z"
   },
   {
    "duration": 2461,
    "start_time": "2021-07-08T13:01:31.901Z"
   },
   {
    "duration": 34,
    "start_time": "2021-07-08T13:01:34.365Z"
   },
   {
    "duration": 32,
    "start_time": "2021-07-08T13:01:34.402Z"
   },
   {
    "duration": 332,
    "start_time": "2021-07-08T13:01:34.437Z"
   },
   {
    "duration": 14,
    "start_time": "2021-07-08T13:01:34.771Z"
   },
   {
    "duration": 7,
    "start_time": "2021-07-08T13:01:34.788Z"
   },
   {
    "duration": 18,
    "start_time": "2021-07-08T13:01:34.797Z"
   },
   {
    "duration": 5,
    "start_time": "2021-07-08T13:01:34.817Z"
   },
   {
    "duration": 7,
    "start_time": "2021-07-08T13:01:34.825Z"
   },
   {
    "duration": 5,
    "start_time": "2021-07-08T13:01:34.835Z"
   },
   {
    "duration": 46,
    "start_time": "2021-07-08T13:01:34.843Z"
   },
   {
    "duration": 106,
    "start_time": "2021-07-08T13:01:34.892Z"
   },
   {
    "duration": 5,
    "start_time": "2021-07-08T13:01:35.001Z"
   },
   {
    "duration": 7,
    "start_time": "2021-07-08T13:01:35.009Z"
   },
   {
    "duration": 5,
    "start_time": "2021-07-08T13:01:35.021Z"
   },
   {
    "duration": 6,
    "start_time": "2021-07-08T13:01:35.029Z"
   },
   {
    "duration": 80,
    "start_time": "2021-07-08T13:01:35.038Z"
   },
   {
    "duration": 30,
    "start_time": "2021-07-08T13:01:35.121Z"
   },
   {
    "duration": 3223,
    "start_time": "2021-07-08T13:01:35.154Z"
   },
   {
    "duration": 1281,
    "start_time": "2021-07-08T13:01:38.380Z"
   },
   {
    "duration": 11378,
    "start_time": "2021-07-08T13:01:39.664Z"
   },
   {
    "duration": 52,
    "start_time": "2021-07-08T13:01:51.045Z"
   },
   {
    "duration": 6792,
    "start_time": "2021-07-08T13:01:51.100Z"
   },
   {
    "duration": 1928,
    "start_time": "2021-07-08T13:01:57.895Z"
   },
   {
    "duration": 8332,
    "start_time": "2021-07-08T13:01:59.827Z"
   },
   {
    "duration": 36,
    "start_time": "2021-07-08T13:02:08.161Z"
   },
   {
    "duration": 9,
    "start_time": "2021-07-08T13:02:08.200Z"
   },
   {
    "duration": 461,
    "start_time": "2021-07-08T13:02:08.212Z"
   },
   {
    "duration": 796,
    "start_time": "2021-07-08T13:02:07.880Z"
   },
   {
    "duration": 703,
    "start_time": "2021-07-08T13:02:07.975Z"
   },
   {
    "duration": 670,
    "start_time": "2021-07-08T13:02:08.009Z"
   },
   {
    "duration": 659,
    "start_time": "2021-07-08T13:02:08.022Z"
   },
   {
    "duration": 645,
    "start_time": "2021-07-08T13:02:08.038Z"
   },
   {
    "duration": 107,
    "start_time": "2021-07-08T13:04:17.396Z"
   },
   {
    "duration": 7943,
    "start_time": "2021-07-08T13:05:45.720Z"
   },
   {
    "duration": 29,
    "start_time": "2021-07-08T13:07:03.958Z"
   },
   {
    "duration": 4177,
    "start_time": "2021-07-08T13:07:07.113Z"
   },
   {
    "duration": 31,
    "start_time": "2021-07-08T13:07:27.581Z"
   },
   {
    "duration": 3889,
    "start_time": "2021-07-08T13:07:28.440Z"
   },
   {
    "duration": 1216,
    "start_time": "2021-07-08T13:08:01.086Z"
   },
   {
    "duration": 8106,
    "start_time": "2021-07-08T13:09:00.056Z"
   },
   {
    "duration": 4011,
    "start_time": "2021-07-08T13:13:34.005Z"
   },
   {
    "duration": 1769,
    "start_time": "2021-07-08T13:17:13.754Z"
   },
   {
    "duration": 7855,
    "start_time": "2021-07-08T13:17:47.479Z"
   },
   {
    "duration": 18,
    "start_time": "2021-07-08T13:22:54.609Z"
   },
   {
    "duration": 10,
    "start_time": "2021-07-08T13:22:57.285Z"
   },
   {
    "duration": 3412,
    "start_time": "2021-07-08T13:23:04.118Z"
   },
   {
    "duration": 1810,
    "start_time": "2021-07-08T13:27:35.319Z"
   },
   {
    "duration": 10524,
    "start_time": "2021-07-08T13:37:00.947Z"
   },
   {
    "duration": 328,
    "start_time": "2021-07-08T13:40:29.879Z"
   },
   {
    "duration": 189591,
    "start_time": "2021-07-08T13:40:36.685Z"
   },
   {
    "duration": 13,
    "start_time": "2021-07-08T13:44:13.530Z"
   },
   {
    "duration": 365399,
    "start_time": "2021-07-08T13:46:47.930Z"
   },
   {
    "duration": 1649,
    "start_time": "2021-07-08T13:57:18.052Z"
   },
   {
    "duration": 58,
    "start_time": "2021-07-08T13:57:19.704Z"
   },
   {
    "duration": 22,
    "start_time": "2021-07-08T13:57:19.766Z"
   },
   {
    "duration": 103,
    "start_time": "2021-07-08T13:57:19.791Z"
   },
   {
    "duration": 27,
    "start_time": "2021-07-08T13:57:19.896Z"
   },
   {
    "duration": 27,
    "start_time": "2021-07-08T13:57:19.926Z"
   },
   {
    "duration": 23,
    "start_time": "2021-07-08T13:57:19.956Z"
   },
   {
    "duration": 20,
    "start_time": "2021-07-08T13:57:19.983Z"
   },
   {
    "duration": 2806,
    "start_time": "2021-07-08T13:57:20.007Z"
   },
   {
    "duration": 23,
    "start_time": "2021-07-08T13:57:22.815Z"
   },
   {
    "duration": 66,
    "start_time": "2021-07-08T13:57:22.840Z"
   },
   {
    "duration": 412,
    "start_time": "2021-07-08T13:57:22.909Z"
   },
   {
    "duration": 7,
    "start_time": "2021-07-08T13:57:23.324Z"
   },
   {
    "duration": 19,
    "start_time": "2021-07-08T13:57:23.333Z"
   },
   {
    "duration": 32,
    "start_time": "2021-07-08T13:57:23.354Z"
   },
   {
    "duration": 26,
    "start_time": "2021-07-08T13:57:23.389Z"
   },
   {
    "duration": 22,
    "start_time": "2021-07-08T13:57:23.417Z"
   },
   {
    "duration": 20,
    "start_time": "2021-07-08T13:57:23.441Z"
   },
   {
    "duration": 21,
    "start_time": "2021-07-08T13:57:23.463Z"
   },
   {
    "duration": 111,
    "start_time": "2021-07-08T13:57:23.486Z"
   },
   {
    "duration": 11,
    "start_time": "2021-07-08T13:57:23.600Z"
   },
   {
    "duration": 19,
    "start_time": "2021-07-08T13:57:23.614Z"
   },
   {
    "duration": 7,
    "start_time": "2021-07-08T13:57:23.639Z"
   },
   {
    "duration": 17,
    "start_time": "2021-07-08T13:57:23.649Z"
   },
   {
    "duration": 52,
    "start_time": "2021-07-08T13:57:23.669Z"
   },
   {
    "duration": 30,
    "start_time": "2021-07-08T13:57:23.725Z"
   },
   {
    "duration": 3131,
    "start_time": "2021-07-08T13:57:23.758Z"
   },
   {
    "duration": 1277,
    "start_time": "2021-07-08T13:57:26.892Z"
   },
   {
    "duration": 8969,
    "start_time": "2021-07-08T13:57:28.172Z"
   },
   {
    "duration": 3332,
    "start_time": "2021-07-08T13:57:37.143Z"
   },
   {
    "duration": 1373,
    "start_time": "2021-07-08T13:57:40.477Z"
   },
   {
    "duration": 8376,
    "start_time": "2021-07-08T13:57:41.853Z"
   },
   {
    "duration": 21,
    "start_time": "2021-07-08T13:57:50.232Z"
   },
   {
    "duration": 10,
    "start_time": "2021-07-08T13:57:50.256Z"
   },
   {
    "duration": 3433,
    "start_time": "2021-07-08T13:57:50.287Z"
   },
   {
    "duration": 1422,
    "start_time": "2021-07-08T13:57:53.723Z"
   },
   {
    "duration": 10961,
    "start_time": "2021-07-08T13:57:55.148Z"
   },
   {
    "duration": 12,
    "start_time": "2021-07-08T13:58:06.112Z"
   },
   {
    "duration": 352905,
    "start_time": "2021-07-08T13:58:06.127Z"
   }
  ],
  "kernelspec": {
   "display_name": "Python 3",
   "language": "python",
   "name": "python3"
  },
  "language_info": {
   "codemirror_mode": {
    "name": "ipython",
    "version": 3
   },
   "file_extension": ".py",
   "mimetype": "text/x-python",
   "name": "python",
   "nbconvert_exporter": "python",
   "pygments_lexer": "ipython3",
   "version": "3.8.8"
  },
  "toc": {
   "base_numbering": 1,
   "nav_menu": {},
   "number_sections": true,
   "sideBar": true,
   "skip_h1_title": true,
   "title_cell": "Содержание",
   "title_sidebar": "Contents",
   "toc_cell": true,
   "toc_position": {
    "height": "605px",
    "left": "35px",
    "top": "163.176px",
    "width": "197.5px"
   },
   "toc_section_display": true,
   "toc_window_display": true
  }
 },
 "nbformat": 4,
 "nbformat_minor": 2
}
