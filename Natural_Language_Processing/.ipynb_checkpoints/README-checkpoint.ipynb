{
 "cells": [
  {
   "cell_type": "markdown",
   "id": "290f5cec",
   "metadata": {},
   "source": [
    "# Natural Language Processing\n",
    "\n",
    "- **[Sentiment_analysis.](https://github.com/IaroslavKonev/DS_projects/tree/main/Natural_Language_Processing/Sentiment%20Analysis_(Classic_ML))** With TF-IDF - vectorization and Linear regression.\n",
    "\n",
    "- **[Classification_(Bert).](https://github.com/IaroslavKonev/DS_projects/tree/main/Natural_Language_Processing/Classification%20(Bert))** PyTorch+BERT. I coded 2 custom classes. It can also be used to train multiclassifiers."
   ]
  }
 ],
 "metadata": {
  "kernelspec": {
   "display_name": "Python 3 (ipykernel)",
   "language": "python",
   "name": "python3"
  },
  "language_info": {
   "codemirror_mode": {
    "name": "ipython",
    "version": 3
   },
   "file_extension": ".py",
   "mimetype": "text/x-python",
   "name": "python",
   "nbconvert_exporter": "python",
   "pygments_lexer": "ipython3",
   "version": "3.9.7"
  }
 },
 "nbformat": 4,
 "nbformat_minor": 5
}
