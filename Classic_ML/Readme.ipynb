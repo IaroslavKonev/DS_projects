{
 "cells": [
  {
   "cell_type": "markdown",
   "id": "6e47260d",
   "metadata": {},
   "source": [
    "# Classic_ML\n",
    "\n",
    "- **[Customer churn in telecom.]()** In this project, I explore data and train classical models for predicting telecom company customer churn. Also, based on the data I propose a system to provide promo codes for customers who can potentially change their telecom operator.\n",
    "\n"
   ]
  }
 ],
 "metadata": {
  "kernelspec": {
   "display_name": "Python 3 (ipykernel)",
   "language": "python",
   "name": "python3"
  },
  "language_info": {
   "codemirror_mode": {
    "name": "ipython",
    "version": 3
   },
   "file_extension": ".py",
   "mimetype": "text/x-python",
   "name": "python",
   "nbconvert_exporter": "python",
   "pygments_lexer": "ipython3",
   "version": "3.9.7"
  }
 },
 "nbformat": 4,
 "nbformat_minor": 5
}
