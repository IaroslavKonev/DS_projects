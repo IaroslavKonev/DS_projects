{
 "cells": [
  {
   "cell_type": "markdown",
   "id": "e7173fb2",
   "metadata": {},
   "source": [
    "# Financial Data Analysis"
   ]
  },
  {
   "cell_type": "markdown",
   "id": "628d01a0",
   "metadata": {},
   "source": [
    "## Loading Financial Data from the Web"
   ]
  },
  {
   "cell_type": "code",
   "execution_count": 1,
   "id": "ed0670ee",
   "metadata": {},
   "outputs": [],
   "source": [
    "import pandas as pd\n",
    "import numpy as np\n",
    "import yfinance as yf\n",
    "import matplotlib.pyplot as plt\n",
    "import scipy.stats as stats\n",
    "\n",
    "pd.options.display.float_format = '{:.4f}'.format\n",
    "plt.style.use(\"seaborn\")"
   ]
  },
  {
   "cell_type": "code",
   "execution_count": 2,
   "id": "edf2b55c",
   "metadata": {},
   "outputs": [],
   "source": [
    "start = \"2014-10-01\"\n",
    "end = \"2021-05-31\""
   ]
  },
  {
   "cell_type": "code",
   "execution_count": 3,
   "id": "3c81ccf8",
   "metadata": {},
   "outputs": [],
   "source": [
    "symbol = \"BA\""
   ]
  },
  {
   "cell_type": "code",
   "execution_count": 4,
   "id": "38e6d1ac",
   "metadata": {},
   "outputs": [
    {
     "name": "stdout",
     "output_type": "stream",
     "text": [
      "[*********************100%***********************]  1 of 1 completed\n",
      "\n",
      "1 Failed download:\n",
      "- BA: No data found for this date range, symbol may be delisted\n"
     ]
    },
    {
     "data": {
      "text/html": [
       "<div>\n",
       "<style scoped>\n",
       "    .dataframe tbody tr th:only-of-type {\n",
       "        vertical-align: middle;\n",
       "    }\n",
       "\n",
       "    .dataframe tbody tr th {\n",
       "        vertical-align: top;\n",
       "    }\n",
       "\n",
       "    .dataframe thead th {\n",
       "        text-align: right;\n",
       "    }\n",
       "</style>\n",
       "<table border=\"1\" class=\"dataframe\">\n",
       "  <thead>\n",
       "    <tr style=\"text-align: right;\">\n",
       "      <th></th>\n",
       "      <th>Open</th>\n",
       "      <th>High</th>\n",
       "      <th>Low</th>\n",
       "      <th>Close</th>\n",
       "      <th>Adj Close</th>\n",
       "      <th>Volume</th>\n",
       "    </tr>\n",
       "    <tr>\n",
       "      <th>Date</th>\n",
       "      <th></th>\n",
       "      <th></th>\n",
       "      <th></th>\n",
       "      <th></th>\n",
       "      <th></th>\n",
       "      <th></th>\n",
       "    </tr>\n",
       "  </thead>\n",
       "  <tbody>\n",
       "  </tbody>\n",
       "</table>\n",
       "</div>"
      ],
      "text/plain": [
       "Empty DataFrame\n",
       "Columns: [Open, High, Low, Close, Adj Close, Volume]\n",
       "Index: []"
      ]
     },
     "execution_count": 4,
     "metadata": {},
     "output_type": "execute_result"
    }
   ],
   "source": [
    "df = yf.download(symbol, start, end)\n",
    "df"
   ]
  },
  {
   "cell_type": "code",
   "execution_count": 5,
   "id": "77389d28",
   "metadata": {},
   "outputs": [
    {
     "name": "stdout",
     "output_type": "stream",
     "text": [
      "<class 'pandas.core.frame.DataFrame'>\n",
      "Index: 0 entries\n",
      "Data columns (total 6 columns):\n",
      " #   Column     Non-Null Count  Dtype  \n",
      "---  ------     --------------  -----  \n",
      " 0   Open       0 non-null      float64\n",
      " 1   High       0 non-null      float64\n",
      " 2   Low        0 non-null      float64\n",
      " 3   Close      0 non-null      float64\n",
      " 4   Adj Close  0 non-null      float64\n",
      " 5   Volume     0 non-null      float64\n",
      "dtypes: float64(6)\n",
      "memory usage: 0.0+ bytes\n"
     ]
    }
   ],
   "source": [
    "df.info()"
   ]
  },
  {
   "cell_type": "code",
   "execution_count": 6,
   "id": "7e6676d6",
   "metadata": {},
   "outputs": [],
   "source": [
    "symbol = [\"BA\", \"MSFT\", \"^DJI\", \"EURUSD=X\", \"GC=F\", \"BTC-USD\"]"
   ]
  },
  {
   "cell_type": "markdown",
   "id": "056f571b",
   "metadata": {},
   "source": [
    "Ticker Symbols: <br>\n",
    "- __BA__: Boeing (US Stock) \n",
    "- __MSFT__: Microsoft Corp (US Stock)\n",
    "- __^DJI__: Dow Jones Industrial Average (US Stock Index)\n",
    "- __EURUSD=X__: Exchange Rate for Currency Pair EUR/USD (Forex)\n",
    "- __GC=F__: Gold Price (Precious Metal / Commodity)\n",
    "- __BTC-USD__: Bitcoin in USD (Cryptocurrency)"
   ]
  },
  {
   "cell_type": "code",
   "execution_count": 7,
   "id": "a5fb408b",
   "metadata": {},
   "outputs": [
    {
     "name": "stdout",
     "output_type": "stream",
     "text": [
      "[*********************100%***********************]  6 of 6 completed\n",
      "\n",
      "6 Failed downloads:\n",
      "- MSFT: No data found for this date range, symbol may be delisted\n",
      "- ^DJI: No data found for this date range, symbol may be delisted\n",
      "- BA: No data found for this date range, symbol may be delisted\n",
      "- GC=F: No data found for this date range, symbol may be delisted\n",
      "- BTC-USD: No data found for this date range, symbol may be delisted\n",
      "- EURUSD=X: No data found for this date range, symbol may be delisted\n"
     ]
    },
    {
     "data": {
      "text/html": [
       "<div>\n",
       "<style scoped>\n",
       "    .dataframe tbody tr th:only-of-type {\n",
       "        vertical-align: middle;\n",
       "    }\n",
       "\n",
       "    .dataframe tbody tr th {\n",
       "        vertical-align: top;\n",
       "    }\n",
       "\n",
       "    .dataframe thead tr th {\n",
       "        text-align: left;\n",
       "    }\n",
       "\n",
       "    .dataframe thead tr:last-of-type th {\n",
       "        text-align: right;\n",
       "    }\n",
       "</style>\n",
       "<table border=\"1\" class=\"dataframe\">\n",
       "  <thead>\n",
       "    <tr>\n",
       "      <th></th>\n",
       "      <th colspan=\"6\" halign=\"left\">Adj Close</th>\n",
       "      <th colspan=\"4\" halign=\"left\">Close</th>\n",
       "      <th>...</th>\n",
       "      <th colspan=\"4\" halign=\"left\">Open</th>\n",
       "      <th colspan=\"6\" halign=\"left\">Volume</th>\n",
       "    </tr>\n",
       "    <tr>\n",
       "      <th></th>\n",
       "      <th>BA</th>\n",
       "      <th>BTC-USD</th>\n",
       "      <th>EURUSD=X</th>\n",
       "      <th>GC=F</th>\n",
       "      <th>MSFT</th>\n",
       "      <th>^DJI</th>\n",
       "      <th>BA</th>\n",
       "      <th>BTC-USD</th>\n",
       "      <th>EURUSD=X</th>\n",
       "      <th>GC=F</th>\n",
       "      <th>...</th>\n",
       "      <th>EURUSD=X</th>\n",
       "      <th>GC=F</th>\n",
       "      <th>MSFT</th>\n",
       "      <th>^DJI</th>\n",
       "      <th>BA</th>\n",
       "      <th>BTC-USD</th>\n",
       "      <th>EURUSD=X</th>\n",
       "      <th>GC=F</th>\n",
       "      <th>MSFT</th>\n",
       "      <th>^DJI</th>\n",
       "    </tr>\n",
       "    <tr>\n",
       "      <th>Date</th>\n",
       "      <th></th>\n",
       "      <th></th>\n",
       "      <th></th>\n",
       "      <th></th>\n",
       "      <th></th>\n",
       "      <th></th>\n",
       "      <th></th>\n",
       "      <th></th>\n",
       "      <th></th>\n",
       "      <th></th>\n",
       "      <th></th>\n",
       "      <th></th>\n",
       "      <th></th>\n",
       "      <th></th>\n",
       "      <th></th>\n",
       "      <th></th>\n",
       "      <th></th>\n",
       "      <th></th>\n",
       "      <th></th>\n",
       "      <th></th>\n",
       "      <th></th>\n",
       "    </tr>\n",
       "  </thead>\n",
       "  <tbody>\n",
       "  </tbody>\n",
       "</table>\n",
       "<p>0 rows × 36 columns</p>\n",
       "</div>"
      ],
      "text/plain": [
       "Empty DataFrame\n",
       "Columns: [(Adj Close, BA), (Adj Close, BTC-USD), (Adj Close, EURUSD=X), (Adj Close, GC=F), (Adj Close, MSFT), (Adj Close, ^DJI), (Close, BA), (Close, BTC-USD), (Close, EURUSD=X), (Close, GC=F), (Close, MSFT), (Close, ^DJI), (High, BA), (High, BTC-USD), (High, EURUSD=X), (High, GC=F), (High, MSFT), (High, ^DJI), (Low, BA), (Low, BTC-USD), (Low, EURUSD=X), (Low, GC=F), (Low, MSFT), (Low, ^DJI), (Open, BA), (Open, BTC-USD), (Open, EURUSD=X), (Open, GC=F), (Open, MSFT), (Open, ^DJI), (Volume, BA), (Volume, BTC-USD), (Volume, EURUSD=X), (Volume, GC=F), (Volume, MSFT), (Volume, ^DJI)]\n",
       "Index: []\n",
       "\n",
       "[0 rows x 36 columns]"
      ]
     },
     "execution_count": 7,
     "metadata": {},
     "output_type": "execute_result"
    }
   ],
   "source": [
    "df = yf.download(symbol, start, end)\n",
    "df"
   ]
  },
  {
   "cell_type": "code",
   "execution_count": 8,
   "id": "0ffab170",
   "metadata": {},
   "outputs": [
    {
     "name": "stdout",
     "output_type": "stream",
     "text": [
      "<class 'pandas.core.frame.DataFrame'>\n",
      "Index: 0 entries\n",
      "Data columns (total 36 columns):\n",
      " #   Column                 Non-Null Count  Dtype  \n",
      "---  ------                 --------------  -----  \n",
      " 0   (Adj Close, BA)        0 non-null      float64\n",
      " 1   (Adj Close, BTC-USD)   0 non-null      float64\n",
      " 2   (Adj Close, EURUSD=X)  0 non-null      float64\n",
      " 3   (Adj Close, GC=F)      0 non-null      float64\n",
      " 4   (Adj Close, MSFT)      0 non-null      float64\n",
      " 5   (Adj Close, ^DJI)      0 non-null      float64\n",
      " 6   (Close, BA)            0 non-null      float64\n",
      " 7   (Close, BTC-USD)       0 non-null      float64\n",
      " 8   (Close, EURUSD=X)      0 non-null      float64\n",
      " 9   (Close, GC=F)          0 non-null      float64\n",
      " 10  (Close, MSFT)          0 non-null      float64\n",
      " 11  (Close, ^DJI)          0 non-null      float64\n",
      " 12  (High, BA)             0 non-null      float64\n",
      " 13  (High, BTC-USD)        0 non-null      float64\n",
      " 14  (High, EURUSD=X)       0 non-null      float64\n",
      " 15  (High, GC=F)           0 non-null      float64\n",
      " 16  (High, MSFT)           0 non-null      float64\n",
      " 17  (High, ^DJI)           0 non-null      float64\n",
      " 18  (Low, BA)              0 non-null      float64\n",
      " 19  (Low, BTC-USD)         0 non-null      float64\n",
      " 20  (Low, EURUSD=X)        0 non-null      float64\n",
      " 21  (Low, GC=F)            0 non-null      float64\n",
      " 22  (Low, MSFT)            0 non-null      float64\n",
      " 23  (Low, ^DJI)            0 non-null      float64\n",
      " 24  (Open, BA)             0 non-null      float64\n",
      " 25  (Open, BTC-USD)        0 non-null      float64\n",
      " 26  (Open, EURUSD=X)       0 non-null      float64\n",
      " 27  (Open, GC=F)           0 non-null      float64\n",
      " 28  (Open, MSFT)           0 non-null      float64\n",
      " 29  (Open, ^DJI)           0 non-null      float64\n",
      " 30  (Volume, BA)           0 non-null      float64\n",
      " 31  (Volume, BTC-USD)      0 non-null      float64\n",
      " 32  (Volume, EURUSD=X)     0 non-null      float64\n",
      " 33  (Volume, GC=F)         0 non-null      float64\n",
      " 34  (Volume, MSFT)         0 non-null      float64\n",
      " 35  (Volume, ^DJI)         0 non-null      float64\n",
      "dtypes: float64(36)\n",
      "memory usage: 0.0+ bytes\n"
     ]
    }
   ],
   "source": [
    "df.info()"
   ]
  },
  {
   "cell_type": "code",
   "execution_count": 9,
   "id": "228c6cd0",
   "metadata": {},
   "outputs": [],
   "source": [
    "df.to_csv(\"multi_assets.csv\")"
   ]
  },
  {
   "cell_type": "markdown",
   "id": "8fb998d5",
   "metadata": {},
   "source": [
    "## Initial Inspection and Visualization"
   ]
  },
  {
   "cell_type": "code",
   "execution_count": 10,
   "id": "2ff5d5de",
   "metadata": {},
   "outputs": [
    {
     "data": {
      "text/html": [
       "<div>\n",
       "<style scoped>\n",
       "    .dataframe tbody tr th:only-of-type {\n",
       "        vertical-align: middle;\n",
       "    }\n",
       "\n",
       "    .dataframe tbody tr th {\n",
       "        vertical-align: top;\n",
       "    }\n",
       "\n",
       "    .dataframe thead tr th {\n",
       "        text-align: left;\n",
       "    }\n",
       "\n",
       "    .dataframe thead tr:last-of-type th {\n",
       "        text-align: right;\n",
       "    }\n",
       "</style>\n",
       "<table border=\"1\" class=\"dataframe\">\n",
       "  <thead>\n",
       "    <tr>\n",
       "      <th></th>\n",
       "      <th colspan=\"6\" halign=\"left\">Adj Close</th>\n",
       "      <th colspan=\"4\" halign=\"left\">Close</th>\n",
       "      <th>...</th>\n",
       "      <th colspan=\"4\" halign=\"left\">Open</th>\n",
       "      <th colspan=\"6\" halign=\"left\">Volume</th>\n",
       "    </tr>\n",
       "    <tr>\n",
       "      <th></th>\n",
       "      <th>BA</th>\n",
       "      <th>BTC-USD</th>\n",
       "      <th>EURUSD=X</th>\n",
       "      <th>GC=F</th>\n",
       "      <th>MSFT</th>\n",
       "      <th>^DJI</th>\n",
       "      <th>BA</th>\n",
       "      <th>BTC-USD</th>\n",
       "      <th>EURUSD=X</th>\n",
       "      <th>GC=F</th>\n",
       "      <th>...</th>\n",
       "      <th>EURUSD=X</th>\n",
       "      <th>GC=F</th>\n",
       "      <th>MSFT</th>\n",
       "      <th>^DJI</th>\n",
       "      <th>BA</th>\n",
       "      <th>BTC-USD</th>\n",
       "      <th>EURUSD=X</th>\n",
       "      <th>GC=F</th>\n",
       "      <th>MSFT</th>\n",
       "      <th>^DJI</th>\n",
       "    </tr>\n",
       "    <tr>\n",
       "      <th>Date</th>\n",
       "      <th></th>\n",
       "      <th></th>\n",
       "      <th></th>\n",
       "      <th></th>\n",
       "      <th></th>\n",
       "      <th></th>\n",
       "      <th></th>\n",
       "      <th></th>\n",
       "      <th></th>\n",
       "      <th></th>\n",
       "      <th></th>\n",
       "      <th></th>\n",
       "      <th></th>\n",
       "      <th></th>\n",
       "      <th></th>\n",
       "      <th></th>\n",
       "      <th></th>\n",
       "      <th></th>\n",
       "      <th></th>\n",
       "      <th></th>\n",
       "      <th></th>\n",
       "    </tr>\n",
       "  </thead>\n",
       "  <tbody>\n",
       "  </tbody>\n",
       "</table>\n",
       "<p>0 rows × 36 columns</p>\n",
       "</div>"
      ],
      "text/plain": [
       "Empty DataFrame\n",
       "Columns: [(Adj Close, BA), (Adj Close, BTC-USD), (Adj Close, EURUSD=X), (Adj Close, GC=F), (Adj Close, MSFT), (Adj Close, ^DJI), (Close, BA), (Close, BTC-USD), (Close, EURUSD=X), (Close, GC=F), (Close, MSFT), (Close, ^DJI), (High, BA), (High, BTC-USD), (High, EURUSD=X), (High, GC=F), (High, MSFT), (High, ^DJI), (Low, BA), (Low, BTC-USD), (Low, EURUSD=X), (Low, GC=F), (Low, MSFT), (Low, ^DJI), (Open, BA), (Open, BTC-USD), (Open, EURUSD=X), (Open, GC=F), (Open, MSFT), (Open, ^DJI), (Volume, BA), (Volume, BTC-USD), (Volume, EURUSD=X), (Volume, GC=F), (Volume, MSFT), (Volume, ^DJI)]\n",
       "Index: []\n",
       "\n",
       "[0 rows x 36 columns]"
      ]
     },
     "execution_count": 10,
     "metadata": {},
     "output_type": "execute_result"
    }
   ],
   "source": [
    "df = pd.read_csv(\"multi_assets.csv\", header = [0, 1], index_col = 0, parse_dates = [0])\n",
    "df"
   ]
  },
  {
   "cell_type": "code",
   "execution_count": 11,
   "id": "4154b3dc",
   "metadata": {},
   "outputs": [
    {
     "name": "stdout",
     "output_type": "stream",
     "text": [
      "<class 'pandas.core.frame.DataFrame'>\n",
      "Index: 0 entries\n",
      "Data columns (total 36 columns):\n",
      " #   Column                 Non-Null Count  Dtype \n",
      "---  ------                 --------------  ----- \n",
      " 0   (Adj Close, BA)        0 non-null      object\n",
      " 1   (Adj Close, BTC-USD)   0 non-null      object\n",
      " 2   (Adj Close, EURUSD=X)  0 non-null      object\n",
      " 3   (Adj Close, GC=F)      0 non-null      object\n",
      " 4   (Adj Close, MSFT)      0 non-null      object\n",
      " 5   (Adj Close, ^DJI)      0 non-null      object\n",
      " 6   (Close, BA)            0 non-null      object\n",
      " 7   (Close, BTC-USD)       0 non-null      object\n",
      " 8   (Close, EURUSD=X)      0 non-null      object\n",
      " 9   (Close, GC=F)          0 non-null      object\n",
      " 10  (Close, MSFT)          0 non-null      object\n",
      " 11  (Close, ^DJI)          0 non-null      object\n",
      " 12  (High, BA)             0 non-null      object\n",
      " 13  (High, BTC-USD)        0 non-null      object\n",
      " 14  (High, EURUSD=X)       0 non-null      object\n",
      " 15  (High, GC=F)           0 non-null      object\n",
      " 16  (High, MSFT)           0 non-null      object\n",
      " 17  (High, ^DJI)           0 non-null      object\n",
      " 18  (Low, BA)              0 non-null      object\n",
      " 19  (Low, BTC-USD)         0 non-null      object\n",
      " 20  (Low, EURUSD=X)        0 non-null      object\n",
      " 21  (Low, GC=F)            0 non-null      object\n",
      " 22  (Low, MSFT)            0 non-null      object\n",
      " 23  (Low, ^DJI)            0 non-null      object\n",
      " 24  (Open, BA)             0 non-null      object\n",
      " 25  (Open, BTC-USD)        0 non-null      object\n",
      " 26  (Open, EURUSD=X)       0 non-null      object\n",
      " 27  (Open, GC=F)           0 non-null      object\n",
      " 28  (Open, MSFT)           0 non-null      object\n",
      " 29  (Open, ^DJI)           0 non-null      object\n",
      " 30  (Volume, BA)           0 non-null      object\n",
      " 31  (Volume, BTC-USD)      0 non-null      object\n",
      " 32  (Volume, EURUSD=X)     0 non-null      object\n",
      " 33  (Volume, GC=F)         0 non-null      object\n",
      " 34  (Volume, MSFT)         0 non-null      object\n",
      " 35  (Volume, ^DJI)         0 non-null      object\n",
      "dtypes: object(36)\n",
      "memory usage: 0.0+ bytes\n"
     ]
    }
   ],
   "source": [
    "df.info()"
   ]
  },
  {
   "cell_type": "code",
   "execution_count": 12,
   "id": "4356cfce",
   "metadata": {},
   "outputs": [
    {
     "data": {
      "text/html": [
       "<div>\n",
       "<style scoped>\n",
       "    .dataframe tbody tr th:only-of-type {\n",
       "        vertical-align: middle;\n",
       "    }\n",
       "\n",
       "    .dataframe tbody tr th {\n",
       "        vertical-align: top;\n",
       "    }\n",
       "\n",
       "    .dataframe thead th {\n",
       "        text-align: right;\n",
       "    }\n",
       "</style>\n",
       "<table border=\"1\" class=\"dataframe\">\n",
       "  <thead>\n",
       "    <tr style=\"text-align: right;\">\n",
       "      <th></th>\n",
       "      <th>BA</th>\n",
       "      <th>BTC-USD</th>\n",
       "      <th>EURUSD=X</th>\n",
       "      <th>GC=F</th>\n",
       "      <th>MSFT</th>\n",
       "      <th>^DJI</th>\n",
       "    </tr>\n",
       "    <tr>\n",
       "      <th>Date</th>\n",
       "      <th></th>\n",
       "      <th></th>\n",
       "      <th></th>\n",
       "      <th></th>\n",
       "      <th></th>\n",
       "      <th></th>\n",
       "    </tr>\n",
       "  </thead>\n",
       "  <tbody>\n",
       "  </tbody>\n",
       "</table>\n",
       "</div>"
      ],
      "text/plain": [
       "Empty DataFrame\n",
       "Columns: [BA, BTC-USD, EURUSD=X, GC=F, MSFT, ^DJI]\n",
       "Index: []"
      ]
     },
     "execution_count": 12,
     "metadata": {},
     "output_type": "execute_result"
    }
   ],
   "source": [
    "df.Close # outer index level"
   ]
  },
  {
   "cell_type": "code",
   "execution_count": 13,
   "id": "4fc92bac",
   "metadata": {},
   "outputs": [
    {
     "data": {
      "text/plain": [
       "Series([], Name: BA, dtype: object)"
      ]
     },
     "execution_count": 13,
     "metadata": {},
     "output_type": "execute_result"
    }
   ],
   "source": [
    "df.Close.BA # one column (1)"
   ]
  },
  {
   "cell_type": "code",
   "execution_count": 14,
   "id": "99ac35fc",
   "metadata": {},
   "outputs": [
    {
     "data": {
      "text/plain": [
       "Series([], Name: (Close, BA), dtype: object)"
      ]
     },
     "execution_count": 14,
     "metadata": {},
     "output_type": "execute_result"
    }
   ],
   "source": [
    "df.loc[:, (\"Close\", \"BA\")] # one column (2)"
   ]
  },
  {
   "cell_type": "code",
   "execution_count": 16,
   "id": "f95123ef",
   "metadata": {},
   "outputs": [
    {
     "ename": "KeyError",
     "evalue": "'2015'",
     "output_type": "error",
     "traceback": [
      "\u001b[0;31m---------------------------------------------------------------------------\u001b[0m",
      "\u001b[0;31mKeyError\u001b[0m                                  Traceback (most recent call last)",
      "\u001b[0;32m~/anaconda3/lib/python3.9/site-packages/pandas/core/indexes/base.py\u001b[0m in \u001b[0;36mget_loc\u001b[0;34m(self, key, method, tolerance)\u001b[0m\n\u001b[1;32m   3360\u001b[0m             \u001b[0;32mtry\u001b[0m\u001b[0;34m:\u001b[0m\u001b[0;34m\u001b[0m\u001b[0;34m\u001b[0m\u001b[0m\n\u001b[0;32m-> 3361\u001b[0;31m                 \u001b[0;32mreturn\u001b[0m \u001b[0mself\u001b[0m\u001b[0;34m.\u001b[0m\u001b[0m_engine\u001b[0m\u001b[0;34m.\u001b[0m\u001b[0mget_loc\u001b[0m\u001b[0;34m(\u001b[0m\u001b[0mcasted_key\u001b[0m\u001b[0;34m)\u001b[0m\u001b[0;34m\u001b[0m\u001b[0;34m\u001b[0m\u001b[0m\n\u001b[0m\u001b[1;32m   3362\u001b[0m             \u001b[0;32mexcept\u001b[0m \u001b[0mKeyError\u001b[0m \u001b[0;32mas\u001b[0m \u001b[0merr\u001b[0m\u001b[0;34m:\u001b[0m\u001b[0;34m\u001b[0m\u001b[0;34m\u001b[0m\u001b[0m\n",
      "\u001b[0;32m~/anaconda3/lib/python3.9/site-packages/pandas/_libs/index.pyx\u001b[0m in \u001b[0;36mpandas._libs.index.IndexEngine.get_loc\u001b[0;34m()\u001b[0m\n",
      "\u001b[0;32m~/anaconda3/lib/python3.9/site-packages/pandas/_libs/index.pyx\u001b[0m in \u001b[0;36mpandas._libs.index.IndexEngine.get_loc\u001b[0;34m()\u001b[0m\n",
      "\u001b[0;32mpandas/_libs/hashtable_class_helper.pxi\u001b[0m in \u001b[0;36mpandas._libs.hashtable.PyObjectHashTable.get_item\u001b[0;34m()\u001b[0m\n",
      "\u001b[0;32mpandas/_libs/hashtable_class_helper.pxi\u001b[0m in \u001b[0;36mpandas._libs.hashtable.PyObjectHashTable.get_item\u001b[0;34m()\u001b[0m\n",
      "\u001b[0;31mKeyError\u001b[0m: '2015'",
      "\nThe above exception was the direct cause of the following exception:\n",
      "\u001b[0;31mKeyError\u001b[0m                                  Traceback (most recent call last)",
      "\u001b[0;32m/tmp/ipykernel_21127/662756393.py\u001b[0m in \u001b[0;36m<module>\u001b[0;34m\u001b[0m\n\u001b[0;32m----> 1\u001b[0;31m \u001b[0mdf\u001b[0m\u001b[0;34m.\u001b[0m\u001b[0mloc\u001b[0m\u001b[0;34m[\u001b[0m\u001b[0;34m\"2015\"\u001b[0m\u001b[0;34m]\u001b[0m \u001b[0;31m# one year\u001b[0m\u001b[0;34m\u001b[0m\u001b[0;34m\u001b[0m\u001b[0m\n\u001b[0m",
      "\u001b[0;32m~/anaconda3/lib/python3.9/site-packages/pandas/core/indexing.py\u001b[0m in \u001b[0;36m__getitem__\u001b[0;34m(self, key)\u001b[0m\n\u001b[1;32m    929\u001b[0m \u001b[0;34m\u001b[0m\u001b[0m\n\u001b[1;32m    930\u001b[0m             \u001b[0mmaybe_callable\u001b[0m \u001b[0;34m=\u001b[0m \u001b[0mcom\u001b[0m\u001b[0;34m.\u001b[0m\u001b[0mapply_if_callable\u001b[0m\u001b[0;34m(\u001b[0m\u001b[0mkey\u001b[0m\u001b[0;34m,\u001b[0m \u001b[0mself\u001b[0m\u001b[0;34m.\u001b[0m\u001b[0mobj\u001b[0m\u001b[0;34m)\u001b[0m\u001b[0;34m\u001b[0m\u001b[0;34m\u001b[0m\u001b[0m\n\u001b[0;32m--> 931\u001b[0;31m             \u001b[0;32mreturn\u001b[0m \u001b[0mself\u001b[0m\u001b[0;34m.\u001b[0m\u001b[0m_getitem_axis\u001b[0m\u001b[0;34m(\u001b[0m\u001b[0mmaybe_callable\u001b[0m\u001b[0;34m,\u001b[0m \u001b[0maxis\u001b[0m\u001b[0;34m=\u001b[0m\u001b[0maxis\u001b[0m\u001b[0;34m)\u001b[0m\u001b[0;34m\u001b[0m\u001b[0;34m\u001b[0m\u001b[0m\n\u001b[0m\u001b[1;32m    932\u001b[0m \u001b[0;34m\u001b[0m\u001b[0m\n\u001b[1;32m    933\u001b[0m     \u001b[0;32mdef\u001b[0m \u001b[0m_is_scalar_access\u001b[0m\u001b[0;34m(\u001b[0m\u001b[0mself\u001b[0m\u001b[0;34m,\u001b[0m \u001b[0mkey\u001b[0m\u001b[0;34m:\u001b[0m \u001b[0mtuple\u001b[0m\u001b[0;34m)\u001b[0m\u001b[0;34m:\u001b[0m\u001b[0;34m\u001b[0m\u001b[0;34m\u001b[0m\u001b[0m\n",
      "\u001b[0;32m~/anaconda3/lib/python3.9/site-packages/pandas/core/indexing.py\u001b[0m in \u001b[0;36m_getitem_axis\u001b[0;34m(self, key, axis)\u001b[0m\n\u001b[1;32m   1162\u001b[0m         \u001b[0;31m# fall thru to straight lookup\u001b[0m\u001b[0;34m\u001b[0m\u001b[0;34m\u001b[0m\u001b[0m\n\u001b[1;32m   1163\u001b[0m         \u001b[0mself\u001b[0m\u001b[0;34m.\u001b[0m\u001b[0m_validate_key\u001b[0m\u001b[0;34m(\u001b[0m\u001b[0mkey\u001b[0m\u001b[0;34m,\u001b[0m \u001b[0maxis\u001b[0m\u001b[0;34m)\u001b[0m\u001b[0;34m\u001b[0m\u001b[0;34m\u001b[0m\u001b[0m\n\u001b[0;32m-> 1164\u001b[0;31m         \u001b[0;32mreturn\u001b[0m \u001b[0mself\u001b[0m\u001b[0;34m.\u001b[0m\u001b[0m_get_label\u001b[0m\u001b[0;34m(\u001b[0m\u001b[0mkey\u001b[0m\u001b[0;34m,\u001b[0m \u001b[0maxis\u001b[0m\u001b[0;34m=\u001b[0m\u001b[0maxis\u001b[0m\u001b[0;34m)\u001b[0m\u001b[0;34m\u001b[0m\u001b[0;34m\u001b[0m\u001b[0m\n\u001b[0m\u001b[1;32m   1165\u001b[0m \u001b[0;34m\u001b[0m\u001b[0m\n\u001b[1;32m   1166\u001b[0m     \u001b[0;32mdef\u001b[0m \u001b[0m_get_slice_axis\u001b[0m\u001b[0;34m(\u001b[0m\u001b[0mself\u001b[0m\u001b[0;34m,\u001b[0m \u001b[0mslice_obj\u001b[0m\u001b[0;34m:\u001b[0m \u001b[0mslice\u001b[0m\u001b[0;34m,\u001b[0m \u001b[0maxis\u001b[0m\u001b[0;34m:\u001b[0m \u001b[0mint\u001b[0m\u001b[0;34m)\u001b[0m\u001b[0;34m:\u001b[0m\u001b[0;34m\u001b[0m\u001b[0;34m\u001b[0m\u001b[0m\n",
      "\u001b[0;32m~/anaconda3/lib/python3.9/site-packages/pandas/core/indexing.py\u001b[0m in \u001b[0;36m_get_label\u001b[0;34m(self, label, axis)\u001b[0m\n\u001b[1;32m   1111\u001b[0m     \u001b[0;32mdef\u001b[0m \u001b[0m_get_label\u001b[0m\u001b[0;34m(\u001b[0m\u001b[0mself\u001b[0m\u001b[0;34m,\u001b[0m \u001b[0mlabel\u001b[0m\u001b[0;34m,\u001b[0m \u001b[0maxis\u001b[0m\u001b[0;34m:\u001b[0m \u001b[0mint\u001b[0m\u001b[0;34m)\u001b[0m\u001b[0;34m:\u001b[0m\u001b[0;34m\u001b[0m\u001b[0;34m\u001b[0m\u001b[0m\n\u001b[1;32m   1112\u001b[0m         \u001b[0;31m# GH#5667 this will fail if the label is not present in the axis.\u001b[0m\u001b[0;34m\u001b[0m\u001b[0;34m\u001b[0m\u001b[0m\n\u001b[0;32m-> 1113\u001b[0;31m         \u001b[0;32mreturn\u001b[0m \u001b[0mself\u001b[0m\u001b[0;34m.\u001b[0m\u001b[0mobj\u001b[0m\u001b[0;34m.\u001b[0m\u001b[0mxs\u001b[0m\u001b[0;34m(\u001b[0m\u001b[0mlabel\u001b[0m\u001b[0;34m,\u001b[0m \u001b[0maxis\u001b[0m\u001b[0;34m=\u001b[0m\u001b[0maxis\u001b[0m\u001b[0;34m)\u001b[0m\u001b[0;34m\u001b[0m\u001b[0;34m\u001b[0m\u001b[0m\n\u001b[0m\u001b[1;32m   1114\u001b[0m \u001b[0;34m\u001b[0m\u001b[0m\n\u001b[1;32m   1115\u001b[0m     \u001b[0;32mdef\u001b[0m \u001b[0m_handle_lowerdim_multi_index_axis0\u001b[0m\u001b[0;34m(\u001b[0m\u001b[0mself\u001b[0m\u001b[0;34m,\u001b[0m \u001b[0mtup\u001b[0m\u001b[0;34m:\u001b[0m \u001b[0mtuple\u001b[0m\u001b[0;34m)\u001b[0m\u001b[0;34m:\u001b[0m\u001b[0;34m\u001b[0m\u001b[0;34m\u001b[0m\u001b[0m\n",
      "\u001b[0;32m~/anaconda3/lib/python3.9/site-packages/pandas/core/generic.py\u001b[0m in \u001b[0;36mxs\u001b[0;34m(self, key, axis, level, drop_level)\u001b[0m\n\u001b[1;32m   3774\u001b[0m                 \u001b[0;32mraise\u001b[0m \u001b[0mTypeError\u001b[0m\u001b[0;34m(\u001b[0m\u001b[0;34mf\"Expected label or tuple of labels, got {key}\"\u001b[0m\u001b[0;34m)\u001b[0m \u001b[0;32mfrom\u001b[0m \u001b[0me\u001b[0m\u001b[0;34m\u001b[0m\u001b[0;34m\u001b[0m\u001b[0m\n\u001b[1;32m   3775\u001b[0m         \u001b[0;32melse\u001b[0m\u001b[0;34m:\u001b[0m\u001b[0;34m\u001b[0m\u001b[0;34m\u001b[0m\u001b[0m\n\u001b[0;32m-> 3776\u001b[0;31m             \u001b[0mloc\u001b[0m \u001b[0;34m=\u001b[0m \u001b[0mindex\u001b[0m\u001b[0;34m.\u001b[0m\u001b[0mget_loc\u001b[0m\u001b[0;34m(\u001b[0m\u001b[0mkey\u001b[0m\u001b[0;34m)\u001b[0m\u001b[0;34m\u001b[0m\u001b[0;34m\u001b[0m\u001b[0m\n\u001b[0m\u001b[1;32m   3777\u001b[0m \u001b[0;34m\u001b[0m\u001b[0m\n\u001b[1;32m   3778\u001b[0m             \u001b[0;32mif\u001b[0m \u001b[0misinstance\u001b[0m\u001b[0;34m(\u001b[0m\u001b[0mloc\u001b[0m\u001b[0;34m,\u001b[0m \u001b[0mnp\u001b[0m\u001b[0;34m.\u001b[0m\u001b[0mndarray\u001b[0m\u001b[0;34m)\u001b[0m\u001b[0;34m:\u001b[0m\u001b[0;34m\u001b[0m\u001b[0;34m\u001b[0m\u001b[0m\n",
      "\u001b[0;32m~/anaconda3/lib/python3.9/site-packages/pandas/core/indexes/base.py\u001b[0m in \u001b[0;36mget_loc\u001b[0;34m(self, key, method, tolerance)\u001b[0m\n\u001b[1;32m   3361\u001b[0m                 \u001b[0;32mreturn\u001b[0m \u001b[0mself\u001b[0m\u001b[0;34m.\u001b[0m\u001b[0m_engine\u001b[0m\u001b[0;34m.\u001b[0m\u001b[0mget_loc\u001b[0m\u001b[0;34m(\u001b[0m\u001b[0mcasted_key\u001b[0m\u001b[0;34m)\u001b[0m\u001b[0;34m\u001b[0m\u001b[0;34m\u001b[0m\u001b[0m\n\u001b[1;32m   3362\u001b[0m             \u001b[0;32mexcept\u001b[0m \u001b[0mKeyError\u001b[0m \u001b[0;32mas\u001b[0m \u001b[0merr\u001b[0m\u001b[0;34m:\u001b[0m\u001b[0;34m\u001b[0m\u001b[0;34m\u001b[0m\u001b[0m\n\u001b[0;32m-> 3363\u001b[0;31m                 \u001b[0;32mraise\u001b[0m \u001b[0mKeyError\u001b[0m\u001b[0;34m(\u001b[0m\u001b[0mkey\u001b[0m\u001b[0;34m)\u001b[0m \u001b[0;32mfrom\u001b[0m \u001b[0merr\u001b[0m\u001b[0;34m\u001b[0m\u001b[0;34m\u001b[0m\u001b[0m\n\u001b[0m\u001b[1;32m   3364\u001b[0m \u001b[0;34m\u001b[0m\u001b[0m\n\u001b[1;32m   3365\u001b[0m         \u001b[0;32mif\u001b[0m \u001b[0mis_scalar\u001b[0m\u001b[0;34m(\u001b[0m\u001b[0mkey\u001b[0m\u001b[0;34m)\u001b[0m \u001b[0;32mand\u001b[0m \u001b[0misna\u001b[0m\u001b[0;34m(\u001b[0m\u001b[0mkey\u001b[0m\u001b[0;34m)\u001b[0m \u001b[0;32mand\u001b[0m \u001b[0;32mnot\u001b[0m \u001b[0mself\u001b[0m\u001b[0;34m.\u001b[0m\u001b[0mhasnans\u001b[0m\u001b[0;34m:\u001b[0m\u001b[0;34m\u001b[0m\u001b[0;34m\u001b[0m\u001b[0m\n",
      "\u001b[0;31mKeyError\u001b[0m: '2015'"
     ]
    }
   ],
   "source": [
    "df.loc[\"2015\"] # one year"
   ]
  },
  {
   "cell_type": "code",
   "execution_count": null,
   "id": "0f35c1a5",
   "metadata": {},
   "outputs": [],
   "source": [
    "df.loc[\"2020-06\":, (\"Close\", \"BA\")] # one month for one column"
   ]
  },
  {
   "cell_type": "code",
   "execution_count": null,
   "id": "4acb199c",
   "metadata": {},
   "outputs": [],
   "source": [
    "df = df.swaplevel(axis = \"columns\").sort_index(axis = \"columns\") # swap outer and inner index\n",
    "df"
   ]
  },
  {
   "cell_type": "code",
   "execution_count": null,
   "id": "3518e04c",
   "metadata": {},
   "outputs": [],
   "source": [
    "df[\"EURUSD=X\"]"
   ]
  },
  {
   "cell_type": "code",
   "execution_count": null,
   "id": "efd617d8",
   "metadata": {},
   "outputs": [],
   "source": [
    "df[\"BTC-USD\"]"
   ]
  },
  {
   "cell_type": "code",
   "execution_count": null,
   "id": "6fa7c360",
   "metadata": {},
   "outputs": [],
   "source": [
    "df = df.swaplevel(axis = \"columns\").sort_index(axis = \"columns\") # swap outer and inner index\n",
    "df"
   ]
  },
  {
   "cell_type": "code",
   "execution_count": null,
   "id": "669bfd2a",
   "metadata": {},
   "outputs": [],
   "source": [
    "close = df.Close.copy() # select daily close prices only\n",
    "close"
   ]
  },
  {
   "cell_type": "code",
   "execution_count": null,
   "id": "0c72b340",
   "metadata": {},
   "outputs": [],
   "source": [
    "close.describe()"
   ]
  },
  {
   "cell_type": "code",
   "execution_count": null,
   "id": "410bb7bd",
   "metadata": {},
   "outputs": [],
   "source": [
    "close.BA.dropna().plot(figsize = (15, 8), fontsize = 13)\n",
    "plt.legend(fontsize = 13)\n",
    "plt.show()"
   ]
  },
  {
   "cell_type": "code",
   "execution_count": 17,
   "id": "c11adb44",
   "metadata": {},
   "outputs": [
    {
     "ename": "NameError",
     "evalue": "name 'close' is not defined",
     "output_type": "error",
     "traceback": [
      "\u001b[0;31m---------------------------------------------------------------------------\u001b[0m",
      "\u001b[0;31mNameError\u001b[0m                                 Traceback (most recent call last)",
      "\u001b[0;32m/tmp/ipykernel_21127/30410820.py\u001b[0m in \u001b[0;36m<module>\u001b[0;34m\u001b[0m\n\u001b[0;32m----> 1\u001b[0;31m \u001b[0mclose\u001b[0m\u001b[0;34m.\u001b[0m\u001b[0mdropna\u001b[0m\u001b[0;34m(\u001b[0m\u001b[0;34m)\u001b[0m\u001b[0;34m.\u001b[0m\u001b[0mplot\u001b[0m\u001b[0;34m(\u001b[0m\u001b[0mfigsize\u001b[0m \u001b[0;34m=\u001b[0m \u001b[0;34m(\u001b[0m\u001b[0;36m15\u001b[0m\u001b[0;34m,\u001b[0m \u001b[0;36m8\u001b[0m\u001b[0;34m)\u001b[0m\u001b[0;34m,\u001b[0m \u001b[0mfontsize\u001b[0m \u001b[0;34m=\u001b[0m \u001b[0;36m13\u001b[0m\u001b[0;34m)\u001b[0m\u001b[0;34m\u001b[0m\u001b[0;34m\u001b[0m\u001b[0m\n\u001b[0m\u001b[1;32m      2\u001b[0m \u001b[0mplt\u001b[0m\u001b[0;34m.\u001b[0m\u001b[0mlegend\u001b[0m\u001b[0;34m(\u001b[0m\u001b[0mfontsize\u001b[0m \u001b[0;34m=\u001b[0m \u001b[0;36m13\u001b[0m\u001b[0;34m)\u001b[0m\u001b[0;34m\u001b[0m\u001b[0;34m\u001b[0m\u001b[0m\n\u001b[1;32m      3\u001b[0m \u001b[0mplt\u001b[0m\u001b[0;34m.\u001b[0m\u001b[0mshow\u001b[0m\u001b[0;34m(\u001b[0m\u001b[0;34m)\u001b[0m\u001b[0;34m\u001b[0m\u001b[0;34m\u001b[0m\u001b[0m\n",
      "\u001b[0;31mNameError\u001b[0m: name 'close' is not defined"
     ]
    }
   ],
   "source": [
    "close.dropna().plot(figsize = (15, 8), fontsize = 13)\n",
    "plt.legend(fontsize = 13)\n",
    "plt.show()"
   ]
  },
  {
   "cell_type": "markdown",
   "id": "5b78b039",
   "metadata": {},
   "source": [
    "__Take Home: Absolute Prices are absolutely meaningless/useless (in most cases)__ <br>\n",
    "- Prices that are on a different scale are hard to compare \n",
    "- A higher Price does not imply a higher value or a better performance"
   ]
  },
  {
   "cell_type": "markdown",
   "id": "433adcfd",
   "metadata": {},
   "source": [
    "## Normalizing Financial Time Series to a Base Value (100)"
   ]
  },
  {
   "cell_type": "markdown",
   "id": "f3d37dc3",
   "metadata": {},
   "source": [
    "__-> all instruments start at the very same Level (Base Value)__"
   ]
  },
  {
   "cell_type": "code",
   "execution_count": null,
   "id": "edafd894",
   "metadata": {},
   "outputs": [],
   "source": [
    "close"
   ]
  },
  {
   "cell_type": "code",
   "execution_count": null,
   "id": "537c5165",
   "metadata": {},
   "outputs": [],
   "source": [
    "close.iloc[0,0] # first price BA"
   ]
  },
  {
   "cell_type": "code",
   "execution_count": null,
   "id": "02fa70d9",
   "metadata": {
    "scrolled": true
   },
   "outputs": [],
   "source": [
    "close.BA.div(close.iloc[0,0]).mul(100)"
   ]
  },
  {
   "cell_type": "code",
   "execution_count": null,
   "id": "22b0f5d9",
   "metadata": {
    "scrolled": true
   },
   "outputs": [],
   "source": [
    "close.iloc[0] # first Price all tickers"
   ]
  },
  {
   "cell_type": "code",
   "execution_count": 18,
   "id": "b7a3f3cf",
   "metadata": {},
   "outputs": [
    {
     "ename": "NameError",
     "evalue": "name 'close' is not defined",
     "output_type": "error",
     "traceback": [
      "\u001b[0;31m---------------------------------------------------------------------------\u001b[0m",
      "\u001b[0;31mNameError\u001b[0m                                 Traceback (most recent call last)",
      "\u001b[0;32m/tmp/ipykernel_21127/110219637.py\u001b[0m in \u001b[0;36m<module>\u001b[0;34m\u001b[0m\n\u001b[0;32m----> 1\u001b[0;31m \u001b[0mnorm\u001b[0m \u001b[0;34m=\u001b[0m \u001b[0mclose\u001b[0m\u001b[0;34m.\u001b[0m\u001b[0mdiv\u001b[0m\u001b[0;34m(\u001b[0m\u001b[0mclose\u001b[0m\u001b[0;34m.\u001b[0m\u001b[0miloc\u001b[0m\u001b[0;34m[\u001b[0m\u001b[0;36m0\u001b[0m\u001b[0;34m]\u001b[0m\u001b[0;34m)\u001b[0m\u001b[0;34m.\u001b[0m\u001b[0mmul\u001b[0m\u001b[0;34m(\u001b[0m\u001b[0;36m100\u001b[0m\u001b[0;34m)\u001b[0m\u001b[0;34m\u001b[0m\u001b[0;34m\u001b[0m\u001b[0m\n\u001b[0m\u001b[1;32m      2\u001b[0m \u001b[0mnorm\u001b[0m\u001b[0;34m\u001b[0m\u001b[0;34m\u001b[0m\u001b[0m\n",
      "\u001b[0;31mNameError\u001b[0m: name 'close' is not defined"
     ]
    }
   ],
   "source": [
    "norm = close.div(close.iloc[0]).mul(100)\n",
    "norm"
   ]
  },
  {
   "cell_type": "code",
   "execution_count": null,
   "id": "89ab020c",
   "metadata": {},
   "outputs": [],
   "source": [
    "norm.dropna().plot(figsize = (15, 8), fontsize = 13, logy = True)\n",
    "plt.legend(fontsize = 13)\n",
    "plt.show()"
   ]
  },
  {
   "cell_type": "code",
   "execution_count": null,
   "id": "a7cdc3f4",
   "metadata": {},
   "outputs": [],
   "source": [
    "close.to_csv(\"close.csv\")"
   ]
  },
  {
   "cell_type": "markdown",
   "id": "36bbf662",
   "metadata": {},
   "source": [
    "## Price Changes and Financial Returns"
   ]
  },
  {
   "cell_type": "markdown",
   "id": "75be1d29",
   "metadata": {},
   "source": [
    "__More meaningful/useful than Prices: Price changes__"
   ]
  },
  {
   "cell_type": "code",
   "execution_count": null,
   "id": "c2fa1dbc",
   "metadata": {},
   "outputs": [],
   "source": [
    "import pandas as pd\n",
    "import matplotlib.pyplot as plt\n",
    "pd.options.display.float_format = '{:.4f}'.format\n",
    "plt.style.use(\"seaborn\")"
   ]
  },
  {
   "cell_type": "code",
   "execution_count": null,
   "id": "9d3224ef",
   "metadata": {},
   "outputs": [],
   "source": [
    "close = pd.read_csv(\"close.csv\", index_col = \"Date\", parse_dates = [\"Date\"])\n",
    "close"
   ]
  },
  {
   "cell_type": "code",
   "execution_count": 19,
   "id": "88a0cab0",
   "metadata": {},
   "outputs": [
    {
     "ename": "NameError",
     "evalue": "name 'close' is not defined",
     "output_type": "error",
     "traceback": [
      "\u001b[0;31m---------------------------------------------------------------------------\u001b[0m",
      "\u001b[0;31mNameError\u001b[0m                                 Traceback (most recent call last)",
      "\u001b[0;32m/tmp/ipykernel_21127/1865544801.py\u001b[0m in \u001b[0;36m<module>\u001b[0;34m\u001b[0m\n\u001b[0;32m----> 1\u001b[0;31m \u001b[0mmsft\u001b[0m \u001b[0;34m=\u001b[0m \u001b[0mclose\u001b[0m\u001b[0;34m.\u001b[0m\u001b[0mMSFT\u001b[0m\u001b[0;34m.\u001b[0m\u001b[0mdropna\u001b[0m\u001b[0;34m(\u001b[0m\u001b[0;34m)\u001b[0m\u001b[0;34m.\u001b[0m\u001b[0mto_frame\u001b[0m\u001b[0;34m(\u001b[0m\u001b[0;34m)\u001b[0m\u001b[0;34m.\u001b[0m\u001b[0mcopy\u001b[0m\u001b[0;34m(\u001b[0m\u001b[0;34m)\u001b[0m\u001b[0;34m\u001b[0m\u001b[0;34m\u001b[0m\u001b[0m\n\u001b[0m",
      "\u001b[0;31mNameError\u001b[0m: name 'close' is not defined"
     ]
    }
   ],
   "source": [
    "msft = close.MSFT.dropna().to_frame().copy()"
   ]
  },
  {
   "cell_type": "code",
   "execution_count": null,
   "id": "21a0d0ee",
   "metadata": {},
   "outputs": [],
   "source": [
    "msft"
   ]
  },
  {
   "cell_type": "code",
   "execution_count": null,
   "id": "7a445860",
   "metadata": {},
   "outputs": [],
   "source": [
    "msft.rename(columns = {\"MSFT\":\"Price\"}, inplace = True)"
   ]
  },
  {
   "cell_type": "code",
   "execution_count": null,
   "id": "1616df16",
   "metadata": {},
   "outputs": [],
   "source": [
    "msft"
   ]
  },
  {
   "cell_type": "code",
   "execution_count": 20,
   "id": "4ac2d1d6",
   "metadata": {},
   "outputs": [
    {
     "ename": "NameError",
     "evalue": "name 'msft' is not defined",
     "output_type": "error",
     "traceback": [
      "\u001b[0;31m---------------------------------------------------------------------------\u001b[0m",
      "\u001b[0;31mNameError\u001b[0m                                 Traceback (most recent call last)",
      "\u001b[0;32m/tmp/ipykernel_21127/1851714602.py\u001b[0m in \u001b[0;36m<module>\u001b[0;34m\u001b[0m\n\u001b[0;32m----> 1\u001b[0;31m \u001b[0mmsft\u001b[0m\u001b[0;34m.\u001b[0m\u001b[0mshift\u001b[0m\u001b[0;34m(\u001b[0m\u001b[0mperiods\u001b[0m \u001b[0;34m=\u001b[0m \u001b[0;36m1\u001b[0m\u001b[0;34m)\u001b[0m\u001b[0;34m\u001b[0m\u001b[0;34m\u001b[0m\u001b[0m\n\u001b[0m",
      "\u001b[0;31mNameError\u001b[0m: name 'msft' is not defined"
     ]
    }
   ],
   "source": [
    "msft.shift(periods = 1)"
   ]
  },
  {
   "cell_type": "code",
   "execution_count": null,
   "id": "872fc895",
   "metadata": {},
   "outputs": [],
   "source": [
    "msft[\"P_lag1\"] = msft.shift(periods = 1)\n",
    "msft"
   ]
  },
  {
   "cell_type": "markdown",
   "id": "27b4686f",
   "metadata": {},
   "source": [
    "__Absolute Price Changes__ (Difference)"
   ]
  },
  {
   "cell_type": "code",
   "execution_count": null,
   "id": "e8e21a68",
   "metadata": {
    "scrolled": true
   },
   "outputs": [],
   "source": [
    "msft[\"P_diff2\"] = msft.Price.diff(periods = 1)  # Alternative 2"
   ]
  },
  {
   "cell_type": "code",
   "execution_count": null,
   "id": "9e2cceeb",
   "metadata": {},
   "outputs": [],
   "source": [
    "msft"
   ]
  },
  {
   "cell_type": "code",
   "execution_count": 21,
   "id": "27a26eaf",
   "metadata": {},
   "outputs": [
    {
     "ename": "NameError",
     "evalue": "name 'msft' is not defined",
     "output_type": "error",
     "traceback": [
      "\u001b[0;31m---------------------------------------------------------------------------\u001b[0m",
      "\u001b[0;31mNameError\u001b[0m                                 Traceback (most recent call last)",
      "\u001b[0;32m/tmp/ipykernel_21127/3196522945.py\u001b[0m in \u001b[0;36m<module>\u001b[0;34m\u001b[0m\n\u001b[0;32m----> 1\u001b[0;31m \u001b[0mmsft\u001b[0m\u001b[0;34m.\u001b[0m\u001b[0mP_diff\u001b[0m\u001b[0;34m.\u001b[0m\u001b[0mequals\u001b[0m\u001b[0;34m(\u001b[0m\u001b[0mmsft\u001b[0m\u001b[0;34m.\u001b[0m\u001b[0mP_diff2\u001b[0m\u001b[0;34m)\u001b[0m\u001b[0;34m\u001b[0m\u001b[0;34m\u001b[0m\u001b[0m\n\u001b[0m",
      "\u001b[0;31mNameError\u001b[0m: name 'msft' is not defined"
     ]
    }
   ],
   "source": [
    "msft.P_diff.equals(msft.P_diff2)"
   ]
  },
  {
   "cell_type": "markdown",
   "id": "5f357e28",
   "metadata": {},
   "source": [
    "__-> Absolute Price Changes are not meaningful__"
   ]
  },
  {
   "cell_type": "markdown",
   "id": "d5c33844",
   "metadata": {},
   "source": [
    "__Relative/Percentage Price Changes__ (Returns)"
   ]
  },
  {
   "cell_type": "code",
   "execution_count": null,
   "id": "bed7b86b",
   "metadata": {},
   "outputs": [],
   "source": [
    "msft.Price.div(msft.P_lag1) - 1 # Alternative 1"
   ]
  },
  {
   "cell_type": "code",
   "execution_count": null,
   "id": "790bbf10",
   "metadata": {},
   "outputs": [],
   "source": [
    "msft.drop(columns = [\"P_lag1\", \"P_diff\", \"P_diff2\"], inplace = True)"
   ]
  },
  {
   "cell_type": "code",
   "execution_count": null,
   "id": "168b1d02",
   "metadata": {},
   "outputs": [],
   "source": [
    "msft"
   ]
  },
  {
   "cell_type": "code",
   "execution_count": 22,
   "id": "514d9fef",
   "metadata": {},
   "outputs": [
    {
     "ename": "NameError",
     "evalue": "name 'msft' is not defined",
     "output_type": "error",
     "traceback": [
      "\u001b[0;31m---------------------------------------------------------------------------\u001b[0m",
      "\u001b[0;31mNameError\u001b[0m                                 Traceback (most recent call last)",
      "\u001b[0;32m/tmp/ipykernel_21127/3542583585.py\u001b[0m in \u001b[0;36m<module>\u001b[0;34m\u001b[0m\n\u001b[0;32m----> 1\u001b[0;31m \u001b[0mmsft\u001b[0m\u001b[0;34m.\u001b[0m\u001b[0mto_csv\u001b[0m\u001b[0;34m(\u001b[0m\u001b[0;34m\"msft.csv\"\u001b[0m\u001b[0;34m)\u001b[0m\u001b[0;34m\u001b[0m\u001b[0;34m\u001b[0m\u001b[0m\n\u001b[0m",
      "\u001b[0;31mNameError\u001b[0m: name 'msft' is not defined"
     ]
    }
   ],
   "source": [
    "msft.to_csv(\"msft.csv\")"
   ]
  },
  {
   "cell_type": "markdown",
   "id": "be1330ba",
   "metadata": {},
   "source": [
    "## Measuring Reward and Risk of an Investment"
   ]
  },
  {
   "cell_type": "markdown",
   "id": "7ab5f212",
   "metadata": {},
   "source": [
    "__General Rule in Finance/Investing: Higher Risk must be rewarded with higher Returns__."
   ]
  },
  {
   "cell_type": "code",
   "execution_count": null,
   "id": "1dda24ed",
   "metadata": {},
   "outputs": [],
   "source": [
    "import pandas as pd\n",
    "import numpy as np\n",
    "import matplotlib.pyplot as plt\n",
    "pd.options.display.float_format = '{:.4f}'.format\n",
    "plt.style.use(\"seaborn\")"
   ]
  },
  {
   "cell_type": "code",
   "execution_count": null,
   "id": "87b46753",
   "metadata": {},
   "outputs": [],
   "source": [
    "msft = pd.read_csv(\"msft.csv\", index_col = \"Date\", parse_dates = [\"Date\"])\n",
    "msft"
   ]
  },
  {
   "cell_type": "code",
   "execution_count": 23,
   "id": "69422325",
   "metadata": {},
   "outputs": [
    {
     "ename": "NameError",
     "evalue": "name 'msft' is not defined",
     "output_type": "error",
     "traceback": [
      "\u001b[0;31m---------------------------------------------------------------------------\u001b[0m",
      "\u001b[0;31mNameError\u001b[0m                                 Traceback (most recent call last)",
      "\u001b[0;32m/tmp/ipykernel_21127/1664391406.py\u001b[0m in \u001b[0;36m<module>\u001b[0;34m\u001b[0m\n\u001b[0;32m----> 1\u001b[0;31m \u001b[0mmsft\u001b[0m\u001b[0;34m.\u001b[0m\u001b[0mPrice\u001b[0m\u001b[0;34m.\u001b[0m\u001b[0mplot\u001b[0m\u001b[0;34m(\u001b[0m\u001b[0mfigsize\u001b[0m \u001b[0;34m=\u001b[0m \u001b[0;34m(\u001b[0m\u001b[0;36m15\u001b[0m\u001b[0;34m,\u001b[0m \u001b[0;36m8\u001b[0m\u001b[0;34m)\u001b[0m\u001b[0;34m,\u001b[0m \u001b[0mfontsize\u001b[0m \u001b[0;34m=\u001b[0m \u001b[0;36m13\u001b[0m\u001b[0;34m)\u001b[0m\u001b[0;34m\u001b[0m\u001b[0;34m\u001b[0m\u001b[0m\n\u001b[0m\u001b[1;32m      2\u001b[0m \u001b[0mplt\u001b[0m\u001b[0;34m.\u001b[0m\u001b[0mlegend\u001b[0m\u001b[0;34m(\u001b[0m\u001b[0mfontsize\u001b[0m \u001b[0;34m=\u001b[0m \u001b[0;36m13\u001b[0m\u001b[0;34m)\u001b[0m\u001b[0;34m\u001b[0m\u001b[0;34m\u001b[0m\u001b[0m\n\u001b[1;32m      3\u001b[0m \u001b[0mplt\u001b[0m\u001b[0;34m.\u001b[0m\u001b[0mshow\u001b[0m\u001b[0;34m(\u001b[0m\u001b[0;34m)\u001b[0m\u001b[0;34m\u001b[0m\u001b[0;34m\u001b[0m\u001b[0m\n",
      "\u001b[0;31mNameError\u001b[0m: name 'msft' is not defined"
     ]
    }
   ],
   "source": [
    "msft.Price.plot(figsize = (15, 8), fontsize = 13)\n",
    "plt.legend(fontsize = 13)\n",
    "plt.show()"
   ]
  },
  {
   "cell_type": "markdown",
   "id": "9e2399cd",
   "metadata": {},
   "source": [
    "- Reward: Positive Returns\n",
    "- Risk: Volatility of Returns"
   ]
  },
  {
   "cell_type": "code",
   "execution_count": null,
   "id": "eb5ba868",
   "metadata": {},
   "outputs": [],
   "source": [
    "msft.describe()"
   ]
  },
  {
   "cell_type": "code",
   "execution_count": null,
   "id": "7d4dab6d",
   "metadata": {},
   "outputs": [],
   "source": [
    "mu = msft.Returns.mean() # arithmetic mean return -> Reward\n",
    "mu"
   ]
  },
  {
   "cell_type": "code",
   "execution_count": 24,
   "id": "57ef6ba0",
   "metadata": {},
   "outputs": [
    {
     "ename": "NameError",
     "evalue": "name 'msft' is not defined",
     "output_type": "error",
     "traceback": [
      "\u001b[0;31m---------------------------------------------------------------------------\u001b[0m",
      "\u001b[0;31mNameError\u001b[0m                                 Traceback (most recent call last)",
      "\u001b[0;32m/tmp/ipykernel_21127/3917036856.py\u001b[0m in \u001b[0;36m<module>\u001b[0;34m\u001b[0m\n\u001b[0;32m----> 1\u001b[0;31m \u001b[0msigma\u001b[0m \u001b[0;34m=\u001b[0m \u001b[0mmsft\u001b[0m\u001b[0;34m.\u001b[0m\u001b[0mReturns\u001b[0m\u001b[0;34m.\u001b[0m\u001b[0mstd\u001b[0m\u001b[0;34m(\u001b[0m\u001b[0;34m)\u001b[0m \u001b[0;31m# standard deviation of returns -> Risk/Volatility\u001b[0m\u001b[0;34m\u001b[0m\u001b[0;34m\u001b[0m\u001b[0m\n\u001b[0m\u001b[1;32m      2\u001b[0m \u001b[0msigma\u001b[0m\u001b[0;34m\u001b[0m\u001b[0;34m\u001b[0m\u001b[0m\n",
      "\u001b[0;31mNameError\u001b[0m: name 'msft' is not defined"
     ]
    }
   ],
   "source": [
    "sigma = msft.Returns.std() # standard deviation of returns -> Risk/Volatility\n",
    "sigma"
   ]
  },
  {
   "cell_type": "code",
   "execution_count": null,
   "id": "7e6ce734",
   "metadata": {},
   "outputs": [],
   "source": [
    "np.sqrt(msft.Returns.var())"
   ]
  },
  {
   "cell_type": "markdown",
   "id": "e9e2c678",
   "metadata": {},
   "source": [
    "## Investment Multiple and CAGR "
   ]
  },
  {
   "cell_type": "markdown",
   "id": "f7e0c34f",
   "metadata": {},
   "source": [
    "__Two alternative reward metrics that are more intuitive and easier to interpret.__"
   ]
  },
  {
   "cell_type": "code",
   "execution_count": null,
   "id": "edb6cd5f",
   "metadata": {},
   "outputs": [],
   "source": [
    "import pandas as pd\n",
    "import numpy as np\n",
    "import matplotlib.pyplot as plt\n",
    "pd.options.display.float_format = '{:.4f}'.format\n",
    "plt.style.use(\"seaborn\")"
   ]
  },
  {
   "cell_type": "code",
   "execution_count": 25,
   "id": "999d9e39",
   "metadata": {},
   "outputs": [
    {
     "data": {
      "text/html": [
       "<div>\n",
       "<style scoped>\n",
       "    .dataframe tbody tr th:only-of-type {\n",
       "        vertical-align: middle;\n",
       "    }\n",
       "\n",
       "    .dataframe tbody tr th {\n",
       "        vertical-align: top;\n",
       "    }\n",
       "\n",
       "    .dataframe thead th {\n",
       "        text-align: right;\n",
       "    }\n",
       "</style>\n",
       "<table border=\"1\" class=\"dataframe\">\n",
       "  <thead>\n",
       "    <tr style=\"text-align: right;\">\n",
       "      <th></th>\n",
       "      <th>Price</th>\n",
       "      <th>Returns</th>\n",
       "    </tr>\n",
       "    <tr>\n",
       "      <th>Date</th>\n",
       "      <th></th>\n",
       "      <th></th>\n",
       "    </tr>\n",
       "  </thead>\n",
       "  <tbody>\n",
       "    <tr>\n",
       "      <th>2014-10-01</th>\n",
       "      <td>45.9000</td>\n",
       "      <td>NaN</td>\n",
       "    </tr>\n",
       "    <tr>\n",
       "      <th>2014-10-02</th>\n",
       "      <td>45.7600</td>\n",
       "      <td>-0.0031</td>\n",
       "    </tr>\n",
       "    <tr>\n",
       "      <th>2014-10-03</th>\n",
       "      <td>46.0900</td>\n",
       "      <td>0.0072</td>\n",
       "    </tr>\n",
       "    <tr>\n",
       "      <th>2014-10-06</th>\n",
       "      <td>46.0900</td>\n",
       "      <td>0.0000</td>\n",
       "    </tr>\n",
       "    <tr>\n",
       "      <th>2014-10-07</th>\n",
       "      <td>45.5300</td>\n",
       "      <td>-0.0122</td>\n",
       "    </tr>\n",
       "    <tr>\n",
       "      <th>...</th>\n",
       "      <td>...</td>\n",
       "      <td>...</td>\n",
       "    </tr>\n",
       "    <tr>\n",
       "      <th>2021-05-24</th>\n",
       "      <td>250.7800</td>\n",
       "      <td>0.0229</td>\n",
       "    </tr>\n",
       "    <tr>\n",
       "      <th>2021-05-25</th>\n",
       "      <td>251.7200</td>\n",
       "      <td>0.0037</td>\n",
       "    </tr>\n",
       "    <tr>\n",
       "      <th>2021-05-26</th>\n",
       "      <td>251.4900</td>\n",
       "      <td>-0.0009</td>\n",
       "    </tr>\n",
       "    <tr>\n",
       "      <th>2021-05-27</th>\n",
       "      <td>249.3100</td>\n",
       "      <td>-0.0087</td>\n",
       "    </tr>\n",
       "    <tr>\n",
       "      <th>2021-05-28</th>\n",
       "      <td>249.6800</td>\n",
       "      <td>0.0015</td>\n",
       "    </tr>\n",
       "  </tbody>\n",
       "</table>\n",
       "<p>1677 rows × 2 columns</p>\n",
       "</div>"
      ],
      "text/plain": [
       "              Price  Returns\n",
       "Date                        \n",
       "2014-10-01  45.9000      NaN\n",
       "2014-10-02  45.7600  -0.0031\n",
       "2014-10-03  46.0900   0.0072\n",
       "2014-10-06  46.0900   0.0000\n",
       "2014-10-07  45.5300  -0.0122\n",
       "...             ...      ...\n",
       "2021-05-24 250.7800   0.0229\n",
       "2021-05-25 251.7200   0.0037\n",
       "2021-05-26 251.4900  -0.0009\n",
       "2021-05-27 249.3100  -0.0087\n",
       "2021-05-28 249.6800   0.0015\n",
       "\n",
       "[1677 rows x 2 columns]"
      ]
     },
     "execution_count": 25,
     "metadata": {},
     "output_type": "execute_result"
    }
   ],
   "source": [
    "msft = pd.read_csv(\"msft.csv\", index_col = \"Date\", parse_dates = [\"Date\"])\n",
    "msft"
   ]
  },
  {
   "cell_type": "markdown",
   "id": "df96f609",
   "metadata": {},
   "source": [
    "__Investment Multiple__: Ending Value of 1 [Dollar] invested. <br>\n",
    "Multiple = Ending Value / Initial Investment"
   ]
  },
  {
   "cell_type": "code",
   "execution_count": 26,
   "id": "52111a93",
   "metadata": {},
   "outputs": [
    {
     "data": {
      "text/plain": [
       "5.43965107571966"
      ]
     },
     "execution_count": 26,
     "metadata": {},
     "output_type": "execute_result"
    }
   ],
   "source": [
    "multiple = (msft.Price[-1] / msft.Price[0])\n",
    "multiple"
   ]
  },
  {
   "cell_type": "markdown",
   "id": "2e839546",
   "metadata": {},
   "source": [
    "__Price Increase (in %)__"
   ]
  },
  {
   "cell_type": "code",
   "execution_count": 27,
   "id": "36e87338",
   "metadata": {},
   "outputs": [
    {
     "data": {
      "text/plain": [
       "Date\n",
       "2014-10-01   1.0000\n",
       "2014-10-02   0.9969\n",
       "2014-10-03   1.0041\n",
       "2014-10-06   1.0041\n",
       "2014-10-07   0.9919\n",
       "              ...  \n",
       "2021-05-24   5.4636\n",
       "2021-05-25   5.4841\n",
       "2021-05-26   5.4791\n",
       "2021-05-27   5.4316\n",
       "2021-05-28   5.4397\n",
       "Name: Price, Length: 1677, dtype: float64"
      ]
     },
     "execution_count": 27,
     "metadata": {},
     "output_type": "execute_result"
    }
   ],
   "source": [
    "msft.Price / msft.Price[0] # similar/identical concept: Normalized Price with Base Value 1"
   ]
  },
  {
   "cell_type": "markdown",
   "id": "be23fbfa",
   "metadata": {},
   "source": [
    "__Drawback of Investment Multiple: Doesn´t take into account investment Period. Meaningful only in conjunction with Investment Period.__"
   ]
  },
  {
   "cell_type": "markdown",
   "id": "b7ca2105",
   "metadata": {},
   "source": [
    "__Compound Annual Growth Rate (CAGR)__: The (constant annual) rate of return that would be required for an investment to grow from its beginning balance to its ending balance, assuming the profits were reinvested at the end of each year of the investment's lifespan. (Wikipedia)"
   ]
  },
  {
   "cell_type": "code",
   "execution_count": 28,
   "id": "b35a008d",
   "metadata": {},
   "outputs": [
    {
     "data": {
      "text/plain": [
       "Timestamp('2014-10-01 00:00:00')"
      ]
     },
     "execution_count": 28,
     "metadata": {},
     "output_type": "execute_result"
    }
   ],
   "source": [
    "start = msft.index[0]\n",
    "start"
   ]
  },
  {
   "cell_type": "code",
   "execution_count": 29,
   "id": "54bf2f80",
   "metadata": {},
   "outputs": [
    {
     "data": {
      "text/plain": [
       "Timestamp('2021-05-28 00:00:00')"
      ]
     },
     "execution_count": 29,
     "metadata": {},
     "output_type": "execute_result"
    }
   ],
   "source": [
    "end = msft.index[-1]\n",
    "end"
   ]
  },
  {
   "cell_type": "code",
   "execution_count": 30,
   "id": "d699afe0",
   "metadata": {},
   "outputs": [
    {
     "data": {
      "text/plain": [
       "Timedelta('2431 days 00:00:00')"
      ]
     },
     "execution_count": 30,
     "metadata": {},
     "output_type": "execute_result"
    }
   ],
   "source": [
    "td = end - start\n",
    "td"
   ]
  },
  {
   "cell_type": "code",
   "execution_count": 31,
   "id": "b8d9e91b",
   "metadata": {},
   "outputs": [
    {
     "data": {
      "text/plain": [
       "6.655715263518139"
      ]
     },
     "execution_count": 31,
     "metadata": {},
     "output_type": "execute_result"
    }
   ],
   "source": [
    "td_years = td.days / 365.25\n",
    "td_years"
   ]
  },
  {
   "cell_type": "code",
   "execution_count": 32,
   "id": "8be87362",
   "metadata": {},
   "outputs": [
    {
     "data": {
      "text/plain": [
       "0.2897846506194157"
      ]
     },
     "execution_count": 32,
     "metadata": {},
     "output_type": "execute_result"
    }
   ],
   "source": [
    "cagr = multiple**(1 / td_years) - 1 # short version\n",
    "cagr"
   ]
  },
  {
   "cell_type": "code",
   "execution_count": 33,
   "id": "d08ece32",
   "metadata": {},
   "outputs": [
    {
     "data": {
      "text/plain": [
       "0.2897846506194157"
      ]
     },
     "execution_count": 33,
     "metadata": {},
     "output_type": "execute_result"
    }
   ],
   "source": [
    "cagr = (msft.Price[-1]/msft.Price[0])**(1/((msft.index[-1] - msft.index[0]).days / 365.25)) - 1 # long\n",
    "cagr"
   ]
  },
  {
   "cell_type": "markdown",
   "id": "519e336f",
   "metadata": {},
   "source": [
    "__-> CAGR can be used to compare Investments with different investment horizons.__"
   ]
  },
  {
   "cell_type": "markdown",
   "id": "e1cf612b",
   "metadata": {},
   "source": [
    "## Compound Returns & Geometric Mean Return"
   ]
  },
  {
   "cell_type": "code",
   "execution_count": 34,
   "id": "90e0790d",
   "metadata": {},
   "outputs": [
    {
     "data": {
      "text/html": [
       "<div>\n",
       "<style scoped>\n",
       "    .dataframe tbody tr th:only-of-type {\n",
       "        vertical-align: middle;\n",
       "    }\n",
       "\n",
       "    .dataframe tbody tr th {\n",
       "        vertical-align: top;\n",
       "    }\n",
       "\n",
       "    .dataframe thead th {\n",
       "        text-align: right;\n",
       "    }\n",
       "</style>\n",
       "<table border=\"1\" class=\"dataframe\">\n",
       "  <thead>\n",
       "    <tr style=\"text-align: right;\">\n",
       "      <th></th>\n",
       "      <th>Price</th>\n",
       "      <th>Returns</th>\n",
       "    </tr>\n",
       "    <tr>\n",
       "      <th>Date</th>\n",
       "      <th></th>\n",
       "      <th></th>\n",
       "    </tr>\n",
       "  </thead>\n",
       "  <tbody>\n",
       "    <tr>\n",
       "      <th>2014-10-01</th>\n",
       "      <td>45.9000</td>\n",
       "      <td>NaN</td>\n",
       "    </tr>\n",
       "    <tr>\n",
       "      <th>2014-10-02</th>\n",
       "      <td>45.7600</td>\n",
       "      <td>-0.0031</td>\n",
       "    </tr>\n",
       "    <tr>\n",
       "      <th>2014-10-03</th>\n",
       "      <td>46.0900</td>\n",
       "      <td>0.0072</td>\n",
       "    </tr>\n",
       "    <tr>\n",
       "      <th>2014-10-06</th>\n",
       "      <td>46.0900</td>\n",
       "      <td>0.0000</td>\n",
       "    </tr>\n",
       "    <tr>\n",
       "      <th>2014-10-07</th>\n",
       "      <td>45.5300</td>\n",
       "      <td>-0.0122</td>\n",
       "    </tr>\n",
       "    <tr>\n",
       "      <th>...</th>\n",
       "      <td>...</td>\n",
       "      <td>...</td>\n",
       "    </tr>\n",
       "    <tr>\n",
       "      <th>2021-05-24</th>\n",
       "      <td>250.7800</td>\n",
       "      <td>0.0229</td>\n",
       "    </tr>\n",
       "    <tr>\n",
       "      <th>2021-05-25</th>\n",
       "      <td>251.7200</td>\n",
       "      <td>0.0037</td>\n",
       "    </tr>\n",
       "    <tr>\n",
       "      <th>2021-05-26</th>\n",
       "      <td>251.4900</td>\n",
       "      <td>-0.0009</td>\n",
       "    </tr>\n",
       "    <tr>\n",
       "      <th>2021-05-27</th>\n",
       "      <td>249.3100</td>\n",
       "      <td>-0.0087</td>\n",
       "    </tr>\n",
       "    <tr>\n",
       "      <th>2021-05-28</th>\n",
       "      <td>249.6800</td>\n",
       "      <td>0.0015</td>\n",
       "    </tr>\n",
       "  </tbody>\n",
       "</table>\n",
       "<p>1677 rows × 2 columns</p>\n",
       "</div>"
      ],
      "text/plain": [
       "              Price  Returns\n",
       "Date                        \n",
       "2014-10-01  45.9000      NaN\n",
       "2014-10-02  45.7600  -0.0031\n",
       "2014-10-03  46.0900   0.0072\n",
       "2014-10-06  46.0900   0.0000\n",
       "2014-10-07  45.5300  -0.0122\n",
       "...             ...      ...\n",
       "2021-05-24 250.7800   0.0229\n",
       "2021-05-25 251.7200   0.0037\n",
       "2021-05-26 251.4900  -0.0009\n",
       "2021-05-27 249.3100  -0.0087\n",
       "2021-05-28 249.6800   0.0015\n",
       "\n",
       "[1677 rows x 2 columns]"
      ]
     },
     "execution_count": 34,
     "metadata": {},
     "output_type": "execute_result"
    }
   ],
   "source": [
    "msft"
   ]
  },
  {
   "cell_type": "code",
   "execution_count": 35,
   "id": "d8e56942",
   "metadata": {},
   "outputs": [
    {
     "data": {
      "text/plain": [
       "5.4396510757198575"
      ]
     },
     "execution_count": 35,
     "metadata": {},
     "output_type": "execute_result"
    }
   ],
   "source": [
    "multiple = (1 + msft.Returns).prod() # alternative #3 to calculate multiple (compounding daily returns)\n",
    "multiple"
   ]
  },
  {
   "cell_type": "code",
   "execution_count": 36,
   "id": "62826914",
   "metadata": {},
   "outputs": [
    {
     "data": {
      "text/plain": [
       "1676"
      ]
     },
     "execution_count": 36,
     "metadata": {},
     "output_type": "execute_result"
    }
   ],
   "source": [
    "n = msft.Returns.count()\n",
    "n"
   ]
  },
  {
   "cell_type": "code",
   "execution_count": 37,
   "id": "a0f07b44",
   "metadata": {},
   "outputs": [
    {
     "data": {
      "text/plain": [
       "0.0010110805580043625"
      ]
     },
     "execution_count": 37,
     "metadata": {},
     "output_type": "execute_result"
    }
   ],
   "source": [
    "geo_mean = multiple**(1/n) - 1 # Geometric mean return (daily)\n",
    "geo_mean"
   ]
  },
  {
   "cell_type": "code",
   "execution_count": 38,
   "id": "c62035a8",
   "metadata": {},
   "outputs": [
    {
     "data": {
      "text/plain": [
       "5.439651075720363"
      ]
     },
     "execution_count": 38,
     "metadata": {},
     "output_type": "execute_result"
    }
   ],
   "source": [
    "(1 + geo_mean)**n # to calculate multiple (geometric mean)"
   ]
  },
  {
   "cell_type": "markdown",
   "id": "4a40b79a",
   "metadata": {},
   "source": [
    "__-> Compound returns, CAGR & geometric mean return are closely related concepts__."
   ]
  },
  {
   "cell_type": "code",
   "execution_count": 39,
   "id": "225aae5a",
   "metadata": {},
   "outputs": [
    {
     "data": {
      "text/plain": [
       "0.0011597817982067049"
      ]
     },
     "execution_count": 39,
     "metadata": {},
     "output_type": "execute_result"
    }
   ],
   "source": [
    "mu = msft.Returns.mean() # arithmetic mean return\n",
    "mu"
   ]
  },
  {
   "cell_type": "markdown",
   "id": "29babea4",
   "metadata": {},
   "source": [
    "__The arithmetic mean return is always greater than the geometric mean return... and less useful__. "
   ]
  },
  {
   "cell_type": "markdown",
   "id": "4d1c1d40",
   "metadata": {},
   "source": [
    "## Preview: Simple Returns vs. Logarithmic Returns (log returns)"
   ]
  },
  {
   "cell_type": "markdown",
   "id": "12a7af64",
   "metadata": {},
   "source": [
    "Very often log returns are used instead of simple returns.<br>\n",
    "- favourable characteristics of log returns\n",
    "- drawbacks of simple returns"
   ]
  },
  {
   "cell_type": "markdown",
   "id": "b31cacf8",
   "metadata": {},
   "source": [
    "## Discrete Compounding"
   ]
  },
  {
   "cell_type": "markdown",
   "id": "ab790e99",
   "metadata": {},
   "source": [
    "__Annual Compounding__ -> Interests accrue once a year at the end of the year"
   ]
  },
  {
   "cell_type": "markdown",
   "id": "f0f7946a",
   "metadata": {},
   "source": [
    "Your Savings Bank offers an interest rate of __8% p.a. (stated rate)__ with __annual compounding__ on your savings (__USD 100__).<br>\n",
    "Calculate the __value__ of your savings account __after one year__ and the corresponding __effective annual interest rate__. "
   ]
  },
  {
   "cell_type": "markdown",
   "id": "73d7a5b6",
   "metadata": {},
   "source": [
    "__-> Interests are calculated and added to your savings account once at the end of each year.__"
   ]
  },
  {
   "cell_type": "code",
   "execution_count": 40,
   "id": "606a1519",
   "metadata": {},
   "outputs": [],
   "source": [
    "PV = 100\n",
    "r = 0.08\n",
    "n = 1"
   ]
  },
  {
   "cell_type": "code",
   "execution_count": 41,
   "id": "ac5b11d3",
   "metadata": {},
   "outputs": [
    {
     "data": {
      "text/plain": [
       "108.0"
      ]
     },
     "execution_count": 41,
     "metadata": {},
     "output_type": "execute_result"
    }
   ],
   "source": [
    "100 * 1.08"
   ]
  },
  {
   "cell_type": "code",
   "execution_count": 42,
   "id": "74ab7526",
   "metadata": {},
   "outputs": [
    {
     "data": {
      "text/plain": [
       "108.0"
      ]
     },
     "execution_count": 42,
     "metadata": {},
     "output_type": "execute_result"
    }
   ],
   "source": [
    "FV = PV * (1 + r)**n\n",
    "FV"
   ]
  },
  {
   "cell_type": "code",
   "execution_count": 43,
   "id": "ec54e725",
   "metadata": {},
   "outputs": [
    {
     "data": {
      "text/plain": [
       "0.08000000000000007"
      ]
     },
     "execution_count": 43,
     "metadata": {},
     "output_type": "execute_result"
    }
   ],
   "source": [
    "effective_annual_rate = (FV / PV)**(1/n) - 1 \n",
    "effective_annual_rate"
   ]
  },
  {
   "cell_type": "markdown",
   "id": "d0a07a4f",
   "metadata": {},
   "source": [
    "__Quarterly Compounding__ -> Interests accrue once a quarter at the end of the quarter"
   ]
  },
  {
   "cell_type": "markdown",
   "id": "daa65e20",
   "metadata": {},
   "source": [
    "Your Savings Bank offers an interest rate of __8% p.a. (stated rate)__ with __quarterly compounding__ on your savings (__USD 100__).<br>\n",
    "Calculate the __value__ of your savings account __after one year__ and the corresponding __effective annual interest rate__. "
   ]
  },
  {
   "cell_type": "markdown",
   "id": "e61445a8",
   "metadata": {},
   "source": [
    "__-> Interests are calculated and added to your savings account at the end of each quarter.__"
   ]
  },
  {
   "cell_type": "code",
   "execution_count": 44,
   "id": "43bcff3e",
   "metadata": {},
   "outputs": [],
   "source": [
    "PV = 100\n",
    "r = 0.08\n",
    "n = 1\n",
    "m = 4"
   ]
  },
  {
   "cell_type": "code",
   "execution_count": 45,
   "id": "323e70ef",
   "metadata": {},
   "outputs": [
    {
     "data": {
      "text/plain": [
       "108.243216"
      ]
     },
     "execution_count": 45,
     "metadata": {},
     "output_type": "execute_result"
    }
   ],
   "source": [
    "100 * 1.02 * 1.02 * 1.02 * 1.02"
   ]
  },
  {
   "cell_type": "code",
   "execution_count": 46,
   "id": "90535e79",
   "metadata": {},
   "outputs": [
    {
     "data": {
      "text/plain": [
       "108.243216"
      ]
     },
     "execution_count": 46,
     "metadata": {},
     "output_type": "execute_result"
    }
   ],
   "source": [
    "FV = PV * (1 + r/m)**(n*m)\n",
    "FV"
   ]
  },
  {
   "cell_type": "code",
   "execution_count": 47,
   "id": "86ee1a91",
   "metadata": {},
   "outputs": [
    {
     "data": {
      "text/plain": [
       "0.08243215999999998"
      ]
     },
     "execution_count": 47,
     "metadata": {},
     "output_type": "execute_result"
    }
   ],
   "source": [
    "effective_annual_rate = (FV / PV)**(1/n) - 1 \n",
    "effective_annual_rate"
   ]
  },
  {
   "cell_type": "markdown",
   "id": "e3e5af74",
   "metadata": {},
   "source": [
    "__-> Quarterly compounding is favourable (everything else equal) as we earn compound interest (interest on interest).__"
   ]
  },
  {
   "cell_type": "markdown",
   "id": "05a5bee9",
   "metadata": {},
   "source": [
    "__Monthly Compounding__ -> Interests accrue once a month at the end of the month"
   ]
  },
  {
   "cell_type": "markdown",
   "id": "c84fa2b1",
   "metadata": {},
   "source": [
    "Your Savings Bank offers an interest rate of __8% p.a. (stated rate)__ with __monthly compounding__ on your savings (__USD 100__).<br>\n",
    "Calculate the __value__ of your savings account __after one year__ and the corresponding __effective annual interest rate__. "
   ]
  },
  {
   "cell_type": "markdown",
   "id": "37739b5a",
   "metadata": {},
   "source": [
    "__-> Interests are calculated and added to your savings account at the end of each month.__"
   ]
  },
  {
   "cell_type": "code",
   "execution_count": 48,
   "id": "828fa20a",
   "metadata": {},
   "outputs": [],
   "source": [
    "PV = 100\n",
    "r = 0.08\n",
    "n = 1\n",
    "m = 12"
   ]
  },
  {
   "cell_type": "code",
   "execution_count": 49,
   "id": "f28f7594",
   "metadata": {},
   "outputs": [
    {
     "data": {
      "text/plain": [
       "108.29995068075098"
      ]
     },
     "execution_count": 49,
     "metadata": {},
     "output_type": "execute_result"
    }
   ],
   "source": [
    "FV = PV * (1 + r/m)**(n*m)\n",
    "FV"
   ]
  },
  {
   "cell_type": "code",
   "execution_count": 50,
   "id": "fbad2a6f",
   "metadata": {},
   "outputs": [
    {
     "data": {
      "text/plain": [
       "0.08299950680750978"
      ]
     },
     "execution_count": 50,
     "metadata": {},
     "output_type": "execute_result"
    }
   ],
   "source": [
    "effective_annual_rate = ((FV / PV)**(1/n) - 1) \n",
    "effective_annual_rate"
   ]
  },
  {
   "cell_type": "markdown",
   "id": "cd626d18",
   "metadata": {},
   "source": [
    "## Continuous Compounding "
   ]
  },
  {
   "cell_type": "markdown",
   "id": "08d7c0c6",
   "metadata": {},
   "source": [
    "Your Savings Bank offers an interest rate of __8% p.a. (stated rate)__ with __continuous compounding__ on your savings (__USD 100__).<br>\n",
    "Calculate the __value__ of your savings account __after one year__ and the corresponding __effective annual interest rate__. "
   ]
  },
  {
   "cell_type": "markdown",
   "id": "15d66c94",
   "metadata": {},
   "source": [
    "__-> Interests are calculated and added to your savings account continuously (infinitely large number of compounding events).__ -> continuous exponential growth that can be observed in nature"
   ]
  },
  {
   "cell_type": "code",
   "execution_count": 51,
   "id": "e144d9b2",
   "metadata": {},
   "outputs": [],
   "source": [
    "PV = 100\n",
    "r = 0.08\n",
    "n = 1\n",
    "m = 100000 # approx.infinity"
   ]
  },
  {
   "cell_type": "code",
   "execution_count": 52,
   "id": "d82d62ab",
   "metadata": {},
   "outputs": [
    {
     "data": {
      "text/plain": [
       "108.32870330122834"
      ]
     },
     "execution_count": 52,
     "metadata": {},
     "output_type": "execute_result"
    }
   ],
   "source": [
    "FV = PV * (1 + r/m)**(n*m) # approx. with large m\n",
    "FV"
   ]
  },
  {
   "cell_type": "code",
   "execution_count": 53,
   "id": "7b2b9a40",
   "metadata": {},
   "outputs": [
    {
     "data": {
      "text/plain": [
       "108.32870676749586"
      ]
     },
     "execution_count": 53,
     "metadata": {},
     "output_type": "execute_result"
    }
   ],
   "source": [
    "FV = PV * np.exp(n * r) # exact math with e (euler number)\n",
    "FV"
   ]
  },
  {
   "cell_type": "code",
   "execution_count": 54,
   "id": "94f98500",
   "metadata": {},
   "outputs": [
    {
     "data": {
      "text/plain": [
       "2.718281828459045"
      ]
     },
     "execution_count": 54,
     "metadata": {},
     "output_type": "execute_result"
    }
   ],
   "source": [
    "euler = np.exp(1)\n",
    "euler"
   ]
  },
  {
   "cell_type": "code",
   "execution_count": 55,
   "id": "a91bbe5f",
   "metadata": {},
   "outputs": [
    {
     "data": {
      "text/plain": [
       "108.32870676749586"
      ]
     },
     "execution_count": 55,
     "metadata": {},
     "output_type": "execute_result"
    }
   ],
   "source": [
    "PV * euler**(n * r)"
   ]
  },
  {
   "cell_type": "code",
   "execution_count": 56,
   "id": "37b71241",
   "metadata": {},
   "outputs": [
    {
     "data": {
      "text/plain": [
       "0.08328706767495864"
      ]
     },
     "execution_count": 56,
     "metadata": {},
     "output_type": "execute_result"
    }
   ],
   "source": [
    "effective_annual_rate = ((FV / PV)**(1/n) - 1) # Alt 1\n",
    "effective_annual_rate"
   ]
  },
  {
   "cell_type": "code",
   "execution_count": 57,
   "id": "27d87e89",
   "metadata": {},
   "outputs": [
    {
     "data": {
      "text/plain": [
       "0.08328706767495864"
      ]
     },
     "execution_count": 57,
     "metadata": {},
     "output_type": "execute_result"
    }
   ],
   "source": [
    "effective_annual_rate = np.exp(r) - 1 # Alt 2\n",
    "effective_annual_rate"
   ]
  },
  {
   "cell_type": "markdown",
   "id": "f51b1f87",
   "metadata": {},
   "source": [
    "Let´s assume we only observe PV and FV, how to calculate the stated rate/continuously compounded rate of 8%?"
   ]
  },
  {
   "cell_type": "code",
   "execution_count": 58,
   "id": "6558ce10",
   "metadata": {},
   "outputs": [
    {
     "data": {
      "text/plain": [
       "0.08000000000000007"
      ]
     },
     "execution_count": 58,
     "metadata": {},
     "output_type": "execute_result"
    }
   ],
   "source": [
    "r = np.log(FV / PV) # inverse calculation -> use log (Alt 1)\n",
    "r"
   ]
  },
  {
   "cell_type": "code",
   "execution_count": 59,
   "id": "28475db5",
   "metadata": {},
   "outputs": [
    {
     "data": {
      "text/plain": [
       "0.08000000000000007"
      ]
     },
     "execution_count": 59,
     "metadata": {},
     "output_type": "execute_result"
    }
   ],
   "source": [
    "r = np.log(effective_annual_rate + 1) # inverse calculation -> use log (Alt 2)\n",
    "r"
   ]
  },
  {
   "cell_type": "markdown",
   "id": "a5d8ac80",
   "metadata": {},
   "source": [
    "__Take Home: Prices of traded Financial Instruments change (approx.) continuously. <br>\n",
    "-> Intuitively, it makes a lot of sense to work with log returns.__ "
   ]
  },
  {
   "cell_type": "markdown",
   "id": "96b19065",
   "metadata": {},
   "source": [
    "## Log Returns"
   ]
  },
  {
   "cell_type": "code",
   "execution_count": 60,
   "id": "27c72f01",
   "metadata": {},
   "outputs": [
    {
     "data": {
      "text/html": [
       "<div>\n",
       "<style scoped>\n",
       "    .dataframe tbody tr th:only-of-type {\n",
       "        vertical-align: middle;\n",
       "    }\n",
       "\n",
       "    .dataframe tbody tr th {\n",
       "        vertical-align: top;\n",
       "    }\n",
       "\n",
       "    .dataframe thead th {\n",
       "        text-align: right;\n",
       "    }\n",
       "</style>\n",
       "<table border=\"1\" class=\"dataframe\">\n",
       "  <thead>\n",
       "    <tr style=\"text-align: right;\">\n",
       "      <th></th>\n",
       "      <th>Price</th>\n",
       "      <th>Returns</th>\n",
       "    </tr>\n",
       "    <tr>\n",
       "      <th>Date</th>\n",
       "      <th></th>\n",
       "      <th></th>\n",
       "    </tr>\n",
       "  </thead>\n",
       "  <tbody>\n",
       "    <tr>\n",
       "      <th>2014-10-01</th>\n",
       "      <td>45.9000</td>\n",
       "      <td>NaN</td>\n",
       "    </tr>\n",
       "    <tr>\n",
       "      <th>2014-10-02</th>\n",
       "      <td>45.7600</td>\n",
       "      <td>-0.0031</td>\n",
       "    </tr>\n",
       "    <tr>\n",
       "      <th>2014-10-03</th>\n",
       "      <td>46.0900</td>\n",
       "      <td>0.0072</td>\n",
       "    </tr>\n",
       "    <tr>\n",
       "      <th>2014-10-06</th>\n",
       "      <td>46.0900</td>\n",
       "      <td>0.0000</td>\n",
       "    </tr>\n",
       "    <tr>\n",
       "      <th>2014-10-07</th>\n",
       "      <td>45.5300</td>\n",
       "      <td>-0.0122</td>\n",
       "    </tr>\n",
       "    <tr>\n",
       "      <th>...</th>\n",
       "      <td>...</td>\n",
       "      <td>...</td>\n",
       "    </tr>\n",
       "    <tr>\n",
       "      <th>2021-05-24</th>\n",
       "      <td>250.7800</td>\n",
       "      <td>0.0229</td>\n",
       "    </tr>\n",
       "    <tr>\n",
       "      <th>2021-05-25</th>\n",
       "      <td>251.7200</td>\n",
       "      <td>0.0037</td>\n",
       "    </tr>\n",
       "    <tr>\n",
       "      <th>2021-05-26</th>\n",
       "      <td>251.4900</td>\n",
       "      <td>-0.0009</td>\n",
       "    </tr>\n",
       "    <tr>\n",
       "      <th>2021-05-27</th>\n",
       "      <td>249.3100</td>\n",
       "      <td>-0.0087</td>\n",
       "    </tr>\n",
       "    <tr>\n",
       "      <th>2021-05-28</th>\n",
       "      <td>249.6800</td>\n",
       "      <td>0.0015</td>\n",
       "    </tr>\n",
       "  </tbody>\n",
       "</table>\n",
       "<p>1677 rows × 2 columns</p>\n",
       "</div>"
      ],
      "text/plain": [
       "              Price  Returns\n",
       "Date                        \n",
       "2014-10-01  45.9000      NaN\n",
       "2014-10-02  45.7600  -0.0031\n",
       "2014-10-03  46.0900   0.0072\n",
       "2014-10-06  46.0900   0.0000\n",
       "2014-10-07  45.5300  -0.0122\n",
       "...             ...      ...\n",
       "2021-05-24 250.7800   0.0229\n",
       "2021-05-25 251.7200   0.0037\n",
       "2021-05-26 251.4900  -0.0009\n",
       "2021-05-27 249.3100  -0.0087\n",
       "2021-05-28 249.6800   0.0015\n",
       "\n",
       "[1677 rows x 2 columns]"
      ]
     },
     "execution_count": 60,
     "metadata": {},
     "output_type": "execute_result"
    }
   ],
   "source": [
    "msft = pd.read_csv(\"msft.csv\", index_col = \"Date\", parse_dates = [\"Date\"])\n",
    "msft"
   ]
  },
  {
   "cell_type": "code",
   "execution_count": 61,
   "id": "42d84e69",
   "metadata": {},
   "outputs": [],
   "source": [
    "msft[\"log_ret\"] = np.log(msft.Price / msft.Price.shift()) # daily log returns"
   ]
  },
  {
   "cell_type": "code",
   "execution_count": 62,
   "id": "79b241ac",
   "metadata": {},
   "outputs": [
    {
     "data": {
      "text/html": [
       "<div>\n",
       "<style scoped>\n",
       "    .dataframe tbody tr th:only-of-type {\n",
       "        vertical-align: middle;\n",
       "    }\n",
       "\n",
       "    .dataframe tbody tr th {\n",
       "        vertical-align: top;\n",
       "    }\n",
       "\n",
       "    .dataframe thead th {\n",
       "        text-align: right;\n",
       "    }\n",
       "</style>\n",
       "<table border=\"1\" class=\"dataframe\">\n",
       "  <thead>\n",
       "    <tr style=\"text-align: right;\">\n",
       "      <th></th>\n",
       "      <th>Price</th>\n",
       "      <th>Returns</th>\n",
       "      <th>log_ret</th>\n",
       "    </tr>\n",
       "    <tr>\n",
       "      <th>Date</th>\n",
       "      <th></th>\n",
       "      <th></th>\n",
       "      <th></th>\n",
       "    </tr>\n",
       "  </thead>\n",
       "  <tbody>\n",
       "    <tr>\n",
       "      <th>2014-10-01</th>\n",
       "      <td>45.9000</td>\n",
       "      <td>NaN</td>\n",
       "      <td>NaN</td>\n",
       "    </tr>\n",
       "    <tr>\n",
       "      <th>2014-10-02</th>\n",
       "      <td>45.7600</td>\n",
       "      <td>-0.0031</td>\n",
       "      <td>-0.0031</td>\n",
       "    </tr>\n",
       "    <tr>\n",
       "      <th>2014-10-03</th>\n",
       "      <td>46.0900</td>\n",
       "      <td>0.0072</td>\n",
       "      <td>0.0072</td>\n",
       "    </tr>\n",
       "    <tr>\n",
       "      <th>2014-10-06</th>\n",
       "      <td>46.0900</td>\n",
       "      <td>0.0000</td>\n",
       "      <td>0.0000</td>\n",
       "    </tr>\n",
       "    <tr>\n",
       "      <th>2014-10-07</th>\n",
       "      <td>45.5300</td>\n",
       "      <td>-0.0122</td>\n",
       "      <td>-0.0122</td>\n",
       "    </tr>\n",
       "    <tr>\n",
       "      <th>...</th>\n",
       "      <td>...</td>\n",
       "      <td>...</td>\n",
       "      <td>...</td>\n",
       "    </tr>\n",
       "    <tr>\n",
       "      <th>2021-05-24</th>\n",
       "      <td>250.7800</td>\n",
       "      <td>0.0229</td>\n",
       "      <td>0.0226</td>\n",
       "    </tr>\n",
       "    <tr>\n",
       "      <th>2021-05-25</th>\n",
       "      <td>251.7200</td>\n",
       "      <td>0.0037</td>\n",
       "      <td>0.0037</td>\n",
       "    </tr>\n",
       "    <tr>\n",
       "      <th>2021-05-26</th>\n",
       "      <td>251.4900</td>\n",
       "      <td>-0.0009</td>\n",
       "      <td>-0.0009</td>\n",
       "    </tr>\n",
       "    <tr>\n",
       "      <th>2021-05-27</th>\n",
       "      <td>249.3100</td>\n",
       "      <td>-0.0087</td>\n",
       "      <td>-0.0087</td>\n",
       "    </tr>\n",
       "    <tr>\n",
       "      <th>2021-05-28</th>\n",
       "      <td>249.6800</td>\n",
       "      <td>0.0015</td>\n",
       "      <td>0.0015</td>\n",
       "    </tr>\n",
       "  </tbody>\n",
       "</table>\n",
       "<p>1677 rows × 3 columns</p>\n",
       "</div>"
      ],
      "text/plain": [
       "              Price  Returns  log_ret\n",
       "Date                                 \n",
       "2014-10-01  45.9000      NaN      NaN\n",
       "2014-10-02  45.7600  -0.0031  -0.0031\n",
       "2014-10-03  46.0900   0.0072   0.0072\n",
       "2014-10-06  46.0900   0.0000   0.0000\n",
       "2014-10-07  45.5300  -0.0122  -0.0122\n",
       "...             ...      ...      ...\n",
       "2021-05-24 250.7800   0.0229   0.0226\n",
       "2021-05-25 251.7200   0.0037   0.0037\n",
       "2021-05-26 251.4900  -0.0009  -0.0009\n",
       "2021-05-27 249.3100  -0.0087  -0.0087\n",
       "2021-05-28 249.6800   0.0015   0.0015\n",
       "\n",
       "[1677 rows x 3 columns]"
      ]
     },
     "execution_count": 62,
     "metadata": {},
     "output_type": "execute_result"
    }
   ],
   "source": [
    "msft"
   ]
  },
  {
   "cell_type": "code",
   "execution_count": 63,
   "id": "0362b297",
   "metadata": {},
   "outputs": [
    {
     "data": {
      "text/html": [
       "<div>\n",
       "<style scoped>\n",
       "    .dataframe tbody tr th:only-of-type {\n",
       "        vertical-align: middle;\n",
       "    }\n",
       "\n",
       "    .dataframe tbody tr th {\n",
       "        vertical-align: top;\n",
       "    }\n",
       "\n",
       "    .dataframe thead th {\n",
       "        text-align: right;\n",
       "    }\n",
       "</style>\n",
       "<table border=\"1\" class=\"dataframe\">\n",
       "  <thead>\n",
       "    <tr style=\"text-align: right;\">\n",
       "      <th></th>\n",
       "      <th>Price</th>\n",
       "      <th>Returns</th>\n",
       "      <th>log_ret</th>\n",
       "    </tr>\n",
       "  </thead>\n",
       "  <tbody>\n",
       "    <tr>\n",
       "      <th>count</th>\n",
       "      <td>1677.0000</td>\n",
       "      <td>1676.0000</td>\n",
       "      <td>1676.0000</td>\n",
       "    </tr>\n",
       "    <tr>\n",
       "      <th>mean</th>\n",
       "      <td>106.3144</td>\n",
       "      <td>0.0012</td>\n",
       "      <td>0.0010</td>\n",
       "    </tr>\n",
       "    <tr>\n",
       "      <th>std</th>\n",
       "      <td>60.7722</td>\n",
       "      <td>0.0173</td>\n",
       "      <td>0.0172</td>\n",
       "    </tr>\n",
       "    <tr>\n",
       "      <th>min</th>\n",
       "      <td>40.2900</td>\n",
       "      <td>-0.1474</td>\n",
       "      <td>-0.1595</td>\n",
       "    </tr>\n",
       "    <tr>\n",
       "      <th>25%</th>\n",
       "      <td>54.8300</td>\n",
       "      <td>-0.0062</td>\n",
       "      <td>-0.0062</td>\n",
       "    </tr>\n",
       "    <tr>\n",
       "      <th>50%</th>\n",
       "      <td>89.7100</td>\n",
       "      <td>0.0009</td>\n",
       "      <td>0.0009</td>\n",
       "    </tr>\n",
       "    <tr>\n",
       "      <th>75%</th>\n",
       "      <td>138.9000</td>\n",
       "      <td>0.0091</td>\n",
       "      <td>0.0091</td>\n",
       "    </tr>\n",
       "    <tr>\n",
       "      <th>max</th>\n",
       "      <td>261.9700</td>\n",
       "      <td>0.1422</td>\n",
       "      <td>0.1329</td>\n",
       "    </tr>\n",
       "  </tbody>\n",
       "</table>\n",
       "</div>"
      ],
      "text/plain": [
       "          Price   Returns   log_ret\n",
       "count 1677.0000 1676.0000 1676.0000\n",
       "mean   106.3144    0.0012    0.0010\n",
       "std     60.7722    0.0173    0.0172\n",
       "min     40.2900   -0.1474   -0.1595\n",
       "25%     54.8300   -0.0062   -0.0062\n",
       "50%     89.7100    0.0009    0.0009\n",
       "75%    138.9000    0.0091    0.0091\n",
       "max    261.9700    0.1422    0.1329"
      ]
     },
     "execution_count": 63,
     "metadata": {},
     "output_type": "execute_result"
    }
   ],
   "source": [
    "msft.describe()"
   ]
  },
  {
   "cell_type": "code",
   "execution_count": 64,
   "id": "dd00259f",
   "metadata": {},
   "outputs": [
    {
     "data": {
      "text/plain": [
       "0.0010105697603329637"
      ]
     },
     "execution_count": 64,
     "metadata": {},
     "output_type": "execute_result"
    }
   ],
   "source": [
    "mu = msft.log_ret.mean() # mean log return -> Reward\n",
    "mu"
   ]
  },
  {
   "cell_type": "code",
   "execution_count": 65,
   "id": "6cc4afb2",
   "metadata": {},
   "outputs": [
    {
     "data": {
      "text/plain": [
       "0.01724882682847896"
      ]
     },
     "execution_count": 65,
     "metadata": {},
     "output_type": "execute_result"
    }
   ],
   "source": [
    "sigma = msft.log_ret.std() # standard deviation of log returns -> Risk/Volatility\n",
    "sigma"
   ]
  },
  {
   "cell_type": "markdown",
   "id": "d91b4326",
   "metadata": {},
   "source": [
    "## Simple Returns vs Log Returns"
   ]
  },
  {
   "cell_type": "code",
   "execution_count": 66,
   "id": "9f28e219",
   "metadata": {},
   "outputs": [
    {
     "data": {
      "text/html": [
       "<div>\n",
       "<style scoped>\n",
       "    .dataframe tbody tr th:only-of-type {\n",
       "        vertical-align: middle;\n",
       "    }\n",
       "\n",
       "    .dataframe tbody tr th {\n",
       "        vertical-align: top;\n",
       "    }\n",
       "\n",
       "    .dataframe thead th {\n",
       "        text-align: right;\n",
       "    }\n",
       "</style>\n",
       "<table border=\"1\" class=\"dataframe\">\n",
       "  <thead>\n",
       "    <tr style=\"text-align: right;\">\n",
       "      <th></th>\n",
       "      <th>Price</th>\n",
       "    </tr>\n",
       "  </thead>\n",
       "  <tbody>\n",
       "    <tr>\n",
       "      <th>0</th>\n",
       "      <td>100</td>\n",
       "    </tr>\n",
       "    <tr>\n",
       "      <th>1</th>\n",
       "      <td>50</td>\n",
       "    </tr>\n",
       "    <tr>\n",
       "      <th>2</th>\n",
       "      <td>90</td>\n",
       "    </tr>\n",
       "  </tbody>\n",
       "</table>\n",
       "</div>"
      ],
      "text/plain": [
       "   Price\n",
       "0    100\n",
       "1     50\n",
       "2     90"
      ]
     },
     "execution_count": 66,
     "metadata": {},
     "output_type": "execute_result"
    }
   ],
   "source": [
    "df = pd.DataFrame(data = [100, 50, 90], columns = [\"Price\"])\n",
    "df"
   ]
  },
  {
   "cell_type": "code",
   "execution_count": 67,
   "id": "4f8cda44",
   "metadata": {},
   "outputs": [],
   "source": [
    "df[\"SR\"] = df.Price.pct_change() # simple returns"
   ]
  },
  {
   "cell_type": "code",
   "execution_count": 68,
   "id": "9eaaa4bd",
   "metadata": {},
   "outputs": [],
   "source": [
    "df[\"LR\"] = np.log(df.Price / df.Price.shift()) # log returns"
   ]
  },
  {
   "cell_type": "code",
   "execution_count": 69,
   "id": "d97332ce",
   "metadata": {},
   "outputs": [
    {
     "data": {
      "text/html": [
       "<div>\n",
       "<style scoped>\n",
       "    .dataframe tbody tr th:only-of-type {\n",
       "        vertical-align: middle;\n",
       "    }\n",
       "\n",
       "    .dataframe tbody tr th {\n",
       "        vertical-align: top;\n",
       "    }\n",
       "\n",
       "    .dataframe thead th {\n",
       "        text-align: right;\n",
       "    }\n",
       "</style>\n",
       "<table border=\"1\" class=\"dataframe\">\n",
       "  <thead>\n",
       "    <tr style=\"text-align: right;\">\n",
       "      <th></th>\n",
       "      <th>Price</th>\n",
       "      <th>SR</th>\n",
       "      <th>LR</th>\n",
       "    </tr>\n",
       "  </thead>\n",
       "  <tbody>\n",
       "    <tr>\n",
       "      <th>0</th>\n",
       "      <td>100</td>\n",
       "      <td>NaN</td>\n",
       "      <td>NaN</td>\n",
       "    </tr>\n",
       "    <tr>\n",
       "      <th>1</th>\n",
       "      <td>50</td>\n",
       "      <td>-0.5000</td>\n",
       "      <td>-0.6931</td>\n",
       "    </tr>\n",
       "    <tr>\n",
       "      <th>2</th>\n",
       "      <td>90</td>\n",
       "      <td>0.8000</td>\n",
       "      <td>0.5878</td>\n",
       "    </tr>\n",
       "  </tbody>\n",
       "</table>\n",
       "</div>"
      ],
      "text/plain": [
       "   Price      SR      LR\n",
       "0    100     NaN     NaN\n",
       "1     50 -0.5000 -0.6931\n",
       "2     90  0.8000  0.5878"
      ]
     },
     "execution_count": 69,
     "metadata": {},
     "output_type": "execute_result"
    }
   ],
   "source": [
    "df"
   ]
  },
  {
   "cell_type": "code",
   "execution_count": 70,
   "id": "c9fff857",
   "metadata": {},
   "outputs": [
    {
     "data": {
      "text/plain": [
       "2"
      ]
     },
     "execution_count": 70,
     "metadata": {},
     "output_type": "execute_result"
    }
   ],
   "source": [
    "periods = df.SR.count()\n",
    "periods"
   ]
  },
  {
   "cell_type": "markdown",
   "id": "e6d64f86",
   "metadata": {},
   "source": [
    "__The arithmetic mean of simple returns can be misleading!__"
   ]
  },
  {
   "cell_type": "code",
   "execution_count": 71,
   "id": "378c1131",
   "metadata": {},
   "outputs": [
    {
     "data": {
      "text/plain": [
       "0.15000000000000002"
      ]
     },
     "execution_count": 71,
     "metadata": {},
     "output_type": "execute_result"
    }
   ],
   "source": [
    "mean_sr = df.SR.mean()\n",
    "mean_sr"
   ]
  },
  {
   "cell_type": "markdown",
   "id": "be27832e",
   "metadata": {},
   "source": [
    "__We should use Compound Simple Returns / Geometric Mean, or even better...__"
   ]
  },
  {
   "cell_type": "code",
   "execution_count": 72,
   "id": "0355f254",
   "metadata": {},
   "outputs": [
    {
     "data": {
      "text/plain": [
       "-0.05131670194948623"
      ]
     },
     "execution_count": 72,
     "metadata": {},
     "output_type": "execute_result"
    }
   ],
   "source": [
    "geo_mean = (1 + df.SR).prod()**(1 / periods) - 1\n",
    "geo_mean"
   ]
  },
  {
   "cell_type": "code",
   "execution_count": 73,
   "id": "88119da8",
   "metadata": {},
   "outputs": [
    {
     "data": {
      "text/plain": [
       "89.99999999999999"
      ]
     },
     "execution_count": 73,
     "metadata": {},
     "output_type": "execute_result"
    }
   ],
   "source": [
    "100 * (1 + geo_mean)**periods # correct!!!"
   ]
  },
  {
   "cell_type": "markdown",
   "id": "9aa0f2fd",
   "metadata": {},
   "source": [
    "__...Log Returns which are additive over time!__"
   ]
  },
  {
   "cell_type": "code",
   "execution_count": 74,
   "id": "9399f506",
   "metadata": {},
   "outputs": [
    {
     "data": {
      "text/plain": [
       "-0.10536051565782623"
      ]
     },
     "execution_count": 74,
     "metadata": {},
     "output_type": "execute_result"
    }
   ],
   "source": [
    "sum_lr = df.LR.sum()\n",
    "sum_lr"
   ]
  },
  {
   "cell_type": "code",
   "execution_count": 75,
   "id": "47361d04",
   "metadata": {},
   "outputs": [
    {
     "data": {
      "text/plain": [
       "90.0"
      ]
     },
     "execution_count": 75,
     "metadata": {},
     "output_type": "execute_result"
    }
   ],
   "source": [
    "100 * np.exp(sum_lr) # correct!!!"
   ]
  },
  {
   "cell_type": "code",
   "execution_count": 76,
   "id": "4d94bdf3",
   "metadata": {},
   "outputs": [
    {
     "data": {
      "text/plain": [
       "-0.05268025782891311"
      ]
     },
     "execution_count": 76,
     "metadata": {},
     "output_type": "execute_result"
    }
   ],
   "source": [
    "mean_lr = df.LR.mean()\n",
    "mean_lr"
   ]
  },
  {
   "cell_type": "code",
   "execution_count": 77,
   "id": "47fac2ea",
   "metadata": {},
   "outputs": [
    {
     "data": {
      "text/plain": [
       "90.0"
      ]
     },
     "execution_count": 77,
     "metadata": {},
     "output_type": "execute_result"
    }
   ],
   "source": [
    "100 * np.exp(mean_lr * periods) # correct!!!"
   ]
  },
  {
   "cell_type": "markdown",
   "id": "595ad7f6",
   "metadata": {},
   "source": [
    "__Take Home: Log Returns are additive over time. Simple Returns are not additive over time (but they can be multiplied/compounded)__"
   ]
  },
  {
   "cell_type": "markdown",
   "id": "652d274f",
   "metadata": {},
   "source": [
    "## Simple Returns vs. Log Returns (Part 2)"
   ]
  },
  {
   "cell_type": "code",
   "execution_count": 78,
   "id": "3a8c5e51",
   "metadata": {},
   "outputs": [],
   "source": [
    "msft = pd.read_csv(\"msft.csv\", index_col = \"Date\", parse_dates = [\"Date\"])"
   ]
  },
  {
   "cell_type": "code",
   "execution_count": 79,
   "id": "254fc71e",
   "metadata": {},
   "outputs": [],
   "source": [
    "msft[\"log_ret\"] = np.log(msft.Price / msft.Price.shift())"
   ]
  },
  {
   "cell_type": "code",
   "execution_count": 80,
   "id": "c8ad7fa3",
   "metadata": {},
   "outputs": [
    {
     "data": {
      "text/html": [
       "<div>\n",
       "<style scoped>\n",
       "    .dataframe tbody tr th:only-of-type {\n",
       "        vertical-align: middle;\n",
       "    }\n",
       "\n",
       "    .dataframe tbody tr th {\n",
       "        vertical-align: top;\n",
       "    }\n",
       "\n",
       "    .dataframe thead th {\n",
       "        text-align: right;\n",
       "    }\n",
       "</style>\n",
       "<table border=\"1\" class=\"dataframe\">\n",
       "  <thead>\n",
       "    <tr style=\"text-align: right;\">\n",
       "      <th></th>\n",
       "      <th>Price</th>\n",
       "      <th>Returns</th>\n",
       "      <th>log_ret</th>\n",
       "    </tr>\n",
       "    <tr>\n",
       "      <th>Date</th>\n",
       "      <th></th>\n",
       "      <th></th>\n",
       "      <th></th>\n",
       "    </tr>\n",
       "  </thead>\n",
       "  <tbody>\n",
       "    <tr>\n",
       "      <th>2014-10-01</th>\n",
       "      <td>45.9000</td>\n",
       "      <td>NaN</td>\n",
       "      <td>NaN</td>\n",
       "    </tr>\n",
       "    <tr>\n",
       "      <th>2014-10-02</th>\n",
       "      <td>45.7600</td>\n",
       "      <td>-0.0031</td>\n",
       "      <td>-0.0031</td>\n",
       "    </tr>\n",
       "    <tr>\n",
       "      <th>2014-10-03</th>\n",
       "      <td>46.0900</td>\n",
       "      <td>0.0072</td>\n",
       "      <td>0.0072</td>\n",
       "    </tr>\n",
       "    <tr>\n",
       "      <th>2014-10-06</th>\n",
       "      <td>46.0900</td>\n",
       "      <td>0.0000</td>\n",
       "      <td>0.0000</td>\n",
       "    </tr>\n",
       "    <tr>\n",
       "      <th>2014-10-07</th>\n",
       "      <td>45.5300</td>\n",
       "      <td>-0.0122</td>\n",
       "      <td>-0.0122</td>\n",
       "    </tr>\n",
       "    <tr>\n",
       "      <th>...</th>\n",
       "      <td>...</td>\n",
       "      <td>...</td>\n",
       "      <td>...</td>\n",
       "    </tr>\n",
       "    <tr>\n",
       "      <th>2021-05-24</th>\n",
       "      <td>250.7800</td>\n",
       "      <td>0.0229</td>\n",
       "      <td>0.0226</td>\n",
       "    </tr>\n",
       "    <tr>\n",
       "      <th>2021-05-25</th>\n",
       "      <td>251.7200</td>\n",
       "      <td>0.0037</td>\n",
       "      <td>0.0037</td>\n",
       "    </tr>\n",
       "    <tr>\n",
       "      <th>2021-05-26</th>\n",
       "      <td>251.4900</td>\n",
       "      <td>-0.0009</td>\n",
       "      <td>-0.0009</td>\n",
       "    </tr>\n",
       "    <tr>\n",
       "      <th>2021-05-27</th>\n",
       "      <td>249.3100</td>\n",
       "      <td>-0.0087</td>\n",
       "      <td>-0.0087</td>\n",
       "    </tr>\n",
       "    <tr>\n",
       "      <th>2021-05-28</th>\n",
       "      <td>249.6800</td>\n",
       "      <td>0.0015</td>\n",
       "      <td>0.0015</td>\n",
       "    </tr>\n",
       "  </tbody>\n",
       "</table>\n",
       "<p>1677 rows × 3 columns</p>\n",
       "</div>"
      ],
      "text/plain": [
       "              Price  Returns  log_ret\n",
       "Date                                 \n",
       "2014-10-01  45.9000      NaN      NaN\n",
       "2014-10-02  45.7600  -0.0031  -0.0031\n",
       "2014-10-03  46.0900   0.0072   0.0072\n",
       "2014-10-06  46.0900   0.0000   0.0000\n",
       "2014-10-07  45.5300  -0.0122  -0.0122\n",
       "...             ...      ...      ...\n",
       "2021-05-24 250.7800   0.0229   0.0226\n",
       "2021-05-25 251.7200   0.0037   0.0037\n",
       "2021-05-26 251.4900  -0.0009  -0.0009\n",
       "2021-05-27 249.3100  -0.0087  -0.0087\n",
       "2021-05-28 249.6800   0.0015   0.0015\n",
       "\n",
       "[1677 rows x 3 columns]"
      ]
     },
     "execution_count": 80,
     "metadata": {},
     "output_type": "execute_result"
    }
   ],
   "source": [
    "msft"
   ]
  },
  {
   "cell_type": "markdown",
   "id": "62f97501",
   "metadata": {},
   "source": [
    "__Investment Multiple__"
   ]
  },
  {
   "cell_type": "code",
   "execution_count": 81,
   "id": "fd5a9b95",
   "metadata": {},
   "outputs": [
    {
     "data": {
      "text/plain": [
       "5.4396510757198575"
      ]
     },
     "execution_count": 81,
     "metadata": {},
     "output_type": "execute_result"
    }
   ],
   "source": [
    "msft.Returns.add(1).prod() # compounding simple returns (\"compound returns\")"
   ]
  },
  {
   "cell_type": "code",
   "execution_count": 82,
   "id": "25050efd",
   "metadata": {},
   "outputs": [
    {
     "data": {
      "text/plain": [
       "5.439651075719645"
      ]
     },
     "execution_count": 82,
     "metadata": {},
     "output_type": "execute_result"
    }
   ],
   "source": [
    "np.exp(msft.log_ret.sum())  # adding log returns (\"cumulative returns\")"
   ]
  },
  {
   "cell_type": "markdown",
   "id": "6c1767d2",
   "metadata": {},
   "source": [
    "__Normalized Prices with Base 1__"
   ]
  },
  {
   "cell_type": "code",
   "execution_count": 83,
   "id": "76468313",
   "metadata": {},
   "outputs": [
    {
     "data": {
      "text/plain": [
       "Date\n",
       "2014-10-01      NaN\n",
       "2014-10-02   0.9969\n",
       "2014-10-03   1.0041\n",
       "2014-10-06   1.0041\n",
       "2014-10-07   0.9919\n",
       "              ...  \n",
       "2021-05-24   5.4636\n",
       "2021-05-25   5.4841\n",
       "2021-05-26   5.4791\n",
       "2021-05-27   5.4316\n",
       "2021-05-28   5.4397\n",
       "Name: Returns, Length: 1677, dtype: float64"
      ]
     },
     "execution_count": 83,
     "metadata": {},
     "output_type": "execute_result"
    }
   ],
   "source": [
    "msft.Returns.add(1).cumprod() # compounding simple returns (\"compound returns\")"
   ]
  },
  {
   "cell_type": "code",
   "execution_count": 84,
   "id": "32c08e10",
   "metadata": {},
   "outputs": [
    {
     "data": {
      "text/plain": [
       "Date\n",
       "2014-10-01      NaN\n",
       "2014-10-02   0.9969\n",
       "2014-10-03   1.0041\n",
       "2014-10-06   1.0041\n",
       "2014-10-07   0.9919\n",
       "              ...  \n",
       "2021-05-24   5.4636\n",
       "2021-05-25   5.4841\n",
       "2021-05-26   5.4791\n",
       "2021-05-27   5.4316\n",
       "2021-05-28   5.4397\n",
       "Name: log_ret, Length: 1677, dtype: float64"
      ]
     },
     "execution_count": 84,
     "metadata": {},
     "output_type": "execute_result"
    }
   ],
   "source": [
    "np.exp(msft.log_ret.cumsum()) # adding log returns (\"cumulative returns\")"
   ]
  },
  {
   "cell_type": "code",
   "execution_count": 85,
   "id": "559bdc54",
   "metadata": {},
   "outputs": [
    {
     "data": {
      "text/plain": [
       "Date\n",
       "2014-10-01      NaN\n",
       "2014-10-02   0.9969\n",
       "2014-10-03   1.0041\n",
       "2014-10-06   1.0041\n",
       "2014-10-07   0.9919\n",
       "              ...  \n",
       "2021-05-24   5.4636\n",
       "2021-05-25   5.4841\n",
       "2021-05-26   5.4791\n",
       "2021-05-27   5.4316\n",
       "2021-05-28   5.4397\n",
       "Name: log_ret, Length: 1677, dtype: float64"
      ]
     },
     "execution_count": 85,
     "metadata": {},
     "output_type": "execute_result"
    }
   ],
   "source": [
    "msft.log_ret.cumsum().apply(np.exp) # adding log returns (\"cumulative returns\")"
   ]
  },
  {
   "cell_type": "markdown",
   "id": "41e734da",
   "metadata": {},
   "source": [
    "__CAGR__"
   ]
  },
  {
   "cell_type": "code",
   "execution_count": 86,
   "id": "e2b17fb6",
   "metadata": {},
   "outputs": [
    {
     "data": {
      "text/plain": [
       "0.2897846506194157"
      ]
     },
     "execution_count": 86,
     "metadata": {},
     "output_type": "execute_result"
    }
   ],
   "source": [
    "(msft.Price[-1]/msft.Price[0])**(1/((msft.index[-1] - msft.index[0]).days / 365.25)) - 1"
   ]
  },
  {
   "cell_type": "code",
   "execution_count": 87,
   "id": "b5992ae9",
   "metadata": {},
   "outputs": [
    {
     "data": {
      "text/plain": [
       "251.81365693130397"
      ]
     },
     "execution_count": 87,
     "metadata": {},
     "output_type": "execute_result"
    }
   ],
   "source": [
    "trading_days_year = msft.Returns.count() / ((msft.index[-1] - msft.index[0]).days / 365.25)\n",
    "trading_days_year"
   ]
  },
  {
   "cell_type": "code",
   "execution_count": 88,
   "id": "9acda5d7",
   "metadata": {},
   "outputs": [
    {
     "data": {
      "text/plain": [
       "0.28978465061941483"
      ]
     },
     "execution_count": 88,
     "metadata": {},
     "output_type": "execute_result"
    }
   ],
   "source": [
    "np.exp(msft.log_ret.mean() * trading_days_year) - 1 # correct with mean of daily log returns!"
   ]
  },
  {
   "cell_type": "code",
   "execution_count": 89,
   "id": "6b484e17",
   "metadata": {},
   "outputs": [
    {
     "data": {
      "text/plain": [
       "0.292048895848794"
      ]
     },
     "execution_count": 89,
     "metadata": {},
     "output_type": "execute_result"
    }
   ],
   "source": [
    "msft.Returns.mean() * trading_days_year # incorrect with mean of daily simple returns!"
   ]
  },
  {
   "cell_type": "code",
   "execution_count": 90,
   "id": "78da063e",
   "metadata": {},
   "outputs": [
    {
     "data": {
      "text/plain": [
       "0.2900275562814376"
      ]
     },
     "execution_count": 90,
     "metadata": {},
     "output_type": "execute_result"
    }
   ],
   "source": [
    "np.exp(msft.log_ret.mean() * 252) - 1 # good approximation (for us stocks)"
   ]
  },
  {
   "cell_type": "markdown",
   "id": "b31a152d",
   "metadata": {},
   "source": [
    "## Performance Comparison"
   ]
  },
  {
   "cell_type": "markdown",
   "id": "6bad891f",
   "metadata": {},
   "source": [
    "__General Rule in Finance/Investing: Higher Risk must be rewarded with higher Returns__."
   ]
  },
  {
   "cell_type": "markdown",
   "id": "97266cd6",
   "metadata": {},
   "source": [
    "__Which instrument(s) performed best/worst in the past in terms of risk & return?__"
   ]
  },
  {
   "cell_type": "code",
   "execution_count": 91,
   "id": "502adcd4",
   "metadata": {},
   "outputs": [
    {
     "data": {
      "text/html": [
       "<div>\n",
       "<style scoped>\n",
       "    .dataframe tbody tr th:only-of-type {\n",
       "        vertical-align: middle;\n",
       "    }\n",
       "\n",
       "    .dataframe tbody tr th {\n",
       "        vertical-align: top;\n",
       "    }\n",
       "\n",
       "    .dataframe thead th {\n",
       "        text-align: right;\n",
       "    }\n",
       "</style>\n",
       "<table border=\"1\" class=\"dataframe\">\n",
       "  <thead>\n",
       "    <tr style=\"text-align: right;\">\n",
       "      <th></th>\n",
       "      <th>BA</th>\n",
       "      <th>BTC-USD</th>\n",
       "      <th>EURUSD=X</th>\n",
       "      <th>GC=F</th>\n",
       "      <th>MSFT</th>\n",
       "      <th>^DJI</th>\n",
       "    </tr>\n",
       "    <tr>\n",
       "      <th>Date</th>\n",
       "      <th></th>\n",
       "      <th></th>\n",
       "      <th></th>\n",
       "      <th></th>\n",
       "      <th></th>\n",
       "      <th></th>\n",
       "    </tr>\n",
       "  </thead>\n",
       "  <tbody>\n",
       "    <tr>\n",
       "      <th>2014-10-01</th>\n",
       "      <td>124.6700</td>\n",
       "      <td>383.6150</td>\n",
       "      <td>1.2628</td>\n",
       "      <td>1214.6000</td>\n",
       "      <td>45.9000</td>\n",
       "      <td>16804.7109</td>\n",
       "    </tr>\n",
       "    <tr>\n",
       "      <th>2014-10-02</th>\n",
       "      <td>124.1700</td>\n",
       "      <td>375.0720</td>\n",
       "      <td>1.2624</td>\n",
       "      <td>1214.2000</td>\n",
       "      <td>45.7600</td>\n",
       "      <td>16801.0508</td>\n",
       "    </tr>\n",
       "    <tr>\n",
       "      <th>2014-10-03</th>\n",
       "      <td>126.3600</td>\n",
       "      <td>359.5120</td>\n",
       "      <td>1.2671</td>\n",
       "      <td>1192.2000</td>\n",
       "      <td>46.0900</td>\n",
       "      <td>17009.6895</td>\n",
       "    </tr>\n",
       "    <tr>\n",
       "      <th>2014-10-04</th>\n",
       "      <td>NaN</td>\n",
       "      <td>328.8660</td>\n",
       "      <td>NaN</td>\n",
       "      <td>NaN</td>\n",
       "      <td>NaN</td>\n",
       "      <td>NaN</td>\n",
       "    </tr>\n",
       "    <tr>\n",
       "      <th>2014-10-05</th>\n",
       "      <td>NaN</td>\n",
       "      <td>320.5100</td>\n",
       "      <td>NaN</td>\n",
       "      <td>NaN</td>\n",
       "      <td>NaN</td>\n",
       "      <td>NaN</td>\n",
       "    </tr>\n",
       "    <tr>\n",
       "      <th>...</th>\n",
       "      <td>...</td>\n",
       "      <td>...</td>\n",
       "      <td>...</td>\n",
       "      <td>...</td>\n",
       "      <td>...</td>\n",
       "      <td>...</td>\n",
       "    </tr>\n",
       "    <tr>\n",
       "      <th>2021-05-27</th>\n",
       "      <td>250.7000</td>\n",
       "      <td>38436.9688</td>\n",
       "      <td>1.2193</td>\n",
       "      <td>1895.7000</td>\n",
       "      <td>249.3100</td>\n",
       "      <td>34464.6406</td>\n",
       "    </tr>\n",
       "    <tr>\n",
       "      <th>2021-05-28</th>\n",
       "      <td>247.0200</td>\n",
       "      <td>35697.6055</td>\n",
       "      <td>1.2193</td>\n",
       "      <td>1902.5000</td>\n",
       "      <td>249.6800</td>\n",
       "      <td>34529.4492</td>\n",
       "    </tr>\n",
       "    <tr>\n",
       "      <th>2021-05-29</th>\n",
       "      <td>NaN</td>\n",
       "      <td>34616.0664</td>\n",
       "      <td>NaN</td>\n",
       "      <td>NaN</td>\n",
       "      <td>NaN</td>\n",
       "      <td>NaN</td>\n",
       "    </tr>\n",
       "    <tr>\n",
       "      <th>2021-05-30</th>\n",
       "      <td>NaN</td>\n",
       "      <td>35678.1289</td>\n",
       "      <td>NaN</td>\n",
       "      <td>NaN</td>\n",
       "      <td>NaN</td>\n",
       "      <td>NaN</td>\n",
       "    </tr>\n",
       "    <tr>\n",
       "      <th>2021-05-31</th>\n",
       "      <td>NaN</td>\n",
       "      <td>37332.8555</td>\n",
       "      <td>1.2190</td>\n",
       "      <td>NaN</td>\n",
       "      <td>NaN</td>\n",
       "      <td>NaN</td>\n",
       "    </tr>\n",
       "  </tbody>\n",
       "</table>\n",
       "<p>2435 rows × 6 columns</p>\n",
       "</div>"
      ],
      "text/plain": [
       "                 BA    BTC-USD  EURUSD=X      GC=F     MSFT       ^DJI\n",
       "Date                                                                  \n",
       "2014-10-01 124.6700   383.6150    1.2628 1214.6000  45.9000 16804.7109\n",
       "2014-10-02 124.1700   375.0720    1.2624 1214.2000  45.7600 16801.0508\n",
       "2014-10-03 126.3600   359.5120    1.2671 1192.2000  46.0900 17009.6895\n",
       "2014-10-04      NaN   328.8660       NaN       NaN      NaN        NaN\n",
       "2014-10-05      NaN   320.5100       NaN       NaN      NaN        NaN\n",
       "...             ...        ...       ...       ...      ...        ...\n",
       "2021-05-27 250.7000 38436.9688    1.2193 1895.7000 249.3100 34464.6406\n",
       "2021-05-28 247.0200 35697.6055    1.2193 1902.5000 249.6800 34529.4492\n",
       "2021-05-29      NaN 34616.0664       NaN       NaN      NaN        NaN\n",
       "2021-05-30      NaN 35678.1289       NaN       NaN      NaN        NaN\n",
       "2021-05-31      NaN 37332.8555    1.2190       NaN      NaN        NaN\n",
       "\n",
       "[2435 rows x 6 columns]"
      ]
     },
     "execution_count": 91,
     "metadata": {},
     "output_type": "execute_result"
    }
   ],
   "source": [
    "close = pd.read_csv(\"close.csv\", index_col = \"Date\", parse_dates = [\"Date\"])\n",
    "close"
   ]
  },
  {
   "cell_type": "code",
   "execution_count": 92,
   "id": "84d364bd",
   "metadata": {},
   "outputs": [
    {
     "name": "stdout",
     "output_type": "stream",
     "text": [
      "<class 'pandas.core.frame.DataFrame'>\n",
      "DatetimeIndex: 2435 entries, 2014-10-01 to 2021-05-31\n",
      "Data columns (total 6 columns):\n",
      " #   Column    Non-Null Count  Dtype  \n",
      "---  ------    --------------  -----  \n",
      " 0   BA        1677 non-null   float64\n",
      " 1   BTC-USD   2431 non-null   float64\n",
      " 2   EURUSD=X  1716 non-null   float64\n",
      " 3   GC=F      1662 non-null   float64\n",
      " 4   MSFT      1677 non-null   float64\n",
      " 5   ^DJI      1677 non-null   float64\n",
      "dtypes: float64(6)\n",
      "memory usage: 133.2 KB\n"
     ]
    }
   ],
   "source": [
    "close.info()"
   ]
  },
  {
   "cell_type": "code",
   "execution_count": 93,
   "id": "b2efa2b1",
   "metadata": {},
   "outputs": [
    {
     "data": {
      "image/png": "[encoded data removed]",
      "text/plain": [
       "<Figure size 1080x576 with 1 Axes>"
      ]
     },
     "metadata": {},
     "output_type": "display_data"
    }
   ],
   "source": [
    "close.dropna().plot(figsize = (15, 8), fontsize = 13)\n",
    "plt.legend(fontsize = 13)\n",
    "plt.show()"
   ]
  },
  {
   "cell_type": "code",
   "execution_count": 94,
   "id": "d4a4a889",
   "metadata": {},
   "outputs": [
    {
     "name": "stdout",
     "output_type": "stream",
     "text": [
      "<class 'pandas.core.frame.DataFrame'>\n",
      "DatetimeIndex: 2435 entries, 2014-10-01 to 2021-05-31\n",
      "Data columns (total 6 columns):\n",
      " #   Column    Non-Null Count  Dtype  \n",
      "---  ------    --------------  -----  \n",
      " 0   BA        1312 non-null   float64\n",
      " 1   BTC-USD   2427 non-null   float64\n",
      " 2   EURUSD=X  1366 non-null   float64\n",
      " 3   GC=F      1304 non-null   float64\n",
      " 4   MSFT      1312 non-null   float64\n",
      " 5   ^DJI      1312 non-null   float64\n",
      "dtypes: float64(6)\n",
      "memory usage: 133.2 KB\n"
     ]
    }
   ],
   "source": [
    "np.log(close / close.shift()).info() # keep NaN"
   ]
  },
  {
   "cell_type": "code",
   "execution_count": 95,
   "id": "a99b01f6",
   "metadata": {},
   "outputs": [
    {
     "name": "stdout",
     "output_type": "stream",
     "text": [
      "<class 'pandas.core.frame.DataFrame'>\n",
      "DatetimeIndex: 2435 entries, 2014-10-01 to 2021-05-31\n",
      "Freq: D\n",
      "Data columns (total 6 columns):\n",
      " #   Column    Non-Null Count  Dtype  \n",
      "---  ------    --------------  -----  \n",
      " 0   BA        1676 non-null   float64\n",
      " 1   BTC-USD   2430 non-null   float64\n",
      " 2   EURUSD=X  1715 non-null   float64\n",
      " 3   GC=F      1661 non-null   float64\n",
      " 4   MSFT      1676 non-null   float64\n",
      " 5   ^DJI      1676 non-null   float64\n",
      "dtypes: float64(6)\n",
      "memory usage: 133.2 KB\n"
     ]
    }
   ],
   "source": [
    "close.apply(lambda x: np.log(x.dropna() / x.dropna().shift())).info() # remove NaN"
   ]
  },
  {
   "cell_type": "code",
   "execution_count": 96,
   "id": "dd4c2b38",
   "metadata": {},
   "outputs": [
    {
     "data": {
      "text/html": [
       "<div>\n",
       "<style scoped>\n",
       "    .dataframe tbody tr th:only-of-type {\n",
       "        vertical-align: middle;\n",
       "    }\n",
       "\n",
       "    .dataframe tbody tr th {\n",
       "        vertical-align: top;\n",
       "    }\n",
       "\n",
       "    .dataframe thead th {\n",
       "        text-align: right;\n",
       "    }\n",
       "</style>\n",
       "<table border=\"1\" class=\"dataframe\">\n",
       "  <thead>\n",
       "    <tr style=\"text-align: right;\">\n",
       "      <th></th>\n",
       "      <th>BA</th>\n",
       "      <th>BTC-USD</th>\n",
       "      <th>EURUSD=X</th>\n",
       "      <th>GC=F</th>\n",
       "      <th>MSFT</th>\n",
       "      <th>^DJI</th>\n",
       "    </tr>\n",
       "    <tr>\n",
       "      <th>Date</th>\n",
       "      <th></th>\n",
       "      <th></th>\n",
       "      <th></th>\n",
       "      <th></th>\n",
       "      <th></th>\n",
       "      <th></th>\n",
       "    </tr>\n",
       "  </thead>\n",
       "  <tbody>\n",
       "    <tr>\n",
       "      <th>2014-10-01</th>\n",
       "      <td>NaN</td>\n",
       "      <td>NaN</td>\n",
       "      <td>NaN</td>\n",
       "      <td>NaN</td>\n",
       "      <td>NaN</td>\n",
       "      <td>NaN</td>\n",
       "    </tr>\n",
       "    <tr>\n",
       "      <th>2014-10-02</th>\n",
       "      <td>-0.0040</td>\n",
       "      <td>-0.0225</td>\n",
       "      <td>-0.0003</td>\n",
       "      <td>-0.0003</td>\n",
       "      <td>-0.0031</td>\n",
       "      <td>-0.0002</td>\n",
       "    </tr>\n",
       "    <tr>\n",
       "      <th>2014-10-03</th>\n",
       "      <td>0.0175</td>\n",
       "      <td>-0.0424</td>\n",
       "      <td>0.0037</td>\n",
       "      <td>-0.0183</td>\n",
       "      <td>0.0072</td>\n",
       "      <td>0.0123</td>\n",
       "    </tr>\n",
       "    <tr>\n",
       "      <th>2014-10-04</th>\n",
       "      <td>NaN</td>\n",
       "      <td>-0.0891</td>\n",
       "      <td>NaN</td>\n",
       "      <td>NaN</td>\n",
       "      <td>NaN</td>\n",
       "      <td>NaN</td>\n",
       "    </tr>\n",
       "    <tr>\n",
       "      <th>2014-10-05</th>\n",
       "      <td>NaN</td>\n",
       "      <td>-0.0257</td>\n",
       "      <td>NaN</td>\n",
       "      <td>NaN</td>\n",
       "      <td>NaN</td>\n",
       "      <td>NaN</td>\n",
       "    </tr>\n",
       "    <tr>\n",
       "      <th>...</th>\n",
       "      <td>...</td>\n",
       "      <td>...</td>\n",
       "      <td>...</td>\n",
       "      <td>...</td>\n",
       "      <td>...</td>\n",
       "      <td>...</td>\n",
       "    </tr>\n",
       "    <tr>\n",
       "      <th>2021-05-27</th>\n",
       "      <td>0.0379</td>\n",
       "      <td>-0.0221</td>\n",
       "      <td>-0.0046</td>\n",
       "      <td>-0.0029</td>\n",
       "      <td>-0.0087</td>\n",
       "      <td>0.0041</td>\n",
       "    </tr>\n",
       "    <tr>\n",
       "      <th>2021-05-28</th>\n",
       "      <td>-0.0148</td>\n",
       "      <td>-0.0739</td>\n",
       "      <td>0.0000</td>\n",
       "      <td>0.0036</td>\n",
       "      <td>0.0015</td>\n",
       "      <td>0.0019</td>\n",
       "    </tr>\n",
       "    <tr>\n",
       "      <th>2021-05-29</th>\n",
       "      <td>NaN</td>\n",
       "      <td>-0.0308</td>\n",
       "      <td>NaN</td>\n",
       "      <td>NaN</td>\n",
       "      <td>NaN</td>\n",
       "      <td>NaN</td>\n",
       "    </tr>\n",
       "    <tr>\n",
       "      <th>2021-05-30</th>\n",
       "      <td>NaN</td>\n",
       "      <td>0.0302</td>\n",
       "      <td>NaN</td>\n",
       "      <td>NaN</td>\n",
       "      <td>NaN</td>\n",
       "      <td>NaN</td>\n",
       "    </tr>\n",
       "    <tr>\n",
       "      <th>2021-05-31</th>\n",
       "      <td>NaN</td>\n",
       "      <td>0.0453</td>\n",
       "      <td>-0.0003</td>\n",
       "      <td>NaN</td>\n",
       "      <td>NaN</td>\n",
       "      <td>NaN</td>\n",
       "    </tr>\n",
       "  </tbody>\n",
       "</table>\n",
       "<p>2435 rows × 6 columns</p>\n",
       "</div>"
      ],
      "text/plain": [
       "                BA  BTC-USD  EURUSD=X    GC=F    MSFT    ^DJI\n",
       "Date                                                         \n",
       "2014-10-01     NaN      NaN       NaN     NaN     NaN     NaN\n",
       "2014-10-02 -0.0040  -0.0225   -0.0003 -0.0003 -0.0031 -0.0002\n",
       "2014-10-03  0.0175  -0.0424    0.0037 -0.0183  0.0072  0.0123\n",
       "2014-10-04     NaN  -0.0891       NaN     NaN     NaN     NaN\n",
       "2014-10-05     NaN  -0.0257       NaN     NaN     NaN     NaN\n",
       "...            ...      ...       ...     ...     ...     ...\n",
       "2021-05-27  0.0379  -0.0221   -0.0046 -0.0029 -0.0087  0.0041\n",
       "2021-05-28 -0.0148  -0.0739    0.0000  0.0036  0.0015  0.0019\n",
       "2021-05-29     NaN  -0.0308       NaN     NaN     NaN     NaN\n",
       "2021-05-30     NaN   0.0302       NaN     NaN     NaN     NaN\n",
       "2021-05-31     NaN   0.0453   -0.0003     NaN     NaN     NaN\n",
       "\n",
       "[2435 rows x 6 columns]"
      ]
     },
     "execution_count": 96,
     "metadata": {},
     "output_type": "execute_result"
    }
   ],
   "source": [
    "returns = close.apply(lambda x: np.log(x.dropna() / x.dropna().shift()))\n",
    "returns"
   ]
  },
  {
   "cell_type": "code",
   "execution_count": 97,
   "id": "21015808",
   "metadata": {},
   "outputs": [
    {
     "name": "stdout",
     "output_type": "stream",
     "text": [
      "<class 'pandas.core.frame.DataFrame'>\n",
      "DatetimeIndex: 2435 entries, 2014-10-01 to 2021-05-31\n",
      "Freq: D\n",
      "Data columns (total 6 columns):\n",
      " #   Column    Non-Null Count  Dtype  \n",
      "---  ------    --------------  -----  \n",
      " 0   BA        1676 non-null   float64\n",
      " 1   BTC-USD   2430 non-null   float64\n",
      " 2   EURUSD=X  1715 non-null   float64\n",
      " 3   GC=F      1661 non-null   float64\n",
      " 4   MSFT      1676 non-null   float64\n",
      " 5   ^DJI      1676 non-null   float64\n",
      "dtypes: float64(6)\n",
      "memory usage: 133.2 KB\n"
     ]
    }
   ],
   "source": [
    "returns.info()"
   ]
  },
  {
   "cell_type": "code",
   "execution_count": 98,
   "id": "6f6ecab0",
   "metadata": {},
   "outputs": [
    {
     "data": {
      "text/html": [
       "<div>\n",
       "<style scoped>\n",
       "    .dataframe tbody tr th:only-of-type {\n",
       "        vertical-align: middle;\n",
       "    }\n",
       "\n",
       "    .dataframe tbody tr th {\n",
       "        vertical-align: top;\n",
       "    }\n",
       "\n",
       "    .dataframe thead th {\n",
       "        text-align: right;\n",
       "    }\n",
       "</style>\n",
       "<table border=\"1\" class=\"dataframe\">\n",
       "  <thead>\n",
       "    <tr style=\"text-align: right;\">\n",
       "      <th></th>\n",
       "      <th>BA</th>\n",
       "      <th>BTC-USD</th>\n",
       "      <th>EURUSD=X</th>\n",
       "      <th>GC=F</th>\n",
       "      <th>MSFT</th>\n",
       "      <th>^DJI</th>\n",
       "    </tr>\n",
       "  </thead>\n",
       "  <tbody>\n",
       "    <tr>\n",
       "      <th>count</th>\n",
       "      <td>1676.0000</td>\n",
       "      <td>2430.0000</td>\n",
       "      <td>1715.0000</td>\n",
       "      <td>1661.0000</td>\n",
       "      <td>1676.0000</td>\n",
       "      <td>1676.0000</td>\n",
       "    </tr>\n",
       "    <tr>\n",
       "      <th>mean</th>\n",
       "      <td>0.0004</td>\n",
       "      <td>0.0019</td>\n",
       "      <td>-0.0000</td>\n",
       "      <td>0.0003</td>\n",
       "      <td>0.0010</td>\n",
       "      <td>0.0004</td>\n",
       "    </tr>\n",
       "    <tr>\n",
       "      <th>std</th>\n",
       "      <td>0.0263</td>\n",
       "      <td>0.0395</td>\n",
       "      <td>0.0051</td>\n",
       "      <td>0.0094</td>\n",
       "      <td>0.0172</td>\n",
       "      <td>0.0120</td>\n",
       "    </tr>\n",
       "    <tr>\n",
       "      <th>min</th>\n",
       "      <td>-0.2724</td>\n",
       "      <td>-0.4647</td>\n",
       "      <td>-0.0281</td>\n",
       "      <td>-0.0511</td>\n",
       "      <td>-0.1595</td>\n",
       "      <td>-0.1384</td>\n",
       "    </tr>\n",
       "    <tr>\n",
       "      <th>25%</th>\n",
       "      <td>-0.0092</td>\n",
       "      <td>-0.0124</td>\n",
       "      <td>-0.0031</td>\n",
       "      <td>-0.0042</td>\n",
       "      <td>-0.0062</td>\n",
       "      <td>-0.0034</td>\n",
       "    </tr>\n",
       "    <tr>\n",
       "      <th>50%</th>\n",
       "      <td>0.0007</td>\n",
       "      <td>0.0020</td>\n",
       "      <td>-0.0000</td>\n",
       "      <td>0.0003</td>\n",
       "      <td>0.0009</td>\n",
       "      <td>0.0007</td>\n",
       "    </tr>\n",
       "    <tr>\n",
       "      <th>75%</th>\n",
       "      <td>0.0105</td>\n",
       "      <td>0.0179</td>\n",
       "      <td>0.0029</td>\n",
       "      <td>0.0051</td>\n",
       "      <td>0.0091</td>\n",
       "      <td>0.0054</td>\n",
       "    </tr>\n",
       "    <tr>\n",
       "      <th>max</th>\n",
       "      <td>0.2177</td>\n",
       "      <td>0.2251</td>\n",
       "      <td>0.0281</td>\n",
       "      <td>0.0578</td>\n",
       "      <td>0.1329</td>\n",
       "      <td>0.1076</td>\n",
       "    </tr>\n",
       "  </tbody>\n",
       "</table>\n",
       "</div>"
      ],
      "text/plain": [
       "             BA   BTC-USD  EURUSD=X      GC=F      MSFT      ^DJI\n",
       "count 1676.0000 2430.0000 1715.0000 1661.0000 1676.0000 1676.0000\n",
       "mean     0.0004    0.0019   -0.0000    0.0003    0.0010    0.0004\n",
       "std      0.0263    0.0395    0.0051    0.0094    0.0172    0.0120\n",
       "min     -0.2724   -0.4647   -0.0281   -0.0511   -0.1595   -0.1384\n",
       "25%     -0.0092   -0.0124   -0.0031   -0.0042   -0.0062   -0.0034\n",
       "50%      0.0007    0.0020   -0.0000    0.0003    0.0009    0.0007\n",
       "75%      0.0105    0.0179    0.0029    0.0051    0.0091    0.0054\n",
       "max      0.2177    0.2251    0.0281    0.0578    0.1329    0.1076"
      ]
     },
     "execution_count": 98,
     "metadata": {},
     "output_type": "execute_result"
    }
   ],
   "source": [
    "returns.describe()"
   ]
  },
  {
   "cell_type": "code",
   "execution_count": 99,
   "id": "bd8c3895",
   "metadata": {},
   "outputs": [
    {
     "data": {
      "text/html": [
       "<div>\n",
       "<style scoped>\n",
       "    .dataframe tbody tr th:only-of-type {\n",
       "        vertical-align: middle;\n",
       "    }\n",
       "\n",
       "    .dataframe tbody tr th {\n",
       "        vertical-align: top;\n",
       "    }\n",
       "\n",
       "    .dataframe thead th {\n",
       "        text-align: right;\n",
       "    }\n",
       "</style>\n",
       "<table border=\"1\" class=\"dataframe\">\n",
       "  <thead>\n",
       "    <tr style=\"text-align: right;\">\n",
       "      <th></th>\n",
       "      <th>mean</th>\n",
       "      <th>std</th>\n",
       "    </tr>\n",
       "  </thead>\n",
       "  <tbody>\n",
       "    <tr>\n",
       "      <th>BA</th>\n",
       "      <td>0.0004</td>\n",
       "      <td>0.0263</td>\n",
       "    </tr>\n",
       "    <tr>\n",
       "      <th>BTC-USD</th>\n",
       "      <td>0.0019</td>\n",
       "      <td>0.0395</td>\n",
       "    </tr>\n",
       "    <tr>\n",
       "      <th>EURUSD=X</th>\n",
       "      <td>-0.0000</td>\n",
       "      <td>0.0051</td>\n",
       "    </tr>\n",
       "    <tr>\n",
       "      <th>GC=F</th>\n",
       "      <td>0.0003</td>\n",
       "      <td>0.0094</td>\n",
       "    </tr>\n",
       "    <tr>\n",
       "      <th>MSFT</th>\n",
       "      <td>0.0010</td>\n",
       "      <td>0.0172</td>\n",
       "    </tr>\n",
       "    <tr>\n",
       "      <th>^DJI</th>\n",
       "      <td>0.0004</td>\n",
       "      <td>0.0120</td>\n",
       "    </tr>\n",
       "  </tbody>\n",
       "</table>\n",
       "</div>"
      ],
      "text/plain": [
       "            mean    std\n",
       "BA        0.0004 0.0263\n",
       "BTC-USD   0.0019 0.0395\n",
       "EURUSD=X -0.0000 0.0051\n",
       "GC=F      0.0003 0.0094\n",
       "MSFT      0.0010 0.0172\n",
       "^DJI      0.0004 0.0120"
      ]
     },
     "execution_count": 99,
     "metadata": {},
     "output_type": "execute_result"
    }
   ],
   "source": [
    "summary = returns.agg([\"mean\", \"std\"]).T\n",
    "summary"
   ]
  },
  {
   "cell_type": "code",
   "execution_count": 100,
   "id": "5242b620",
   "metadata": {},
   "outputs": [
    {
     "data": {
      "text/html": [
       "<div>\n",
       "<style scoped>\n",
       "    .dataframe tbody tr th:only-of-type {\n",
       "        vertical-align: middle;\n",
       "    }\n",
       "\n",
       "    .dataframe tbody tr th {\n",
       "        vertical-align: top;\n",
       "    }\n",
       "\n",
       "    .dataframe thead th {\n",
       "        text-align: right;\n",
       "    }\n",
       "</style>\n",
       "<table border=\"1\" class=\"dataframe\">\n",
       "  <thead>\n",
       "    <tr style=\"text-align: right;\">\n",
       "      <th></th>\n",
       "      <th>Mean</th>\n",
       "      <th>Std</th>\n",
       "    </tr>\n",
       "  </thead>\n",
       "  <tbody>\n",
       "    <tr>\n",
       "      <th>BA</th>\n",
       "      <td>0.0004</td>\n",
       "      <td>0.0263</td>\n",
       "    </tr>\n",
       "    <tr>\n",
       "      <th>BTC-USD</th>\n",
       "      <td>0.0019</td>\n",
       "      <td>0.0395</td>\n",
       "    </tr>\n",
       "    <tr>\n",
       "      <th>EURUSD=X</th>\n",
       "      <td>-0.0000</td>\n",
       "      <td>0.0051</td>\n",
       "    </tr>\n",
       "    <tr>\n",
       "      <th>GC=F</th>\n",
       "      <td>0.0003</td>\n",
       "      <td>0.0094</td>\n",
       "    </tr>\n",
       "    <tr>\n",
       "      <th>MSFT</th>\n",
       "      <td>0.0010</td>\n",
       "      <td>0.0172</td>\n",
       "    </tr>\n",
       "    <tr>\n",
       "      <th>^DJI</th>\n",
       "      <td>0.0004</td>\n",
       "      <td>0.0120</td>\n",
       "    </tr>\n",
       "  </tbody>\n",
       "</table>\n",
       "</div>"
      ],
      "text/plain": [
       "            Mean    Std\n",
       "BA        0.0004 0.0263\n",
       "BTC-USD   0.0019 0.0395\n",
       "EURUSD=X -0.0000 0.0051\n",
       "GC=F      0.0003 0.0094\n",
       "MSFT      0.0010 0.0172\n",
       "^DJI      0.0004 0.0120"
      ]
     },
     "execution_count": 100,
     "metadata": {},
     "output_type": "execute_result"
    }
   ],
   "source": [
    "summary.columns = [\"Mean\", \"Std\"]\n",
    "summary"
   ]
  },
  {
   "cell_type": "code",
   "execution_count": 101,
   "id": "6dc0b4a7",
   "metadata": {},
   "outputs": [
    {
     "data": {
      "image/png": "[encoded data removed]",
      "text/plain": [
       "<Figure size 1080x864 with 1 Axes>"
      ]
     },
     "metadata": {},
     "output_type": "display_data"
    }
   ],
   "source": [
    "summary.plot(kind = \"scatter\", x = \"Std\", y = \"Mean\", figsize = (15,12), s = 50, fontsize = 15)\n",
    "for i in summary.index:\n",
    "    plt.annotate(i, xy=(summary.loc[i, \"Std\"]+0.00005, summary.loc[i, \"Mean\"]+0.00005), size = 15)\n",
    "plt.xlabel(\"Risk (std)\", fontsize = 15)\n",
    "plt.ylabel(\"Mean Return\", fontsize = 15)\n",
    "plt.title(\"Mean-Variance Analysis\", fontsize = 20)\n",
    "plt.show()"
   ]
  },
  {
   "cell_type": "markdown",
   "id": "478a900b",
   "metadata": {},
   "source": [
    "-> There is __no clear \"best-performer\"__ among [\"EURUSD=X\", \"GC=F\", \"^DJI\", \"MSFT\", \"BTC-USD\"] (without further analysis). __Higher risk__ is getting rewarded with __higher returns__. __BA underperformed__."
   ]
  },
  {
   "cell_type": "markdown",
   "id": "a4ac92fe",
   "metadata": {},
   "source": [
    "__Take Home: Mean-Variance Analysis has one major shortcoming: It assumes that financial returns follow a Normal Distribution. That´s (typically) not True.<br> -> Standard Deviation of Returns underestimates the true/full risk of an Investment as it fails to measure \"Tail Risks\".__ "
   ]
  },
  {
   "cell_type": "markdown",
   "id": "536ab4f2",
   "metadata": {},
   "source": [
    "## Normality of Financial Returns "
   ]
  },
  {
   "cell_type": "code",
   "execution_count": 102,
   "id": "c26d4842",
   "metadata": {},
   "outputs": [],
   "source": [
    "import pandas as pd\n",
    "import numpy as np\n",
    "pd.options.display.float_format = '{:.4f}'.format\n",
    "import matplotlib.pyplot as plt\n",
    "plt.style.use(\"seaborn\")"
   ]
  },
  {
   "cell_type": "code",
   "execution_count": 103,
   "id": "7264ef5b",
   "metadata": {},
   "outputs": [
    {
     "data": {
      "text/html": [
       "<div>\n",
       "<style scoped>\n",
       "    .dataframe tbody tr th:only-of-type {\n",
       "        vertical-align: middle;\n",
       "    }\n",
       "\n",
       "    .dataframe tbody tr th {\n",
       "        vertical-align: top;\n",
       "    }\n",
       "\n",
       "    .dataframe thead th {\n",
       "        text-align: right;\n",
       "    }\n",
       "</style>\n",
       "<table border=\"1\" class=\"dataframe\">\n",
       "  <thead>\n",
       "    <tr style=\"text-align: right;\">\n",
       "      <th></th>\n",
       "      <th>Price</th>\n",
       "      <th>Returns</th>\n",
       "    </tr>\n",
       "    <tr>\n",
       "      <th>Date</th>\n",
       "      <th></th>\n",
       "      <th></th>\n",
       "    </tr>\n",
       "  </thead>\n",
       "  <tbody>\n",
       "    <tr>\n",
       "      <th>2014-10-01</th>\n",
       "      <td>45.9000</td>\n",
       "      <td>NaN</td>\n",
       "    </tr>\n",
       "    <tr>\n",
       "      <th>2014-10-02</th>\n",
       "      <td>45.7600</td>\n",
       "      <td>-0.0031</td>\n",
       "    </tr>\n",
       "    <tr>\n",
       "      <th>2014-10-03</th>\n",
       "      <td>46.0900</td>\n",
       "      <td>0.0072</td>\n",
       "    </tr>\n",
       "    <tr>\n",
       "      <th>2014-10-06</th>\n",
       "      <td>46.0900</td>\n",
       "      <td>0.0000</td>\n",
       "    </tr>\n",
       "    <tr>\n",
       "      <th>2014-10-07</th>\n",
       "      <td>45.5300</td>\n",
       "      <td>-0.0122</td>\n",
       "    </tr>\n",
       "    <tr>\n",
       "      <th>...</th>\n",
       "      <td>...</td>\n",
       "      <td>...</td>\n",
       "    </tr>\n",
       "    <tr>\n",
       "      <th>2021-05-24</th>\n",
       "      <td>250.7800</td>\n",
       "      <td>0.0229</td>\n",
       "    </tr>\n",
       "    <tr>\n",
       "      <th>2021-05-25</th>\n",
       "      <td>251.7200</td>\n",
       "      <td>0.0037</td>\n",
       "    </tr>\n",
       "    <tr>\n",
       "      <th>2021-05-26</th>\n",
       "      <td>251.4900</td>\n",
       "      <td>-0.0009</td>\n",
       "    </tr>\n",
       "    <tr>\n",
       "      <th>2021-05-27</th>\n",
       "      <td>249.3100</td>\n",
       "      <td>-0.0087</td>\n",
       "    </tr>\n",
       "    <tr>\n",
       "      <th>2021-05-28</th>\n",
       "      <td>249.6800</td>\n",
       "      <td>0.0015</td>\n",
       "    </tr>\n",
       "  </tbody>\n",
       "</table>\n",
       "<p>1677 rows × 2 columns</p>\n",
       "</div>"
      ],
      "text/plain": [
       "              Price  Returns\n",
       "Date                        \n",
       "2014-10-01  45.9000      NaN\n",
       "2014-10-02  45.7600  -0.0031\n",
       "2014-10-03  46.0900   0.0072\n",
       "2014-10-06  46.0900   0.0000\n",
       "2014-10-07  45.5300  -0.0122\n",
       "...             ...      ...\n",
       "2021-05-24 250.7800   0.0229\n",
       "2021-05-25 251.7200   0.0037\n",
       "2021-05-26 251.4900  -0.0009\n",
       "2021-05-27 249.3100  -0.0087\n",
       "2021-05-28 249.6800   0.0015\n",
       "\n",
       "[1677 rows x 2 columns]"
      ]
     },
     "execution_count": 103,
     "metadata": {},
     "output_type": "execute_result"
    }
   ],
   "source": [
    "msft = pd.read_csv(\"msft.csv\", index_col = \"Date\", parse_dates = [\"Date\"])\n",
    "msft"
   ]
  },
  {
   "cell_type": "code",
   "execution_count": 104,
   "id": "03ded835",
   "metadata": {},
   "outputs": [
    {
     "data": {
      "text/html": [
       "<div>\n",
       "<style scoped>\n",
       "    .dataframe tbody tr th:only-of-type {\n",
       "        vertical-align: middle;\n",
       "    }\n",
       "\n",
       "    .dataframe tbody tr th {\n",
       "        vertical-align: top;\n",
       "    }\n",
       "\n",
       "    .dataframe thead th {\n",
       "        text-align: right;\n",
       "    }\n",
       "</style>\n",
       "<table border=\"1\" class=\"dataframe\">\n",
       "  <thead>\n",
       "    <tr style=\"text-align: right;\">\n",
       "      <th></th>\n",
       "      <th>Price</th>\n",
       "      <th>Returns</th>\n",
       "      <th>log_ret</th>\n",
       "    </tr>\n",
       "    <tr>\n",
       "      <th>Date</th>\n",
       "      <th></th>\n",
       "      <th></th>\n",
       "      <th></th>\n",
       "    </tr>\n",
       "  </thead>\n",
       "  <tbody>\n",
       "    <tr>\n",
       "      <th>2014-10-01</th>\n",
       "      <td>45.9000</td>\n",
       "      <td>NaN</td>\n",
       "      <td>NaN</td>\n",
       "    </tr>\n",
       "    <tr>\n",
       "      <th>2014-10-02</th>\n",
       "      <td>45.7600</td>\n",
       "      <td>-0.0031</td>\n",
       "      <td>-0.0031</td>\n",
       "    </tr>\n",
       "    <tr>\n",
       "      <th>2014-10-03</th>\n",
       "      <td>46.0900</td>\n",
       "      <td>0.0072</td>\n",
       "      <td>0.0072</td>\n",
       "    </tr>\n",
       "    <tr>\n",
       "      <th>2014-10-06</th>\n",
       "      <td>46.0900</td>\n",
       "      <td>0.0000</td>\n",
       "      <td>0.0000</td>\n",
       "    </tr>\n",
       "    <tr>\n",
       "      <th>2014-10-07</th>\n",
       "      <td>45.5300</td>\n",
       "      <td>-0.0122</td>\n",
       "      <td>-0.0122</td>\n",
       "    </tr>\n",
       "    <tr>\n",
       "      <th>...</th>\n",
       "      <td>...</td>\n",
       "      <td>...</td>\n",
       "      <td>...</td>\n",
       "    </tr>\n",
       "    <tr>\n",
       "      <th>2021-05-24</th>\n",
       "      <td>250.7800</td>\n",
       "      <td>0.0229</td>\n",
       "      <td>0.0226</td>\n",
       "    </tr>\n",
       "    <tr>\n",
       "      <th>2021-05-25</th>\n",
       "      <td>251.7200</td>\n",
       "      <td>0.0037</td>\n",
       "      <td>0.0037</td>\n",
       "    </tr>\n",
       "    <tr>\n",
       "      <th>2021-05-26</th>\n",
       "      <td>251.4900</td>\n",
       "      <td>-0.0009</td>\n",
       "      <td>-0.0009</td>\n",
       "    </tr>\n",
       "    <tr>\n",
       "      <th>2021-05-27</th>\n",
       "      <td>249.3100</td>\n",
       "      <td>-0.0087</td>\n",
       "      <td>-0.0087</td>\n",
       "    </tr>\n",
       "    <tr>\n",
       "      <th>2021-05-28</th>\n",
       "      <td>249.6800</td>\n",
       "      <td>0.0015</td>\n",
       "      <td>0.0015</td>\n",
       "    </tr>\n",
       "  </tbody>\n",
       "</table>\n",
       "<p>1677 rows × 3 columns</p>\n",
       "</div>"
      ],
      "text/plain": [
       "              Price  Returns  log_ret\n",
       "Date                                 \n",
       "2014-10-01  45.9000      NaN      NaN\n",
       "2014-10-02  45.7600  -0.0031  -0.0031\n",
       "2014-10-03  46.0900   0.0072   0.0072\n",
       "2014-10-06  46.0900   0.0000   0.0000\n",
       "2014-10-07  45.5300  -0.0122  -0.0122\n",
       "...             ...      ...      ...\n",
       "2021-05-24 250.7800   0.0229   0.0226\n",
       "2021-05-25 251.7200   0.0037   0.0037\n",
       "2021-05-26 251.4900  -0.0009  -0.0009\n",
       "2021-05-27 249.3100  -0.0087  -0.0087\n",
       "2021-05-28 249.6800   0.0015   0.0015\n",
       "\n",
       "[1677 rows x 3 columns]"
      ]
     },
     "execution_count": 104,
     "metadata": {},
     "output_type": "execute_result"
    }
   ],
   "source": [
    "msft[\"log_ret\"] = np.log(msft.Price / msft.Price.shift()) \n",
    "msft"
   ]
  },
  {
   "cell_type": "code",
   "execution_count": 105,
   "id": "b0856b5a",
   "metadata": {
    "scrolled": true
   },
   "outputs": [
    {
     "data": {
      "text/html": [
       "<div>\n",
       "<style scoped>\n",
       "    .dataframe tbody tr th:only-of-type {\n",
       "        vertical-align: middle;\n",
       "    }\n",
       "\n",
       "    .dataframe tbody tr th {\n",
       "        vertical-align: top;\n",
       "    }\n",
       "\n",
       "    .dataframe thead th {\n",
       "        text-align: right;\n",
       "    }\n",
       "</style>\n",
       "<table border=\"1\" class=\"dataframe\">\n",
       "  <thead>\n",
       "    <tr style=\"text-align: right;\">\n",
       "      <th></th>\n",
       "      <th>Price</th>\n",
       "      <th>Returns</th>\n",
       "      <th>log_ret</th>\n",
       "    </tr>\n",
       "  </thead>\n",
       "  <tbody>\n",
       "    <tr>\n",
       "      <th>count</th>\n",
       "      <td>1677.0000</td>\n",
       "      <td>1676.0000</td>\n",
       "      <td>1676.0000</td>\n",
       "    </tr>\n",
       "    <tr>\n",
       "      <th>mean</th>\n",
       "      <td>106.3144</td>\n",
       "      <td>0.0012</td>\n",
       "      <td>0.0010</td>\n",
       "    </tr>\n",
       "    <tr>\n",
       "      <th>std</th>\n",
       "      <td>60.7722</td>\n",
       "      <td>0.0173</td>\n",
       "      <td>0.0172</td>\n",
       "    </tr>\n",
       "    <tr>\n",
       "      <th>min</th>\n",
       "      <td>40.2900</td>\n",
       "      <td>-0.1474</td>\n",
       "      <td>-0.1595</td>\n",
       "    </tr>\n",
       "    <tr>\n",
       "      <th>25%</th>\n",
       "      <td>54.8300</td>\n",
       "      <td>-0.0062</td>\n",
       "      <td>-0.0062</td>\n",
       "    </tr>\n",
       "    <tr>\n",
       "      <th>50%</th>\n",
       "      <td>89.7100</td>\n",
       "      <td>0.0009</td>\n",
       "      <td>0.0009</td>\n",
       "    </tr>\n",
       "    <tr>\n",
       "      <th>75%</th>\n",
       "      <td>138.9000</td>\n",
       "      <td>0.0091</td>\n",
       "      <td>0.0091</td>\n",
       "    </tr>\n",
       "    <tr>\n",
       "      <th>max</th>\n",
       "      <td>261.9700</td>\n",
       "      <td>0.1422</td>\n",
       "      <td>0.1329</td>\n",
       "    </tr>\n",
       "  </tbody>\n",
       "</table>\n",
       "</div>"
      ],
      "text/plain": [
       "          Price   Returns   log_ret\n",
       "count 1677.0000 1676.0000 1676.0000\n",
       "mean   106.3144    0.0012    0.0010\n",
       "std     60.7722    0.0173    0.0172\n",
       "min     40.2900   -0.1474   -0.1595\n",
       "25%     54.8300   -0.0062   -0.0062\n",
       "50%     89.7100    0.0009    0.0009\n",
       "75%    138.9000    0.0091    0.0091\n",
       "max    261.9700    0.1422    0.1329"
      ]
     },
     "execution_count": 105,
     "metadata": {},
     "output_type": "execute_result"
    }
   ],
   "source": [
    "msft.describe()"
   ]
  },
  {
   "cell_type": "code",
   "execution_count": 106,
   "id": "3b3f3818",
   "metadata": {},
   "outputs": [
    {
     "data": {
      "image/png": "[encoded data removed]",
      "text/plain": [
       "<Figure size 1080x576 with 1 Axes>"
      ]
     },
     "metadata": {},
     "output_type": "display_data"
    }
   ],
   "source": [
    "msft.log_ret.plot(kind = \"hist\", figsize = (15 ,8), bins = 100, fontsize = 15, density = False) # Frequency Distribution of log returns\n",
    "plt.xlabel(\"Daily Returns\", fontsize = 15)\n",
    "plt.ylabel(\"Frequency\", fontsize = 15)\n",
    "plt.title(\"Frequency Distribution of Returns\", fontsize = 20)\n",
    "plt.show()"
   ]
  },
  {
   "cell_type": "markdown",
   "id": "e3b65671",
   "metadata": {},
   "source": [
    "__Do MSFT Returns follow a Normal Distribution?__ <br><br>\n",
    "A normally distributed random variable can be fully described by its \n",
    "- mean\n",
    "- standard deviation"
   ]
  },
  {
   "cell_type": "markdown",
   "id": "a9a3b024",
   "metadata": {},
   "source": [
    "Higher Central Moments are zero:\n",
    "- Skew = 0 (measures symmetrie around the mean)\n",
    "- (Excess) Kurtosis = 0 (positve excess Kurtosis -> more observations in the \"tails\")"
   ]
  },
  {
   "cell_type": "code",
   "execution_count": 107,
   "id": "9c2dc85f",
   "metadata": {
    "scrolled": true
   },
   "outputs": [
    {
     "data": {
      "text/plain": [
       "0.0010105697603329637"
      ]
     },
     "execution_count": 107,
     "metadata": {},
     "output_type": "execute_result"
    }
   ],
   "source": [
    "mu = msft.log_ret.mean()\n",
    "mu"
   ]
  },
  {
   "cell_type": "code",
   "execution_count": 108,
   "id": "7085eab9",
   "metadata": {},
   "outputs": [
    {
     "data": {
      "text/plain": [
       "0.01724882682847896"
      ]
     },
     "execution_count": 108,
     "metadata": {},
     "output_type": "execute_result"
    }
   ],
   "source": [
    "sigma = msft.log_ret.std()\n",
    "sigma"
   ]
  },
  {
   "cell_type": "code",
   "execution_count": 109,
   "id": "6a46461d",
   "metadata": {},
   "outputs": [
    {
     "data": {
      "text/plain": [
       "-0.20070528675208313"
      ]
     },
     "execution_count": 109,
     "metadata": {},
     "output_type": "execute_result"
    }
   ],
   "source": [
    "stats.skew(msft.log_ret.dropna()) # in a Normal Distribution: skew == 0"
   ]
  },
  {
   "cell_type": "code",
   "execution_count": 110,
   "id": "37046a63",
   "metadata": {},
   "outputs": [
    {
     "data": {
      "text/plain": [
       "10.733092631202133"
      ]
     },
     "execution_count": 110,
     "metadata": {},
     "output_type": "execute_result"
    }
   ],
   "source": [
    "stats.kurtosis(msft.log_ret.dropna(), fisher = True) # in a Normal Distribution: (fisher) kurtosis == 0"
   ]
  },
  {
   "cell_type": "markdown",
   "id": "83174c71",
   "metadata": {},
   "source": [
    "__-> MSFT Returns exhibit \"Fat Tails\" (extreme positive/negative outcomes).__"
   ]
  },
  {
   "cell_type": "code",
   "execution_count": 111,
   "id": "44fb9229",
   "metadata": {},
   "outputs": [
    {
     "data": {
      "text/plain": [
       "array([-0.15945341, -0.15942417, -0.15939493, ...,  0.1328705 ,\n",
       "        0.13289974,  0.13292898])"
      ]
     },
     "execution_count": 111,
     "metadata": {},
     "output_type": "execute_result"
    }
   ],
   "source": [
    "x = np.linspace(msft.log_ret.min(), msft.log_ret.max(), 10000)\n",
    "x"
   ]
  },
  {
   "cell_type": "code",
   "execution_count": 112,
   "id": "799fc3d7",
   "metadata": {},
   "outputs": [
    {
     "data": {
      "text/plain": [
       "array([3.72735695e-18, 3.78660080e-18, 3.84677524e-18, ...,\n",
       "       4.72250419e-12, 4.66169105e-12, 4.60164778e-12])"
      ]
     },
     "execution_count": 112,
     "metadata": {},
     "output_type": "execute_result"
    }
   ],
   "source": [
    "y = stats.norm.pdf(x, loc = mu, scale = sigma) # creating y values a for normal distribution with mu, sigma\n",
    "y"
   ]
  },
  {
   "cell_type": "code",
   "execution_count": 113,
   "id": "5aa754c1",
   "metadata": {},
   "outputs": [
    {
     "data": {
      "image/png": "[encoded data removed]",
      "text/plain": [
       "<Figure size 1440x576 with 1 Axes>"
      ]
     },
     "metadata": {},
     "output_type": "display_data"
    }
   ],
   "source": [
    "plt.figure(figsize = (20, 8))\n",
    "plt.hist(msft.log_ret, bins = 500, density = True, label = \"Frequency Distribution of daily Returns (MSFT)\")\n",
    "plt.plot(x, y, linewidth = 3, color = \"red\", label = \"Normal Distribution\")\n",
    "plt.title(\"Normal Distribution\", fontsize = 20)\n",
    "plt.xlabel(\"Daily Returns\", fontsize = 15)\n",
    "plt.ylabel(\"pdf\", fontsize = 15)\n",
    "plt.legend(fontsize = 15)\n",
    "plt.show()"
   ]
  },
  {
   "cell_type": "markdown",
   "id": "03f2a07c",
   "metadata": {},
   "source": [
    "__-> MSFT Returns exhibit \"Fat Tails\" (extreme positive/negative outcomes).__ "
   ]
  },
  {
   "cell_type": "markdown",
   "id": "a5f095f3",
   "metadata": {},
   "source": [
    "__Testing the normality of MSFT Returns based on the sample (Oct 2014 to May 2021):__ <br>\n",
    "__-> Hypothesis Test with H0 Hypothesis: MSFT Returns (full population) follow a normal Distribution.__ "
   ]
  },
  {
   "cell_type": "code",
   "execution_count": 114,
   "id": "c017f284",
   "metadata": {},
   "outputs": [],
   "source": [
    "z_stat, p_value = stats.normaltest(msft.log_ret.dropna())"
   ]
  },
  {
   "cell_type": "code",
   "execution_count": 115,
   "id": "ce0461c5",
   "metadata": {},
   "outputs": [
    {
     "data": {
      "text/plain": [
       "326.8451656349759"
      ]
     },
     "execution_count": 115,
     "metadata": {},
     "output_type": "execute_result"
    }
   ],
   "source": [
    "z_stat # high values -> reject H0"
   ]
  },
  {
   "cell_type": "code",
   "execution_count": 116,
   "id": "78516f83",
   "metadata": {},
   "outputs": [
    {
     "data": {
      "text/plain": [
       "1.0628551078061005e-71"
      ]
     },
     "execution_count": 116,
     "metadata": {},
     "output_type": "execute_result"
    }
   ],
   "source": [
    "p_value # low values (close to zero) -> reject H0"
   ]
  },
  {
   "cell_type": "code",
   "execution_count": 117,
   "id": "435ea9b9",
   "metadata": {},
   "outputs": [
    {
     "data": {
      "text/plain": [
       "0.0"
      ]
     },
     "execution_count": 117,
     "metadata": {},
     "output_type": "execute_result"
    }
   ],
   "source": [
    "round(p_value, 10)"
   ]
  },
  {
   "cell_type": "markdown",
   "id": "e368f4d0",
   "metadata": {},
   "source": [
    "__-> Assuming that MSFT Returns (generally) follow a Normal Distribution, there is 0% probability that we get that extreme outcomes in a sample.__ "
   ]
  },
  {
   "cell_type": "markdown",
   "id": "19318eb4",
   "metadata": {},
   "source": [
    "__Take Home: MSFT Returns don´t follow a Normal Distribution as they exhibit \"Fat Tails\". Extreme Events/Outcomes are not reflected in the Mean-Variance Analysis. The Standard Deviation of Returns underestimates true Risk.__"
   ]
  },
  {
   "cell_type": "markdown",
   "id": "a1efca54",
   "metadata": {},
   "source": [
    "## Annualizing Mean Return and Std of Returns"
   ]
  },
  {
   "cell_type": "code",
   "execution_count": 118,
   "id": "0d79f085",
   "metadata": {},
   "outputs": [],
   "source": [
    "msft = pd.read_csv(\"msft.csv\", index_col = \"Date\", parse_dates = [\"Date\"], usecols = [\"Date\", \"Price\"])"
   ]
  },
  {
   "cell_type": "code",
   "execution_count": 119,
   "id": "4b3144f6",
   "metadata": {},
   "outputs": [
    {
     "data": {
      "text/html": [
       "<div>\n",
       "<style scoped>\n",
       "    .dataframe tbody tr th:only-of-type {\n",
       "        vertical-align: middle;\n",
       "    }\n",
       "\n",
       "    .dataframe tbody tr th {\n",
       "        vertical-align: top;\n",
       "    }\n",
       "\n",
       "    .dataframe thead th {\n",
       "        text-align: right;\n",
       "    }\n",
       "</style>\n",
       "<table border=\"1\" class=\"dataframe\">\n",
       "  <thead>\n",
       "    <tr style=\"text-align: right;\">\n",
       "      <th></th>\n",
       "      <th>Price</th>\n",
       "    </tr>\n",
       "    <tr>\n",
       "      <th>Date</th>\n",
       "      <th></th>\n",
       "    </tr>\n",
       "  </thead>\n",
       "  <tbody>\n",
       "    <tr>\n",
       "      <th>2014-10-01</th>\n",
       "      <td>45.9000</td>\n",
       "    </tr>\n",
       "    <tr>\n",
       "      <th>2014-10-02</th>\n",
       "      <td>45.7600</td>\n",
       "    </tr>\n",
       "    <tr>\n",
       "      <th>2014-10-03</th>\n",
       "      <td>46.0900</td>\n",
       "    </tr>\n",
       "    <tr>\n",
       "      <th>2014-10-06</th>\n",
       "      <td>46.0900</td>\n",
       "    </tr>\n",
       "    <tr>\n",
       "      <th>2014-10-07</th>\n",
       "      <td>45.5300</td>\n",
       "    </tr>\n",
       "    <tr>\n",
       "      <th>...</th>\n",
       "      <td>...</td>\n",
       "    </tr>\n",
       "    <tr>\n",
       "      <th>2021-05-24</th>\n",
       "      <td>250.7800</td>\n",
       "    </tr>\n",
       "    <tr>\n",
       "      <th>2021-05-25</th>\n",
       "      <td>251.7200</td>\n",
       "    </tr>\n",
       "    <tr>\n",
       "      <th>2021-05-26</th>\n",
       "      <td>251.4900</td>\n",
       "    </tr>\n",
       "    <tr>\n",
       "      <th>2021-05-27</th>\n",
       "      <td>249.3100</td>\n",
       "    </tr>\n",
       "    <tr>\n",
       "      <th>2021-05-28</th>\n",
       "      <td>249.6800</td>\n",
       "    </tr>\n",
       "  </tbody>\n",
       "</table>\n",
       "<p>1677 rows × 1 columns</p>\n",
       "</div>"
      ],
      "text/plain": [
       "              Price\n",
       "Date               \n",
       "2014-10-01  45.9000\n",
       "2014-10-02  45.7600\n",
       "2014-10-03  46.0900\n",
       "2014-10-06  46.0900\n",
       "2014-10-07  45.5300\n",
       "...             ...\n",
       "2021-05-24 250.7800\n",
       "2021-05-25 251.7200\n",
       "2021-05-26 251.4900\n",
       "2021-05-27 249.3100\n",
       "2021-05-28 249.6800\n",
       "\n",
       "[1677 rows x 1 columns]"
      ]
     },
     "execution_count": 119,
     "metadata": {},
     "output_type": "execute_result"
    }
   ],
   "source": [
    "msft"
   ]
  },
  {
   "cell_type": "code",
   "execution_count": 120,
   "id": "9579f6bd",
   "metadata": {},
   "outputs": [],
   "source": [
    "msft[\"log_ret\"] = np.log(msft.Price / msft.Price.shift())"
   ]
  },
  {
   "cell_type": "code",
   "execution_count": 121,
   "id": "2a9e9408",
   "metadata": {},
   "outputs": [
    {
     "data": {
      "text/plain": [
       "mean   0.0010\n",
       "std    0.0172\n",
       "Name: log_ret, dtype: float64"
      ]
     },
     "execution_count": 121,
     "metadata": {},
     "output_type": "execute_result"
    }
   ],
   "source": [
    "msft.log_ret.agg([\"mean\", \"std\"]) # mean and std based on daily returns"
   ]
  },
  {
   "cell_type": "code",
   "execution_count": 122,
   "id": "5c474c31",
   "metadata": {},
   "outputs": [
    {
     "data": {
      "text/plain": [
       "0.25466357960390684"
      ]
     },
     "execution_count": 122,
     "metadata": {},
     "output_type": "execute_result"
    }
   ],
   "source": [
    "ann_mu = msft.log_ret.mean() * 252 \n",
    "ann_mu"
   ]
  },
  {
   "cell_type": "code",
   "execution_count": 123,
   "id": "657fbdc5",
   "metadata": {},
   "outputs": [
    {
     "data": {
      "text/plain": [
       "0.2900275562814376"
      ]
     },
     "execution_count": 123,
     "metadata": {},
     "output_type": "execute_result"
    }
   ],
   "source": [
    "cagr = np.exp(ann_mu) - 1 # don´t mix up with cagr\n",
    "cagr"
   ]
  },
  {
   "cell_type": "code",
   "execution_count": 124,
   "id": "9e9449d4",
   "metadata": {},
   "outputs": [
    {
     "data": {
      "text/plain": [
       "0.27381663717464577"
      ]
     },
     "execution_count": 124,
     "metadata": {},
     "output_type": "execute_result"
    }
   ],
   "source": [
    "ann_std = msft.log_ret.std() * np.sqrt(252) \n",
    "ann_std"
   ]
  },
  {
   "cell_type": "code",
   "execution_count": 125,
   "id": "6ec01979",
   "metadata": {},
   "outputs": [
    {
     "data": {
      "text/plain": [
       "0.27381663717464577"
      ]
     },
     "execution_count": 125,
     "metadata": {},
     "output_type": "execute_result"
    }
   ],
   "source": [
    "ann_std = np.sqrt(msft.log_ret.var() * 252) # annualized std of returns (Alt 2)\n",
    "ann_std"
   ]
  },
  {
   "cell_type": "markdown",
   "id": "1b1d9e1d",
   "metadata": {},
   "source": [
    "## Resampling / Smoothing"
   ]
  },
  {
   "cell_type": "code",
   "execution_count": 126,
   "id": "011f3bcc",
   "metadata": {},
   "outputs": [
    {
     "data": {
      "image/png": "[encoded data removed]",
      "text/plain": [
       "<Figure size 864x576 with 1 Axes>"
      ]
     },
     "metadata": {},
     "output_type": "display_data"
    }
   ],
   "source": [
    "msft.Price.plot(figsize = (12, 8))\n",
    "plt.legend()\n",
    "plt.show()"
   ]
  },
  {
   "cell_type": "code",
   "execution_count": 127,
   "id": "08fc5193",
   "metadata": {},
   "outputs": [
    {
     "data": {
      "text/plain": [
       "Date\n",
       "2014-10-31    46.9500\n",
       "2014-11-30    47.8100\n",
       "2014-12-31    46.4500\n",
       "2015-01-31    40.4000\n",
       "2015-02-28    43.8500\n",
       "               ...   \n",
       "2021-01-31   231.9600\n",
       "2021-02-28   232.3800\n",
       "2021-03-31   235.7700\n",
       "2021-04-30   252.1800\n",
       "2021-05-31   249.6800\n",
       "Freq: M, Name: Price, Length: 80, dtype: float64"
      ]
     },
     "execution_count": 127,
     "metadata": {},
     "output_type": "execute_result"
    }
   ],
   "source": [
    "monthly = msft.Price.resample(\"M\").last() ## resample to monthly (month end)\n",
    "monthly"
   ]
  },
  {
   "cell_type": "code",
   "execution_count": 128,
   "id": "b2b442d2",
   "metadata": {},
   "outputs": [
    {
     "data": {
      "image/png": "[encoded data removed]",
      "text/plain": [
       "<Figure size 864x576 with 1 Axes>"
      ]
     },
     "metadata": {},
     "output_type": "display_data"
    }
   ],
   "source": [
    "monthly.plot(figsize = (12, 8))\n",
    "plt.legend()\n",
    "plt.show()"
   ]
  },
  {
   "cell_type": "markdown",
   "id": "54b0535e",
   "metadata": {},
   "source": [
    "__How will the Mean-Variance Analysis change with smoothed data?__"
   ]
  },
  {
   "cell_type": "code",
   "execution_count": 129,
   "id": "674f0bfe",
   "metadata": {},
   "outputs": [],
   "source": [
    "freqs = [\"A\", \"Q\", \"M\", \"W-Fri\", \"D\"]\n",
    "periods = [1, 4, 12, 52, 252]\n",
    "ann_mean = []\n",
    "ann_std = []"
   ]
  },
  {
   "cell_type": "code",
   "execution_count": 130,
   "id": "1fa8554f",
   "metadata": {},
   "outputs": [],
   "source": [
    "for i in range(5):\n",
    "    resamp = msft.Price.resample(freqs[i]).last() # resample\n",
    "    ann_mean.append(np.log(resamp / resamp.shift()).mean() * periods[i]) # calc. annualized mean\n",
    "    ann_std.append(np.log(resamp / resamp.shift()).std() * np.sqrt(periods[i])) # calc. annualized std"
   ]
  },
  {
   "cell_type": "code",
   "execution_count": 131,
   "id": "b9b4fcae",
   "metadata": {},
   "outputs": [
    {
     "data": {
      "text/plain": [
       "[0.24025765527761309,\n",
       " 0.258739013375891,\n",
       " 0.253837495704879,\n",
       " 0.25319415287153213,\n",
       " 0.25289038013157533]"
      ]
     },
     "execution_count": 131,
     "metadata": {},
     "output_type": "execute_result"
    }
   ],
   "source": [
    "ann_mean"
   ]
  },
  {
   "cell_type": "code",
   "execution_count": 132,
   "id": "21006017",
   "metadata": {},
   "outputs": [
    {
     "data": {
      "text/html": [
       "<div>\n",
       "<style scoped>\n",
       "    .dataframe tbody tr th:only-of-type {\n",
       "        vertical-align: middle;\n",
       "    }\n",
       "\n",
       "    .dataframe tbody tr th {\n",
       "        vertical-align: top;\n",
       "    }\n",
       "\n",
       "    .dataframe thead th {\n",
       "        text-align: right;\n",
       "    }\n",
       "</style>\n",
       "<table border=\"1\" class=\"dataframe\">\n",
       "  <thead>\n",
       "    <tr style=\"text-align: right;\">\n",
       "      <th></th>\n",
       "      <th>ann_std</th>\n",
       "      <th>ann_mean</th>\n",
       "    </tr>\n",
       "  </thead>\n",
       "  <tbody>\n",
       "    <tr>\n",
       "      <th>A</th>\n",
       "      <td>0.1272</td>\n",
       "      <td>0.2403</td>\n",
       "    </tr>\n",
       "    <tr>\n",
       "      <th>Q</th>\n",
       "      <td>0.1793</td>\n",
       "      <td>0.2587</td>\n",
       "    </tr>\n",
       "    <tr>\n",
       "      <th>M</th>\n",
       "      <td>0.2050</td>\n",
       "      <td>0.2538</td>\n",
       "    </tr>\n",
       "    <tr>\n",
       "      <th>W-Fri</th>\n",
       "      <td>0.2309</td>\n",
       "      <td>0.2532</td>\n",
       "    </tr>\n",
       "    <tr>\n",
       "      <th>D</th>\n",
       "      <td>0.2674</td>\n",
       "      <td>0.2529</td>\n",
       "    </tr>\n",
       "  </tbody>\n",
       "</table>\n",
       "</div>"
      ],
      "text/plain": [
       "       ann_std  ann_mean\n",
       "A       0.1272    0.2403\n",
       "Q       0.1793    0.2587\n",
       "M       0.2050    0.2538\n",
       "W-Fri   0.2309    0.2532\n",
       "D       0.2674    0.2529"
      ]
     },
     "execution_count": 132,
     "metadata": {},
     "output_type": "execute_result"
    }
   ],
   "source": [
    "summary = pd.DataFrame(data = {\"ann_std\":ann_std, \"ann_mean\":ann_mean}, index = freqs)\n",
    "summary"
   ]
  },
  {
   "cell_type": "code",
   "execution_count": 133,
   "id": "13778d53",
   "metadata": {},
   "outputs": [
    {
     "data": {
      "image/png": "[encoded data removed]",
      "text/plain": [
       "<Figure size 1080x864 with 1 Axes>"
      ]
     },
     "metadata": {},
     "output_type": "display_data"
    }
   ],
   "source": [
    "summary.plot(kind = \"scatter\", x = \"ann_std\", y = \"ann_mean\", figsize = (15,12), s = 50, fontsize = 15)\n",
    "for i in summary.index:\n",
    "    plt.annotate(i, xy=(summary.loc[i, \"ann_std\"]+0.001, summary.loc[i, \"ann_mean\"]+0.001), size = 15)\n",
    "plt.ylim(0, 0.3)\n",
    "plt.xlabel(\"ann. Risk(std)\", fontsize = 15)\n",
    "plt.ylabel(\"ann. Return\", fontsize = 15)\n",
    "plt.title(\"Risk/Return\", fontsize = 20)\n",
    "plt.show()"
   ]
  },
  {
   "cell_type": "markdown",
   "id": "de6c42b0",
   "metadata": {},
   "source": [
    "__-> Smoothing reduces (observed) Risk__. "
   ]
  },
  {
   "cell_type": "markdown",
   "id": "c8e16920",
   "metadata": {},
   "source": [
    "Dubious practices:\n",
    "- Managing (Manipulating) Performance in Performance Reportings.\n",
    "- Comparing assets with different granularity and pricing mechanisms -> e.g. non-listed (alternative assets) vs. listed assets \n",
    "- Adjusting granularity to investor´s (average) holding period -> Volatility is still there."
   ]
  },
  {
   "cell_type": "markdown",
   "id": "79664c0c",
   "metadata": {},
   "source": [
    "## Rolling Statistics"
   ]
  },
  {
   "cell_type": "markdown",
   "id": "e0cc78b5",
   "metadata": {},
   "source": [
    "__(Another) general Rule in Finance/Investing: Past performance is not an indicator of future performance__."
   ]
  },
  {
   "cell_type": "code",
   "execution_count": 134,
   "id": "5b2c5f5e",
   "metadata": {},
   "outputs": [
    {
     "data": {
      "text/html": [
       "<div>\n",
       "<style scoped>\n",
       "    .dataframe tbody tr th:only-of-type {\n",
       "        vertical-align: middle;\n",
       "    }\n",
       "\n",
       "    .dataframe tbody tr th {\n",
       "        vertical-align: top;\n",
       "    }\n",
       "\n",
       "    .dataframe thead th {\n",
       "        text-align: right;\n",
       "    }\n",
       "</style>\n",
       "<table border=\"1\" class=\"dataframe\">\n",
       "  <thead>\n",
       "    <tr style=\"text-align: right;\">\n",
       "      <th></th>\n",
       "      <th>Price</th>\n",
       "      <th>log_ret</th>\n",
       "    </tr>\n",
       "    <tr>\n",
       "      <th>Date</th>\n",
       "      <th></th>\n",
       "      <th></th>\n",
       "    </tr>\n",
       "  </thead>\n",
       "  <tbody>\n",
       "    <tr>\n",
       "      <th>2014-10-01</th>\n",
       "      <td>45.9000</td>\n",
       "      <td>NaN</td>\n",
       "    </tr>\n",
       "    <tr>\n",
       "      <th>2014-10-02</th>\n",
       "      <td>45.7600</td>\n",
       "      <td>-0.0031</td>\n",
       "    </tr>\n",
       "    <tr>\n",
       "      <th>2014-10-03</th>\n",
       "      <td>46.0900</td>\n",
       "      <td>0.0072</td>\n",
       "    </tr>\n",
       "    <tr>\n",
       "      <th>2014-10-06</th>\n",
       "      <td>46.0900</td>\n",
       "      <td>0.0000</td>\n",
       "    </tr>\n",
       "    <tr>\n",
       "      <th>2014-10-07</th>\n",
       "      <td>45.5300</td>\n",
       "      <td>-0.0122</td>\n",
       "    </tr>\n",
       "    <tr>\n",
       "      <th>...</th>\n",
       "      <td>...</td>\n",
       "      <td>...</td>\n",
       "    </tr>\n",
       "    <tr>\n",
       "      <th>2021-05-24</th>\n",
       "      <td>250.7800</td>\n",
       "      <td>0.0226</td>\n",
       "    </tr>\n",
       "    <tr>\n",
       "      <th>2021-05-25</th>\n",
       "      <td>251.7200</td>\n",
       "      <td>0.0037</td>\n",
       "    </tr>\n",
       "    <tr>\n",
       "      <th>2021-05-26</th>\n",
       "      <td>251.4900</td>\n",
       "      <td>-0.0009</td>\n",
       "    </tr>\n",
       "    <tr>\n",
       "      <th>2021-05-27</th>\n",
       "      <td>249.3100</td>\n",
       "      <td>-0.0087</td>\n",
       "    </tr>\n",
       "    <tr>\n",
       "      <th>2021-05-28</th>\n",
       "      <td>249.6800</td>\n",
       "      <td>0.0015</td>\n",
       "    </tr>\n",
       "  </tbody>\n",
       "</table>\n",
       "<p>1677 rows × 2 columns</p>\n",
       "</div>"
      ],
      "text/plain": [
       "              Price  log_ret\n",
       "Date                        \n",
       "2014-10-01  45.9000      NaN\n",
       "2014-10-02  45.7600  -0.0031\n",
       "2014-10-03  46.0900   0.0072\n",
       "2014-10-06  46.0900   0.0000\n",
       "2014-10-07  45.5300  -0.0122\n",
       "...             ...      ...\n",
       "2021-05-24 250.7800   0.0226\n",
       "2021-05-25 251.7200   0.0037\n",
       "2021-05-26 251.4900  -0.0009\n",
       "2021-05-27 249.3100  -0.0087\n",
       "2021-05-28 249.6800   0.0015\n",
       "\n",
       "[1677 rows x 2 columns]"
      ]
     },
     "execution_count": 134,
     "metadata": {},
     "output_type": "execute_result"
    }
   ],
   "source": [
    "msft"
   ]
  },
  {
   "cell_type": "code",
   "execution_count": 135,
   "id": "57aca39b",
   "metadata": {},
   "outputs": [
    {
     "data": {
      "text/plain": [
       "0.25466357960390684"
      ]
     },
     "execution_count": 135,
     "metadata": {},
     "output_type": "execute_result"
    }
   ],
   "source": [
    "ann_mu = msft.log_ret.mean() * 252 # annualized mean return\n",
    "ann_mu"
   ]
  },
  {
   "cell_type": "code",
   "execution_count": 136,
   "id": "2cd35648",
   "metadata": {},
   "outputs": [
    {
     "data": {
      "text/plain": [
       "0.27381663717464577"
      ]
     },
     "execution_count": 136,
     "metadata": {},
     "output_type": "execute_result"
    }
   ],
   "source": [
    "ann_std = msft.log_ret.std() * np.sqrt(252) # annualized std of returns (Alt 1)\n",
    "ann_std"
   ]
  },
  {
   "cell_type": "markdown",
   "id": "fade509a",
   "metadata": {},
   "source": [
    "__Are Return and Risk constant over time? No, of course not! They change over time.__"
   ]
  },
  {
   "cell_type": "markdown",
   "id": "4249b6e5",
   "metadata": {},
   "source": [
    "__Let´s measure/quantify this with rolling statistics!__"
   ]
  },
  {
   "cell_type": "code",
   "execution_count": 137,
   "id": "ff0a7754",
   "metadata": {},
   "outputs": [],
   "source": [
    "window = 252 # rolling window 252 trading days (~ 1 Year)"
   ]
  },
  {
   "cell_type": "code",
   "execution_count": 138,
   "id": "43799b82",
   "metadata": {},
   "outputs": [
    {
     "data": {
      "text/plain": [
       "Rolling [window=252,center=False,axis=0,method=single]"
      ]
     },
     "execution_count": 138,
     "metadata": {},
     "output_type": "execute_result"
    }
   ],
   "source": [
    "msft.log_ret.rolling(window = 252)"
   ]
  },
  {
   "cell_type": "code",
   "execution_count": 139,
   "id": "70f8b5c8",
   "metadata": {},
   "outputs": [
    {
     "data": {
      "text/plain": [
       "Date\n",
       "2014-10-01      NaN\n",
       "2014-10-02      NaN\n",
       "2014-10-03      NaN\n",
       "2014-10-06      NaN\n",
       "2014-10-07      NaN\n",
       "              ...  \n",
       "2021-05-24   0.3123\n",
       "2021-05-25   0.3267\n",
       "2021-05-26   0.3244\n",
       "2021-05-27   0.3180\n",
       "2021-05-28   0.3093\n",
       "Name: log_ret, Length: 1677, dtype: float64"
      ]
     },
     "execution_count": 139,
     "metadata": {},
     "output_type": "execute_result"
    }
   ],
   "source": [
    "msft.log_ret.rolling(window = 252).sum() # Alt 1"
   ]
  },
  {
   "cell_type": "code",
   "execution_count": 140,
   "id": "514392a0",
   "metadata": {},
   "outputs": [
    {
     "data": {
      "text/plain": [
       "Date\n",
       "2014-10-01      NaN\n",
       "2014-10-02      NaN\n",
       "2014-10-03      NaN\n",
       "2014-10-06      NaN\n",
       "2014-10-07      NaN\n",
       "              ...  \n",
       "2021-05-24   0.3123\n",
       "2021-05-25   0.3267\n",
       "2021-05-26   0.3244\n",
       "2021-05-27   0.3180\n",
       "2021-05-28   0.3093\n",
       "Name: log_ret, Length: 1677, dtype: float64"
      ]
     },
     "execution_count": 140,
     "metadata": {},
     "output_type": "execute_result"
    }
   ],
   "source": [
    "roll_mean = msft.log_ret.rolling(window = 252).mean() * 252 # Alt 2\n",
    "roll_mean"
   ]
  },
  {
   "cell_type": "code",
   "execution_count": 141,
   "id": "21ef3ad9",
   "metadata": {},
   "outputs": [
    {
     "data": {
      "text/plain": [
       "Date\n",
       "2015-09-29       NaN\n",
       "2015-09-30       NaN\n",
       "2015-10-01   -0.0285\n",
       "2015-10-02   -0.0042\n",
       "2015-10-05    0.0116\n",
       "               ...  \n",
       "2021-05-24    0.3123\n",
       "2021-05-25    0.3267\n",
       "2021-05-26    0.3244\n",
       "2021-05-27    0.3180\n",
       "2021-05-28    0.3093\n",
       "Name: log_ret, Length: 1427, dtype: float64"
      ]
     },
     "execution_count": 141,
     "metadata": {},
     "output_type": "execute_result"
    }
   ],
   "source": [
    "roll_mean.iloc[250:]"
   ]
  },
  {
   "cell_type": "code",
   "execution_count": 142,
   "id": "754483f4",
   "metadata": {},
   "outputs": [
    {
     "data": {
      "image/png": "[encoded data removed]",
      "text/plain": [
       "<Figure size 864x576 with 1 Axes>"
      ]
     },
     "metadata": {},
     "output_type": "display_data"
    }
   ],
   "source": [
    "roll_mean.plot(figsize = (12, 8))\n",
    "plt.show()"
   ]
  },
  {
   "cell_type": "code",
   "execution_count": 143,
   "id": "2bdff238",
   "metadata": {},
   "outputs": [
    {
     "data": {
      "text/plain": [
       "Date\n",
       "2014-10-01      NaN\n",
       "2014-10-02      NaN\n",
       "2014-10-03      NaN\n",
       "2014-10-06      NaN\n",
       "2014-10-07      NaN\n",
       "              ...  \n",
       "2021-05-24   0.2794\n",
       "2021-05-25   0.2792\n",
       "2021-05-26   0.2792\n",
       "2021-05-27   0.2794\n",
       "2021-05-28   0.2792\n",
       "Name: log_ret, Length: 1677, dtype: float64"
      ]
     },
     "execution_count": 143,
     "metadata": {},
     "output_type": "execute_result"
    }
   ],
   "source": [
    "roll_std = msft.log_ret.rolling(window = 252).std() * np.sqrt(252)\n",
    "roll_std"
   ]
  },
  {
   "cell_type": "code",
   "execution_count": 144,
   "id": "e3ae40ce",
   "metadata": {},
   "outputs": [
    {
     "data": {
      "image/png": "[encoded data removed]",
      "text/plain": [
       "<Figure size 864x576 with 1 Axes>"
      ]
     },
     "metadata": {},
     "output_type": "display_data"
    }
   ],
   "source": [
    "roll_std.plot(figsize = (12, 8))\n",
    "plt.show()"
   ]
  },
  {
   "cell_type": "code",
   "execution_count": 145,
   "id": "fa4d7119",
   "metadata": {},
   "outputs": [
    {
     "data": {
      "image/png": "[encoded data removed]",
      "text/plain": [
       "<Figure size 864x576 with 1 Axes>"
      ]
     },
     "metadata": {},
     "output_type": "display_data"
    }
   ],
   "source": [
    "roll_mean.plot(figsize = (12, 8))\n",
    "roll_std.plot()\n",
    "plt.show()"
   ]
  },
  {
   "cell_type": "code",
   "execution_count": 146,
   "id": "c68c9001",
   "metadata": {},
   "outputs": [],
   "source": [
    "sma_window = 50"
   ]
  },
  {
   "cell_type": "code",
   "execution_count": 147,
   "id": "55187bd8",
   "metadata": {},
   "outputs": [
    {
     "data": {
      "image/png": "[encoded data removed]",
      "text/plain": [
       "<Figure size 864x576 with 1 Axes>"
      ]
     },
     "metadata": {},
     "output_type": "display_data"
    }
   ],
   "source": [
    "msft.Price.plot(figsize = (12, 8))\n",
    "msft.Price.rolling(sma_window).mean().plot()\n",
    "plt.show()"
   ]
  },
  {
   "cell_type": "markdown",
   "id": "7e90f89c",
   "metadata": {},
   "source": [
    "## Covariance and Correlation"
   ]
  },
  {
   "cell_type": "markdown",
   "id": "8e19f137",
   "metadata": {},
   "source": [
    "Do instruments/assets __move together__ (and to what extent)? <br>\n",
    "\n",
    "Three cases:\n",
    "- unrelated (__no__ relationship/correlation)\n",
    "- moving together (__positive__ relationship/correlation)\n",
    "- moving in opposite directions (__negative__ relationship/correlation) "
   ]
  },
  {
   "cell_type": "markdown",
   "id": "dd2e87dc",
   "metadata": {},
   "source": [
    "__-> Correlation between instruments/assets play an important role in portfolio management.__"
   ]
  },
  {
   "cell_type": "code",
   "execution_count": 148,
   "id": "f0025956",
   "metadata": {},
   "outputs": [],
   "source": [
    "import pandas as pd\n",
    "import numpy as np\n",
    "pd.options.display.float_format = '{:.4f}'.format\n",
    "import matplotlib.pyplot as plt\n",
    "plt.style.use(\"seaborn\")"
   ]
  },
  {
   "cell_type": "code",
   "execution_count": 149,
   "id": "3ab21e16",
   "metadata": {},
   "outputs": [
    {
     "data": {
      "text/html": [
       "<div>\n",
       "<style scoped>\n",
       "    .dataframe tbody tr th:only-of-type {\n",
       "        vertical-align: middle;\n",
       "    }\n",
       "\n",
       "    .dataframe tbody tr th {\n",
       "        vertical-align: top;\n",
       "    }\n",
       "\n",
       "    .dataframe thead th {\n",
       "        text-align: right;\n",
       "    }\n",
       "</style>\n",
       "<table border=\"1\" class=\"dataframe\">\n",
       "  <thead>\n",
       "    <tr style=\"text-align: right;\">\n",
       "      <th></th>\n",
       "      <th>BA</th>\n",
       "      <th>BTC-USD</th>\n",
       "      <th>EURUSD=X</th>\n",
       "      <th>GC=F</th>\n",
       "      <th>MSFT</th>\n",
       "      <th>^DJI</th>\n",
       "    </tr>\n",
       "    <tr>\n",
       "      <th>Date</th>\n",
       "      <th></th>\n",
       "      <th></th>\n",
       "      <th></th>\n",
       "      <th></th>\n",
       "      <th></th>\n",
       "      <th></th>\n",
       "    </tr>\n",
       "  </thead>\n",
       "  <tbody>\n",
       "    <tr>\n",
       "      <th>2014-10-01</th>\n",
       "      <td>124.6700</td>\n",
       "      <td>383.6150</td>\n",
       "      <td>1.2628</td>\n",
       "      <td>1214.6000</td>\n",
       "      <td>45.9000</td>\n",
       "      <td>16804.7109</td>\n",
       "    </tr>\n",
       "    <tr>\n",
       "      <th>2014-10-02</th>\n",
       "      <td>124.1700</td>\n",
       "      <td>375.0720</td>\n",
       "      <td>1.2624</td>\n",
       "      <td>1214.2000</td>\n",
       "      <td>45.7600</td>\n",
       "      <td>16801.0508</td>\n",
       "    </tr>\n",
       "    <tr>\n",
       "      <th>2014-10-03</th>\n",
       "      <td>126.3600</td>\n",
       "      <td>359.5120</td>\n",
       "      <td>1.2671</td>\n",
       "      <td>1192.2000</td>\n",
       "      <td>46.0900</td>\n",
       "      <td>17009.6895</td>\n",
       "    </tr>\n",
       "    <tr>\n",
       "      <th>2014-10-04</th>\n",
       "      <td>NaN</td>\n",
       "      <td>328.8660</td>\n",
       "      <td>NaN</td>\n",
       "      <td>NaN</td>\n",
       "      <td>NaN</td>\n",
       "      <td>NaN</td>\n",
       "    </tr>\n",
       "    <tr>\n",
       "      <th>2014-10-05</th>\n",
       "      <td>NaN</td>\n",
       "      <td>320.5100</td>\n",
       "      <td>NaN</td>\n",
       "      <td>NaN</td>\n",
       "      <td>NaN</td>\n",
       "      <td>NaN</td>\n",
       "    </tr>\n",
       "    <tr>\n",
       "      <th>...</th>\n",
       "      <td>...</td>\n",
       "      <td>...</td>\n",
       "      <td>...</td>\n",
       "      <td>...</td>\n",
       "      <td>...</td>\n",
       "      <td>...</td>\n",
       "    </tr>\n",
       "    <tr>\n",
       "      <th>2021-05-27</th>\n",
       "      <td>250.7000</td>\n",
       "      <td>38436.9688</td>\n",
       "      <td>1.2193</td>\n",
       "      <td>1895.7000</td>\n",
       "      <td>249.3100</td>\n",
       "      <td>34464.6406</td>\n",
       "    </tr>\n",
       "    <tr>\n",
       "      <th>2021-05-28</th>\n",
       "      <td>247.0200</td>\n",
       "      <td>35697.6055</td>\n",
       "      <td>1.2193</td>\n",
       "      <td>1902.5000</td>\n",
       "      <td>249.6800</td>\n",
       "      <td>34529.4492</td>\n",
       "    </tr>\n",
       "    <tr>\n",
       "      <th>2021-05-29</th>\n",
       "      <td>NaN</td>\n",
       "      <td>34616.0664</td>\n",
       "      <td>NaN</td>\n",
       "      <td>NaN</td>\n",
       "      <td>NaN</td>\n",
       "      <td>NaN</td>\n",
       "    </tr>\n",
       "    <tr>\n",
       "      <th>2021-05-30</th>\n",
       "      <td>NaN</td>\n",
       "      <td>35678.1289</td>\n",
       "      <td>NaN</td>\n",
       "      <td>NaN</td>\n",
       "      <td>NaN</td>\n",
       "      <td>NaN</td>\n",
       "    </tr>\n",
       "    <tr>\n",
       "      <th>2021-05-31</th>\n",
       "      <td>NaN</td>\n",
       "      <td>37332.8555</td>\n",
       "      <td>1.2190</td>\n",
       "      <td>NaN</td>\n",
       "      <td>NaN</td>\n",
       "      <td>NaN</td>\n",
       "    </tr>\n",
       "  </tbody>\n",
       "</table>\n",
       "<p>2435 rows × 6 columns</p>\n",
       "</div>"
      ],
      "text/plain": [
       "                 BA    BTC-USD  EURUSD=X      GC=F     MSFT       ^DJI\n",
       "Date                                                                  \n",
       "2014-10-01 124.6700   383.6150    1.2628 1214.6000  45.9000 16804.7109\n",
       "2014-10-02 124.1700   375.0720    1.2624 1214.2000  45.7600 16801.0508\n",
       "2014-10-03 126.3600   359.5120    1.2671 1192.2000  46.0900 17009.6895\n",
       "2014-10-04      NaN   328.8660       NaN       NaN      NaN        NaN\n",
       "2014-10-05      NaN   320.5100       NaN       NaN      NaN        NaN\n",
       "...             ...        ...       ...       ...      ...        ...\n",
       "2021-05-27 250.7000 38436.9688    1.2193 1895.7000 249.3100 34464.6406\n",
       "2021-05-28 247.0200 35697.6055    1.2193 1902.5000 249.6800 34529.4492\n",
       "2021-05-29      NaN 34616.0664       NaN       NaN      NaN        NaN\n",
       "2021-05-30      NaN 35678.1289       NaN       NaN      NaN        NaN\n",
       "2021-05-31      NaN 37332.8555    1.2190       NaN      NaN        NaN\n",
       "\n",
       "[2435 rows x 6 columns]"
      ]
     },
     "execution_count": 149,
     "metadata": {},
     "output_type": "execute_result"
    }
   ],
   "source": [
    "close = pd.read_csv(\"close.csv\", index_col = \"Date\", parse_dates = [\"Date\"])\n",
    "close"
   ]
  },
  {
   "cell_type": "code",
   "execution_count": 150,
   "id": "9c3c1c36",
   "metadata": {},
   "outputs": [
    {
     "data": {
      "text/html": [
       "<div>\n",
       "<style scoped>\n",
       "    .dataframe tbody tr th:only-of-type {\n",
       "        vertical-align: middle;\n",
       "    }\n",
       "\n",
       "    .dataframe tbody tr th {\n",
       "        vertical-align: top;\n",
       "    }\n",
       "\n",
       "    .dataframe thead th {\n",
       "        text-align: right;\n",
       "    }\n",
       "</style>\n",
       "<table border=\"1\" class=\"dataframe\">\n",
       "  <thead>\n",
       "    <tr style=\"text-align: right;\">\n",
       "      <th></th>\n",
       "      <th>BA</th>\n",
       "      <th>BTC-USD</th>\n",
       "      <th>EURUSD=X</th>\n",
       "      <th>GC=F</th>\n",
       "      <th>MSFT</th>\n",
       "      <th>^DJI</th>\n",
       "      <th>USDEUR=X</th>\n",
       "    </tr>\n",
       "    <tr>\n",
       "      <th>Date</th>\n",
       "      <th></th>\n",
       "      <th></th>\n",
       "      <th></th>\n",
       "      <th></th>\n",
       "      <th></th>\n",
       "      <th></th>\n",
       "      <th></th>\n",
       "    </tr>\n",
       "  </thead>\n",
       "  <tbody>\n",
       "    <tr>\n",
       "      <th>2014-10-01</th>\n",
       "      <td>124.6700</td>\n",
       "      <td>383.6150</td>\n",
       "      <td>1.2628</td>\n",
       "      <td>1214.6000</td>\n",
       "      <td>45.9000</td>\n",
       "      <td>16804.7109</td>\n",
       "      <td>0.7919</td>\n",
       "    </tr>\n",
       "    <tr>\n",
       "      <th>2014-10-02</th>\n",
       "      <td>124.1700</td>\n",
       "      <td>375.0720</td>\n",
       "      <td>1.2624</td>\n",
       "      <td>1214.2000</td>\n",
       "      <td>45.7600</td>\n",
       "      <td>16801.0508</td>\n",
       "      <td>0.7921</td>\n",
       "    </tr>\n",
       "    <tr>\n",
       "      <th>2014-10-03</th>\n",
       "      <td>126.3600</td>\n",
       "      <td>359.5120</td>\n",
       "      <td>1.2671</td>\n",
       "      <td>1192.2000</td>\n",
       "      <td>46.0900</td>\n",
       "      <td>17009.6895</td>\n",
       "      <td>0.7892</td>\n",
       "    </tr>\n",
       "    <tr>\n",
       "      <th>2014-10-04</th>\n",
       "      <td>NaN</td>\n",
       "      <td>328.8660</td>\n",
       "      <td>NaN</td>\n",
       "      <td>NaN</td>\n",
       "      <td>NaN</td>\n",
       "      <td>NaN</td>\n",
       "      <td>NaN</td>\n",
       "    </tr>\n",
       "    <tr>\n",
       "      <th>2014-10-05</th>\n",
       "      <td>NaN</td>\n",
       "      <td>320.5100</td>\n",
       "      <td>NaN</td>\n",
       "      <td>NaN</td>\n",
       "      <td>NaN</td>\n",
       "      <td>NaN</td>\n",
       "      <td>NaN</td>\n",
       "    </tr>\n",
       "    <tr>\n",
       "      <th>...</th>\n",
       "      <td>...</td>\n",
       "      <td>...</td>\n",
       "      <td>...</td>\n",
       "      <td>...</td>\n",
       "      <td>...</td>\n",
       "      <td>...</td>\n",
       "      <td>...</td>\n",
       "    </tr>\n",
       "    <tr>\n",
       "      <th>2021-05-27</th>\n",
       "      <td>250.7000</td>\n",
       "      <td>38436.9688</td>\n",
       "      <td>1.2193</td>\n",
       "      <td>1895.7000</td>\n",
       "      <td>249.3100</td>\n",
       "      <td>34464.6406</td>\n",
       "      <td>0.8202</td>\n",
       "    </tr>\n",
       "    <tr>\n",
       "      <th>2021-05-28</th>\n",
       "      <td>247.0200</td>\n",
       "      <td>35697.6055</td>\n",
       "      <td>1.2193</td>\n",
       "      <td>1902.5000</td>\n",
       "      <td>249.6800</td>\n",
       "      <td>34529.4492</td>\n",
       "      <td>0.8201</td>\n",
       "    </tr>\n",
       "    <tr>\n",
       "      <th>2021-05-29</th>\n",
       "      <td>NaN</td>\n",
       "      <td>34616.0664</td>\n",
       "      <td>NaN</td>\n",
       "      <td>NaN</td>\n",
       "      <td>NaN</td>\n",
       "      <td>NaN</td>\n",
       "      <td>NaN</td>\n",
       "    </tr>\n",
       "    <tr>\n",
       "      <th>2021-05-30</th>\n",
       "      <td>NaN</td>\n",
       "      <td>35678.1289</td>\n",
       "      <td>NaN</td>\n",
       "      <td>NaN</td>\n",
       "      <td>NaN</td>\n",
       "      <td>NaN</td>\n",
       "      <td>NaN</td>\n",
       "    </tr>\n",
       "    <tr>\n",
       "      <th>2021-05-31</th>\n",
       "      <td>NaN</td>\n",
       "      <td>37332.8555</td>\n",
       "      <td>1.2190</td>\n",
       "      <td>NaN</td>\n",
       "      <td>NaN</td>\n",
       "      <td>NaN</td>\n",
       "      <td>0.8203</td>\n",
       "    </tr>\n",
       "  </tbody>\n",
       "</table>\n",
       "<p>2435 rows × 7 columns</p>\n",
       "</div>"
      ],
      "text/plain": [
       "                 BA    BTC-USD  EURUSD=X      GC=F     MSFT       ^DJI  \\\n",
       "Date                                                                     \n",
       "2014-10-01 124.6700   383.6150    1.2628 1214.6000  45.9000 16804.7109   \n",
       "2014-10-02 124.1700   375.0720    1.2624 1214.2000  45.7600 16801.0508   \n",
       "2014-10-03 126.3600   359.5120    1.2671 1192.2000  46.0900 17009.6895   \n",
       "2014-10-04      NaN   328.8660       NaN       NaN      NaN        NaN   \n",
       "2014-10-05      NaN   320.5100       NaN       NaN      NaN        NaN   \n",
       "...             ...        ...       ...       ...      ...        ...   \n",
       "2021-05-27 250.7000 38436.9688    1.2193 1895.7000 249.3100 34464.6406   \n",
       "2021-05-28 247.0200 35697.6055    1.2193 1902.5000 249.6800 34529.4492   \n",
       "2021-05-29      NaN 34616.0664       NaN       NaN      NaN        NaN   \n",
       "2021-05-30      NaN 35678.1289       NaN       NaN      NaN        NaN   \n",
       "2021-05-31      NaN 37332.8555    1.2190       NaN      NaN        NaN   \n",
       "\n",
       "            USDEUR=X  \n",
       "Date                  \n",
       "2014-10-01    0.7919  \n",
       "2014-10-02    0.7921  \n",
       "2014-10-03    0.7892  \n",
       "2014-10-04       NaN  \n",
       "2014-10-05       NaN  \n",
       "...              ...  \n",
       "2021-05-27    0.8202  \n",
       "2021-05-28    0.8201  \n",
       "2021-05-29       NaN  \n",
       "2021-05-30       NaN  \n",
       "2021-05-31    0.8203  \n",
       "\n",
       "[2435 rows x 7 columns]"
      ]
     },
     "execution_count": 150,
     "metadata": {},
     "output_type": "execute_result"
    }
   ],
   "source": [
    "close[\"USDEUR=X\"] = 1/close[\"EURUSD=X\"]\n",
    "close"
   ]
  },
  {
   "cell_type": "code",
   "execution_count": 151,
   "id": "f8502148",
   "metadata": {},
   "outputs": [
    {
     "data": {
      "text/html": [
       "<div>\n",
       "<style scoped>\n",
       "    .dataframe tbody tr th:only-of-type {\n",
       "        vertical-align: middle;\n",
       "    }\n",
       "\n",
       "    .dataframe tbody tr th {\n",
       "        vertical-align: top;\n",
       "    }\n",
       "\n",
       "    .dataframe thead th {\n",
       "        text-align: right;\n",
       "    }\n",
       "</style>\n",
       "<table border=\"1\" class=\"dataframe\">\n",
       "  <thead>\n",
       "    <tr style=\"text-align: right;\">\n",
       "      <th></th>\n",
       "      <th>BA</th>\n",
       "      <th>BTC-USD</th>\n",
       "      <th>EURUSD=X</th>\n",
       "      <th>GC=F</th>\n",
       "      <th>MSFT</th>\n",
       "      <th>^DJI</th>\n",
       "      <th>USDEUR=X</th>\n",
       "    </tr>\n",
       "    <tr>\n",
       "      <th>Date</th>\n",
       "      <th></th>\n",
       "      <th></th>\n",
       "      <th></th>\n",
       "      <th></th>\n",
       "      <th></th>\n",
       "      <th></th>\n",
       "      <th></th>\n",
       "    </tr>\n",
       "  </thead>\n",
       "  <tbody>\n",
       "    <tr>\n",
       "      <th>2014-10-01</th>\n",
       "      <td>NaN</td>\n",
       "      <td>NaN</td>\n",
       "      <td>NaN</td>\n",
       "      <td>NaN</td>\n",
       "      <td>NaN</td>\n",
       "      <td>NaN</td>\n",
       "      <td>NaN</td>\n",
       "    </tr>\n",
       "    <tr>\n",
       "      <th>2014-10-02</th>\n",
       "      <td>-0.0040</td>\n",
       "      <td>-0.0225</td>\n",
       "      <td>-0.0003</td>\n",
       "      <td>-0.0003</td>\n",
       "      <td>-0.0031</td>\n",
       "      <td>-0.0002</td>\n",
       "      <td>0.0003</td>\n",
       "    </tr>\n",
       "    <tr>\n",
       "      <th>2014-10-03</th>\n",
       "      <td>0.0175</td>\n",
       "      <td>-0.0424</td>\n",
       "      <td>0.0037</td>\n",
       "      <td>-0.0183</td>\n",
       "      <td>0.0072</td>\n",
       "      <td>0.0123</td>\n",
       "      <td>-0.0037</td>\n",
       "    </tr>\n",
       "    <tr>\n",
       "      <th>2014-10-04</th>\n",
       "      <td>NaN</td>\n",
       "      <td>-0.0891</td>\n",
       "      <td>NaN</td>\n",
       "      <td>NaN</td>\n",
       "      <td>NaN</td>\n",
       "      <td>NaN</td>\n",
       "      <td>NaN</td>\n",
       "    </tr>\n",
       "    <tr>\n",
       "      <th>2014-10-05</th>\n",
       "      <td>NaN</td>\n",
       "      <td>-0.0257</td>\n",
       "      <td>NaN</td>\n",
       "      <td>NaN</td>\n",
       "      <td>NaN</td>\n",
       "      <td>NaN</td>\n",
       "      <td>NaN</td>\n",
       "    </tr>\n",
       "    <tr>\n",
       "      <th>...</th>\n",
       "      <td>...</td>\n",
       "      <td>...</td>\n",
       "      <td>...</td>\n",
       "      <td>...</td>\n",
       "      <td>...</td>\n",
       "      <td>...</td>\n",
       "      <td>...</td>\n",
       "    </tr>\n",
       "    <tr>\n",
       "      <th>2021-05-27</th>\n",
       "      <td>0.0379</td>\n",
       "      <td>-0.0221</td>\n",
       "      <td>-0.0046</td>\n",
       "      <td>-0.0029</td>\n",
       "      <td>-0.0087</td>\n",
       "      <td>0.0041</td>\n",
       "      <td>0.0046</td>\n",
       "    </tr>\n",
       "    <tr>\n",
       "      <th>2021-05-28</th>\n",
       "      <td>-0.0148</td>\n",
       "      <td>-0.0739</td>\n",
       "      <td>0.0000</td>\n",
       "      <td>0.0036</td>\n",
       "      <td>0.0015</td>\n",
       "      <td>0.0019</td>\n",
       "      <td>-0.0000</td>\n",
       "    </tr>\n",
       "    <tr>\n",
       "      <th>2021-05-29</th>\n",
       "      <td>NaN</td>\n",
       "      <td>-0.0308</td>\n",
       "      <td>NaN</td>\n",
       "      <td>NaN</td>\n",
       "      <td>NaN</td>\n",
       "      <td>NaN</td>\n",
       "      <td>NaN</td>\n",
       "    </tr>\n",
       "    <tr>\n",
       "      <th>2021-05-30</th>\n",
       "      <td>NaN</td>\n",
       "      <td>0.0302</td>\n",
       "      <td>NaN</td>\n",
       "      <td>NaN</td>\n",
       "      <td>NaN</td>\n",
       "      <td>NaN</td>\n",
       "      <td>NaN</td>\n",
       "    </tr>\n",
       "    <tr>\n",
       "      <th>2021-05-31</th>\n",
       "      <td>NaN</td>\n",
       "      <td>0.0453</td>\n",
       "      <td>-0.0003</td>\n",
       "      <td>NaN</td>\n",
       "      <td>NaN</td>\n",
       "      <td>NaN</td>\n",
       "      <td>0.0003</td>\n",
       "    </tr>\n",
       "  </tbody>\n",
       "</table>\n",
       "<p>2435 rows × 7 columns</p>\n",
       "</div>"
      ],
      "text/plain": [
       "                BA  BTC-USD  EURUSD=X    GC=F    MSFT    ^DJI  USDEUR=X\n",
       "Date                                                                   \n",
       "2014-10-01     NaN      NaN       NaN     NaN     NaN     NaN       NaN\n",
       "2014-10-02 -0.0040  -0.0225   -0.0003 -0.0003 -0.0031 -0.0002    0.0003\n",
       "2014-10-03  0.0175  -0.0424    0.0037 -0.0183  0.0072  0.0123   -0.0037\n",
       "2014-10-04     NaN  -0.0891       NaN     NaN     NaN     NaN       NaN\n",
       "2014-10-05     NaN  -0.0257       NaN     NaN     NaN     NaN       NaN\n",
       "...            ...      ...       ...     ...     ...     ...       ...\n",
       "2021-05-27  0.0379  -0.0221   -0.0046 -0.0029 -0.0087  0.0041    0.0046\n",
       "2021-05-28 -0.0148  -0.0739    0.0000  0.0036  0.0015  0.0019   -0.0000\n",
       "2021-05-29     NaN  -0.0308       NaN     NaN     NaN     NaN       NaN\n",
       "2021-05-30     NaN   0.0302       NaN     NaN     NaN     NaN       NaN\n",
       "2021-05-31     NaN   0.0453   -0.0003     NaN     NaN     NaN    0.0003\n",
       "\n",
       "[2435 rows x 7 columns]"
      ]
     },
     "execution_count": 151,
     "metadata": {},
     "output_type": "execute_result"
    }
   ],
   "source": [
    "returns = close.apply(lambda x: np.log(x.dropna() / x.dropna().shift()))\n",
    "returns"
   ]
  },
  {
   "cell_type": "code",
   "execution_count": 152,
   "id": "dc7993fd",
   "metadata": {},
   "outputs": [
    {
     "data": {
      "text/html": [
       "<div>\n",
       "<style scoped>\n",
       "    .dataframe tbody tr th:only-of-type {\n",
       "        vertical-align: middle;\n",
       "    }\n",
       "\n",
       "    .dataframe tbody tr th {\n",
       "        vertical-align: top;\n",
       "    }\n",
       "\n",
       "    .dataframe thead th {\n",
       "        text-align: right;\n",
       "    }\n",
       "</style>\n",
       "<table border=\"1\" class=\"dataframe\">\n",
       "  <thead>\n",
       "    <tr style=\"text-align: right;\">\n",
       "      <th></th>\n",
       "      <th>BA</th>\n",
       "      <th>BTC-USD</th>\n",
       "      <th>EURUSD=X</th>\n",
       "      <th>GC=F</th>\n",
       "      <th>MSFT</th>\n",
       "      <th>^DJI</th>\n",
       "      <th>USDEUR=X</th>\n",
       "    </tr>\n",
       "  </thead>\n",
       "  <tbody>\n",
       "    <tr>\n",
       "      <th>BA</th>\n",
       "      <td>0.0007</td>\n",
       "      <td>0.0001</td>\n",
       "      <td>0.0000</td>\n",
       "      <td>0.0000</td>\n",
       "      <td>0.0002</td>\n",
       "      <td>0.0002</td>\n",
       "      <td>-0.0000</td>\n",
       "    </tr>\n",
       "    <tr>\n",
       "      <th>BTC-USD</th>\n",
       "      <td>0.0001</td>\n",
       "      <td>0.0016</td>\n",
       "      <td>-0.0000</td>\n",
       "      <td>0.0000</td>\n",
       "      <td>0.0001</td>\n",
       "      <td>0.0001</td>\n",
       "      <td>0.0000</td>\n",
       "    </tr>\n",
       "    <tr>\n",
       "      <th>EURUSD=X</th>\n",
       "      <td>0.0000</td>\n",
       "      <td>-0.0000</td>\n",
       "      <td>0.0000</td>\n",
       "      <td>0.0000</td>\n",
       "      <td>-0.0000</td>\n",
       "      <td>0.0000</td>\n",
       "      <td>-0.0000</td>\n",
       "    </tr>\n",
       "    <tr>\n",
       "      <th>GC=F</th>\n",
       "      <td>0.0000</td>\n",
       "      <td>0.0000</td>\n",
       "      <td>0.0000</td>\n",
       "      <td>0.0001</td>\n",
       "      <td>0.0000</td>\n",
       "      <td>-0.0000</td>\n",
       "      <td>-0.0000</td>\n",
       "    </tr>\n",
       "    <tr>\n",
       "      <th>MSFT</th>\n",
       "      <td>0.0002</td>\n",
       "      <td>0.0001</td>\n",
       "      <td>-0.0000</td>\n",
       "      <td>0.0000</td>\n",
       "      <td>0.0003</td>\n",
       "      <td>0.0002</td>\n",
       "      <td>0.0000</td>\n",
       "    </tr>\n",
       "    <tr>\n",
       "      <th>^DJI</th>\n",
       "      <td>0.0002</td>\n",
       "      <td>0.0001</td>\n",
       "      <td>0.0000</td>\n",
       "      <td>-0.0000</td>\n",
       "      <td>0.0002</td>\n",
       "      <td>0.0001</td>\n",
       "      <td>-0.0000</td>\n",
       "    </tr>\n",
       "    <tr>\n",
       "      <th>USDEUR=X</th>\n",
       "      <td>-0.0000</td>\n",
       "      <td>0.0000</td>\n",
       "      <td>-0.0000</td>\n",
       "      <td>-0.0000</td>\n",
       "      <td>0.0000</td>\n",
       "      <td>-0.0000</td>\n",
       "      <td>0.0000</td>\n",
       "    </tr>\n",
       "  </tbody>\n",
       "</table>\n",
       "</div>"
      ],
      "text/plain": [
       "              BA  BTC-USD  EURUSD=X    GC=F    MSFT    ^DJI  USDEUR=X\n",
       "BA        0.0007   0.0001    0.0000  0.0000  0.0002  0.0002   -0.0000\n",
       "BTC-USD   0.0001   0.0016   -0.0000  0.0000  0.0001  0.0001    0.0000\n",
       "EURUSD=X  0.0000  -0.0000    0.0000  0.0000 -0.0000  0.0000   -0.0000\n",
       "GC=F      0.0000   0.0000    0.0000  0.0001  0.0000 -0.0000   -0.0000\n",
       "MSFT      0.0002   0.0001   -0.0000  0.0000  0.0003  0.0002    0.0000\n",
       "^DJI      0.0002   0.0001    0.0000 -0.0000  0.0002  0.0001   -0.0000\n",
       "USDEUR=X -0.0000   0.0000   -0.0000 -0.0000  0.0000 -0.0000    0.0000"
      ]
     },
     "execution_count": 152,
     "metadata": {},
     "output_type": "execute_result"
    }
   ],
   "source": [
    "returns.cov() # covariance (hard to interpret)"
   ]
  },
  {
   "cell_type": "code",
   "execution_count": 153,
   "id": "15caf37f",
   "metadata": {},
   "outputs": [
    {
     "data": {
      "text/html": [
       "<div>\n",
       "<style scoped>\n",
       "    .dataframe tbody tr th:only-of-type {\n",
       "        vertical-align: middle;\n",
       "    }\n",
       "\n",
       "    .dataframe tbody tr th {\n",
       "        vertical-align: top;\n",
       "    }\n",
       "\n",
       "    .dataframe thead th {\n",
       "        text-align: right;\n",
       "    }\n",
       "</style>\n",
       "<table border=\"1\" class=\"dataframe\">\n",
       "  <thead>\n",
       "    <tr style=\"text-align: right;\">\n",
       "      <th></th>\n",
       "      <th>BA</th>\n",
       "      <th>BTC-USD</th>\n",
       "      <th>EURUSD=X</th>\n",
       "      <th>GC=F</th>\n",
       "      <th>MSFT</th>\n",
       "      <th>^DJI</th>\n",
       "      <th>USDEUR=X</th>\n",
       "    </tr>\n",
       "  </thead>\n",
       "  <tbody>\n",
       "    <tr>\n",
       "      <th>BA</th>\n",
       "      <td>1.0000</td>\n",
       "      <td>0.1328</td>\n",
       "      <td>0.0346</td>\n",
       "      <td>0.0079</td>\n",
       "      <td>0.4221</td>\n",
       "      <td>0.7253</td>\n",
       "      <td>-0.0346</td>\n",
       "    </tr>\n",
       "    <tr>\n",
       "      <th>BTC-USD</th>\n",
       "      <td>0.1328</td>\n",
       "      <td>1.0000</td>\n",
       "      <td>-0.0167</td>\n",
       "      <td>0.0968</td>\n",
       "      <td>0.1423</td>\n",
       "      <td>0.1587</td>\n",
       "      <td>0.0167</td>\n",
       "    </tr>\n",
       "    <tr>\n",
       "      <th>EURUSD=X</th>\n",
       "      <td>0.0346</td>\n",
       "      <td>-0.0167</td>\n",
       "      <td>1.0000</td>\n",
       "      <td>0.0587</td>\n",
       "      <td>-0.0186</td>\n",
       "      <td>0.0297</td>\n",
       "      <td>-1.0000</td>\n",
       "    </tr>\n",
       "    <tr>\n",
       "      <th>GC=F</th>\n",
       "      <td>0.0079</td>\n",
       "      <td>0.0968</td>\n",
       "      <td>0.0587</td>\n",
       "      <td>1.0000</td>\n",
       "      <td>0.0012</td>\n",
       "      <td>-0.0062</td>\n",
       "      <td>-0.0587</td>\n",
       "    </tr>\n",
       "    <tr>\n",
       "      <th>MSFT</th>\n",
       "      <td>0.4221</td>\n",
       "      <td>0.1423</td>\n",
       "      <td>-0.0186</td>\n",
       "      <td>0.0012</td>\n",
       "      <td>1.0000</td>\n",
       "      <td>0.7422</td>\n",
       "      <td>0.0186</td>\n",
       "    </tr>\n",
       "    <tr>\n",
       "      <th>^DJI</th>\n",
       "      <td>0.7253</td>\n",
       "      <td>0.1587</td>\n",
       "      <td>0.0297</td>\n",
       "      <td>-0.0062</td>\n",
       "      <td>0.7422</td>\n",
       "      <td>1.0000</td>\n",
       "      <td>-0.0297</td>\n",
       "    </tr>\n",
       "    <tr>\n",
       "      <th>USDEUR=X</th>\n",
       "      <td>-0.0346</td>\n",
       "      <td>0.0167</td>\n",
       "      <td>-1.0000</td>\n",
       "      <td>-0.0587</td>\n",
       "      <td>0.0186</td>\n",
       "      <td>-0.0297</td>\n",
       "      <td>1.0000</td>\n",
       "    </tr>\n",
       "  </tbody>\n",
       "</table>\n",
       "</div>"
      ],
      "text/plain": [
       "              BA  BTC-USD  EURUSD=X    GC=F    MSFT    ^DJI  USDEUR=X\n",
       "BA        1.0000   0.1328    0.0346  0.0079  0.4221  0.7253   -0.0346\n",
       "BTC-USD   0.1328   1.0000   -0.0167  0.0968  0.1423  0.1587    0.0167\n",
       "EURUSD=X  0.0346  -0.0167    1.0000  0.0587 -0.0186  0.0297   -1.0000\n",
       "GC=F      0.0079   0.0968    0.0587  1.0000  0.0012 -0.0062   -0.0587\n",
       "MSFT      0.4221   0.1423   -0.0186  0.0012  1.0000  0.7422    0.0186\n",
       "^DJI      0.7253   0.1587    0.0297 -0.0062  0.7422  1.0000   -0.0297\n",
       "USDEUR=X -0.0346   0.0167   -1.0000 -0.0587  0.0186 -0.0297    1.0000"
      ]
     },
     "execution_count": 153,
     "metadata": {},
     "output_type": "execute_result"
    }
   ],
   "source": [
    "returns.corr() # correlation coefficient (easy to interpret)"
   ]
  },
  {
   "cell_type": "markdown",
   "id": "162a25f7",
   "metadata": {},
   "source": [
    "Three cases:\n",
    "- no correlation: __correlation coefficient == 0__\n",
    "- moving together: __0 < correlation coefficient <= 1__ (positive)\n",
    "- moving in opposite directions: __-1 <= correlation coefficient < 0__ (negative)"
   ]
  },
  {
   "cell_type": "code",
   "execution_count": 154,
   "id": "bde11c1f",
   "metadata": {},
   "outputs": [],
   "source": [
    "import seaborn as sns"
   ]
  },
  {
   "cell_type": "code",
   "execution_count": 155,
   "id": "c281faae",
   "metadata": {},
   "outputs": [
    {
     "data": {
      "image/png": "[encoded data removed]",
      "text/plain": [
       "<Figure size 864x576 with 2 Axes>"
      ]
     },
     "metadata": {},
     "output_type": "display_data"
    }
   ],
   "source": [
    "plt.figure(figsize=(12,8))\n",
    "sns.set(font_scale=1.4)\n",
    "sns.heatmap(returns.corr(), cmap = \"RdYlBu_r\", annot = True, annot_kws={\"size\":15}, vmin = -1, vmax = 1)\n",
    "plt.show()"
   ]
  },
  {
   "cell_type": "markdown",
   "id": "8e85e4e4",
   "metadata": {},
   "source": [
    "__Take Home: Similar assets are (highly) positive correlated. Different assets exhibit low/no/negative correlation.__ <br>\n",
    "-> In portfolio management it´s beneficial to have assets with low/no/negative correlation (portfolio diversification effect)."
   ]
  },
  {
   "cell_type": "markdown",
   "id": "d10aa0f1",
   "metadata": {},
   "source": [
    "## Portfolio of Assets and Portfolio Returns"
   ]
  },
  {
   "cell_type": "code",
   "execution_count": 156,
   "id": "6890be7a",
   "metadata": {},
   "outputs": [
    {
     "data": {
      "text/html": [
       "<div>\n",
       "<style scoped>\n",
       "    .dataframe tbody tr th:only-of-type {\n",
       "        vertical-align: middle;\n",
       "    }\n",
       "\n",
       "    .dataframe tbody tr th {\n",
       "        vertical-align: top;\n",
       "    }\n",
       "\n",
       "    .dataframe thead th {\n",
       "        text-align: right;\n",
       "    }\n",
       "</style>\n",
       "<table border=\"1\" class=\"dataframe\">\n",
       "  <thead>\n",
       "    <tr style=\"text-align: right;\">\n",
       "      <th></th>\n",
       "      <th>Asset_A</th>\n",
       "      <th>Asset_B</th>\n",
       "    </tr>\n",
       "  </thead>\n",
       "  <tbody>\n",
       "    <tr>\n",
       "      <th>0</th>\n",
       "      <td>100</td>\n",
       "      <td>100</td>\n",
       "    </tr>\n",
       "    <tr>\n",
       "      <th>1</th>\n",
       "      <td>112</td>\n",
       "      <td>104</td>\n",
       "    </tr>\n",
       "  </tbody>\n",
       "</table>\n",
       "</div>"
      ],
      "text/plain": [
       "   Asset_A  Asset_B\n",
       "0      100      100\n",
       "1      112      104"
      ]
     },
     "execution_count": 156,
     "metadata": {},
     "output_type": "execute_result"
    }
   ],
   "source": [
    "prices = pd.DataFrame(data = {\"Asset_A\": [100, 112], \"Asset_B\":[100, 104]}, index = [0, 1])\n",
    "prices"
   ]
  },
  {
   "cell_type": "code",
   "execution_count": 157,
   "id": "ed5c96d7",
   "metadata": {},
   "outputs": [],
   "source": [
    "prices[\"Total\"] = prices.Asset_A + prices.Asset_B"
   ]
  },
  {
   "cell_type": "code",
   "execution_count": 158,
   "id": "75e30f04",
   "metadata": {},
   "outputs": [
    {
     "data": {
      "text/html": [
       "<div>\n",
       "<style scoped>\n",
       "    .dataframe tbody tr th:only-of-type {\n",
       "        vertical-align: middle;\n",
       "    }\n",
       "\n",
       "    .dataframe tbody tr th {\n",
       "        vertical-align: top;\n",
       "    }\n",
       "\n",
       "    .dataframe thead th {\n",
       "        text-align: right;\n",
       "    }\n",
       "</style>\n",
       "<table border=\"1\" class=\"dataframe\">\n",
       "  <thead>\n",
       "    <tr style=\"text-align: right;\">\n",
       "      <th></th>\n",
       "      <th>Asset_A</th>\n",
       "      <th>Asset_B</th>\n",
       "      <th>Total</th>\n",
       "    </tr>\n",
       "  </thead>\n",
       "  <tbody>\n",
       "    <tr>\n",
       "      <th>0</th>\n",
       "      <td>100</td>\n",
       "      <td>100</td>\n",
       "      <td>200</td>\n",
       "    </tr>\n",
       "    <tr>\n",
       "      <th>1</th>\n",
       "      <td>112</td>\n",
       "      <td>104</td>\n",
       "      <td>216</td>\n",
       "    </tr>\n",
       "  </tbody>\n",
       "</table>\n",
       "</div>"
      ],
      "text/plain": [
       "   Asset_A  Asset_B  Total\n",
       "0      100      100    200\n",
       "1      112      104    216"
      ]
     },
     "execution_count": 158,
     "metadata": {},
     "output_type": "execute_result"
    }
   ],
   "source": [
    "prices"
   ]
  },
  {
   "cell_type": "code",
   "execution_count": 159,
   "id": "ea29ceed",
   "metadata": {},
   "outputs": [
    {
     "data": {
      "text/html": [
       "<div>\n",
       "<style scoped>\n",
       "    .dataframe tbody tr th:only-of-type {\n",
       "        vertical-align: middle;\n",
       "    }\n",
       "\n",
       "    .dataframe tbody tr th {\n",
       "        vertical-align: top;\n",
       "    }\n",
       "\n",
       "    .dataframe thead th {\n",
       "        text-align: right;\n",
       "    }\n",
       "</style>\n",
       "<table border=\"1\" class=\"dataframe\">\n",
       "  <thead>\n",
       "    <tr style=\"text-align: right;\">\n",
       "      <th></th>\n",
       "      <th>Asset_A</th>\n",
       "      <th>Asset_B</th>\n",
       "      <th>Total</th>\n",
       "    </tr>\n",
       "  </thead>\n",
       "  <tbody>\n",
       "    <tr>\n",
       "      <th>0</th>\n",
       "      <td>NaN</td>\n",
       "      <td>NaN</td>\n",
       "      <td>NaN</td>\n",
       "    </tr>\n",
       "    <tr>\n",
       "      <th>1</th>\n",
       "      <td>0.1200</td>\n",
       "      <td>0.0400</td>\n",
       "      <td>0.0800</td>\n",
       "    </tr>\n",
       "  </tbody>\n",
       "</table>\n",
       "</div>"
      ],
      "text/plain": [
       "   Asset_A  Asset_B  Total\n",
       "0      NaN      NaN    NaN\n",
       "1   0.1200   0.0400 0.0800"
      ]
     },
     "execution_count": 159,
     "metadata": {},
     "output_type": "execute_result"
    }
   ],
   "source": [
    "returns = prices.pct_change() # simple returns\n",
    "returns"
   ]
  },
  {
   "cell_type": "code",
   "execution_count": 160,
   "id": "fc6a9283",
   "metadata": {},
   "outputs": [
    {
     "data": {
      "text/plain": [
       "0.08"
      ]
     },
     "execution_count": 160,
     "metadata": {},
     "output_type": "execute_result"
    }
   ],
   "source": [
    "0.5 * 0.12 + 0.5 * 0.04 # correct (portfolio return == weighted average of simple returns)"
   ]
  },
  {
   "cell_type": "code",
   "execution_count": 161,
   "id": "81f48cb0",
   "metadata": {},
   "outputs": [
    {
     "data": {
      "text/html": [
       "<div>\n",
       "<style scoped>\n",
       "    .dataframe tbody tr th:only-of-type {\n",
       "        vertical-align: middle;\n",
       "    }\n",
       "\n",
       "    .dataframe tbody tr th {\n",
       "        vertical-align: top;\n",
       "    }\n",
       "\n",
       "    .dataframe thead th {\n",
       "        text-align: right;\n",
       "    }\n",
       "</style>\n",
       "<table border=\"1\" class=\"dataframe\">\n",
       "  <thead>\n",
       "    <tr style=\"text-align: right;\">\n",
       "      <th></th>\n",
       "      <th>Asset_A</th>\n",
       "      <th>Asset_B</th>\n",
       "      <th>Total</th>\n",
       "    </tr>\n",
       "  </thead>\n",
       "  <tbody>\n",
       "    <tr>\n",
       "      <th>0</th>\n",
       "      <td>NaN</td>\n",
       "      <td>NaN</td>\n",
       "      <td>NaN</td>\n",
       "    </tr>\n",
       "    <tr>\n",
       "      <th>1</th>\n",
       "      <td>0.1133</td>\n",
       "      <td>0.0392</td>\n",
       "      <td>0.0770</td>\n",
       "    </tr>\n",
       "  </tbody>\n",
       "</table>\n",
       "</div>"
      ],
      "text/plain": [
       "   Asset_A  Asset_B  Total\n",
       "0      NaN      NaN    NaN\n",
       "1   0.1133   0.0392 0.0770"
      ]
     },
     "execution_count": 161,
     "metadata": {},
     "output_type": "execute_result"
    }
   ],
   "source": [
    "log_returns = np.log(prices / prices.shift()) # log returns\n",
    "log_returns"
   ]
  },
  {
   "cell_type": "code",
   "execution_count": 162,
   "id": "69a5f99f",
   "metadata": {},
   "outputs": [
    {
     "data": {
      "text/plain": [
       "0.0762746992301423"
      ]
     },
     "execution_count": 162,
     "metadata": {},
     "output_type": "execute_result"
    }
   ],
   "source": [
    "0.5 * log_returns.iloc[1,0] + 0.5 * log_returns.iloc[1,1] # incorrect (portfolio return != weighted average of log returns)"
   ]
  }
 ],
 "metadata": {
  "kernelspec": {
   "display_name": "Python 3 (ipykernel)",
   "language": "python",
   "name": "python3"
  },
  "language_info": {
   "codemirror_mode": {
    "name": "ipython",
    "version": 3
   },
   "file_extension": ".py",
   "mimetype": "text/x-python",
   "name": "python",
   "nbconvert_exporter": "python",
   "pygments_lexer": "ipython3",
   "version": "3.9.7"
  }
 },
 "nbformat": 4,
 "nbformat_minor": 5
}
