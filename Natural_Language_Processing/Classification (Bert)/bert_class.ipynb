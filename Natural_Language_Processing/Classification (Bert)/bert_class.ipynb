{
 "cells": [
  {
   "cell_type": "markdown",
   "id": "1d99fc53",
   "metadata": {},
   "source": [
    "\n",
    "# Appeals classification task\n",
    "\n",
    "The task is to train a model to find the appeals of bank customers consist of description of special type of fraud they faced from all of the customers' feedback. We interested in the situations where a potential impostor calls to the customer and introduces himself as a member of a customer service of the bank. Then, impostor tells the customer the actual balance of customer's card account to convince his prey. The language of the text is Russian\n",
    "\n",
    "The complexity of the task lies in the fact that there are a lot of messages containing problems with the balance of card account and different fraud types, so it is hard to use regular expressions or similar default approaches to catch what we need here.\n",
    "\n",
    "We are going to use Transformers and Pytorch libraries to fine-tune a BERT model since BERT shows wonderful results on different tasks and is rather easy to fine-tune"
   ]
  },
  {
   "cell_type": "code",
   "execution_count": null,
   "id": "433a453f",
   "metadata": {},
   "outputs": [],
   "source": [
    "import pandas as pd"
   ]
  },
  {
   "cell_type": "code",
   "execution_count": null,
   "id": "6fd241da",
   "metadata": {},
   "outputs": [],
   "source": [
    "import torch"
   ]
  },
  {
   "cell_type": "code",
   "execution_count": null,
   "id": "66855043",
   "metadata": {},
   "outputs": [],
   "source": [
    "train_data = pd.read_csv('train.csv', sep=\"\\t\")\n",
    "valid_data = pd.read_csv('valid.csv', sep=\"\\t\")\n",
    "test_data  = pd.read_csv('test.csv', sep=\"\\t\")"
   ]
  },
  {
   "cell_type": "markdown",
   "id": "6b85bd74",
   "metadata": {},
   "source": [
    "For this specific task we created **two helper classes**. One for classifier and the other for the **data proccessing**.\n",
    "\n",
    "**CustomDataset** class consists of methods to proccess the input texts and make it ready for DataLoader class from pytorch. More specificaly it tokenizes input texts with tokenizer that was defined previously using padding and converts the target data into tensors. It is written with the help of this tutorial\n",
    "\n",
    "**BertClassifier** is our main class that trains and evaluates the model. It gets as input path to the model, path to the tokenizer, number of classess to predict, number of epochs."
   ]
  },
  {
   "cell_type": "markdown",
   "id": "3ec21814",
   "metadata": {},
   "source": [
    "**Preparation** method initializes dataloaders using our CustomDataset class, optimizer parameters and a loss function\n",
    "\n",
    "**fit** method defines our train loop, performs optimization steps\n",
    "\n",
    "**eval** is our evaluation method. It returns losses and accuracy on validation dataset\n",
    "\n",
    "**train** method performs fit method as many times as needed saving the best model\n",
    "\n",
    "**predict** method takes a text and outputs predictions by trained model which was saved inside *train method*"
   ]
  },
  {
   "cell_type": "code",
   "execution_count": null,
   "id": "04b0afab",
   "metadata": {},
   "outputs": [],
   "source": [
    "from bert_dataset import CustomDataset\n",
    "from bert_classifier import BertClassifier"
   ]
  },
  {
   "cell_type": "markdown",
   "id": "885c8c4f",
   "metadata": {},
   "source": [
    "### Initialize BERT classifier\n",
    "\n",
    "Here we Initialize the object of our BertClassifier class. Model that is used is Rubert - popular BERT model for Russian language. You can find it on HuggingFace"
   ]
  },
  {
   "cell_type": "code",
   "execution_count": null,
   "id": "9957804e",
   "metadata": {},
   "outputs": [],
   "source": [
    "classifier = BertClassifier(\n",
    "        model_path='rubert_cased_L-12_H-768_A-12_v1',\n",
    "        tokenizer_path='rubert_cased_L-12_H-768_A-12_v1/vocab.txt',\n",
    "        n_classes=2,\n",
    "        epochs=2,\n",
    "        model_save_path='bertmodel_.pt'\n",
    ")"
   ]
  },
  {
   "cell_type": "code",
   "execution_count": null,
   "id": "aa997669",
   "metadata": {},
   "outputs": [],
   "source": [
    "classifier.preparation(\n",
    "        X_train=list(train_data['text']),\n",
    "        y_train=list(train_data['value']),\n",
    "        X_valid=list(valid_data['text']),\n",
    "        y_valid=list(valid_data['value'])\n",
    "    )"
   ]
  },
  {
   "cell_type": "code",
   "execution_count": null,
   "id": "854d1b85",
   "metadata": {},
   "outputs": [],
   "source": [
    "if torch.cuda.is_available():\n",
    "    device = torch.device(\"cuda\", 1)\n",
    "    print('GPU avaliable')\n",
    "else:\n",
    "    device = torch.device(\"cpu\")\n",
    "    print(\"GPU UNavaliable\")"
   ]
  },
  {
   "cell_type": "markdown",
   "id": "ae601a57",
   "metadata": {},
   "source": [
    "Train our model"
   ]
  },
  {
   "cell_type": "code",
   "execution_count": null,
   "id": "12e7a47a",
   "metadata": {},
   "outputs": [],
   "source": [
    "classifier.train()"
   ]
  },
  {
   "cell_type": "code",
   "execution_count": null,
   "id": "30c288ce",
   "metadata": {},
   "outputs": [],
   "source": [
    "texts = list(test_data['text'])\n",
    "labels = list(test_data['value'])\n",
    "\n",
    "predictions = [classifier.predict(t) for t in texts]"
   ]
  },
  {
   "cell_type": "code",
   "execution_count": null,
   "id": "04f4558f",
   "metadata": {},
   "outputs": [],
   "source": [
    "from sklearn.metrics import precision_recall_fscore_support\n",
    "\n",
    "precision, recall, f1score = precision_recall_fscore_support(labels, predictions,average='macro')[:3]\n",
    "\n",
    "print(f'precision: {precision}, recall: {recall}, f1score: {f1score}')"
   ]
  }
 ],
 "metadata": {
  "kernelspec": {
   "display_name": "Python 3 (ipykernel)",
   "language": "python",
   "name": "python3"
  },
  "language_info": {
   "codemirror_mode": {
    "name": "ipython",
    "version": 3
   },
   "file_extension": ".py",
   "mimetype": "text/x-python",
   "name": "python",
   "nbconvert_exporter": "python",
   "pygments_lexer": "ipython3",
   "version": "3.9.7"
  }
 },
 "nbformat": 4,
 "nbformat_minor": 5
}
