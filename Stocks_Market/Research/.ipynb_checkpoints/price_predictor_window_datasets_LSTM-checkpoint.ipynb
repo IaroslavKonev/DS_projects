{
 "cells": [
  {
   "cell_type": "markdown",
   "id": "ac210a82",
   "metadata": {},
   "source": [
    "# Next day close predictor\n",
    "\n",
    "In this paper I am writing a neuron that will predict the closing price of a security for the next day.\n",
    "This price prediction will be transferred to the decision-making block based on risk and financial management.\n",
    "\n",
    "The basic data study is located in the price_predictor_custom_datasets-lgbm notebook\n",
    "Here we will take an elementary approach to the solution using lags.\n",
    "\n",
    "As data we will take a dataset from kaggle: https://www.kaggle.com/datasets/borismarjanovic/price-volume-data-for-all-us-stocks-etfs"
   ]
  },
  {
   "cell_type": "code",
   "execution_count": 1,
   "id": "d77747dd",
   "metadata": {},
   "outputs": [
    {
     "name": "stderr",
     "output_type": "stream",
     "text": [
      "2022-11-10 18:42:58.923934: W tensorflow/stream_executor/platform/default/dso_loader.cc:64] Could not load dynamic library 'libcudart.so.11.0'; dlerror: libcudart.so.11.0: cannot open shared object file: No such file or directory\n",
      "2022-11-10 18:42:58.923994: I tensorflow/stream_executor/cuda/cudart_stub.cc:29] Ignore above cudart dlerror if you do not have a GPU set up on your machine.\n"
     ]
    }
   ],
   "source": [
    "import pandas as pd\n",
    "from datetime import datetime, timedelta\n",
    "import matplotlib.pyplot as plt\n",
    "import numpy as np\n",
    "\n",
    "from tensorflow.keras.models import Sequential\n",
    "from tensorflow.keras.optimizers import Adam\n",
    "from tensorflow.keras import layers"
   ]
  },
  {
   "cell_type": "markdown",
   "id": "2772b889",
   "metadata": {},
   "source": [
    "Начнем с предсказания цены акций The Procter & Gamble (тикер на NYSE:PG)"
   ]
  },
  {
   "cell_type": "markdown",
   "id": "01194e90",
   "metadata": {},
   "source": [
    "## 1. Data preparation"
   ]
  },
  {
   "cell_type": "code",
   "execution_count": 2,
   "id": "b74022a6",
   "metadata": {},
   "outputs": [],
   "source": [
    "# Read data\n",
    "df = pd.read_csv(\"pg.us.txt\", parse_dates=[\"Date\"])"
   ]
  },
  {
   "cell_type": "code",
   "execution_count": 3,
   "id": "2a729ad5",
   "metadata": {},
   "outputs": [
    {
     "data": {
      "text/plain": [
       "(12075, 7)"
      ]
     },
     "execution_count": 3,
     "metadata": {},
     "output_type": "execute_result"
    }
   ],
   "source": [
    "df.shape"
   ]
  },
  {
   "cell_type": "code",
   "execution_count": 4,
   "id": "ed41ef04",
   "metadata": {},
   "outputs": [
    {
     "name": "stdout",
     "output_type": "stream",
     "text": [
      "<class 'pandas.core.frame.DataFrame'>\n",
      "RangeIndex: 12075 entries, 0 to 12074\n",
      "Data columns (total 7 columns):\n",
      " #   Column   Non-Null Count  Dtype         \n",
      "---  ------   --------------  -----         \n",
      " 0   Date     12075 non-null  datetime64[ns]\n",
      " 1   Open     12075 non-null  float64       \n",
      " 2   High     12075 non-null  float64       \n",
      " 3   Low      12075 non-null  float64       \n",
      " 4   Close    12075 non-null  float64       \n",
      " 5   Volume   12075 non-null  int64         \n",
      " 6   OpenInt  12075 non-null  int64         \n",
      "dtypes: datetime64[ns](1), float64(4), int64(2)\n",
      "memory usage: 660.5 KB\n"
     ]
    }
   ],
   "source": [
    "df.info()"
   ]
  },
  {
   "cell_type": "code",
   "execution_count": 5,
   "id": "95086d4a",
   "metadata": {},
   "outputs": [
    {
     "data": {
      "text/html": [
       "<div>\n",
       "<style scoped>\n",
       "    .dataframe tbody tr th:only-of-type {\n",
       "        vertical-align: middle;\n",
       "    }\n",
       "\n",
       "    .dataframe tbody tr th {\n",
       "        vertical-align: top;\n",
       "    }\n",
       "\n",
       "    .dataframe thead th {\n",
       "        text-align: right;\n",
       "    }\n",
       "</style>\n",
       "<table border=\"1\" class=\"dataframe\">\n",
       "  <thead>\n",
       "    <tr style=\"text-align: right;\">\n",
       "      <th></th>\n",
       "      <th>Date</th>\n",
       "      <th>Open</th>\n",
       "      <th>High</th>\n",
       "      <th>Low</th>\n",
       "      <th>Close</th>\n",
       "      <th>Volume</th>\n",
       "      <th>OpenInt</th>\n",
       "    </tr>\n",
       "  </thead>\n",
       "  <tbody>\n",
       "    <tr>\n",
       "      <th>0</th>\n",
       "      <td>1970-01-02</td>\n",
       "      <td>1.3715</td>\n",
       "      <td>1.3796</td>\n",
       "      <td>1.3715</td>\n",
       "      <td>1.3796</td>\n",
       "      <td>1031284</td>\n",
       "      <td>0</td>\n",
       "    </tr>\n",
       "    <tr>\n",
       "      <th>1</th>\n",
       "      <td>1970-01-05</td>\n",
       "      <td>1.3796</td>\n",
       "      <td>1.3875</td>\n",
       "      <td>1.3715</td>\n",
       "      <td>1.3875</td>\n",
       "      <td>642565</td>\n",
       "      <td>0</td>\n",
       "    </tr>\n",
       "    <tr>\n",
       "      <th>2</th>\n",
       "      <td>1970-01-06</td>\n",
       "      <td>1.3796</td>\n",
       "      <td>1.3796</td>\n",
       "      <td>1.3715</td>\n",
       "      <td>1.3796</td>\n",
       "      <td>594971</td>\n",
       "      <td>0</td>\n",
       "    </tr>\n",
       "    <tr>\n",
       "      <th>3</th>\n",
       "      <td>1970-01-07</td>\n",
       "      <td>1.3796</td>\n",
       "      <td>1.4039</td>\n",
       "      <td>1.3796</td>\n",
       "      <td>1.4039</td>\n",
       "      <td>880559</td>\n",
       "      <td>0</td>\n",
       "    </tr>\n",
       "    <tr>\n",
       "      <th>4</th>\n",
       "      <td>1970-01-08</td>\n",
       "      <td>1.4039</td>\n",
       "      <td>1.4198</td>\n",
       "      <td>1.3956</td>\n",
       "      <td>1.4198</td>\n",
       "      <td>658435</td>\n",
       "      <td>0</td>\n",
       "    </tr>\n",
       "  </tbody>\n",
       "</table>\n",
       "</div>"
      ],
      "text/plain": [
       "        Date    Open    High     Low   Close   Volume  OpenInt\n",
       "0 1970-01-02  1.3715  1.3796  1.3715  1.3796  1031284        0\n",
       "1 1970-01-05  1.3796  1.3875  1.3715  1.3875   642565        0\n",
       "2 1970-01-06  1.3796  1.3796  1.3715  1.3796   594971        0\n",
       "3 1970-01-07  1.3796  1.4039  1.3796  1.4039   880559        0\n",
       "4 1970-01-08  1.4039  1.4198  1.3956  1.4198   658435        0"
      ]
     },
     "execution_count": 5,
     "metadata": {},
     "output_type": "execute_result"
    }
   ],
   "source": [
    "df.head()"
   ]
  },
  {
   "cell_type": "code",
   "execution_count": 6,
   "id": "114ea1d1",
   "metadata": {},
   "outputs": [
    {
     "data": {
      "text/html": [
       "<div>\n",
       "<style scoped>\n",
       "    .dataframe tbody tr th:only-of-type {\n",
       "        vertical-align: middle;\n",
       "    }\n",
       "\n",
       "    .dataframe tbody tr th {\n",
       "        vertical-align: top;\n",
       "    }\n",
       "\n",
       "    .dataframe thead th {\n",
       "        text-align: right;\n",
       "    }\n",
       "</style>\n",
       "<table border=\"1\" class=\"dataframe\">\n",
       "  <thead>\n",
       "    <tr style=\"text-align: right;\">\n",
       "      <th></th>\n",
       "      <th>Date</th>\n",
       "      <th>Open</th>\n",
       "      <th>High</th>\n",
       "      <th>Low</th>\n",
       "      <th>Close</th>\n",
       "      <th>Volume</th>\n",
       "      <th>OpenInt</th>\n",
       "    </tr>\n",
       "  </thead>\n",
       "  <tbody>\n",
       "    <tr>\n",
       "      <th>12070</th>\n",
       "      <td>2017-11-06</td>\n",
       "      <td>86.55</td>\n",
       "      <td>86.6400</td>\n",
       "      <td>86.03</td>\n",
       "      <td>86.05</td>\n",
       "      <td>5186619</td>\n",
       "      <td>0</td>\n",
       "    </tr>\n",
       "    <tr>\n",
       "      <th>12071</th>\n",
       "      <td>2017-11-07</td>\n",
       "      <td>86.04</td>\n",
       "      <td>87.0000</td>\n",
       "      <td>85.42</td>\n",
       "      <td>86.98</td>\n",
       "      <td>6874114</td>\n",
       "      <td>0</td>\n",
       "    </tr>\n",
       "    <tr>\n",
       "      <th>12072</th>\n",
       "      <td>2017-11-08</td>\n",
       "      <td>86.99</td>\n",
       "      <td>87.6000</td>\n",
       "      <td>86.80</td>\n",
       "      <td>87.58</td>\n",
       "      <td>6906479</td>\n",
       "      <td>0</td>\n",
       "    </tr>\n",
       "    <tr>\n",
       "      <th>12073</th>\n",
       "      <td>2017-11-09</td>\n",
       "      <td>87.35</td>\n",
       "      <td>88.1698</td>\n",
       "      <td>87.30</td>\n",
       "      <td>87.78</td>\n",
       "      <td>5279965</td>\n",
       "      <td>0</td>\n",
       "    </tr>\n",
       "    <tr>\n",
       "      <th>12074</th>\n",
       "      <td>2017-11-10</td>\n",
       "      <td>87.99</td>\n",
       "      <td>88.3900</td>\n",
       "      <td>87.78</td>\n",
       "      <td>88.16</td>\n",
       "      <td>7226148</td>\n",
       "      <td>0</td>\n",
       "    </tr>\n",
       "  </tbody>\n",
       "</table>\n",
       "</div>"
      ],
      "text/plain": [
       "            Date   Open     High    Low  Close   Volume  OpenInt\n",
       "12070 2017-11-06  86.55  86.6400  86.03  86.05  5186619        0\n",
       "12071 2017-11-07  86.04  87.0000  85.42  86.98  6874114        0\n",
       "12072 2017-11-08  86.99  87.6000  86.80  87.58  6906479        0\n",
       "12073 2017-11-09  87.35  88.1698  87.30  87.78  5279965        0\n",
       "12074 2017-11-10  87.99  88.3900  87.78  88.16  7226148        0"
      ]
     },
     "execution_count": 6,
     "metadata": {},
     "output_type": "execute_result"
    }
   ],
   "source": [
    "df.tail()"
   ]
  },
  {
   "cell_type": "code",
   "execution_count": 7,
   "id": "40bbd40e",
   "metadata": {},
   "outputs": [
    {
     "data": {
      "text/plain": [
       "(Timestamp('1970-01-02 00:00:00'), Timestamp('2017-11-10 00:00:00'))"
      ]
     },
     "execution_count": 7,
     "metadata": {},
     "output_type": "execute_result"
    }
   ],
   "source": [
    "# Check min and max Date\n",
    "df[\"Date\"].min(), df[\"Date\"].max()"
   ]
  },
  {
   "cell_type": "code",
   "execution_count": 8,
   "id": "23925a64",
   "metadata": {},
   "outputs": [],
   "source": [
    "df=df[[\"Date\", \"Close\"]]"
   ]
  },
  {
   "cell_type": "code",
   "execution_count": 9,
   "id": "731b7fd6",
   "metadata": {},
   "outputs": [],
   "source": [
    "# Let's write a function to convert the time string to date\n",
    "def str_to_datetime(s):\n",
    "    return datetime.strptime(s, '%Y-%m-%d')"
   ]
  },
  {
   "cell_type": "code",
   "execution_count": 10,
   "id": "3ca8f7bb",
   "metadata": {},
   "outputs": [
    {
     "data": {
      "text/plain": [
       "datetime.datetime(2022, 3, 19, 0, 0)"
      ]
     },
     "execution_count": 10,
     "metadata": {},
     "output_type": "execute_result"
    }
   ],
   "source": [
    "# check\n",
    "datetime_object = str_to_datetime('2022-03-19')\n",
    "datetime_object"
   ]
  },
  {
   "cell_type": "code",
   "execution_count": 11,
   "id": "be810dc9",
   "metadata": {},
   "outputs": [
    {
     "data": {
      "text/html": [
       "<div>\n",
       "<style scoped>\n",
       "    .dataframe tbody tr th:only-of-type {\n",
       "        vertical-align: middle;\n",
       "    }\n",
       "\n",
       "    .dataframe tbody tr th {\n",
       "        vertical-align: top;\n",
       "    }\n",
       "\n",
       "    .dataframe thead th {\n",
       "        text-align: right;\n",
       "    }\n",
       "</style>\n",
       "<table border=\"1\" class=\"dataframe\">\n",
       "  <thead>\n",
       "    <tr style=\"text-align: right;\">\n",
       "      <th></th>\n",
       "      <th>Date</th>\n",
       "      <th>Close</th>\n",
       "    </tr>\n",
       "  </thead>\n",
       "  <tbody>\n",
       "    <tr>\n",
       "      <th>0</th>\n",
       "      <td>1970-01-02</td>\n",
       "      <td>1.3796</td>\n",
       "    </tr>\n",
       "    <tr>\n",
       "      <th>1</th>\n",
       "      <td>1970-01-05</td>\n",
       "      <td>1.3875</td>\n",
       "    </tr>\n",
       "    <tr>\n",
       "      <th>2</th>\n",
       "      <td>1970-01-06</td>\n",
       "      <td>1.3796</td>\n",
       "    </tr>\n",
       "    <tr>\n",
       "      <th>3</th>\n",
       "      <td>1970-01-07</td>\n",
       "      <td>1.4039</td>\n",
       "    </tr>\n",
       "    <tr>\n",
       "      <th>4</th>\n",
       "      <td>1970-01-08</td>\n",
       "      <td>1.4198</td>\n",
       "    </tr>\n",
       "    <tr>\n",
       "      <th>...</th>\n",
       "      <td>...</td>\n",
       "      <td>...</td>\n",
       "    </tr>\n",
       "    <tr>\n",
       "      <th>12070</th>\n",
       "      <td>2017-11-06</td>\n",
       "      <td>86.0500</td>\n",
       "    </tr>\n",
       "    <tr>\n",
       "      <th>12071</th>\n",
       "      <td>2017-11-07</td>\n",
       "      <td>86.9800</td>\n",
       "    </tr>\n",
       "    <tr>\n",
       "      <th>12072</th>\n",
       "      <td>2017-11-08</td>\n",
       "      <td>87.5800</td>\n",
       "    </tr>\n",
       "    <tr>\n",
       "      <th>12073</th>\n",
       "      <td>2017-11-09</td>\n",
       "      <td>87.7800</td>\n",
       "    </tr>\n",
       "    <tr>\n",
       "      <th>12074</th>\n",
       "      <td>2017-11-10</td>\n",
       "      <td>88.1600</td>\n",
       "    </tr>\n",
       "  </tbody>\n",
       "</table>\n",
       "<p>12075 rows × 2 columns</p>\n",
       "</div>"
      ],
      "text/plain": [
       "            Date    Close\n",
       "0     1970-01-02   1.3796\n",
       "1     1970-01-05   1.3875\n",
       "2     1970-01-06   1.3796\n",
       "3     1970-01-07   1.4039\n",
       "4     1970-01-08   1.4198\n",
       "...          ...      ...\n",
       "12070 2017-11-06  86.0500\n",
       "12071 2017-11-07  86.9800\n",
       "12072 2017-11-08  87.5800\n",
       "12073 2017-11-09  87.7800\n",
       "12074 2017-11-10  88.1600\n",
       "\n",
       "[12075 rows x 2 columns]"
      ]
     },
     "execution_count": 11,
     "metadata": {},
     "output_type": "execute_result"
    }
   ],
   "source": [
    "df"
   ]
  },
  {
   "cell_type": "code",
   "execution_count": 12,
   "id": "2be6e764",
   "metadata": {},
   "outputs": [
    {
     "name": "stdout",
     "output_type": "stream",
     "text": [
      "<class 'pandas.core.frame.DataFrame'>\n",
      "RangeIndex: 12075 entries, 0 to 12074\n",
      "Data columns (total 2 columns):\n",
      " #   Column  Non-Null Count  Dtype         \n",
      "---  ------  --------------  -----         \n",
      " 0   Date    12075 non-null  datetime64[ns]\n",
      " 1   Close   12075 non-null  float64       \n",
      "dtypes: datetime64[ns](1), float64(1)\n",
      "memory usage: 188.8 KB\n"
     ]
    }
   ],
   "source": [
    "df.info()"
   ]
  },
  {
   "cell_type": "code",
   "execution_count": 13,
   "id": "9dc38992",
   "metadata": {},
   "outputs": [],
   "source": [
    "target_date = str_to_datetime('2016-11-10')"
   ]
  },
  {
   "cell_type": "code",
   "execution_count": 14,
   "id": "14f4871b",
   "metadata": {},
   "outputs": [
    {
     "data": {
      "text/plain": [
       "datetime.datetime(2016, 11, 10, 0, 0)"
      ]
     },
     "execution_count": 14,
     "metadata": {},
     "output_type": "execute_result"
    }
   ],
   "source": [
    "target_date"
   ]
  },
  {
   "cell_type": "code",
   "execution_count": 15,
   "id": "3f1f9f61",
   "metadata": {},
   "outputs": [],
   "source": [
    "df=df.set_index(\"Date\")"
   ]
  },
  {
   "cell_type": "markdown",
   "id": "148d09c3",
   "metadata": {},
   "source": [
    "## 2. Data engineering"
   ]
  },
  {
   "cell_type": "code",
   "execution_count": 16,
   "id": "6a9925d2",
   "metadata": {},
   "outputs": [
    {
     "name": "stdout",
     "output_type": "stream",
     "text": [
      "Line of documentation: \n",
      " \n",
      "     input:\n",
      "    \n",
      "        dataframe - DataFrameObject - The frame being studied\n",
      "    \n",
      "        first_date_str - str - The initial date in YYYY-MM-DD format till which we will start studying\n",
      "            \n",
      "        last_date_str - str - End date up to which we will start studying in the YYYYY-MM-DD format\n",
      "        \n",
      "        n - int - The number of lags (features)\n",
      "    \n",
      "    This function generates additional features based on time series math.\n",
      "    It adds offset lags.\n",
      "    \n",
      "    output:\n",
      "    \n",
      "        ret_df - DataFrameObject - Frame with features and target\n",
      "    \n"
     ]
    }
   ],
   "source": [
    "def df_to_windowed_df(dataframe, first_date_str, last_date_str, n=3):\n",
    "    '''\n",
    "     input:\n",
    "    \n",
    "        dataframe - DataFrameObject - The frame being studied\n",
    "    \n",
    "        first_date_str - str - The initial date in YYYY-MM-DD format till which we will start studying\n",
    "            \n",
    "        last_date_str - str - End date up to which we will start studying in the YYYYY-MM-DD format\n",
    "        \n",
    "        n - int - The number of lags (features)\n",
    "    \n",
    "    This function generates additional features based on time series math.\n",
    "    It adds offset lags.\n",
    "    \n",
    "    output:\n",
    "    \n",
    "        ret_df - DataFrameObject - Frame with features and target\n",
    "    '''\n",
    "    \n",
    "    first_date = str_to_datetime(first_date_str)\n",
    "    last_date  = str_to_datetime(last_date_str)\n",
    "\n",
    "    target_date = first_date\n",
    "  \n",
    "    dates = []\n",
    "    X, Y = [], []\n",
    "\n",
    "    last_time = False\n",
    "    while True:\n",
    "        df_subset = dataframe.loc[:target_date].tail(n+1)\n",
    "    \n",
    "        if len(df_subset) != n+1:\n",
    "            print(f'Error: the size of the \"Window\" for the lag {n} too big for the data {target_date}')\n",
    "            return\n",
    "\n",
    "        values = df_subset['Close'].to_numpy()\n",
    "        x, y = values[:-1], values[-1]\n",
    "\n",
    "        dates.append(target_date)\n",
    "        X.append(x)\n",
    "        Y.append(y)\n",
    "\n",
    "        next_week = dataframe.loc[target_date:target_date+timedelta(days=7)]\n",
    "        next_datetime_str = str(next_week.head(2).tail(1).index.values[0])\n",
    "        next_date_str = next_datetime_str.split('T')[0]\n",
    "        year_month_day = next_date_str.split('-')\n",
    "        year, month, day = year_month_day\n",
    "        next_date = datetime(day=int(day), month=int(month), year=int(year))\n",
    "    \n",
    "        if last_time:\n",
    "            break\n",
    "    \n",
    "        target_date = next_date\n",
    "\n",
    "        if target_date == last_date:\n",
    "            last_time = True\n",
    "    \n",
    "    ret_df = pd.DataFrame({})\n",
    "    ret_df['Target Date'] = dates\n",
    "  \n",
    "    X = np.array(X)\n",
    "    for i in range(0, n):\n",
    "        X[:, i]\n",
    "        ret_df[f'Target-{n-i}'] = X[:, i]\n",
    "  \n",
    "    ret_df['Target'] = Y\n",
    "\n",
    "    return ret_df\n",
    "\n",
    "print('Line of documentation: \\n', df_to_windowed_df.__doc__)   "
   ]
  },
  {
   "cell_type": "code",
   "execution_count": 17,
   "id": "60a23167",
   "metadata": {},
   "outputs": [
    {
     "data": {
      "text/html": [
       "<div>\n",
       "<style scoped>\n",
       "    .dataframe tbody tr th:only-of-type {\n",
       "        vertical-align: middle;\n",
       "    }\n",
       "\n",
       "    .dataframe tbody tr th {\n",
       "        vertical-align: top;\n",
       "    }\n",
       "\n",
       "    .dataframe thead th {\n",
       "        text-align: right;\n",
       "    }\n",
       "</style>\n",
       "<table border=\"1\" class=\"dataframe\">\n",
       "  <thead>\n",
       "    <tr style=\"text-align: right;\">\n",
       "      <th></th>\n",
       "      <th>Target Date</th>\n",
       "      <th>Target-3</th>\n",
       "      <th>Target-2</th>\n",
       "      <th>Target-1</th>\n",
       "      <th>Target</th>\n",
       "    </tr>\n",
       "  </thead>\n",
       "  <tbody>\n",
       "    <tr>\n",
       "      <th>0</th>\n",
       "      <td>2016-11-10</td>\n",
       "      <td>83.936</td>\n",
       "      <td>84.808</td>\n",
       "      <td>83.325</td>\n",
       "      <td>80.444</td>\n",
       "    </tr>\n",
       "    <tr>\n",
       "      <th>1</th>\n",
       "      <td>2016-11-11</td>\n",
       "      <td>84.808</td>\n",
       "      <td>83.325</td>\n",
       "      <td>80.444</td>\n",
       "      <td>81.045</td>\n",
       "    </tr>\n",
       "    <tr>\n",
       "      <th>2</th>\n",
       "      <td>2016-11-14</td>\n",
       "      <td>83.325</td>\n",
       "      <td>80.444</td>\n",
       "      <td>81.045</td>\n",
       "      <td>80.484</td>\n",
       "    </tr>\n",
       "    <tr>\n",
       "      <th>3</th>\n",
       "      <td>2016-11-15</td>\n",
       "      <td>80.444</td>\n",
       "      <td>81.045</td>\n",
       "      <td>80.484</td>\n",
       "      <td>81.084</td>\n",
       "    </tr>\n",
       "    <tr>\n",
       "      <th>4</th>\n",
       "      <td>2016-11-16</td>\n",
       "      <td>81.045</td>\n",
       "      <td>80.484</td>\n",
       "      <td>81.084</td>\n",
       "      <td>80.667</td>\n",
       "    </tr>\n",
       "    <tr>\n",
       "      <th>...</th>\n",
       "      <td>...</td>\n",
       "      <td>...</td>\n",
       "      <td>...</td>\n",
       "      <td>...</td>\n",
       "      <td>...</td>\n",
       "    </tr>\n",
       "    <tr>\n",
       "      <th>248</th>\n",
       "      <td>2017-11-06</td>\n",
       "      <td>86.890</td>\n",
       "      <td>86.510</td>\n",
       "      <td>86.580</td>\n",
       "      <td>86.050</td>\n",
       "    </tr>\n",
       "    <tr>\n",
       "      <th>249</th>\n",
       "      <td>2017-11-07</td>\n",
       "      <td>86.510</td>\n",
       "      <td>86.580</td>\n",
       "      <td>86.050</td>\n",
       "      <td>86.980</td>\n",
       "    </tr>\n",
       "    <tr>\n",
       "      <th>250</th>\n",
       "      <td>2017-11-08</td>\n",
       "      <td>86.580</td>\n",
       "      <td>86.050</td>\n",
       "      <td>86.980</td>\n",
       "      <td>87.580</td>\n",
       "    </tr>\n",
       "    <tr>\n",
       "      <th>251</th>\n",
       "      <td>2017-11-09</td>\n",
       "      <td>86.050</td>\n",
       "      <td>86.980</td>\n",
       "      <td>87.580</td>\n",
       "      <td>87.780</td>\n",
       "    </tr>\n",
       "    <tr>\n",
       "      <th>252</th>\n",
       "      <td>2017-11-10</td>\n",
       "      <td>86.980</td>\n",
       "      <td>87.580</td>\n",
       "      <td>87.780</td>\n",
       "      <td>88.160</td>\n",
       "    </tr>\n",
       "  </tbody>\n",
       "</table>\n",
       "<p>253 rows × 5 columns</p>\n",
       "</div>"
      ],
      "text/plain": [
       "    Target Date  Target-3  Target-2  Target-1  Target\n",
       "0    2016-11-10    83.936    84.808    83.325  80.444\n",
       "1    2016-11-11    84.808    83.325    80.444  81.045\n",
       "2    2016-11-14    83.325    80.444    81.045  80.484\n",
       "3    2016-11-15    80.444    81.045    80.484  81.084\n",
       "4    2016-11-16    81.045    80.484    81.084  80.667\n",
       "..          ...       ...       ...       ...     ...\n",
       "248  2017-11-06    86.890    86.510    86.580  86.050\n",
       "249  2017-11-07    86.510    86.580    86.050  86.980\n",
       "250  2017-11-08    86.580    86.050    86.980  87.580\n",
       "251  2017-11-09    86.050    86.980    87.580  87.780\n",
       "252  2017-11-10    86.980    87.580    87.780  88.160\n",
       "\n",
       "[253 rows x 5 columns]"
      ]
     },
     "execution_count": 17,
     "metadata": {},
     "output_type": "execute_result"
    }
   ],
   "source": [
    "# apply our function\n",
    "windowed_df = df_to_windowed_df(df, '2016-11-10', '2017-11-10', n=3)\n",
    "windowed_df"
   ]
  },
  {
   "cell_type": "code",
   "execution_count": 18,
   "id": "00d5fcc8",
   "metadata": {},
   "outputs": [
    {
     "name": "stdout",
     "output_type": "stream",
     "text": [
      "Line of documentation: \n",
      " \n",
      "    input:\n",
      "    \n",
      "        windowed_dataframe - DataFrameObject - Frame\n",
      "    \n",
      "    This function essentially converts the frame into a ribbon of dates, features and targeting, and so converts \n",
      "    types to pass to TensorFlow.\n",
      "    \n",
      "    output:\n",
      "    \n",
      "        dates - DateTime - Timeline\n",
      "        X - np_array - features\n",
      "        Y - np_array - target\n",
      "    \n"
     ]
    }
   ],
   "source": [
    "def windowed_df_to_date_X_y(windowed_dataframe):\n",
    "    '''\n",
    "    input:\n",
    "    \n",
    "        windowed_dataframe - DataFrameObject - Frame\n",
    "    \n",
    "    This function essentially converts the frame into a ribbon of dates, features and targeting, and so converts \n",
    "    types to pass to TensorFlow.\n",
    "    \n",
    "    output:\n",
    "    \n",
    "        dates - DateTime - Timeline\n",
    "        X - np_array - features\n",
    "        Y - np_array - target\n",
    "    '''\n",
    "        \n",
    "    df_as_np = windowed_dataframe.to_numpy()\n",
    "\n",
    "    dates = df_as_np[:, 0]\n",
    "\n",
    "    middle_matrix = df_as_np[:, 1:-1]\n",
    "    X = middle_matrix.reshape((len(dates), middle_matrix.shape[1], 1))\n",
    "\n",
    "    Y = df_as_np[:, -1]\n",
    "\n",
    "    return dates, X.astype(np.float32), Y.astype(np.float32)\n",
    "\n",
    "print('Line of documentation: \\n', windowed_df_to_date_X_y.__doc__)  "
   ]
  },
  {
   "cell_type": "code",
   "execution_count": 19,
   "id": "a9facfe7",
   "metadata": {},
   "outputs": [
    {
     "data": {
      "text/plain": [
       "((253,), (253, 3, 1), (253,))"
      ]
     },
     "execution_count": 19,
     "metadata": {},
     "output_type": "execute_result"
    }
   ],
   "source": [
    "# apply\n",
    "dates, X, y = windowed_df_to_date_X_y(windowed_df)\n",
    "\n",
    "# check the size\n",
    "dates.shape, X.shape, y.shape"
   ]
  },
  {
   "cell_type": "code",
   "execution_count": 20,
   "id": "8fe48529",
   "metadata": {},
   "outputs": [
    {
     "data": {
      "text/plain": [
       "<matplotlib.legend.Legend at 0x7f46f3e0b790>"
      ]
     },
     "execution_count": 20,
     "metadata": {},
     "output_type": "execute_result"
    },
    {
     "data": {
      "image/png": "[encoded data removed]",
      "text/plain": [
       "<Figure size 432x288 with 1 Axes>"
      ]
     },
     "metadata": {
      "needs_background": "light"
     },
     "output_type": "display_data"
    }
   ],
   "source": [
    "# separate data\n",
    "q_80 = int(len(dates) * .8)\n",
    "q_90 = int(len(dates) * .9)\n",
    "\n",
    "dates_train, X_train, y_train = dates[:q_80], X[:q_80], y[:q_80]\n",
    "\n",
    "dates_val, X_val, y_val = dates[q_80:q_90], X[q_80:q_90], y[q_80:q_90]\n",
    "dates_test, X_test, y_test = dates[q_90:], X[q_90:], y[q_90:]\n",
    "\n",
    "plt.plot(dates_train, y_train)\n",
    "plt.plot(dates_val, y_val)\n",
    "plt.plot(dates_test, y_test)\n",
    "\n",
    "plt.legend(['Train', 'Val', 'Test'])"
   ]
  },
  {
   "cell_type": "markdown",
   "id": "93047295",
   "metadata": {},
   "source": [
    "## 3. Train model"
   ]
  },
  {
   "cell_type": "code",
   "execution_count": 21,
   "id": "26031281",
   "metadata": {},
   "outputs": [
    {
     "name": "stderr",
     "output_type": "stream",
     "text": [
      "2022-11-10 18:43:04.330274: W tensorflow/stream_executor/platform/default/dso_loader.cc:64] Could not load dynamic library 'libcuda.so.1'; dlerror: libcuda.so.1: cannot open shared object file: No such file or directory\n",
      "2022-11-10 18:43:04.330340: W tensorflow/stream_executor/cuda/cuda_driver.cc:269] failed call to cuInit: UNKNOWN ERROR (303)\n",
      "2022-11-10 18:43:04.330399: I tensorflow/stream_executor/cuda/cuda_diagnostics.cc:156] kernel driver does not appear to be running on this host (erick-X555DG): /proc/driver/nvidia/version does not exist\n",
      "2022-11-10 18:43:04.330919: I tensorflow/core/platform/cpu_feature_guard.cc:193] This TensorFlow binary is optimized with oneAPI Deep Neural Network Library (oneDNN) to use the following CPU instructions in performance-critical operations:  AVX2 FMA\n",
      "To enable them in other operations, rebuild TensorFlow with the appropriate compiler flags.\n"
     ]
    }
   ],
   "source": [
    "# Init model\n",
    "model = Sequential([layers.Input((3, 1)),\n",
    "                    layers.LSTM(64),\n",
    "                    layers.Dense(32, activation='relu'),\n",
    "                    layers.Dense(32, activation='relu'),\n",
    "                    layers.Dense(1)])\n",
    "\n",
    "model.compile(loss='mse', \n",
    "              optimizer=Adam(learning_rate=0.001),\n",
    "              metrics=['mean_absolute_error'])"
   ]
  },
  {
   "cell_type": "code",
   "execution_count": 22,
   "id": "c6c823c4",
   "metadata": {},
   "outputs": [
    {
     "name": "stdout",
     "output_type": "stream",
     "text": [
      "Model: \"sequential\"\n",
      "_________________________________________________________________\n",
      " Layer (type)                Output Shape              Param #   \n",
      "=================================================================\n",
      " lstm (LSTM)                 (None, 64)                16896     \n",
      "                                                                 \n",
      " dense (Dense)               (None, 32)                2080      \n",
      "                                                                 \n",
      " dense_1 (Dense)             (None, 32)                1056      \n",
      "                                                                 \n",
      " dense_2 (Dense)             (None, 1)                 33        \n",
      "                                                                 \n",
      "=================================================================\n",
      "Total params: 20,065\n",
      "Trainable params: 20,065\n",
      "Non-trainable params: 0\n",
      "_________________________________________________________________\n"
     ]
    }
   ],
   "source": [
    "# Check structure\n",
    "model.summary()"
   ]
  },
  {
   "cell_type": "code",
   "execution_count": 23,
   "id": "edae28f5",
   "metadata": {},
   "outputs": [
    {
     "name": "stdout",
     "output_type": "stream",
     "text": [
      "Epoch 1/120\n",
      "7/7 [==============================] - 8s 289ms/step - loss: 7366.5518 - mean_absolute_error: 85.7662 - val_loss: 8305.3242 - val_mean_absolute_error: 91.1290\n",
      "Epoch 2/120\n",
      "7/7 [==============================] - 0s 25ms/step - loss: 7259.9058 - mean_absolute_error: 85.1427 - val_loss: 8196.3438 - val_mean_absolute_error: 90.5290\n",
      "Epoch 3/120\n",
      "7/7 [==============================] - 0s 25ms/step - loss: 7149.9536 - mean_absolute_error: 84.4940 - val_loss: 8062.1426 - val_mean_absolute_error: 89.7848\n",
      "Epoch 4/120\n",
      "7/7 [==============================] - 0s 19ms/step - loss: 7009.8423 - mean_absolute_error: 83.6594 - val_loss: 7884.4985 - val_mean_absolute_error: 88.7900\n",
      "Epoch 5/120\n",
      "7/7 [==============================] - 0s 25ms/step - loss: 6822.5610 - mean_absolute_error: 82.5315 - val_loss: 7646.8691 - val_mean_absolute_error: 87.4416\n",
      "Epoch 6/120\n",
      "7/7 [==============================] - 0s 18ms/step - loss: 6571.6411 - mean_absolute_error: 80.9997 - val_loss: 7328.1377 - val_mean_absolute_error: 85.5996\n",
      "Epoch 7/120\n",
      "7/7 [==============================] - 0s 24ms/step - loss: 6226.2554 - mean_absolute_error: 78.8333 - val_loss: 6872.8442 - val_mean_absolute_error: 82.8975\n",
      "Epoch 8/120\n",
      "7/7 [==============================] - 0s 18ms/step - loss: 5710.9092 - mean_absolute_error: 75.4900 - val_loss: 6166.1309 - val_mean_absolute_error: 78.5192\n",
      "Epoch 9/120\n",
      "7/7 [==============================] - 0s 19ms/step - loss: 4948.2285 - mean_absolute_error: 70.2490 - val_loss: 5211.1030 - val_mean_absolute_error: 72.1819\n",
      "Epoch 10/120\n",
      "7/7 [==============================] - 0s 23ms/step - loss: 4038.4944 - mean_absolute_error: 63.4338 - val_loss: 4174.0996 - val_mean_absolute_error: 64.6004\n",
      "Epoch 11/120\n",
      "7/7 [==============================] - 0s 18ms/step - loss: 3058.6748 - mean_absolute_error: 55.1521 - val_loss: 3059.7046 - val_mean_absolute_error: 55.3067\n",
      "Epoch 12/120\n",
      "7/7 [==============================] - 0s 17ms/step - loss: 2099.8730 - mean_absolute_error: 45.6233 - val_loss: 2050.2217 - val_mean_absolute_error: 45.2698\n",
      "Epoch 13/120\n",
      "7/7 [==============================] - 0s 27ms/step - loss: 1263.5863 - mean_absolute_error: 35.3018 - val_loss: 1191.5171 - val_mean_absolute_error: 34.5059\n",
      "Epoch 14/120\n",
      "7/7 [==============================] - 0s 19ms/step - loss: 616.1158 - mean_absolute_error: 24.4529 - val_loss: 558.8145 - val_mean_absolute_error: 23.6213\n",
      "Epoch 15/120\n",
      "7/7 [==============================] - 0s 18ms/step - loss: 212.8405 - mean_absolute_error: 13.9245 - val_loss: 190.7443 - val_mean_absolute_error: 13.7797\n",
      "Epoch 16/120\n",
      "7/7 [==============================] - 0s 26ms/step - loss: 36.6913 - mean_absolute_error: 5.0413 - val_loss: 26.0551 - val_mean_absolute_error: 5.0157\n",
      "Epoch 17/120\n",
      "7/7 [==============================] - 0s 24ms/step - loss: 20.0761 - mean_absolute_error: 3.4963 - val_loss: 3.8593 - val_mean_absolute_error: 1.7426\n",
      "Epoch 18/120\n",
      "7/7 [==============================] - 0s 26ms/step - loss: 28.4200 - mean_absolute_error: 4.3715 - val_loss: 5.8456 - val_mean_absolute_error: 2.2336\n",
      "Epoch 19/120\n",
      "7/7 [==============================] - 0s 26ms/step - loss: 19.8630 - mean_absolute_error: 3.5061 - val_loss: 17.0608 - val_mean_absolute_error: 4.0258\n",
      "Epoch 20/120\n",
      "7/7 [==============================] - 0s 27ms/step - loss: 12.3858 - mean_absolute_error: 2.7668 - val_loss: 31.0541 - val_mean_absolute_error: 5.4959\n",
      "Epoch 21/120\n",
      "7/7 [==============================] - 0s 34ms/step - loss: 10.9520 - mean_absolute_error: 2.7312 - val_loss: 41.2611 - val_mean_absolute_error: 6.3573\n",
      "Epoch 22/120\n",
      "7/7 [==============================] - 0s 25ms/step - loss: 11.2324 - mean_absolute_error: 2.7967 - val_loss: 43.8453 - val_mean_absolute_error: 6.5574\n",
      "Epoch 23/120\n",
      "7/7 [==============================] - 0s 25ms/step - loss: 11.2678 - mean_absolute_error: 2.8075 - val_loss: 41.4277 - val_mean_absolute_error: 6.3705\n",
      "Epoch 24/120\n",
      "7/7 [==============================] - 0s 17ms/step - loss: 11.0166 - mean_absolute_error: 2.7548 - val_loss: 37.2565 - val_mean_absolute_error: 6.0342\n",
      "Epoch 25/120\n",
      "7/7 [==============================] - 0s 25ms/step - loss: 10.7397 - mean_absolute_error: 2.6980 - val_loss: 34.5214 - val_mean_absolute_error: 5.8033\n",
      "Epoch 26/120\n",
      "7/7 [==============================] - 0s 19ms/step - loss: 10.7103 - mean_absolute_error: 2.6848 - val_loss: 33.3432 - val_mean_absolute_error: 5.7011\n",
      "Epoch 27/120\n",
      "7/7 [==============================] - 0s 17ms/step - loss: 10.6618 - mean_absolute_error: 2.6726 - val_loss: 33.3727 - val_mean_absolute_error: 5.7038\n",
      "Epoch 28/120\n",
      "7/7 [==============================] - 0s 17ms/step - loss: 10.6320 - mean_absolute_error: 2.6686 - val_loss: 33.2656 - val_mean_absolute_error: 5.6947\n",
      "Epoch 29/120\n",
      "7/7 [==============================] - 0s 17ms/step - loss: 10.5258 - mean_absolute_error: 2.6654 - val_loss: 35.3116 - val_mean_absolute_error: 5.8722\n",
      "Epoch 30/120\n",
      "7/7 [==============================] - 0s 17ms/step - loss: 10.4710 - mean_absolute_error: 2.6628 - val_loss: 34.4264 - val_mean_absolute_error: 5.7964\n",
      "Epoch 31/120\n",
      "7/7 [==============================] - 0s 19ms/step - loss: 10.4487 - mean_absolute_error: 2.6592 - val_loss: 34.1401 - val_mean_absolute_error: 5.7718\n",
      "Epoch 32/120\n",
      "7/7 [==============================] - 0s 21ms/step - loss: 10.4179 - mean_absolute_error: 2.6529 - val_loss: 33.4223 - val_mean_absolute_error: 5.7093\n",
      "Epoch 33/120\n",
      "7/7 [==============================] - 0s 17ms/step - loss: 10.3958 - mean_absolute_error: 2.6441 - val_loss: 32.5652 - val_mean_absolute_error: 5.6338\n",
      "Epoch 34/120\n",
      "7/7 [==============================] - 0s 18ms/step - loss: 10.4174 - mean_absolute_error: 2.6460 - val_loss: 32.9341 - val_mean_absolute_error: 5.6665\n",
      "Epoch 35/120\n",
      "7/7 [==============================] - 0s 17ms/step - loss: 10.3822 - mean_absolute_error: 2.6417 - val_loss: 33.1671 - val_mean_absolute_error: 5.6871\n",
      "Epoch 36/120\n",
      "7/7 [==============================] - 0s 17ms/step - loss: 10.3671 - mean_absolute_error: 2.6424 - val_loss: 33.4518 - val_mean_absolute_error: 5.7122\n",
      "Epoch 37/120\n",
      "7/7 [==============================] - 0s 18ms/step - loss: 10.4594 - mean_absolute_error: 2.6663 - val_loss: 35.6160 - val_mean_absolute_error: 5.8986\n",
      "Epoch 38/120\n",
      "7/7 [==============================] - 0s 16ms/step - loss: 10.3803 - mean_absolute_error: 2.6519 - val_loss: 33.9183 - val_mean_absolute_error: 5.7530\n",
      "Epoch 39/120\n",
      "7/7 [==============================] - 0s 18ms/step - loss: 10.3777 - mean_absolute_error: 2.6429 - val_loss: 32.3650 - val_mean_absolute_error: 5.6163\n",
      "Epoch 40/120\n",
      "7/7 [==============================] - 0s 17ms/step - loss: 10.3144 - mean_absolute_error: 2.6322 - val_loss: 33.2518 - val_mean_absolute_error: 5.6948\n",
      "Epoch 41/120\n",
      "7/7 [==============================] - 0s 20ms/step - loss: 10.3198 - mean_absolute_error: 2.6415 - val_loss: 34.2905 - val_mean_absolute_error: 5.7854\n",
      "Epoch 42/120\n",
      "7/7 [==============================] - 0s 20ms/step - loss: 10.3151 - mean_absolute_error: 2.6448 - val_loss: 33.3118 - val_mean_absolute_error: 5.7002\n",
      "Epoch 43/120\n",
      "7/7 [==============================] - 0s 21ms/step - loss: 10.2798 - mean_absolute_error: 2.6336 - val_loss: 33.2195 - val_mean_absolute_error: 5.6922\n",
      "Epoch 44/120\n",
      "7/7 [==============================] - 0s 24ms/step - loss: 10.2779 - mean_absolute_error: 2.6296 - val_loss: 32.4578 - val_mean_absolute_error: 5.6249\n",
      "Epoch 45/120\n",
      "7/7 [==============================] - 0s 20ms/step - loss: 10.2584 - mean_absolute_error: 2.6248 - val_loss: 32.6151 - val_mean_absolute_error: 5.6390\n",
      "Epoch 46/120\n",
      "7/7 [==============================] - 0s 17ms/step - loss: 10.2367 - mean_absolute_error: 2.6230 - val_loss: 32.8689 - val_mean_absolute_error: 5.6616\n",
      "Epoch 47/120\n",
      "7/7 [==============================] - 0s 16ms/step - loss: 10.2545 - mean_absolute_error: 2.6378 - val_loss: 34.7237 - val_mean_absolute_error: 5.8232\n",
      "Epoch 48/120\n",
      "7/7 [==============================] - 0s 17ms/step - loss: 10.2057 - mean_absolute_error: 2.6304 - val_loss: 32.9162 - val_mean_absolute_error: 5.6658\n",
      "Epoch 49/120\n",
      "7/7 [==============================] - 0s 15ms/step - loss: 10.2031 - mean_absolute_error: 2.6135 - val_loss: 31.1199 - val_mean_absolute_error: 5.5050\n",
      "Epoch 50/120\n"
     ]
    },
    {
     "name": "stdout",
     "output_type": "stream",
     "text": [
      "7/7 [==============================] - 0s 18ms/step - loss: 10.1952 - mean_absolute_error: 2.6093 - val_loss: 31.7507 - val_mean_absolute_error: 5.5622\n",
      "Epoch 51/120\n",
      "7/7 [==============================] - 0s 19ms/step - loss: 10.1783 - mean_absolute_error: 2.6104 - val_loss: 32.3379 - val_mean_absolute_error: 5.6149\n",
      "Epoch 52/120\n",
      "7/7 [==============================] - 0s 16ms/step - loss: 10.1642 - mean_absolute_error: 2.6240 - val_loss: 33.8706 - val_mean_absolute_error: 5.7499\n",
      "Epoch 53/120\n",
      "7/7 [==============================] - 0s 18ms/step - loss: 10.1426 - mean_absolute_error: 2.6185 - val_loss: 32.0496 - val_mean_absolute_error: 5.5893\n",
      "Epoch 54/120\n",
      "7/7 [==============================] - 0s 18ms/step - loss: 10.1105 - mean_absolute_error: 2.6051 - val_loss: 32.4129 - val_mean_absolute_error: 5.6218\n",
      "Epoch 55/120\n",
      "7/7 [==============================] - 0s 18ms/step - loss: 10.0614 - mean_absolute_error: 2.6065 - val_loss: 33.9133 - val_mean_absolute_error: 5.7539\n",
      "Epoch 56/120\n",
      "7/7 [==============================] - 0s 21ms/step - loss: 10.1652 - mean_absolute_error: 2.6303 - val_loss: 35.5916 - val_mean_absolute_error: 5.8980\n",
      "Epoch 57/120\n",
      "7/7 [==============================] - 0s 22ms/step - loss: 10.0864 - mean_absolute_error: 2.6214 - val_loss: 33.0914 - val_mean_absolute_error: 5.6820\n",
      "Epoch 58/120\n",
      "7/7 [==============================] - 0s 18ms/step - loss: 10.0404 - mean_absolute_error: 2.5996 - val_loss: 31.4757 - val_mean_absolute_error: 5.5380\n",
      "Epoch 59/120\n",
      "7/7 [==============================] - 0s 19ms/step - loss: 10.0211 - mean_absolute_error: 2.5988 - val_loss: 32.9505 - val_mean_absolute_error: 5.6703\n",
      "Epoch 60/120\n",
      "7/7 [==============================] - 0s 19ms/step - loss: 9.7176 - mean_absolute_error: 2.5685 - val_loss: 34.4649 - val_mean_absolute_error: 5.8045\n",
      "Epoch 61/120\n",
      "7/7 [==============================] - 0s 19ms/step - loss: 9.3513 - mean_absolute_error: 2.5295 - val_loss: 31.4978 - val_mean_absolute_error: 5.5436\n",
      "Epoch 62/120\n",
      "7/7 [==============================] - 0s 18ms/step - loss: 9.1740 - mean_absolute_error: 2.4904 - val_loss: 30.2533 - val_mean_absolute_error: 5.4316\n",
      "Epoch 63/120\n",
      "7/7 [==============================] - 0s 20ms/step - loss: 8.7158 - mean_absolute_error: 2.4322 - val_loss: 29.6645 - val_mean_absolute_error: 5.3789\n",
      "Epoch 64/120\n",
      "7/7 [==============================] - 0s 26ms/step - loss: 8.4566 - mean_absolute_error: 2.4003 - val_loss: 28.3389 - val_mean_absolute_error: 5.2550\n",
      "Epoch 65/120\n",
      "7/7 [==============================] - 0s 21ms/step - loss: 8.5509 - mean_absolute_error: 2.3849 - val_loss: 27.4378 - val_mean_absolute_error: 5.1694\n",
      "Epoch 66/120\n",
      "7/7 [==============================] - 0s 17ms/step - loss: 8.4976 - mean_absolute_error: 2.4080 - val_loss: 26.6918 - val_mean_absolute_error: 5.0972\n",
      "Epoch 67/120\n",
      "7/7 [==============================] - 0s 18ms/step - loss: 8.2222 - mean_absolute_error: 2.3479 - val_loss: 25.6944 - val_mean_absolute_error: 4.9987\n",
      "Epoch 68/120\n",
      "7/7 [==============================] - 0s 17ms/step - loss: 8.0583 - mean_absolute_error: 2.3170 - val_loss: 26.7990 - val_mean_absolute_error: 5.1096\n",
      "Epoch 69/120\n",
      "7/7 [==============================] - 0s 18ms/step - loss: 7.6941 - mean_absolute_error: 2.2970 - val_loss: 26.9829 - val_mean_absolute_error: 5.1289\n",
      "Epoch 70/120\n",
      "7/7 [==============================] - 0s 18ms/step - loss: 7.4118 - mean_absolute_error: 2.2274 - val_loss: 22.8386 - val_mean_absolute_error: 4.7072\n",
      "Epoch 71/120\n",
      "7/7 [==============================] - 0s 18ms/step - loss: 7.3484 - mean_absolute_error: 2.1987 - val_loss: 28.2559 - val_mean_absolute_error: 5.2543\n",
      "Epoch 72/120\n",
      "7/7 [==============================] - 0s 18ms/step - loss: 7.7507 - mean_absolute_error: 2.3642 - val_loss: 22.1155 - val_mean_absolute_error: 4.6323\n",
      "Epoch 73/120\n",
      "7/7 [==============================] - 0s 19ms/step - loss: 7.4934 - mean_absolute_error: 2.1838 - val_loss: 19.2449 - val_mean_absolute_error: 4.3118\n",
      "Epoch 74/120\n",
      "7/7 [==============================] - 0s 17ms/step - loss: 6.8174 - mean_absolute_error: 2.1722 - val_loss: 24.3470 - val_mean_absolute_error: 4.8712\n",
      "Epoch 75/120\n",
      "7/7 [==============================] - 0s 18ms/step - loss: 6.1179 - mean_absolute_error: 2.0409 - val_loss: 18.8971 - val_mean_absolute_error: 4.2745\n",
      "Epoch 76/120\n",
      "7/7 [==============================] - 0s 18ms/step - loss: 5.7921 - mean_absolute_error: 2.0046 - val_loss: 21.2226 - val_mean_absolute_error: 4.5414\n",
      "Epoch 77/120\n",
      "7/7 [==============================] - 0s 20ms/step - loss: 5.5691 - mean_absolute_error: 1.9323 - val_loss: 18.1195 - val_mean_absolute_error: 4.1864\n",
      "Epoch 78/120\n",
      "7/7 [==============================] - 0s 20ms/step - loss: 5.2500 - mean_absolute_error: 1.9054 - val_loss: 16.1100 - val_mean_absolute_error: 3.9406\n",
      "Epoch 79/120\n",
      "7/7 [==============================] - 0s 18ms/step - loss: 4.8030 - mean_absolute_error: 1.8116 - val_loss: 17.7709 - val_mean_absolute_error: 4.1500\n",
      "Epoch 80/120\n",
      "7/7 [==============================] - 0s 20ms/step - loss: 4.3876 - mean_absolute_error: 1.7145 - val_loss: 15.1941 - val_mean_absolute_error: 3.8278\n",
      "Epoch 81/120\n",
      "7/7 [==============================] - 0s 18ms/step - loss: 4.1340 - mean_absolute_error: 1.6952 - val_loss: 13.6871 - val_mean_absolute_error: 3.6267\n",
      "Epoch 82/120\n",
      "7/7 [==============================] - 0s 19ms/step - loss: 3.7793 - mean_absolute_error: 1.6123 - val_loss: 13.6167 - val_mean_absolute_error: 3.6191\n",
      "Epoch 83/120\n",
      "7/7 [==============================] - 0s 18ms/step - loss: 3.8209 - mean_absolute_error: 1.5934 - val_loss: 16.1591 - val_mean_absolute_error: 3.9578\n",
      "Epoch 84/120\n",
      "7/7 [==============================] - 0s 25ms/step - loss: 3.8110 - mean_absolute_error: 1.5921 - val_loss: 15.3235 - val_mean_absolute_error: 3.8518\n",
      "Epoch 85/120\n",
      "7/7 [==============================] - 0s 26ms/step - loss: 3.4592 - mean_absolute_error: 1.5351 - val_loss: 9.6901 - val_mean_absolute_error: 3.0313\n",
      "Epoch 86/120\n",
      "7/7 [==============================] - 0s 24ms/step - loss: 3.0768 - mean_absolute_error: 1.4424 - val_loss: 12.5450 - val_mean_absolute_error: 3.4737\n",
      "Epoch 87/120\n",
      "7/7 [==============================] - 0s 35ms/step - loss: 3.0062 - mean_absolute_error: 1.4270 - val_loss: 11.9038 - val_mean_absolute_error: 3.3811\n",
      "Epoch 88/120\n",
      "7/7 [==============================] - 0s 29ms/step - loss: 2.7971 - mean_absolute_error: 1.3801 - val_loss: 11.0187 - val_mean_absolute_error: 3.2483\n",
      "Epoch 89/120\n",
      "7/7 [==============================] - 0s 22ms/step - loss: 2.6749 - mean_absolute_error: 1.3559 - val_loss: 9.0853 - val_mean_absolute_error: 2.9358\n",
      "Epoch 90/120\n",
      "7/7 [==============================] - 0s 22ms/step - loss: 2.6440 - mean_absolute_error: 1.3542 - val_loss: 8.9277 - val_mean_absolute_error: 2.9101\n",
      "Epoch 91/120\n",
      "7/7 [==============================] - 0s 18ms/step - loss: 2.5688 - mean_absolute_error: 1.3227 - val_loss: 5.9189 - val_mean_absolute_error: 2.3353\n",
      "Epoch 92/120\n",
      "7/7 [==============================] - 0s 18ms/step - loss: 2.7563 - mean_absolute_error: 1.3572 - val_loss: 10.0252 - val_mean_absolute_error: 3.0957\n",
      "Epoch 93/120\n",
      "7/7 [==============================] - 0s 18ms/step - loss: 2.2730 - mean_absolute_error: 1.2301 - val_loss: 9.0336 - val_mean_absolute_error: 2.9318\n",
      "Epoch 94/120\n",
      "7/7 [==============================] - 0s 25ms/step - loss: 2.0643 - mean_absolute_error: 1.1884 - val_loss: 6.6227 - val_mean_absolute_error: 2.4866\n",
      "Epoch 95/120\n",
      "7/7 [==============================] - 0s 26ms/step - loss: 1.8855 - mean_absolute_error: 1.1275 - val_loss: 5.5406 - val_mean_absolute_error: 2.2590\n",
      "Epoch 96/120\n",
      "7/7 [==============================] - 0s 20ms/step - loss: 1.7721 - mean_absolute_error: 1.0829 - val_loss: 6.5554 - val_mean_absolute_error: 2.4758\n",
      "Epoch 97/120\n",
      "7/7 [==============================] - 0s 18ms/step - loss: 1.4922 - mean_absolute_error: 0.9979 - val_loss: 5.9448 - val_mean_absolute_error: 2.3510\n",
      "Epoch 98/120\n",
      "7/7 [==============================] - 0s 17ms/step - loss: 1.4386 - mean_absolute_error: 0.9749 - val_loss: 8.4456 - val_mean_absolute_error: 2.8355\n",
      "Epoch 99/120\n",
      "7/7 [==============================] - 0s 17ms/step - loss: 1.4831 - mean_absolute_error: 0.9300 - val_loss: 6.1067 - val_mean_absolute_error: 2.3874\n",
      "Epoch 100/120\n"
     ]
    },
    {
     "name": "stdout",
     "output_type": "stream",
     "text": [
      "7/7 [==============================] - 0s 17ms/step - loss: 1.2009 - mean_absolute_error: 0.8678 - val_loss: 5.7458 - val_mean_absolute_error: 2.3112\n",
      "Epoch 101/120\n",
      "7/7 [==============================] - 0s 17ms/step - loss: 1.1428 - mean_absolute_error: 0.8311 - val_loss: 3.3629 - val_mean_absolute_error: 1.7254\n",
      "Epoch 102/120\n",
      "7/7 [==============================] - 0s 18ms/step - loss: 1.1016 - mean_absolute_error: 0.8253 - val_loss: 3.5068 - val_mean_absolute_error: 1.7648\n",
      "Epoch 103/120\n",
      "7/7 [==============================] - 0s 17ms/step - loss: 1.2268 - mean_absolute_error: 0.8890 - val_loss: 6.0867 - val_mean_absolute_error: 2.3860\n",
      "Epoch 104/120\n",
      "7/7 [==============================] - 0s 17ms/step - loss: 1.4517 - mean_absolute_error: 0.9670 - val_loss: 6.7622 - val_mean_absolute_error: 2.5243\n",
      "Epoch 105/120\n",
      "7/7 [==============================] - 0s 18ms/step - loss: 1.3330 - mean_absolute_error: 0.9167 - val_loss: 4.8753 - val_mean_absolute_error: 2.1174\n",
      "Epoch 106/120\n",
      "7/7 [==============================] - 0s 18ms/step - loss: 1.0485 - mean_absolute_error: 0.8177 - val_loss: 3.2867 - val_mean_absolute_error: 1.7090\n",
      "Epoch 107/120\n",
      "7/7 [==============================] - 0s 19ms/step - loss: 0.8632 - mean_absolute_error: 0.7353 - val_loss: 2.4755 - val_mean_absolute_error: 1.4715\n",
      "Epoch 108/120\n",
      "7/7 [==============================] - 0s 17ms/step - loss: 0.9332 - mean_absolute_error: 0.7499 - val_loss: 1.2269 - val_mean_absolute_error: 0.9857\n",
      "Epoch 109/120\n",
      "7/7 [==============================] - 0s 19ms/step - loss: 1.0493 - mean_absolute_error: 0.7885 - val_loss: 1.1330 - val_mean_absolute_error: 0.9424\n",
      "Epoch 110/120\n",
      "7/7 [==============================] - 0s 18ms/step - loss: 0.9444 - mean_absolute_error: 0.7688 - val_loss: 1.9260 - val_mean_absolute_error: 1.2843\n",
      "Epoch 111/120\n",
      "7/7 [==============================] - 0s 18ms/step - loss: 0.8339 - mean_absolute_error: 0.7153 - val_loss: 2.6756 - val_mean_absolute_error: 1.5366\n",
      "Epoch 112/120\n",
      "7/7 [==============================] - 0s 18ms/step - loss: 0.5729 - mean_absolute_error: 0.5683 - val_loss: 2.7790 - val_mean_absolute_error: 1.5686\n",
      "Epoch 113/120\n",
      "7/7 [==============================] - 0s 18ms/step - loss: 0.5417 - mean_absolute_error: 0.5584 - val_loss: 1.3716 - val_mean_absolute_error: 1.0645\n",
      "Epoch 114/120\n",
      "7/7 [==============================] - 0s 18ms/step - loss: 0.4584 - mean_absolute_error: 0.4767 - val_loss: 1.0550 - val_mean_absolute_error: 0.9195\n",
      "Epoch 115/120\n",
      "7/7 [==============================] - 0s 18ms/step - loss: 0.4364 - mean_absolute_error: 0.4723 - val_loss: 1.4439 - val_mean_absolute_error: 1.1021\n",
      "Epoch 116/120\n",
      "7/7 [==============================] - 0s 19ms/step - loss: 0.4570 - mean_absolute_error: 0.4816 - val_loss: 1.3101 - val_mean_absolute_error: 1.0462\n",
      "Epoch 117/120\n",
      "7/7 [==============================] - 0s 18ms/step - loss: 0.4171 - mean_absolute_error: 0.4814 - val_loss: 1.0247 - val_mean_absolute_error: 0.9092\n",
      "Epoch 118/120\n",
      "7/7 [==============================] - 0s 16ms/step - loss: 0.5001 - mean_absolute_error: 0.5278 - val_loss: 0.6801 - val_mean_absolute_error: 0.7066\n",
      "Epoch 119/120\n",
      "7/7 [==============================] - 0s 18ms/step - loss: 0.4396 - mean_absolute_error: 0.4845 - val_loss: 0.7952 - val_mean_absolute_error: 0.7785\n",
      "Epoch 120/120\n",
      "7/7 [==============================] - 0s 16ms/step - loss: 0.4374 - mean_absolute_error: 0.4586 - val_loss: 0.8905 - val_mean_absolute_error: 0.8350\n",
      "CPU times: user 29 s, sys: 2.17 s, total: 31.2 s\n",
      "Wall time: 24.6 s\n"
     ]
    },
    {
     "data": {
      "text/plain": [
       "<keras.callbacks.History at 0x7f46f3ed2bb0>"
      ]
     },
     "execution_count": 23,
     "metadata": {},
     "output_type": "execute_result"
    }
   ],
   "source": [
    "%%time\n",
    "# Train\n",
    "model.fit(X_train, y_train, validation_data=(X_val, y_val), epochs=120)"
   ]
  },
  {
   "cell_type": "code",
   "execution_count": 24,
   "id": "015f6f00",
   "metadata": {},
   "outputs": [
    {
     "name": "stdout",
     "output_type": "stream",
     "text": [
      "7/7 [==============================] - 1s 5ms/step\n"
     ]
    },
    {
     "data": {
      "text/plain": [
       "<matplotlib.legend.Legend at 0x7f46daf79790>"
      ]
     },
     "execution_count": 24,
     "metadata": {},
     "output_type": "execute_result"
    },
    {
     "data": {
      "image/png": "[encoded data removed]",
      "text/plain": [
       "<Figure size 1080x360 with 1 Axes>"
      ]
     },
     "metadata": {
      "needs_background": "light"
     },
     "output_type": "display_data"
    }
   ],
   "source": [
    "# Compare training data\n",
    "train_predictions = model.predict(X_train).flatten()\n",
    "\n",
    "plt.figure(figsize=(15,5))\n",
    "plt.plot(dates_train, train_predictions)\n",
    "plt.plot(dates_train, y_train)\n",
    "plt.legend(['predict_train', 'real_train'])"
   ]
  },
  {
   "cell_type": "code",
   "execution_count": 25,
   "id": "c8b0324b",
   "metadata": {},
   "outputs": [
    {
     "name": "stdout",
     "output_type": "stream",
     "text": [
      "1/1 [==============================] - 0s 35ms/step\n"
     ]
    },
    {
     "data": {
      "text/plain": [
       "<matplotlib.legend.Legend at 0x7f46da718ca0>"
      ]
     },
     "execution_count": 25,
     "metadata": {},
     "output_type": "execute_result"
    },
    {
     "data": {
      "image/png": "[encoded data removed]",
      "text/plain": [
       "<Figure size 1080x360 with 1 Axes>"
      ]
     },
     "metadata": {
      "needs_background": "light"
     },
     "output_type": "display_data"
    }
   ],
   "source": [
    "# Compare validation data\n",
    "val_predictions = model.predict(X_val).flatten()\n",
    "\n",
    "plt.figure(figsize=(15,5))\n",
    "plt.plot(dates_val, val_predictions)\n",
    "plt.plot(dates_val, y_val)\n",
    "plt.legend(['Predicted_val', 'Real_val'])"
   ]
  },
  {
   "cell_type": "code",
   "execution_count": 26,
   "id": "61ac68dc",
   "metadata": {},
   "outputs": [
    {
     "name": "stdout",
     "output_type": "stream",
     "text": [
      "1/1 [==============================] - 0s 34ms/step\n"
     ]
    },
    {
     "data": {
      "text/plain": [
       "<matplotlib.legend.Legend at 0x7f46da6f6df0>"
      ]
     },
     "execution_count": 26,
     "metadata": {},
     "output_type": "execute_result"
    },
    {
     "data": {
      "image/png": "[encoded data removed]",
      "text/plain": [
       "<Figure size 1080x360 with 1 Axes>"
      ]
     },
     "metadata": {
      "needs_background": "light"
     },
     "output_type": "display_data"
    }
   ],
   "source": [
    "# Compare test data\n",
    "test_predictions = model.predict(X_test).flatten()\n",
    "\n",
    "plt.figure(figsize=(15,5))\n",
    "plt.plot(dates_test, test_predictions)\n",
    "plt.plot(dates_test, y_test)\n",
    "plt.legend(['Predicted_test', 'Real_test'])"
   ]
  },
  {
   "cell_type": "code",
   "execution_count": 27,
   "id": "6620fa28",
   "metadata": {},
   "outputs": [
    {
     "data": {
      "text/plain": [
       "<matplotlib.legend.Legend at 0x7f46da603ee0>"
      ]
     },
     "execution_count": 27,
     "metadata": {},
     "output_type": "execute_result"
    },
    {
     "data": {
      "image/png": "[encoded data removed]",
      "text/plain": [
       "<Figure size 1080x360 with 1 Axes>"
      ]
     },
     "metadata": {
      "needs_background": "light"
     },
     "output_type": "display_data"
    }
   ],
   "source": [
    "# Check general data\n",
    "plt.figure(figsize=(15,5))\n",
    "plt.plot(dates_train, train_predictions)\n",
    "plt.plot(dates_train, y_train)\n",
    "plt.plot(dates_val, val_predictions)\n",
    "plt.plot(dates_val, y_val)\n",
    "plt.plot(dates_test, test_predictions)\n",
    "plt.plot(dates_test, y_test)\n",
    "plt.legend(['predicted_train',\n",
    "            'real_train',\n",
    "            'predicted_val', \n",
    "            'real_val',\n",
    "            'predicted_test', \n",
    "            'real_test'])"
   ]
  },
  {
   "cell_type": "markdown",
   "id": "b5a26c08",
   "metadata": {},
   "source": [
    "# Conclusion:\n",
    "Overall, the error is less than one dollar. And the model learns quickly enough.\n",
    "At the end of each session it is possible to update the model to the actual data and predict the closing price for the next day. \n",
    "There is still room for improvement but the model is much better than the model based on LGBM. \n",
    "You can start testing."
   ]
  }
 ],
 "metadata": {
  "kernelspec": {
   "display_name": "Python 3 (ipykernel)",
   "language": "python",
   "name": "python3"
  },
  "language_info": {
   "codemirror_mode": {
    "name": "ipython",
    "version": 3
   },
   "file_extension": ".py",
   "mimetype": "text/x-python",
   "name": "python",
   "nbconvert_exporter": "python",
   "pygments_lexer": "ipython3",
   "version": "3.9.7"
  }
 },
 "nbformat": 4,
 "nbformat_minor": 5
}
