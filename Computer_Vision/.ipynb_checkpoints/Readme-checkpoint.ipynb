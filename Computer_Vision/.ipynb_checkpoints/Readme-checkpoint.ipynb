{
 "cells": [
  {
   "cell_type": "markdown",
   "id": "c508e7ae",
   "metadata": {},
   "source": [
    "# Computer_vision\n",
    "\n",
    "\n",
    "- **[Prediction_the_age_of_customers]()** I developed a neural network for predict the age of a person from his photo.\n",
    "\n",
    "- **[Pong_Game]()** There is a small pet project. I coded CV_Game.\n",
    "\n",
    "- **[Similarity_with_the_actor]()** This is a project where I packed in a docker service that identifies a similar actor from a photo."
   ]
  }
 ],
 "metadata": {
  "kernelspec": {
   "display_name": "Python 3 (ipykernel)",
   "language": "python",
   "name": "python3"
  },
  "language_info": {
   "codemirror_mode": {
    "name": "ipython",
    "version": 3
   },
   "file_extension": ".py",
   "mimetype": "text/x-python",
   "name": "python",
   "nbconvert_exporter": "python",
   "pygments_lexer": "ipython3",
   "version": "3.9.7"
  }
 },
 "nbformat": 4,
 "nbformat_minor": 5
}
